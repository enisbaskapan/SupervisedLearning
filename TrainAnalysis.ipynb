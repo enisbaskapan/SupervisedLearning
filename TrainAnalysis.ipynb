{
 "cells": [
  {
   "cell_type": "code",
   "execution_count": 1,
   "id": "5076d022-4252-4965-8fdd-a3ab3381a9e9",
   "metadata": {},
   "outputs": [],
   "source": [
    "import pandas as pd\n",
    "import seaborn as sns\n",
    "import matplotlib.pyplot as plt\n",
    "import ppscore as pps\n",
    "import warnings\n",
    "warnings.filterwarnings(\"ignore\")\n",
    "import pickle as pkl\n",
    "\n",
    "from utils.generate import Generate \n",
    "generate = Generate()\n",
    "from utils.process import Categorize\n",
    "categorize = Categorize()"
   ]
  },
  {
   "cell_type": "code",
   "execution_count": 2,
   "id": "853308a7-e70e-486c-bbef-0d7a9f818107",
   "metadata": {},
   "outputs": [],
   "source": [
    "df = pd.read_parquet('./data/df.parquet')"
   ]
  },
  {
   "cell_type": "code",
   "execution_count": 3,
   "id": "ae7226e0-823b-4a49-b9ea-8a09f0509675",
   "metadata": {},
   "outputs": [
    {
     "data": {
      "text/plain": [
       "(12000, 8)"
      ]
     },
     "execution_count": 3,
     "metadata": {},
     "output_type": "execute_result"
    }
   ],
   "source": [
    "df.shape"
   ]
  },
  {
   "cell_type": "code",
   "execution_count": 4,
   "id": "c715d78b-c243-4926-89eb-b7550ebb1f5a",
   "metadata": {},
   "outputs": [
    {
     "data": {
      "text/html": [
       "<div>\n",
       "<style scoped>\n",
       "    .dataframe tbody tr th:only-of-type {\n",
       "        vertical-align: middle;\n",
       "    }\n",
       "\n",
       "    .dataframe tbody tr th {\n",
       "        vertical-align: top;\n",
       "    }\n",
       "\n",
       "    .dataframe thead th {\n",
       "        text-align: right;\n",
       "    }\n",
       "</style>\n",
       "<table border=\"1\" class=\"dataframe\">\n",
       "  <thead>\n",
       "    <tr style=\"text-align: right;\">\n",
       "      <th></th>\n",
       "      <th>Id</th>\n",
       "      <th>Tarih</th>\n",
       "      <th>ServisTipi</th>\n",
       "      <th>Hat</th>\n",
       "      <th>Sınıf</th>\n",
       "      <th>Fiyat</th>\n",
       "      <th>Satış</th>\n",
       "      <th>THY</th>\n",
       "    </tr>\n",
       "  </thead>\n",
       "  <tbody>\n",
       "    <tr>\n",
       "      <th>0</th>\n",
       "      <td>1000</td>\n",
       "      <td>2021-02-12 03:00:00</td>\n",
       "      <td>Ana Hat Bölgesel</td>\n",
       "      <td>İstanbul - Bakırköy</td>\n",
       "      <td>C</td>\n",
       "      <td>128.52</td>\n",
       "      <td>97</td>\n",
       "      <td>1310.40</td>\n",
       "    </tr>\n",
       "    <tr>\n",
       "      <th>1</th>\n",
       "      <td>1001</td>\n",
       "      <td>2021-08-22 19:00:00</td>\n",
       "      <td>Ana Hat Bölgesel</td>\n",
       "      <td>Pendik - Bozöyük</td>\n",
       "      <td>C</td>\n",
       "      <td>70.31</td>\n",
       "      <td>286</td>\n",
       "      <td>3979.80</td>\n",
       "    </tr>\n",
       "    <tr>\n",
       "      <th>14</th>\n",
       "      <td>1002</td>\n",
       "      <td>2021-01-13 09:00:00</td>\n",
       "      <td>Ana Hat Bölgesel</td>\n",
       "      <td>Pendik - Gebze</td>\n",
       "      <td>C</td>\n",
       "      <td>103.95</td>\n",
       "      <td>121</td>\n",
       "      <td>2341.35</td>\n",
       "    </tr>\n",
       "    <tr>\n",
       "      <th>3</th>\n",
       "      <td>1003</td>\n",
       "      <td>2021-10-24 05:00:00</td>\n",
       "      <td>Ana Hat Bölgesel</td>\n",
       "      <td>Söğütlüçeşme - Eskişehir</td>\n",
       "      <td>C</td>\n",
       "      <td>147.61</td>\n",
       "      <td>89</td>\n",
       "      <td>1190.40</td>\n",
       "    </tr>\n",
       "    <tr>\n",
       "      <th>22</th>\n",
       "      <td>1004</td>\n",
       "      <td>2021-07-11 07:00:00</td>\n",
       "      <td>YHT</td>\n",
       "      <td>Ankara - İstanbul</td>\n",
       "      <td>C</td>\n",
       "      <td>265.91</td>\n",
       "      <td>35</td>\n",
       "      <td>673.92</td>\n",
       "    </tr>\n",
       "  </tbody>\n",
       "</table>\n",
       "</div>"
      ],
      "text/plain": [
       "      Id               Tarih        ServisTipi                       Hat  \\\n",
       "0   1000 2021-02-12 03:00:00  Ana Hat Bölgesel       İstanbul - Bakırköy   \n",
       "1   1001 2021-08-22 19:00:00  Ana Hat Bölgesel          Pendik - Bozöyük   \n",
       "14  1002 2021-01-13 09:00:00  Ana Hat Bölgesel            Pendik - Gebze   \n",
       "3   1003 2021-10-24 05:00:00  Ana Hat Bölgesel  Söğütlüçeşme - Eskişehir   \n",
       "22  1004 2021-07-11 07:00:00               YHT         Ankara - İstanbul   \n",
       "\n",
       "   Sınıf   Fiyat  Satış      THY  \n",
       "0      C  128.52     97  1310.40  \n",
       "1      C   70.31    286  3979.80  \n",
       "14     C  103.95    121  2341.35  \n",
       "3      C  147.61     89  1190.40  \n",
       "22     C  265.91     35   673.92  "
      ]
     },
     "execution_count": 4,
     "metadata": {},
     "output_type": "execute_result"
    }
   ],
   "source": [
    "df.head()"
   ]
  },
  {
   "cell_type": "code",
   "execution_count": 5,
   "id": "d5b79e20-0f9c-4b1d-9d13-ef4083195723",
   "metadata": {},
   "outputs": [],
   "source": [
    "df = df.reset_index()\n",
    "df.drop('index', axis = 1, inplace= True)"
   ]
  },
  {
   "cell_type": "code",
   "execution_count": 6,
   "id": "fcd019af-73a5-42ac-8bfe-44cdc0b84500",
   "metadata": {},
   "outputs": [],
   "source": [
    "df['Ay'] = df.Tarih.apply(lambda x: x.month)\n",
    "df['Saat'] = df.Tarih.apply(lambda x: x.hour)\n",
    "df['Tarih'] = df.Tarih.apply(lambda x: x.date())"
   ]
  },
  {
   "cell_type": "code",
   "execution_count": 8,
   "id": "74e44117-8807-4da3-91b4-8118fce5e532",
   "metadata": {},
   "outputs": [],
   "source": [
    "df.drop('THY', axis=1, inplace=True)"
   ]
  },
  {
   "cell_type": "code",
   "execution_count": 9,
   "id": "848e5354-e7e6-45a1-83e0-d0ac07a08fa6",
   "metadata": {},
   "outputs": [
    {
     "data": {
      "text/html": [
       "<div>\n",
       "<style scoped>\n",
       "    .dataframe tbody tr th:only-of-type {\n",
       "        vertical-align: middle;\n",
       "    }\n",
       "\n",
       "    .dataframe tbody tr th {\n",
       "        vertical-align: top;\n",
       "    }\n",
       "\n",
       "    .dataframe thead th {\n",
       "        text-align: right;\n",
       "    }\n",
       "</style>\n",
       "<table border=\"1\" class=\"dataframe\">\n",
       "  <thead>\n",
       "    <tr style=\"text-align: right;\">\n",
       "      <th></th>\n",
       "      <th>Id</th>\n",
       "      <th>Fiyat</th>\n",
       "      <th>Satış</th>\n",
       "      <th>Ay</th>\n",
       "      <th>Saat</th>\n",
       "    </tr>\n",
       "  </thead>\n",
       "  <tbody>\n",
       "    <tr>\n",
       "      <th>Id</th>\n",
       "      <td>1.000000</td>\n",
       "      <td>0.033158</td>\n",
       "      <td>-0.032199</td>\n",
       "      <td>-0.037374</td>\n",
       "      <td>0.007944</td>\n",
       "    </tr>\n",
       "    <tr>\n",
       "      <th>Fiyat</th>\n",
       "      <td>0.033158</td>\n",
       "      <td>1.000000</td>\n",
       "      <td>-0.821192</td>\n",
       "      <td>0.007321</td>\n",
       "      <td>0.129115</td>\n",
       "    </tr>\n",
       "    <tr>\n",
       "      <th>Satış</th>\n",
       "      <td>-0.032199</td>\n",
       "      <td>-0.821192</td>\n",
       "      <td>1.000000</td>\n",
       "      <td>0.014788</td>\n",
       "      <td>-0.130842</td>\n",
       "    </tr>\n",
       "    <tr>\n",
       "      <th>Ay</th>\n",
       "      <td>-0.037374</td>\n",
       "      <td>0.007321</td>\n",
       "      <td>0.014788</td>\n",
       "      <td>1.000000</td>\n",
       "      <td>0.031551</td>\n",
       "    </tr>\n",
       "    <tr>\n",
       "      <th>Saat</th>\n",
       "      <td>0.007944</td>\n",
       "      <td>0.129115</td>\n",
       "      <td>-0.130842</td>\n",
       "      <td>0.031551</td>\n",
       "      <td>1.000000</td>\n",
       "    </tr>\n",
       "  </tbody>\n",
       "</table>\n",
       "</div>"
      ],
      "text/plain": [
       "             Id     Fiyat     Satış        Ay      Saat\n",
       "Id     1.000000  0.033158 -0.032199 -0.037374  0.007944\n",
       "Fiyat  0.033158  1.000000 -0.821192  0.007321  0.129115\n",
       "Satış -0.032199 -0.821192  1.000000  0.014788 -0.130842\n",
       "Ay    -0.037374  0.007321  0.014788  1.000000  0.031551\n",
       "Saat   0.007944  0.129115 -0.130842  0.031551  1.000000"
      ]
     },
     "execution_count": 9,
     "metadata": {},
     "output_type": "execute_result"
    }
   ],
   "source": [
    "df.corr()"
   ]
  },
  {
   "cell_type": "code",
   "execution_count": 10,
   "id": "3887ca48-98eb-4d1a-9faf-48c03bbe1ee1",
   "metadata": {},
   "outputs": [
    {
     "data": {
      "text/html": [
       "<div>\n",
       "<style scoped>\n",
       "    .dataframe tbody tr th:only-of-type {\n",
       "        vertical-align: middle;\n",
       "    }\n",
       "\n",
       "    .dataframe tbody tr th {\n",
       "        vertical-align: top;\n",
       "    }\n",
       "\n",
       "    .dataframe thead th {\n",
       "        text-align: right;\n",
       "    }\n",
       "</style>\n",
       "<table border=\"1\" class=\"dataframe\">\n",
       "  <thead>\n",
       "    <tr style=\"text-align: right;\">\n",
       "      <th></th>\n",
       "      <th>Id</th>\n",
       "      <th>Tarih</th>\n",
       "      <th>ServisTipi</th>\n",
       "      <th>Hat</th>\n",
       "      <th>Sınıf</th>\n",
       "      <th>Fiyat</th>\n",
       "      <th>Satış</th>\n",
       "      <th>Ay</th>\n",
       "      <th>Saat</th>\n",
       "    </tr>\n",
       "  </thead>\n",
       "  <tbody>\n",
       "    <tr>\n",
       "      <th>0</th>\n",
       "      <td>1000</td>\n",
       "      <td>2021-02-12</td>\n",
       "      <td>Ana Hat Bölgesel</td>\n",
       "      <td>İstanbul - Bakırköy</td>\n",
       "      <td>C</td>\n",
       "      <td>128.52</td>\n",
       "      <td>97</td>\n",
       "      <td>2</td>\n",
       "      <td>3</td>\n",
       "    </tr>\n",
       "    <tr>\n",
       "      <th>1</th>\n",
       "      <td>1001</td>\n",
       "      <td>2021-08-22</td>\n",
       "      <td>Ana Hat Bölgesel</td>\n",
       "      <td>Pendik - Bozöyük</td>\n",
       "      <td>C</td>\n",
       "      <td>70.31</td>\n",
       "      <td>286</td>\n",
       "      <td>8</td>\n",
       "      <td>19</td>\n",
       "    </tr>\n",
       "    <tr>\n",
       "      <th>2</th>\n",
       "      <td>1002</td>\n",
       "      <td>2021-01-13</td>\n",
       "      <td>Ana Hat Bölgesel</td>\n",
       "      <td>Pendik - Gebze</td>\n",
       "      <td>C</td>\n",
       "      <td>103.95</td>\n",
       "      <td>121</td>\n",
       "      <td>1</td>\n",
       "      <td>9</td>\n",
       "    </tr>\n",
       "    <tr>\n",
       "      <th>3</th>\n",
       "      <td>1003</td>\n",
       "      <td>2021-10-24</td>\n",
       "      <td>Ana Hat Bölgesel</td>\n",
       "      <td>Söğütlüçeşme - Eskişehir</td>\n",
       "      <td>C</td>\n",
       "      <td>147.61</td>\n",
       "      <td>89</td>\n",
       "      <td>10</td>\n",
       "      <td>5</td>\n",
       "    </tr>\n",
       "    <tr>\n",
       "      <th>4</th>\n",
       "      <td>1004</td>\n",
       "      <td>2021-07-11</td>\n",
       "      <td>YHT</td>\n",
       "      <td>Ankara - İstanbul</td>\n",
       "      <td>C</td>\n",
       "      <td>265.91</td>\n",
       "      <td>35</td>\n",
       "      <td>7</td>\n",
       "      <td>7</td>\n",
       "    </tr>\n",
       "  </tbody>\n",
       "</table>\n",
       "</div>"
      ],
      "text/plain": [
       "     Id       Tarih        ServisTipi                       Hat Sınıf   Fiyat  \\\n",
       "0  1000  2021-02-12  Ana Hat Bölgesel       İstanbul - Bakırköy     C  128.52   \n",
       "1  1001  2021-08-22  Ana Hat Bölgesel          Pendik - Bozöyük     C   70.31   \n",
       "2  1002  2021-01-13  Ana Hat Bölgesel            Pendik - Gebze     C  103.95   \n",
       "3  1003  2021-10-24  Ana Hat Bölgesel  Söğütlüçeşme - Eskişehir     C  147.61   \n",
       "4  1004  2021-07-11               YHT         Ankara - İstanbul     C  265.91   \n",
       "\n",
       "   Satış  Ay  Saat  \n",
       "0     97   2     3  \n",
       "1    286   8    19  \n",
       "2    121   1     9  \n",
       "3     89  10     5  \n",
       "4     35   7     7  "
      ]
     },
     "execution_count": 10,
     "metadata": {},
     "output_type": "execute_result"
    }
   ],
   "source": [
    "df.head()"
   ]
  },
  {
   "cell_type": "code",
   "execution_count": 19,
   "id": "ee54bb91-1626-433f-b8cf-095ad6dd179b",
   "metadata": {},
   "outputs": [],
   "source": [
    "pps_matrix = pps.matrix(df)"
   ]
  },
  {
   "cell_type": "code",
   "execution_count": 20,
   "id": "02054497-0b3c-4261-95d2-5013180b367b",
   "metadata": {},
   "outputs": [
    {
     "data": {
      "text/plain": [
       "<AxesSubplot:xlabel='x', ylabel='y'>"
      ]
     },
     "execution_count": 20,
     "metadata": {},
     "output_type": "execute_result"
    },
    {
     "data": {
      "image/png": "[encoded data removed]",
      "text/plain": [
       "<Figure size 640x480 with 2 Axes>"
      ]
     },
     "metadata": {},
     "output_type": "display_data"
    }
   ],
   "source": [
    "matrix_df = pps_matrix[['x', 'y', 'ppscore']].pivot(columns='x', index='y', values='ppscore')\n",
    "sns.heatmap(matrix_df, annot=True, fmt=\".2f\")"
   ]
  },
  {
   "cell_type": "code",
   "execution_count": 21,
   "id": "ac5af650-6435-4be7-8452-ccf83833243e",
   "metadata": {},
   "outputs": [
    {
     "data": {
      "text/html": [
       "<div>\n",
       "<style scoped>\n",
       "    .dataframe tbody tr th:only-of-type {\n",
       "        vertical-align: middle;\n",
       "    }\n",
       "\n",
       "    .dataframe tbody tr th {\n",
       "        vertical-align: top;\n",
       "    }\n",
       "\n",
       "    .dataframe thead th {\n",
       "        text-align: right;\n",
       "    }\n",
       "</style>\n",
       "<table border=\"1\" class=\"dataframe\">\n",
       "  <thead>\n",
       "    <tr style=\"text-align: right;\">\n",
       "      <th>x</th>\n",
       "      <th>Fiyat</th>\n",
       "      <th>Hat</th>\n",
       "      <th>Id</th>\n",
       "      <th>Saat</th>\n",
       "      <th>Satış</th>\n",
       "      <th>ServisTipi</th>\n",
       "      <th>Sınıf</th>\n",
       "      <th>Tarih</th>\n",
       "    </tr>\n",
       "    <tr>\n",
       "      <th>y</th>\n",
       "      <th></th>\n",
       "      <th></th>\n",
       "      <th></th>\n",
       "      <th></th>\n",
       "      <th></th>\n",
       "      <th></th>\n",
       "      <th></th>\n",
       "      <th></th>\n",
       "    </tr>\n",
       "  </thead>\n",
       "  <tbody>\n",
       "    <tr>\n",
       "      <th>Fiyat</th>\n",
       "      <td>1.000000</td>\n",
       "      <td>0.165518</td>\n",
       "      <td>0.031752</td>\n",
       "      <td>0.023665</td>\n",
       "      <td>0.719074</td>\n",
       "      <td>0.027187</td>\n",
       "      <td>0.180396</td>\n",
       "      <td>0.000000</td>\n",
       "    </tr>\n",
       "    <tr>\n",
       "      <th>Hat</th>\n",
       "      <td>0.011663</td>\n",
       "      <td>1.000000</td>\n",
       "      <td>0.856459</td>\n",
       "      <td>0.000000</td>\n",
       "      <td>0.000000</td>\n",
       "      <td>0.000000</td>\n",
       "      <td>0.000000</td>\n",
       "      <td>0.098743</td>\n",
       "    </tr>\n",
       "    <tr>\n",
       "      <th>Id</th>\n",
       "      <td>0.000000</td>\n",
       "      <td>0.030578</td>\n",
       "      <td>1.000000</td>\n",
       "      <td>0.004736</td>\n",
       "      <td>0.000000</td>\n",
       "      <td>0.000513</td>\n",
       "      <td>0.000000</td>\n",
       "      <td>0.069460</td>\n",
       "    </tr>\n",
       "    <tr>\n",
       "      <th>Saat</th>\n",
       "      <td>0.013186</td>\n",
       "      <td>0.109529</td>\n",
       "      <td>0.845939</td>\n",
       "      <td>1.000000</td>\n",
       "      <td>0.000000</td>\n",
       "      <td>0.000000</td>\n",
       "      <td>0.000000</td>\n",
       "      <td>0.141947</td>\n",
       "    </tr>\n",
       "    <tr>\n",
       "      <th>Satış</th>\n",
       "      <td>0.607343</td>\n",
       "      <td>0.166933</td>\n",
       "      <td>0.000000</td>\n",
       "      <td>0.010884</td>\n",
       "      <td>1.000000</td>\n",
       "      <td>0.019470</td>\n",
       "      <td>0.180903</td>\n",
       "      <td>0.000000</td>\n",
       "    </tr>\n",
       "    <tr>\n",
       "      <th>ServisTipi</th>\n",
       "      <td>0.183154</td>\n",
       "      <td>0.156536</td>\n",
       "      <td>0.843515</td>\n",
       "      <td>0.047642</td>\n",
       "      <td>0.171522</td>\n",
       "      <td>1.000000</td>\n",
       "      <td>0.000000</td>\n",
       "      <td>0.253053</td>\n",
       "    </tr>\n",
       "    <tr>\n",
       "      <th>Sınıf</th>\n",
       "      <td>0.134241</td>\n",
       "      <td>0.000000</td>\n",
       "      <td>0.000000</td>\n",
       "      <td>0.000000</td>\n",
       "      <td>0.116869</td>\n",
       "      <td>0.000000</td>\n",
       "      <td>1.000000</td>\n",
       "      <td>0.000000</td>\n",
       "    </tr>\n",
       "    <tr>\n",
       "      <th>Tarih</th>\n",
       "      <td>0.000000</td>\n",
       "      <td>0.043027</td>\n",
       "      <td>0.865695</td>\n",
       "      <td>0.000260</td>\n",
       "      <td>0.000000</td>\n",
       "      <td>0.000000</td>\n",
       "      <td>0.000000</td>\n",
       "      <td>1.000000</td>\n",
       "    </tr>\n",
       "  </tbody>\n",
       "</table>\n",
       "</div>"
      ],
      "text/plain": [
       "x              Fiyat       Hat        Id      Saat     Satış  ServisTipi  \\\n",
       "y                                                                          \n",
       "Fiyat       1.000000  0.165518  0.031752  0.023665  0.719074    0.027187   \n",
       "Hat         0.011663  1.000000  0.856459  0.000000  0.000000    0.000000   \n",
       "Id          0.000000  0.030578  1.000000  0.004736  0.000000    0.000513   \n",
       "Saat        0.013186  0.109529  0.845939  1.000000  0.000000    0.000000   \n",
       "Satış       0.607343  0.166933  0.000000  0.010884  1.000000    0.019470   \n",
       "ServisTipi  0.183154  0.156536  0.843515  0.047642  0.171522    1.000000   \n",
       "Sınıf       0.134241  0.000000  0.000000  0.000000  0.116869    0.000000   \n",
       "Tarih       0.000000  0.043027  0.865695  0.000260  0.000000    0.000000   \n",
       "\n",
       "x              Sınıf     Tarih  \n",
       "y                               \n",
       "Fiyat       0.180396  0.000000  \n",
       "Hat         0.000000  0.098743  \n",
       "Id          0.000000  0.069460  \n",
       "Saat        0.000000  0.141947  \n",
       "Satış       0.180903  0.000000  \n",
       "ServisTipi  0.000000  0.253053  \n",
       "Sınıf       1.000000  0.000000  \n",
       "Tarih       0.000000  1.000000  "
      ]
     },
     "execution_count": 21,
     "metadata": {},
     "output_type": "execute_result"
    }
   ],
   "source": [
    "matrix_df"
   ]
  },
  {
   "cell_type": "code",
   "execution_count": 22,
   "id": "1abe7c8a-3ea0-43f0-9480-4ce4728a8233",
   "metadata": {},
   "outputs": [
    {
     "data": {
      "text/plain": [
       "x\n",
       "Satış         1.000000\n",
       "Fiyat         0.607343\n",
       "Sınıf         0.180903\n",
       "Hat           0.166933\n",
       "ServisTipi    0.019470\n",
       "Saat          0.010884\n",
       "Id            0.000000\n",
       "Tarih         0.000000\n",
       "Name: Satış, dtype: float64"
      ]
     },
     "execution_count": 22,
     "metadata": {},
     "output_type": "execute_result"
    }
   ],
   "source": [
    "matrix_df.loc['Satış'].sort_values(ascending=False)"
   ]
  },
  {
   "cell_type": "code",
   "execution_count": 24,
   "id": "44ffa3a0-cb2d-4fde-98c8-dec6b4aa7fcd",
   "metadata": {},
   "outputs": [],
   "source": [
    "Id_Satış = df.groupby('Id')['Satış'].mean().sort_values(ascending=False)"
   ]
  },
  {
   "cell_type": "code",
   "execution_count": 25,
   "id": "02edef34-e038-49a1-a422-70cca75d8fbb",
   "metadata": {},
   "outputs": [
    {
     "data": {
      "text/plain": [
       "Id\n",
       "1688    669.333333\n",
       "2955    634.500000\n",
       "2067    627.833333\n",
       "2286    589.666667\n",
       "1952    566.166667\n",
       "           ...    \n",
       "1144     34.833333\n",
       "2648     34.833333\n",
       "1945     33.666667\n",
       "2278     32.333333\n",
       "1949     29.833333\n",
       "Name: Satış, Length: 2000, dtype: float64"
      ]
     },
     "execution_count": 25,
     "metadata": {},
     "output_type": "execute_result"
    }
   ],
   "source": [
    "Id_Satış"
   ]
  },
  {
   "cell_type": "code",
   "execution_count": 26,
   "id": "c6f9fa72-24b8-4ba4-bbc4-e6acf324284d",
   "metadata": {},
   "outputs": [
    {
     "data": {
      "text/html": [
       "<div>\n",
       "<style scoped>\n",
       "    .dataframe tbody tr th:only-of-type {\n",
       "        vertical-align: middle;\n",
       "    }\n",
       "\n",
       "    .dataframe tbody tr th {\n",
       "        vertical-align: top;\n",
       "    }\n",
       "\n",
       "    .dataframe thead th {\n",
       "        text-align: right;\n",
       "    }\n",
       "</style>\n",
       "<table border=\"1\" class=\"dataframe\">\n",
       "  <thead>\n",
       "    <tr style=\"text-align: right;\">\n",
       "      <th></th>\n",
       "      <th>Id</th>\n",
       "      <th>Tarih</th>\n",
       "      <th>ServisTipi</th>\n",
       "      <th>Hat</th>\n",
       "      <th>Sınıf</th>\n",
       "      <th>Fiyat</th>\n",
       "      <th>Satış</th>\n",
       "      <th>Saat</th>\n",
       "    </tr>\n",
       "  </thead>\n",
       "  <tbody>\n",
       "    <tr>\n",
       "      <th>688</th>\n",
       "      <td>1688</td>\n",
       "      <td>2021-07-11</td>\n",
       "      <td>Ana Hat Bölgesel</td>\n",
       "      <td>Arifiye - Bozöyük</td>\n",
       "      <td>C</td>\n",
       "      <td>47.66</td>\n",
       "      <td>445</td>\n",
       "      <td>01:00:00</td>\n",
       "    </tr>\n",
       "    <tr>\n",
       "      <th>3444</th>\n",
       "      <td>1688</td>\n",
       "      <td>2021-07-11</td>\n",
       "      <td>Ana Hat Bölgesel</td>\n",
       "      <td>Arifiye - Bozöyük</td>\n",
       "      <td>D</td>\n",
       "      <td>43.57</td>\n",
       "      <td>487</td>\n",
       "      <td>01:00:00</td>\n",
       "    </tr>\n",
       "    <tr>\n",
       "      <th>3443</th>\n",
       "      <td>1688</td>\n",
       "      <td>2021-07-11</td>\n",
       "      <td>Ana Hat Bölgesel</td>\n",
       "      <td>Arifiye - Bozöyük</td>\n",
       "      <td>J</td>\n",
       "      <td>38.13</td>\n",
       "      <td>586</td>\n",
       "      <td>01:00:00</td>\n",
       "    </tr>\n",
       "    <tr>\n",
       "      <th>3442</th>\n",
       "      <td>1688</td>\n",
       "      <td>2021-07-11</td>\n",
       "      <td>Ana Hat Bölgesel</td>\n",
       "      <td>Arifiye - Bozöyük</td>\n",
       "      <td>M</td>\n",
       "      <td>31.32</td>\n",
       "      <td>713</td>\n",
       "      <td>01:00:00</td>\n",
       "    </tr>\n",
       "    <tr>\n",
       "      <th>3441</th>\n",
       "      <td>1688</td>\n",
       "      <td>2021-07-11</td>\n",
       "      <td>Ana Hat Bölgesel</td>\n",
       "      <td>Arifiye - Bozöyük</td>\n",
       "      <td>Y</td>\n",
       "      <td>27.23</td>\n",
       "      <td>820</td>\n",
       "      <td>01:00:00</td>\n",
       "    </tr>\n",
       "    <tr>\n",
       "      <th>3440</th>\n",
       "      <td>1688</td>\n",
       "      <td>2021-07-11</td>\n",
       "      <td>Ana Hat Bölgesel</td>\n",
       "      <td>Arifiye - Bozöyük</td>\n",
       "      <td>X</td>\n",
       "      <td>23.15</td>\n",
       "      <td>965</td>\n",
       "      <td>01:00:00</td>\n",
       "    </tr>\n",
       "  </tbody>\n",
       "</table>\n",
       "</div>"
      ],
      "text/plain": [
       "        Id       Tarih        ServisTipi                Hat Sınıf  Fiyat  \\\n",
       "688   1688  2021-07-11  Ana Hat Bölgesel  Arifiye - Bozöyük     C  47.66   \n",
       "3444  1688  2021-07-11  Ana Hat Bölgesel  Arifiye - Bozöyük     D  43.57   \n",
       "3443  1688  2021-07-11  Ana Hat Bölgesel  Arifiye - Bozöyük     J  38.13   \n",
       "3442  1688  2021-07-11  Ana Hat Bölgesel  Arifiye - Bozöyük     M  31.32   \n",
       "3441  1688  2021-07-11  Ana Hat Bölgesel  Arifiye - Bozöyük     Y  27.23   \n",
       "3440  1688  2021-07-11  Ana Hat Bölgesel  Arifiye - Bozöyük     X  23.15   \n",
       "\n",
       "      Satış      Saat  \n",
       "688     445  01:00:00  \n",
       "3444    487  01:00:00  \n",
       "3443    586  01:00:00  \n",
       "3442    713  01:00:00  \n",
       "3441    820  01:00:00  \n",
       "3440    965  01:00:00  "
      ]
     },
     "metadata": {},
     "output_type": "display_data"
    }
   ],
   "source": [
    "for Id in Id_Satış.index[:1]:\n",
    "    dataframe = df[df['Id'] == Id]\n",
    "    display(dataframe)"
   ]
  },
  {
   "cell_type": "code",
   "execution_count": 143,
   "id": "09266dc5-d188-4f86-9ce8-36b5a69f6aaa",
   "metadata": {},
   "outputs": [
    {
     "data": {
      "image/png": "[encoded data removed]",
      "text/plain": [
       "<Figure size 1200x1800 with 3 Axes>"
      ]
     },
     "metadata": {},
     "output_type": "display_data"
    }
   ],
   "source": [
    "df_boxen = df.select_dtypes(include='object').drop(['Hat','Tarih'], axis=1)\n",
    "df_copy = df.sort_values('Saat')\n",
    "plt.figure(figsize=(12,18))\n",
    "for index, column in enumerate(df_boxen):\n",
    "    plt.subplot(5,2,index+1)\n",
    "    sns.boxenplot(data=df_copy, x=column, y='Satış')\n",
    "    if column == 'Saat':\n",
    "        plt.xticks(rotation=90);    "
   ]
  },
  {
   "cell_type": "markdown",
   "id": "0e84d937-7f97-4b16-9d3f-0db1f53a7485",
   "metadata": {
    "tags": []
   },
   "source": [
    "# Month Analysis"
   ]
  },
  {
   "cell_type": "code",
   "execution_count": 10,
   "id": "57759ddc-0d78-4fda-a4a9-168666ec0e84",
   "metadata": {},
   "outputs": [],
   "source": [
    "monthly_sale = df.groupby('Ay')['Satış'].sum()"
   ]
  },
  {
   "cell_type": "code",
   "execution_count": 11,
   "id": "740af428-165e-4c62-a956-2fb0d7433db9",
   "metadata": {},
   "outputs": [
    {
     "data": {
      "application/vnd.jupyter.widget-view+json": {
       "model_id": "8c81158cb6db4f559030685134fc350c",
       "version_major": 2,
       "version_minor": 0
      },
      "image/png": "[encoded data removed]",
      "text/html": [
       "\n",
       "            <div style=\"display: inline-block;\">\n",
       "                <div class=\"jupyter-widgets widget-label\" style=\"text-align: center;\">\n",
       "                    Figure\n",
       "                </div>\n",
       "                <img src='data:image/png;base64,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' width=640.0/>\n",
       "            </div>\n",
       "        "
      ],
      "text/plain": [
       "Canvas(toolbar=Toolbar(toolitems=[('Home', 'Reset original view', 'home', 'home'), ('Back', 'Back to previous …"
      ]
     },
     "metadata": {},
     "output_type": "display_data"
    }
   ],
   "source": [
    "monthly_sale.plot(marker='D', mfc='red')\n",
    "plt.xticks(monthly_sale.index);"
   ]
  },
  {
   "cell_type": "code",
   "execution_count": 13,
   "id": "6f5a61d7-d878-4cfc-98db-44bad5f0c92d",
   "metadata": {},
   "outputs": [],
   "source": [
    "# REASON FOR LOW FEBRUARY ??"
   ]
  },
  {
   "cell_type": "code",
   "execution_count": 14,
   "id": "7d86f1b2-3858-4506-9465-627e2090a03b",
   "metadata": {},
   "outputs": [],
   "source": [
    "monthly_price = df.groupby('Ay')['Fiyat'].median()"
   ]
  },
  {
   "cell_type": "code",
   "execution_count": 15,
   "id": "fb65d344-4ac8-496a-aae6-d78b4f128624",
   "metadata": {},
   "outputs": [
    {
     "data": {
      "text/plain": [
       "Ay\n",
       "1     104.660\n",
       "2     108.840\n",
       "3     104.950\n",
       "4     107.635\n",
       "5     107.045\n",
       "6     102.915\n",
       "7     109.480\n",
       "8     107.995\n",
       "9     106.165\n",
       "10    104.915\n",
       "11    107.800\n",
       "12    106.685\n",
       "Name: Fiyat, dtype: float64"
      ]
     },
     "execution_count": 15,
     "metadata": {},
     "output_type": "execute_result"
    }
   ],
   "source": [
    "monthly_price"
   ]
  },
  {
   "cell_type": "code",
   "execution_count": 16,
   "id": "bf408fc4-464a-49f7-8d0e-210e75565a6d",
   "metadata": {},
   "outputs": [
    {
     "data": {
      "text/plain": [
       "[range(0, 4), range(4, 7), range(7, 10), range(10, 18)]"
      ]
     },
     "execution_count": 16,
     "metadata": {},
     "output_type": "execute_result"
    }
   ],
   "source": [
    "ay_ranges = generate.generate_numerical_ranges(df.Ay, [4,7,10])\n",
    "ay_ranges"
   ]
  },
  {
   "cell_type": "code",
   "execution_count": 17,
   "id": "9774d481-fcf2-4514-8ecb-085e1354e2b5",
   "metadata": {},
   "outputs": [],
   "source": [
    "ay_dict = categorize.categorize_numerical_variable(df.Ay, ay_ranges)"
   ]
  },
  {
   "cell_type": "code",
   "execution_count": 18,
   "id": "aa6d38e9-e643-4fe8-8d18-85cf333e7e7e",
   "metadata": {},
   "outputs": [],
   "source": [
    "df['Ay_Grupları'] = df['Ay'].map(ay_dict)"
   ]
  },
  {
   "cell_type": "code",
   "execution_count": 19,
   "id": "eeab96bb-eae9-4a74-84fe-cce7b8c6eeb6",
   "metadata": {},
   "outputs": [
    {
     "data": {
      "text/plain": [
       "<AxesSubplot:xlabel='Ay_Grupları', ylabel='Satış'>"
      ]
     },
     "execution_count": 19,
     "metadata": {},
     "output_type": "execute_result"
    },
    {
     "data": {
      "image/png": "[encoded data removed]",
      "text/plain": [
       "<Figure size 640x480 with 1 Axes>"
      ]
     },
     "metadata": {},
     "output_type": "display_data"
    }
   ],
   "source": [
    "sns.boxplot(x='Ay_Grupları', y='Satış',data=df)"
   ]
  },
  {
   "cell_type": "markdown",
   "id": "89d1056e-4958-4234-8d52-dba576005a71",
   "metadata": {},
   "source": [
    "# Route Analysis"
   ]
  },
  {
   "cell_type": "code",
   "execution_count": 20,
   "id": "65aef34d-b6e8-4abf-9b9e-2ddf72126824",
   "metadata": {},
   "outputs": [],
   "source": [
    "start = df.groupby('Hat').mean()['Satış'].min()\n",
    "finish = df.groupby('Hat').mean()['Satış'].max()"
   ]
  },
  {
   "cell_type": "code",
   "execution_count": 21,
   "id": "8e2fb7e8-274d-4921-80f3-7bd9248fde40",
   "metadata": {},
   "outputs": [
    {
     "data": {
      "text/plain": [
       "[range(75, 178), range(178, 281), range(281, 384), range(384, 731)]"
      ]
     },
     "execution_count": 21,
     "metadata": {},
     "output_type": "execute_result"
    }
   ],
   "source": [
    "hat_ranges = generate.generate_categorical_ranges(4, start, finish)\n",
    "hat_ranges"
   ]
  },
  {
   "cell_type": "code",
   "execution_count": 22,
   "id": "ff062cc5-981c-4bf6-8e6c-4bc89fc2e255",
   "metadata": {},
   "outputs": [],
   "source": [
    "hat_group = df.groupby('Hat').mean()['Satış']\n",
    "hat_dict = categorize.categorize_categorical_variable(hat_group, hat_ranges)"
   ]
  },
  {
   "cell_type": "code",
   "execution_count": 23,
   "id": "34978b3c-0a9b-4f97-9645-91c2e1743bc7",
   "metadata": {},
   "outputs": [],
   "source": [
    "df['Hat_Grupları'] = df['Hat'].map(hat_dict)"
   ]
  },
  {
   "cell_type": "code",
   "execution_count": 24,
   "id": "11058e4a-5d7e-4c32-ad34-8f9b2e2d8bec",
   "metadata": {},
   "outputs": [
    {
     "data": {
      "text/plain": [
       "<seaborn.axisgrid.FacetGrid at 0x24f58908370>"
      ]
     },
     "execution_count": 24,
     "metadata": {},
     "output_type": "execute_result"
    },
    {
     "data": {
      "image/png": "[encoded data removed]",
      "text/plain": [
       "<Figure size 562x500 with 1 Axes>"
      ]
     },
     "metadata": {},
     "output_type": "display_data"
    }
   ],
   "source": [
    "sns.catplot(x='Hat_Grupları', y='Satış', hue='Sınıf', data=df, kind='box')"
   ]
  },
  {
   "cell_type": "markdown",
   "id": "e8cbd4c7-fa81-4352-93f4-52a711dfa3ea",
   "metadata": {},
   "source": [
    "# Time Analysis"
   ]
  },
  {
   "cell_type": "code",
   "execution_count": 13,
   "id": "94a9fffa-2740-4940-be48-753f7737c2db",
   "metadata": {},
   "outputs": [],
   "source": [
    "start = df.groupby('Saat').mean()['Satış'].min()\n",
    "finish = df.groupby('Saat').mean()['Satış'].max()"
   ]
  },
  {
   "cell_type": "code",
   "execution_count": 14,
   "id": "df849f04-bf45-4ede-84b5-0de602fcdb8a",
   "metadata": {},
   "outputs": [
    {
     "data": {
      "text/plain": [
       "[range(127, 178), range(178, 344)]"
      ]
     },
     "execution_count": 14,
     "metadata": {},
     "output_type": "execute_result"
    }
   ],
   "source": [
    "saat_ranges = generate.generate_categorical_ranges(2, start, finish)\n",
    "saat_ranges"
   ]
  },
  {
   "cell_type": "code",
   "execution_count": 15,
   "id": "a0177daa-fb65-4910-a9e4-0bc8adfbeaf5",
   "metadata": {},
   "outputs": [],
   "source": [
    "saat_group = df.groupby('Saat').mean()['Satış']\n",
    "saat_dict = categorize.categorize_categorical_variable(saat_group, saat_ranges)\n",
    "df['Saat_Grupları'] = df['Saat'].map(saat_dict)"
   ]
  },
  {
   "cell_type": "code",
   "execution_count": 16,
   "id": "eadc534f-34bd-40bd-84ab-b1220a2bf1d2",
   "metadata": {},
   "outputs": [
    {
     "data": {
      "text/plain": [
       "<seaborn.axisgrid.FacetGrid at 0x16cc1c43790>"
      ]
     },
     "execution_count": 16,
     "metadata": {},
     "output_type": "execute_result"
    },
    {
     "data": {
      "application/vnd.jupyter.widget-view+json": {
       "model_id": "950361e708274ac8bdbd1775553ecff7",
       "version_major": 2,
       "version_minor": 0
      },
      "image/png": "[encoded data removed]",
      "text/html": [
       "\n",
       "            <div style=\"display: inline-block;\">\n",
       "                <div class=\"jupyter-widgets widget-label\" style=\"text-align: center;\">\n",
       "                    Figure\n",
       "                </div>\n",
       "                <img src='data:image/png;base64,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' width=500.0/>\n",
       "            </div>\n",
       "        "
      ],
      "text/plain": [
       "Canvas(toolbar=Toolbar(toolitems=[('Home', 'Reset original view', 'home', 'home'), ('Back', 'Back to previous …"
      ]
     },
     "metadata": {},
     "output_type": "display_data"
    }
   ],
   "source": [
    "sns.catplot(x='Saat_Grupları', y='Satış', data=df, kind='box')"
   ]
  },
  {
   "cell_type": "code",
   "execution_count": 29,
   "id": "2167672f-da0a-4b77-8033-8016cdedd7e2",
   "metadata": {},
   "outputs": [
    {
     "data": {
      "text/html": [
       "<div>\n",
       "<style scoped>\n",
       "    .dataframe tbody tr th:only-of-type {\n",
       "        vertical-align: middle;\n",
       "    }\n",
       "\n",
       "    .dataframe tbody tr th {\n",
       "        vertical-align: top;\n",
       "    }\n",
       "\n",
       "    .dataframe thead th {\n",
       "        text-align: right;\n",
       "    }\n",
       "</style>\n",
       "<table border=\"1\" class=\"dataframe\">\n",
       "  <thead>\n",
       "    <tr style=\"text-align: right;\">\n",
       "      <th></th>\n",
       "      <th>Id</th>\n",
       "      <th>Tarih</th>\n",
       "      <th>ServisTipi</th>\n",
       "      <th>Hat</th>\n",
       "      <th>Sınıf</th>\n",
       "      <th>Fiyat</th>\n",
       "      <th>Satış</th>\n",
       "      <th>Ay</th>\n",
       "      <th>Saat</th>\n",
       "      <th>Ay_Grupları</th>\n",
       "      <th>Hat_Grupları</th>\n",
       "      <th>Saat_Grupları</th>\n",
       "    </tr>\n",
       "  </thead>\n",
       "  <tbody>\n",
       "    <tr>\n",
       "      <th>0</th>\n",
       "      <td>1000</td>\n",
       "      <td>2021-02-12</td>\n",
       "      <td>Ana Hat Bölgesel</td>\n",
       "      <td>İstanbul - Bakırköy</td>\n",
       "      <td>C</td>\n",
       "      <td>128.52</td>\n",
       "      <td>97</td>\n",
       "      <td>2</td>\n",
       "      <td>3</td>\n",
       "      <td>a</td>\n",
       "      <td>a</td>\n",
       "      <td>b</td>\n",
       "    </tr>\n",
       "    <tr>\n",
       "      <th>1</th>\n",
       "      <td>1001</td>\n",
       "      <td>2021-08-22</td>\n",
       "      <td>Ana Hat Bölgesel</td>\n",
       "      <td>Pendik - Bozöyük</td>\n",
       "      <td>C</td>\n",
       "      <td>70.31</td>\n",
       "      <td>286</td>\n",
       "      <td>8</td>\n",
       "      <td>19</td>\n",
       "      <td>c</td>\n",
       "      <td>c</td>\n",
       "      <td>b</td>\n",
       "    </tr>\n",
       "    <tr>\n",
       "      <th>2</th>\n",
       "      <td>1002</td>\n",
       "      <td>2021-01-13</td>\n",
       "      <td>Ana Hat Bölgesel</td>\n",
       "      <td>Pendik - Gebze</td>\n",
       "      <td>C</td>\n",
       "      <td>103.95</td>\n",
       "      <td>121</td>\n",
       "      <td>1</td>\n",
       "      <td>9</td>\n",
       "      <td>a</td>\n",
       "      <td>b</td>\n",
       "      <td>a</td>\n",
       "    </tr>\n",
       "    <tr>\n",
       "      <th>3</th>\n",
       "      <td>1003</td>\n",
       "      <td>2021-10-24</td>\n",
       "      <td>Ana Hat Bölgesel</td>\n",
       "      <td>Söğütlüçeşme - Eskişehir</td>\n",
       "      <td>C</td>\n",
       "      <td>147.61</td>\n",
       "      <td>89</td>\n",
       "      <td>10</td>\n",
       "      <td>5</td>\n",
       "      <td>d</td>\n",
       "      <td>a</td>\n",
       "      <td>b</td>\n",
       "    </tr>\n",
       "    <tr>\n",
       "      <th>4</th>\n",
       "      <td>1004</td>\n",
       "      <td>2021-07-11</td>\n",
       "      <td>YHT</td>\n",
       "      <td>Ankara - İstanbul</td>\n",
       "      <td>C</td>\n",
       "      <td>265.91</td>\n",
       "      <td>35</td>\n",
       "      <td>7</td>\n",
       "      <td>7</td>\n",
       "      <td>c</td>\n",
       "      <td>a</td>\n",
       "      <td>b</td>\n",
       "    </tr>\n",
       "    <tr>\n",
       "      <th>...</th>\n",
       "      <td>...</td>\n",
       "      <td>...</td>\n",
       "      <td>...</td>\n",
       "      <td>...</td>\n",
       "      <td>...</td>\n",
       "      <td>...</td>\n",
       "      <td>...</td>\n",
       "      <td>...</td>\n",
       "      <td>...</td>\n",
       "      <td>...</td>\n",
       "      <td>...</td>\n",
       "      <td>...</td>\n",
       "    </tr>\n",
       "    <tr>\n",
       "      <th>11995</th>\n",
       "      <td>2995</td>\n",
       "      <td>2021-12-13</td>\n",
       "      <td>YHT</td>\n",
       "      <td>Gebze - Bostancı</td>\n",
       "      <td>X</td>\n",
       "      <td>83.54</td>\n",
       "      <td>184</td>\n",
       "      <td>12</td>\n",
       "      <td>19</td>\n",
       "      <td>d</td>\n",
       "      <td>a</td>\n",
       "      <td>b</td>\n",
       "    </tr>\n",
       "    <tr>\n",
       "      <th>11996</th>\n",
       "      <td>2996</td>\n",
       "      <td>2021-07-02</td>\n",
       "      <td>YHT</td>\n",
       "      <td>Söğütlüçeşme - İzmit</td>\n",
       "      <td>X</td>\n",
       "      <td>85.54</td>\n",
       "      <td>184</td>\n",
       "      <td>7</td>\n",
       "      <td>14</td>\n",
       "      <td>c</td>\n",
       "      <td>a</td>\n",
       "      <td>a</td>\n",
       "    </tr>\n",
       "    <tr>\n",
       "      <th>11997</th>\n",
       "      <td>2997</td>\n",
       "      <td>2021-09-21</td>\n",
       "      <td>Ana Hat Bölgesel</td>\n",
       "      <td>Bozöyük - Söğütlüçeşme</td>\n",
       "      <td>X</td>\n",
       "      <td>56.18</td>\n",
       "      <td>329</td>\n",
       "      <td>9</td>\n",
       "      <td>13</td>\n",
       "      <td>c</td>\n",
       "      <td>b</td>\n",
       "      <td>a</td>\n",
       "    </tr>\n",
       "    <tr>\n",
       "      <th>11998</th>\n",
       "      <td>2998</td>\n",
       "      <td>2021-10-04</td>\n",
       "      <td>YHT</td>\n",
       "      <td>Bakırköy - İzmit</td>\n",
       "      <td>X</td>\n",
       "      <td>71.50</td>\n",
       "      <td>227</td>\n",
       "      <td>10</td>\n",
       "      <td>20</td>\n",
       "      <td>d</td>\n",
       "      <td>b</td>\n",
       "      <td>a</td>\n",
       "    </tr>\n",
       "    <tr>\n",
       "      <th>11999</th>\n",
       "      <td>2999</td>\n",
       "      <td>2021-10-04</td>\n",
       "      <td>YHT</td>\n",
       "      <td>Polatlı - Bostancı</td>\n",
       "      <td>X</td>\n",
       "      <td>78.11</td>\n",
       "      <td>219</td>\n",
       "      <td>10</td>\n",
       "      <td>3</td>\n",
       "      <td>d</td>\n",
       "      <td>a</td>\n",
       "      <td>b</td>\n",
       "    </tr>\n",
       "  </tbody>\n",
       "</table>\n",
       "<p>12000 rows × 12 columns</p>\n",
       "</div>"
      ],
      "text/plain": [
       "         Id       Tarih        ServisTipi                       Hat Sınıf  \\\n",
       "0      1000  2021-02-12  Ana Hat Bölgesel       İstanbul - Bakırköy     C   \n",
       "1      1001  2021-08-22  Ana Hat Bölgesel          Pendik - Bozöyük     C   \n",
       "2      1002  2021-01-13  Ana Hat Bölgesel            Pendik - Gebze     C   \n",
       "3      1003  2021-10-24  Ana Hat Bölgesel  Söğütlüçeşme - Eskişehir     C   \n",
       "4      1004  2021-07-11               YHT         Ankara - İstanbul     C   \n",
       "...     ...         ...               ...                       ...   ...   \n",
       "11995  2995  2021-12-13               YHT          Gebze - Bostancı     X   \n",
       "11996  2996  2021-07-02               YHT      Söğütlüçeşme - İzmit     X   \n",
       "11997  2997  2021-09-21  Ana Hat Bölgesel    Bozöyük - Söğütlüçeşme     X   \n",
       "11998  2998  2021-10-04               YHT          Bakırköy - İzmit     X   \n",
       "11999  2999  2021-10-04               YHT        Polatlı - Bostancı     X   \n",
       "\n",
       "        Fiyat  Satış  Ay  Saat Ay_Grupları Hat_Grupları Saat_Grupları  \n",
       "0      128.52     97   2     3           a            a             b  \n",
       "1       70.31    286   8    19           c            c             b  \n",
       "2      103.95    121   1     9           a            b             a  \n",
       "3      147.61     89  10     5           d            a             b  \n",
       "4      265.91     35   7     7           c            a             b  \n",
       "...       ...    ...  ..   ...         ...          ...           ...  \n",
       "11995   83.54    184  12    19           d            a             b  \n",
       "11996   85.54    184   7    14           c            a             a  \n",
       "11997   56.18    329   9    13           c            b             a  \n",
       "11998   71.50    227  10    20           d            b             a  \n",
       "11999   78.11    219  10     3           d            a             b  \n",
       "\n",
       "[12000 rows x 12 columns]"
      ]
     },
     "execution_count": 29,
     "metadata": {},
     "output_type": "execute_result"
    }
   ],
   "source": [
    "df"
   ]
  },
  {
   "cell_type": "markdown",
   "id": "f1f925de-84be-4ec0-bcdf-06adde4df9f5",
   "metadata": {},
   "source": [
    "# Station Analysis"
   ]
  },
  {
   "cell_type": "code",
   "execution_count": 30,
   "id": "d8f93108-ac46-4073-b973-29f9102c8fc9",
   "metadata": {},
   "outputs": [],
   "source": [
    "df['Kalkış'] = df.Hat.apply(lambda x: x.split()[0])\n",
    "df['Varış'] = df.Hat.apply(lambda x: x.split()[-1])"
   ]
  },
  {
   "cell_type": "code",
   "execution_count": 31,
   "id": "38f7b5eb-685c-40cf-b59c-4256994b7099",
   "metadata": {},
   "outputs": [
    {
     "data": {
      "text/plain": [
       "Kalkış\n",
       "Arifiye         269.885507\n",
       "Bozöyük         266.403030\n",
       "Bilecik         233.834688\n",
       "İzmit           219.176812\n",
       "Pendik          206.094488\n",
       "Polatlı         205.390845\n",
       "Gebze           202.670573\n",
       "Eskişehir       184.934667\n",
       "Bakırköy        162.557778\n",
       "Eryaman         156.994369\n",
       "Ankara          145.755208\n",
       "Söğütlüçeşme    141.016284\n",
       "Bostancı        135.078483\n",
       "İstanbul        115.373711\n",
       "Name: Satış, dtype: float64"
      ]
     },
     "execution_count": 31,
     "metadata": {},
     "output_type": "execute_result"
    }
   ],
   "source": [
    "df.groupby('Kalkış')['Satış'].mean().sort_values(ascending=False)"
   ]
  },
  {
   "cell_type": "code",
   "execution_count": 32,
   "id": "c094eb98-8f22-4f83-bf3b-1199a7e6a113",
   "metadata": {},
   "outputs": [
    {
     "data": {
      "text/plain": [
       "Varış\n",
       "Arifiye         282.505952\n",
       "Bozöyük         273.875362\n",
       "Bilecik         224.440171\n",
       "İzmit           216.402098\n",
       "Pendik          208.597222\n",
       "Polatlı         202.589239\n",
       "Gebze           192.614428\n",
       "Eskişehir       175.977541\n",
       "Bakırköy        168.836518\n",
       "Eryaman         158.044025\n",
       "Söğütlüçeşme    148.180921\n",
       "Ankara          142.946629\n",
       "Bostancı        134.025100\n",
       "İstanbul        122.690598\n",
       "Name: Satış, dtype: float64"
      ]
     },
     "execution_count": 32,
     "metadata": {},
     "output_type": "execute_result"
    }
   ],
   "source": [
    "df.groupby('Varış')['Satış'].mean().sort_values(ascending=False)"
   ]
  },
  {
   "cell_type": "markdown",
   "id": "2876418d-16ae-4fc1-b52c-380330a13403",
   "metadata": {},
   "source": [
    "# Class Analysis"
   ]
  },
  {
   "cell_type": "code",
   "execution_count": 7,
   "id": "b8db3438-bccf-45ed-870c-e7b981300df6",
   "metadata": {},
   "outputs": [
    {
     "data": {
      "text/plain": [
       "<seaborn.axisgrid.FacetGrid at 0x1e25ef6e800>"
      ]
     },
     "execution_count": 7,
     "metadata": {},
     "output_type": "execute_result"
    },
    {
     "data": {
      "image/png": "[encoded data removed]",
      "text/plain": [
       "<Figure size 669x500 with 1 Axes>"
      ]
     },
     "metadata": {},
     "output_type": "display_data"
    }
   ],
   "source": [
    "sns.catplot(x='Sınıf', y='Satış', hue='ServisTipi', data=df, kind='box')"
   ]
  },
  {
   "cell_type": "markdown",
   "id": "efdb8eb1-82d3-4b48-a1b8-946e7c4248d1",
   "metadata": {},
   "source": [
    "# Data Prep"
   ]
  },
  {
   "cell_type": "code",
   "execution_count": 34,
   "id": "06a9f2e6-96c4-47ca-9635-7a16dd986280",
   "metadata": {},
   "outputs": [
    {
     "data": {
      "text/html": [
       "<div>\n",
       "<style scoped>\n",
       "    .dataframe tbody tr th:only-of-type {\n",
       "        vertical-align: middle;\n",
       "    }\n",
       "\n",
       "    .dataframe tbody tr th {\n",
       "        vertical-align: top;\n",
       "    }\n",
       "\n",
       "    .dataframe thead th {\n",
       "        text-align: right;\n",
       "    }\n",
       "</style>\n",
       "<table border=\"1\" class=\"dataframe\">\n",
       "  <thead>\n",
       "    <tr style=\"text-align: right;\">\n",
       "      <th></th>\n",
       "      <th>Id</th>\n",
       "      <th>Tarih</th>\n",
       "      <th>ServisTipi</th>\n",
       "      <th>Hat</th>\n",
       "      <th>Sınıf</th>\n",
       "      <th>Fiyat</th>\n",
       "      <th>Satış</th>\n",
       "      <th>Ay</th>\n",
       "      <th>Saat</th>\n",
       "      <th>Ay_Grupları</th>\n",
       "      <th>Hat_Grupları</th>\n",
       "      <th>Saat_Grupları</th>\n",
       "      <th>Kalkış</th>\n",
       "      <th>Varış</th>\n",
       "    </tr>\n",
       "  </thead>\n",
       "  <tbody>\n",
       "    <tr>\n",
       "      <th>0</th>\n",
       "      <td>1000</td>\n",
       "      <td>2021-02-12</td>\n",
       "      <td>Ana Hat Bölgesel</td>\n",
       "      <td>İstanbul - Bakırköy</td>\n",
       "      <td>C</td>\n",
       "      <td>128.52</td>\n",
       "      <td>97</td>\n",
       "      <td>2</td>\n",
       "      <td>3</td>\n",
       "      <td>a</td>\n",
       "      <td>a</td>\n",
       "      <td>b</td>\n",
       "      <td>İstanbul</td>\n",
       "      <td>Bakırköy</td>\n",
       "    </tr>\n",
       "    <tr>\n",
       "      <th>1</th>\n",
       "      <td>1001</td>\n",
       "      <td>2021-08-22</td>\n",
       "      <td>Ana Hat Bölgesel</td>\n",
       "      <td>Pendik - Bozöyük</td>\n",
       "      <td>C</td>\n",
       "      <td>70.31</td>\n",
       "      <td>286</td>\n",
       "      <td>8</td>\n",
       "      <td>19</td>\n",
       "      <td>c</td>\n",
       "      <td>c</td>\n",
       "      <td>b</td>\n",
       "      <td>Pendik</td>\n",
       "      <td>Bozöyük</td>\n",
       "    </tr>\n",
       "    <tr>\n",
       "      <th>2</th>\n",
       "      <td>1002</td>\n",
       "      <td>2021-01-13</td>\n",
       "      <td>Ana Hat Bölgesel</td>\n",
       "      <td>Pendik - Gebze</td>\n",
       "      <td>C</td>\n",
       "      <td>103.95</td>\n",
       "      <td>121</td>\n",
       "      <td>1</td>\n",
       "      <td>9</td>\n",
       "      <td>a</td>\n",
       "      <td>b</td>\n",
       "      <td>a</td>\n",
       "      <td>Pendik</td>\n",
       "      <td>Gebze</td>\n",
       "    </tr>\n",
       "    <tr>\n",
       "      <th>3</th>\n",
       "      <td>1003</td>\n",
       "      <td>2021-10-24</td>\n",
       "      <td>Ana Hat Bölgesel</td>\n",
       "      <td>Söğütlüçeşme - Eskişehir</td>\n",
       "      <td>C</td>\n",
       "      <td>147.61</td>\n",
       "      <td>89</td>\n",
       "      <td>10</td>\n",
       "      <td>5</td>\n",
       "      <td>d</td>\n",
       "      <td>a</td>\n",
       "      <td>b</td>\n",
       "      <td>Söğütlüçeşme</td>\n",
       "      <td>Eskişehir</td>\n",
       "    </tr>\n",
       "    <tr>\n",
       "      <th>4</th>\n",
       "      <td>1004</td>\n",
       "      <td>2021-07-11</td>\n",
       "      <td>YHT</td>\n",
       "      <td>Ankara - İstanbul</td>\n",
       "      <td>C</td>\n",
       "      <td>265.91</td>\n",
       "      <td>35</td>\n",
       "      <td>7</td>\n",
       "      <td>7</td>\n",
       "      <td>c</td>\n",
       "      <td>a</td>\n",
       "      <td>b</td>\n",
       "      <td>Ankara</td>\n",
       "      <td>İstanbul</td>\n",
       "    </tr>\n",
       "  </tbody>\n",
       "</table>\n",
       "</div>"
      ],
      "text/plain": [
       "     Id       Tarih        ServisTipi                       Hat Sınıf   Fiyat  \\\n",
       "0  1000  2021-02-12  Ana Hat Bölgesel       İstanbul - Bakırköy     C  128.52   \n",
       "1  1001  2021-08-22  Ana Hat Bölgesel          Pendik - Bozöyük     C   70.31   \n",
       "2  1002  2021-01-13  Ana Hat Bölgesel            Pendik - Gebze     C  103.95   \n",
       "3  1003  2021-10-24  Ana Hat Bölgesel  Söğütlüçeşme - Eskişehir     C  147.61   \n",
       "4  1004  2021-07-11               YHT         Ankara - İstanbul     C  265.91   \n",
       "\n",
       "   Satış  Ay  Saat Ay_Grupları Hat_Grupları Saat_Grupları        Kalkış  \\\n",
       "0     97   2     3           a            a             b      İstanbul   \n",
       "1    286   8    19           c            c             b        Pendik   \n",
       "2    121   1     9           a            b             a        Pendik   \n",
       "3     89  10     5           d            a             b  Söğütlüçeşme   \n",
       "4     35   7     7           c            a             b        Ankara   \n",
       "\n",
       "       Varış  \n",
       "0   Bakırköy  \n",
       "1    Bozöyük  \n",
       "2      Gebze  \n",
       "3  Eskişehir  \n",
       "4   İstanbul  "
      ]
     },
     "execution_count": 34,
     "metadata": {},
     "output_type": "execute_result"
    }
   ],
   "source": [
    "df.head()"
   ]
  },
  {
   "cell_type": "code",
   "execution_count": 35,
   "id": "1c5982b5-3982-4c9e-ae4d-349e99189766",
   "metadata": {},
   "outputs": [],
   "source": [
    "df.drop(columns=['Id','Kalkış','Varış','Tarih'], axis=1, inplace=True)"
   ]
  },
  {
   "cell_type": "code",
   "execution_count": 37,
   "id": "e20ab185-2c44-470f-8520-b8c6c7ce4100",
   "metadata": {},
   "outputs": [
    {
     "data": {
      "text/html": [
       "<div>\n",
       "<style scoped>\n",
       "    .dataframe tbody tr th:only-of-type {\n",
       "        vertical-align: middle;\n",
       "    }\n",
       "\n",
       "    .dataframe tbody tr th {\n",
       "        vertical-align: top;\n",
       "    }\n",
       "\n",
       "    .dataframe thead th {\n",
       "        text-align: right;\n",
       "    }\n",
       "</style>\n",
       "<table border=\"1\" class=\"dataframe\">\n",
       "  <thead>\n",
       "    <tr style=\"text-align: right;\">\n",
       "      <th></th>\n",
       "      <th>ServisTipi</th>\n",
       "      <th>Hat</th>\n",
       "      <th>Sınıf</th>\n",
       "      <th>Fiyat</th>\n",
       "      <th>Satış</th>\n",
       "      <th>Ay</th>\n",
       "      <th>Saat</th>\n",
       "      <th>Ay_Grupları</th>\n",
       "      <th>Hat_Grupları</th>\n",
       "      <th>Saat_Grupları</th>\n",
       "    </tr>\n",
       "  </thead>\n",
       "  <tbody>\n",
       "    <tr>\n",
       "      <th>0</th>\n",
       "      <td>Ana Hat Bölgesel</td>\n",
       "      <td>İstanbul - Bakırköy</td>\n",
       "      <td>C</td>\n",
       "      <td>128.52</td>\n",
       "      <td>97</td>\n",
       "      <td>2</td>\n",
       "      <td>3</td>\n",
       "      <td>a</td>\n",
       "      <td>a</td>\n",
       "      <td>b</td>\n",
       "    </tr>\n",
       "    <tr>\n",
       "      <th>1</th>\n",
       "      <td>Ana Hat Bölgesel</td>\n",
       "      <td>Pendik - Bozöyük</td>\n",
       "      <td>C</td>\n",
       "      <td>70.31</td>\n",
       "      <td>286</td>\n",
       "      <td>8</td>\n",
       "      <td>19</td>\n",
       "      <td>c</td>\n",
       "      <td>c</td>\n",
       "      <td>b</td>\n",
       "    </tr>\n",
       "    <tr>\n",
       "      <th>2</th>\n",
       "      <td>Ana Hat Bölgesel</td>\n",
       "      <td>Pendik - Gebze</td>\n",
       "      <td>C</td>\n",
       "      <td>103.95</td>\n",
       "      <td>121</td>\n",
       "      <td>1</td>\n",
       "      <td>9</td>\n",
       "      <td>a</td>\n",
       "      <td>b</td>\n",
       "      <td>a</td>\n",
       "    </tr>\n",
       "    <tr>\n",
       "      <th>3</th>\n",
       "      <td>Ana Hat Bölgesel</td>\n",
       "      <td>Söğütlüçeşme - Eskişehir</td>\n",
       "      <td>C</td>\n",
       "      <td>147.61</td>\n",
       "      <td>89</td>\n",
       "      <td>10</td>\n",
       "      <td>5</td>\n",
       "      <td>d</td>\n",
       "      <td>a</td>\n",
       "      <td>b</td>\n",
       "    </tr>\n",
       "    <tr>\n",
       "      <th>4</th>\n",
       "      <td>YHT</td>\n",
       "      <td>Ankara - İstanbul</td>\n",
       "      <td>C</td>\n",
       "      <td>265.91</td>\n",
       "      <td>35</td>\n",
       "      <td>7</td>\n",
       "      <td>7</td>\n",
       "      <td>c</td>\n",
       "      <td>a</td>\n",
       "      <td>b</td>\n",
       "    </tr>\n",
       "  </tbody>\n",
       "</table>\n",
       "</div>"
      ],
      "text/plain": [
       "         ServisTipi                       Hat Sınıf   Fiyat  Satış  Ay  Saat  \\\n",
       "0  Ana Hat Bölgesel       İstanbul - Bakırköy     C  128.52     97   2     3   \n",
       "1  Ana Hat Bölgesel          Pendik - Bozöyük     C   70.31    286   8    19   \n",
       "2  Ana Hat Bölgesel            Pendik - Gebze     C  103.95    121   1     9   \n",
       "3  Ana Hat Bölgesel  Söğütlüçeşme - Eskişehir     C  147.61     89  10     5   \n",
       "4               YHT         Ankara - İstanbul     C  265.91     35   7     7   \n",
       "\n",
       "  Ay_Grupları Hat_Grupları Saat_Grupları  \n",
       "0           a            a             b  \n",
       "1           c            c             b  \n",
       "2           a            b             a  \n",
       "3           d            a             b  \n",
       "4           c            a             b  "
      ]
     },
     "execution_count": 37,
     "metadata": {},
     "output_type": "execute_result"
    }
   ],
   "source": [
    "df.head()"
   ]
  },
  {
   "cell_type": "code",
   "execution_count": 38,
   "id": "a9676b68-d52e-4116-b24f-bec21590797b",
   "metadata": {},
   "outputs": [],
   "source": [
    "df1 = df.drop(['Ay_Grupları','Hat_Grupları','Saat_Grupları'], axis=1)"
   ]
  },
  {
   "cell_type": "code",
   "execution_count": 39,
   "id": "dc65dc9c-9db9-4f60-b469-ba8ac8986c15",
   "metadata": {},
   "outputs": [],
   "source": [
    "df2 = df.drop(['Hat','Ay','Saat'], axis=1)"
   ]
  },
  {
   "cell_type": "code",
   "execution_count": 40,
   "id": "7faaa18c-e864-470c-8c1b-0279438a43df",
   "metadata": {},
   "outputs": [],
   "source": [
    "df3 = df.drop(['Hat','Ay','Ay_Grupları','Saat'], axis=1)"
   ]
  },
  {
   "cell_type": "code",
   "execution_count": 41,
   "id": "aae0e24c-d3fa-44b1-ab84-1c8d430acb49",
   "metadata": {},
   "outputs": [],
   "source": [
    "df4 = df.drop(['Hat','Ay_Grupları','Saat'], axis=1)"
   ]
  },
  {
   "cell_type": "code",
   "execution_count": 44,
   "id": "d7ad3cc3-22d9-4edf-af24-cbc6549dcec5",
   "metadata": {},
   "outputs": [],
   "source": [
    "test_dict = {}\n",
    "test_dict['data'] = {'DF1':df1,'DF2':df2,'DF3':df3,'DF4':df4}"
   ]
  },
  {
   "cell_type": "code",
   "execution_count": 45,
   "id": "ffa5aea7-a3a2-4159-861c-2e5e085ca930",
   "metadata": {},
   "outputs": [],
   "source": [
    "with open('data.pickle', 'wb') as f:\n",
    "    pkl.dump(test_dict, f, protocol=pkl.HIGHEST_PROTOCOL)"
   ]
  }
 ],
 "metadata": {
  "kernelspec": {
   "display_name": "ml",
   "language": "python",
   "name": "ml"
  },
  "language_info": {
   "codemirror_mode": {
    "name": "ipython",
    "version": 3
   },
   "file_extension": ".py",
   "mimetype": "text/x-python",
   "name": "python",
   "nbconvert_exporter": "python",
   "pygments_lexer": "ipython3",
   "version": "3.10.4"
  }
 },
 "nbformat": 4,
 "nbformat_minor": 5
}
