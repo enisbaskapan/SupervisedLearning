{
 "cells": [
  {
   "cell_type": "code",
   "execution_count": 10,
   "id": "ff1ae2c0-ebf5-4327-a63f-c978d37601db",
   "metadata": {},
   "outputs": [],
   "source": [
    "import pandas as pd\n",
    "import seaborn as sns\n",
    "import matplotlib.pyplot as plt\n",
    "import numpy as np"
   ]
  },
  {
   "cell_type": "code",
   "execution_count": 15,
   "id": "e3b37d90-246c-42a3-bc18-2e8eac4d5dd5",
   "metadata": {},
   "outputs": [],
   "source": [
    "from sdv.tabular import GaussianCopula\n",
    "from sdv.tabular import CTGAN\n",
    "from sdv.tabular import CopulaGAN\n",
    "from sdv.tabular import TVAE\n"
   ]
  },
  {
   "cell_type": "code",
   "execution_count": 61,
   "id": "93bfd3b6-4214-4e25-8956-81f9ef568fd8",
   "metadata": {},
   "outputs": [],
   "source": [
    "from sdv.evaluation import evaluate\n"
   ]
  },
  {
   "cell_type": "code",
   "execution_count": 2,
   "id": "617b4014-c490-43b0-9226-e160aba90769",
   "metadata": {},
   "outputs": [],
   "source": [
    "from warnings import filterwarnings\n",
    "filterwarnings('ignore')"
   ]
  },
  {
   "cell_type": "code",
   "execution_count": 138,
   "id": "59eb76b5-d8f9-4284-8c91-2841900177fe",
   "metadata": {},
   "outputs": [],
   "source": [
    "from utils.train import Train, Build\n",
    "from utils.process import Assemble"
   ]
  },
  {
   "cell_type": "code",
   "execution_count": 19,
   "id": "321f0385-24f7-4c56-a275-c80900ffb379",
   "metadata": {},
   "outputs": [
    {
     "data": {
      "text/html": [
       "<div>\n",
       "<style scoped>\n",
       "    .dataframe tbody tr th:only-of-type {\n",
       "        vertical-align: middle;\n",
       "    }\n",
       "\n",
       "    .dataframe tbody tr th {\n",
       "        vertical-align: top;\n",
       "    }\n",
       "\n",
       "    .dataframe thead th {\n",
       "        text-align: right;\n",
       "    }\n",
       "</style>\n",
       "<table border=\"1\" class=\"dataframe\">\n",
       "  <thead>\n",
       "    <tr style=\"text-align: right;\">\n",
       "      <th></th>\n",
       "      <th>Id</th>\n",
       "      <th>Tarih</th>\n",
       "      <th>ServisTipi</th>\n",
       "      <th>Hat</th>\n",
       "      <th>Sınıf</th>\n",
       "      <th>Fiyat</th>\n",
       "      <th>Satış</th>\n",
       "      <th>THY</th>\n",
       "    </tr>\n",
       "  </thead>\n",
       "  <tbody>\n",
       "    <tr>\n",
       "      <th>0</th>\n",
       "      <td>1000</td>\n",
       "      <td>2021-02-12 03:00:00</td>\n",
       "      <td>Ana Hat Bölgesel</td>\n",
       "      <td>İstanbul - Bakırköy</td>\n",
       "      <td>C</td>\n",
       "      <td>128.52</td>\n",
       "      <td>97</td>\n",
       "      <td>1310.40</td>\n",
       "    </tr>\n",
       "    <tr>\n",
       "      <th>1</th>\n",
       "      <td>1001</td>\n",
       "      <td>2021-08-22 19:00:00</td>\n",
       "      <td>Ana Hat Bölgesel</td>\n",
       "      <td>Pendik - Bozöyük</td>\n",
       "      <td>C</td>\n",
       "      <td>70.31</td>\n",
       "      <td>286</td>\n",
       "      <td>3979.80</td>\n",
       "    </tr>\n",
       "    <tr>\n",
       "      <th>14</th>\n",
       "      <td>1002</td>\n",
       "      <td>2021-01-13 09:00:00</td>\n",
       "      <td>Ana Hat Bölgesel</td>\n",
       "      <td>Pendik - Gebze</td>\n",
       "      <td>C</td>\n",
       "      <td>103.95</td>\n",
       "      <td>121</td>\n",
       "      <td>2341.35</td>\n",
       "    </tr>\n",
       "    <tr>\n",
       "      <th>3</th>\n",
       "      <td>1003</td>\n",
       "      <td>2021-10-24 05:00:00</td>\n",
       "      <td>Ana Hat Bölgesel</td>\n",
       "      <td>Söğütlüçeşme - Eskişehir</td>\n",
       "      <td>C</td>\n",
       "      <td>147.61</td>\n",
       "      <td>89</td>\n",
       "      <td>1190.40</td>\n",
       "    </tr>\n",
       "    <tr>\n",
       "      <th>22</th>\n",
       "      <td>1004</td>\n",
       "      <td>2021-07-11 07:00:00</td>\n",
       "      <td>YHT</td>\n",
       "      <td>Ankara - İstanbul</td>\n",
       "      <td>C</td>\n",
       "      <td>265.91</td>\n",
       "      <td>35</td>\n",
       "      <td>673.92</td>\n",
       "    </tr>\n",
       "  </tbody>\n",
       "</table>\n",
       "</div>"
      ],
      "text/plain": [
       "      Id               Tarih        ServisTipi                       Hat  \\\n",
       "0   1000 2021-02-12 03:00:00  Ana Hat Bölgesel       İstanbul - Bakırköy   \n",
       "1   1001 2021-08-22 19:00:00  Ana Hat Bölgesel          Pendik - Bozöyük   \n",
       "14  1002 2021-01-13 09:00:00  Ana Hat Bölgesel            Pendik - Gebze   \n",
       "3   1003 2021-10-24 05:00:00  Ana Hat Bölgesel  Söğütlüçeşme - Eskişehir   \n",
       "22  1004 2021-07-11 07:00:00               YHT         Ankara - İstanbul   \n",
       "\n",
       "   Sınıf   Fiyat  Satış      THY  \n",
       "0      C  128.52     97  1310.40  \n",
       "1      C   70.31    286  3979.80  \n",
       "14     C  103.95    121  2341.35  \n",
       "3      C  147.61     89  1190.40  \n",
       "22     C  265.91     35   673.92  "
      ]
     },
     "execution_count": 19,
     "metadata": {},
     "output_type": "execute_result"
    }
   ],
   "source": [
    "df = pd.read_parquet('./data/df.parquet')\n",
    "df.head()"
   ]
  },
  {
   "cell_type": "code",
   "execution_count": 62,
   "id": "0dbd62d8-ace2-4784-9a10-bf587408984e",
   "metadata": {},
   "outputs": [
    {
     "data": {
      "text/plain": [
       "12000"
      ]
     },
     "execution_count": 62,
     "metadata": {},
     "output_type": "execute_result"
    }
   ],
   "source": [
    "len(df)"
   ]
  },
  {
   "cell_type": "markdown",
   "id": "e0ba4b00-88c8-4a93-a464-56d1d193f822",
   "metadata": {},
   "source": [
    "# GaussianCopula"
   ]
  },
  {
   "cell_type": "code",
   "execution_count": null,
   "id": "2094fa3b-7244-4232-a16d-a3ab49548615",
   "metadata": {},
   "outputs": [],
   "source": [
    "gaussian_copula = GaussianCopula(primary_key = 'Id', field_distributions = {'Satış': 'gaussian'})\n",
    "gaussian_copula.fit(df)"
   ]
  },
  {
   "cell_type": "code",
   "execution_count": null,
   "id": "1f97fd49-0185-49d0-9ca9-644641cc89fd",
   "metadata": {},
   "outputs": [],
   "source": [
    "sample = gaussian_copula.sample(5000)\n",
    "sample.head()"
   ]
  },
  {
   "cell_type": "markdown",
   "id": "5f2c965e-9fbd-4c16-b9f8-a3543442d3ce",
   "metadata": {},
   "source": [
    "# CTGAN"
   ]
  },
  {
   "cell_type": "code",
   "execution_count": 94,
   "id": "6a14cb34-a162-4d5e-9aa1-d7ca856840b3",
   "metadata": {},
   "outputs": [],
   "source": [
    "ctgan = CTGAN(primary_key='Id', epochs=30, batch_size=250)\n",
    "ctgan.fit(df)"
   ]
  },
  {
   "cell_type": "code",
   "execution_count": 95,
   "id": "509c3d99-1b23-44bf-b396-eccf8ec4c9be",
   "metadata": {},
   "outputs": [
    {
     "data": {
      "text/html": [
       "<div>\n",
       "<style scoped>\n",
       "    .dataframe tbody tr th:only-of-type {\n",
       "        vertical-align: middle;\n",
       "    }\n",
       "\n",
       "    .dataframe tbody tr th {\n",
       "        vertical-align: top;\n",
       "    }\n",
       "\n",
       "    .dataframe thead th {\n",
       "        text-align: right;\n",
       "    }\n",
       "</style>\n",
       "<table border=\"1\" class=\"dataframe\">\n",
       "  <thead>\n",
       "    <tr style=\"text-align: right;\">\n",
       "      <th></th>\n",
       "      <th>Id</th>\n",
       "      <th>Tarih</th>\n",
       "      <th>ServisTipi</th>\n",
       "      <th>Hat</th>\n",
       "      <th>Sınıf</th>\n",
       "      <th>Fiyat</th>\n",
       "      <th>Satış</th>\n",
       "      <th>THY</th>\n",
       "    </tr>\n",
       "  </thead>\n",
       "  <tbody>\n",
       "    <tr>\n",
       "      <th>0</th>\n",
       "      <td>0</td>\n",
       "      <td>2021-04-25 07:00:00</td>\n",
       "      <td>Ana Hat Bölgesel</td>\n",
       "      <td>Pendik - Bozöyük</td>\n",
       "      <td>Y</td>\n",
       "      <td>62.43</td>\n",
       "      <td>90</td>\n",
       "      <td>459.427691</td>\n",
       "    </tr>\n",
       "    <tr>\n",
       "      <th>1</th>\n",
       "      <td>1</td>\n",
       "      <td>2021-05-12 22:00:00</td>\n",
       "      <td>Ana Hat Bölgesel</td>\n",
       "      <td>Bostancı - Pendik</td>\n",
       "      <td>D</td>\n",
       "      <td>114.20</td>\n",
       "      <td>84</td>\n",
       "      <td>3248.124556</td>\n",
       "    </tr>\n",
       "    <tr>\n",
       "      <th>2</th>\n",
       "      <td>2</td>\n",
       "      <td>2021-01-25 21:00:00</td>\n",
       "      <td>YHT</td>\n",
       "      <td>Bostancı - İstanbul</td>\n",
       "      <td>C</td>\n",
       "      <td>152.60</td>\n",
       "      <td>89</td>\n",
       "      <td>238.218087</td>\n",
       "    </tr>\n",
       "    <tr>\n",
       "      <th>3</th>\n",
       "      <td>3</td>\n",
       "      <td>2021-06-01 22:00:00</td>\n",
       "      <td>Ana Hat Bölgesel</td>\n",
       "      <td>Polatlı - Eryaman</td>\n",
       "      <td>Y</td>\n",
       "      <td>93.80</td>\n",
       "      <td>560</td>\n",
       "      <td>4661.912466</td>\n",
       "    </tr>\n",
       "    <tr>\n",
       "      <th>4</th>\n",
       "      <td>4</td>\n",
       "      <td>2021-07-15 21:00:00</td>\n",
       "      <td>Ana Hat Bölgesel</td>\n",
       "      <td>Eryaman - Bilecik</td>\n",
       "      <td>D</td>\n",
       "      <td>203.72</td>\n",
       "      <td>330</td>\n",
       "      <td>3931.942702</td>\n",
       "    </tr>\n",
       "  </tbody>\n",
       "</table>\n",
       "</div>"
      ],
      "text/plain": [
       "   Id               Tarih        ServisTipi                  Hat Sınıf  \\\n",
       "0   0 2021-04-25 07:00:00  Ana Hat Bölgesel     Pendik - Bozöyük     Y   \n",
       "1   1 2021-05-12 22:00:00  Ana Hat Bölgesel    Bostancı - Pendik     D   \n",
       "2   2 2021-01-25 21:00:00               YHT  Bostancı - İstanbul     C   \n",
       "3   3 2021-06-01 22:00:00  Ana Hat Bölgesel    Polatlı - Eryaman     Y   \n",
       "4   4 2021-07-15 21:00:00  Ana Hat Bölgesel    Eryaman - Bilecik     D   \n",
       "\n",
       "    Fiyat  Satış          THY  \n",
       "0   62.43     90   459.427691  \n",
       "1  114.20     84  3248.124556  \n",
       "2  152.60     89   238.218087  \n",
       "3   93.80    560  4661.912466  \n",
       "4  203.72    330  3931.942702  "
      ]
     },
     "execution_count": 95,
     "metadata": {},
     "output_type": "execute_result"
    }
   ],
   "source": [
    "sample = ctgan.sample(5000)\n",
    "sample.head()"
   ]
  },
  {
   "cell_type": "markdown",
   "id": "10ff1977-612d-4a34-9f70-a0947534ad2f",
   "metadata": {},
   "source": [
    "# CopulaGAN"
   ]
  },
  {
   "cell_type": "code",
   "execution_count": 100,
   "id": "b8a21378-2dfe-47aa-878b-1395993ec8a9",
   "metadata": {},
   "outputs": [],
   "source": [
    "copula_gan = CopulaGAN(primary_key='Id', epochs=30, batch_size=250, field_distributions = {'Satış': 'gaussian'})\n",
    "copula_gan.fit(df)"
   ]
  },
  {
   "cell_type": "code",
   "execution_count": 101,
   "id": "8791793c-2bc7-478f-ba12-2f4accd00e38",
   "metadata": {},
   "outputs": [
    {
     "data": {
      "text/html": [
       "<div>\n",
       "<style scoped>\n",
       "    .dataframe tbody tr th:only-of-type {\n",
       "        vertical-align: middle;\n",
       "    }\n",
       "\n",
       "    .dataframe tbody tr th {\n",
       "        vertical-align: top;\n",
       "    }\n",
       "\n",
       "    .dataframe thead th {\n",
       "        text-align: right;\n",
       "    }\n",
       "</style>\n",
       "<table border=\"1\" class=\"dataframe\">\n",
       "  <thead>\n",
       "    <tr style=\"text-align: right;\">\n",
       "      <th></th>\n",
       "      <th>Id</th>\n",
       "      <th>Tarih</th>\n",
       "      <th>ServisTipi</th>\n",
       "      <th>Hat</th>\n",
       "      <th>Sınıf</th>\n",
       "      <th>Fiyat</th>\n",
       "      <th>Satış</th>\n",
       "      <th>THY</th>\n",
       "    </tr>\n",
       "  </thead>\n",
       "  <tbody>\n",
       "    <tr>\n",
       "      <th>0</th>\n",
       "      <td>0</td>\n",
       "      <td>2021-08-26 05:00:00</td>\n",
       "      <td>YHT</td>\n",
       "      <td>Ankara - Söğütlüçeşme</td>\n",
       "      <td>X</td>\n",
       "      <td>113.84</td>\n",
       "      <td>319</td>\n",
       "      <td>3370.988820</td>\n",
       "    </tr>\n",
       "    <tr>\n",
       "      <th>1</th>\n",
       "      <td>1</td>\n",
       "      <td>2021-07-23 19:00:00</td>\n",
       "      <td>YHT</td>\n",
       "      <td>İstanbul - Bozöyük</td>\n",
       "      <td>C</td>\n",
       "      <td>171.89</td>\n",
       "      <td>550</td>\n",
       "      <td>1322.941736</td>\n",
       "    </tr>\n",
       "    <tr>\n",
       "      <th>2</th>\n",
       "      <td>2</td>\n",
       "      <td>2021-07-04 17:00:00</td>\n",
       "      <td>YHT</td>\n",
       "      <td>Bozöyük - Söğütlüçeşme</td>\n",
       "      <td>D</td>\n",
       "      <td>89.92</td>\n",
       "      <td>118</td>\n",
       "      <td>5871.513761</td>\n",
       "    </tr>\n",
       "    <tr>\n",
       "      <th>3</th>\n",
       "      <td>3</td>\n",
       "      <td>2021-04-09 19:00:00</td>\n",
       "      <td>YHT</td>\n",
       "      <td>Polatlı - İstanbul</td>\n",
       "      <td>X</td>\n",
       "      <td>121.37</td>\n",
       "      <td>329</td>\n",
       "      <td>4642.596837</td>\n",
       "    </tr>\n",
       "    <tr>\n",
       "      <th>4</th>\n",
       "      <td>4</td>\n",
       "      <td>2021-01-28 00:00:00</td>\n",
       "      <td>Ana Hat Bölgesel</td>\n",
       "      <td>Bakırköy - Eskişehir</td>\n",
       "      <td>X</td>\n",
       "      <td>129.18</td>\n",
       "      <td>122</td>\n",
       "      <td>13920.392262</td>\n",
       "    </tr>\n",
       "  </tbody>\n",
       "</table>\n",
       "</div>"
      ],
      "text/plain": [
       "   Id               Tarih        ServisTipi                     Hat Sınıf  \\\n",
       "0   0 2021-08-26 05:00:00               YHT   Ankara - Söğütlüçeşme     X   \n",
       "1   1 2021-07-23 19:00:00               YHT      İstanbul - Bozöyük     C   \n",
       "2   2 2021-07-04 17:00:00               YHT  Bozöyük - Söğütlüçeşme     D   \n",
       "3   3 2021-04-09 19:00:00               YHT      Polatlı - İstanbul     X   \n",
       "4   4 2021-01-28 00:00:00  Ana Hat Bölgesel    Bakırköy - Eskişehir     X   \n",
       "\n",
       "    Fiyat  Satış           THY  \n",
       "0  113.84    319   3370.988820  \n",
       "1  171.89    550   1322.941736  \n",
       "2   89.92    118   5871.513761  \n",
       "3  121.37    329   4642.596837  \n",
       "4  129.18    122  13920.392262  "
      ]
     },
     "execution_count": 101,
     "metadata": {},
     "output_type": "execute_result"
    }
   ],
   "source": [
    "sample = copula_gan.sample(5000)\n",
    "sample.head()"
   ]
  },
  {
   "cell_type": "markdown",
   "id": "6b3dc592-f17b-4aec-9c5d-e22c23cb79ef",
   "metadata": {},
   "source": [
    "# TVAE"
   ]
  },
  {
   "cell_type": "code",
   "execution_count": 133,
   "id": "fb50a134-4732-4121-8106-dc1a662a0e68",
   "metadata": {},
   "outputs": [],
   "source": [
    "tvae = TVAE(primary_key='Id', epochs=70, batch_size=250, l2scale =  0.0001, cuda = True)\n",
    "tvae.fit(df)"
   ]
  },
  {
   "cell_type": "code",
   "execution_count": 131,
   "id": "e28705e9-164c-46c9-8947-6b23d1fdedab",
   "metadata": {},
   "outputs": [
    {
     "data": {
      "text/html": [
       "<div>\n",
       "<style scoped>\n",
       "    .dataframe tbody tr th:only-of-type {\n",
       "        vertical-align: middle;\n",
       "    }\n",
       "\n",
       "    .dataframe tbody tr th {\n",
       "        vertical-align: top;\n",
       "    }\n",
       "\n",
       "    .dataframe thead th {\n",
       "        text-align: right;\n",
       "    }\n",
       "</style>\n",
       "<table border=\"1\" class=\"dataframe\">\n",
       "  <thead>\n",
       "    <tr style=\"text-align: right;\">\n",
       "      <th></th>\n",
       "      <th>Id</th>\n",
       "      <th>Tarih</th>\n",
       "      <th>ServisTipi</th>\n",
       "      <th>Hat</th>\n",
       "      <th>Sınıf</th>\n",
       "      <th>Fiyat</th>\n",
       "      <th>Satış</th>\n",
       "      <th>THY</th>\n",
       "    </tr>\n",
       "  </thead>\n",
       "  <tbody>\n",
       "    <tr>\n",
       "      <th>0</th>\n",
       "      <td>0</td>\n",
       "      <td>2021-08-25 05:00:00</td>\n",
       "      <td>Ana Hat Bölgesel</td>\n",
       "      <td>İzmit - Bostancı</td>\n",
       "      <td>Y</td>\n",
       "      <td>106.28</td>\n",
       "      <td>187</td>\n",
       "      <td>2135.029088</td>\n",
       "    </tr>\n",
       "    <tr>\n",
       "      <th>1</th>\n",
       "      <td>1</td>\n",
       "      <td>2021-05-31 08:00:00</td>\n",
       "      <td>Ana Hat Bölgesel</td>\n",
       "      <td>Bakırköy - Bozöyük</td>\n",
       "      <td>X</td>\n",
       "      <td>87.38</td>\n",
       "      <td>221</td>\n",
       "      <td>4604.351144</td>\n",
       "    </tr>\n",
       "    <tr>\n",
       "      <th>2</th>\n",
       "      <td>2</td>\n",
       "      <td>2021-12-07 00:00:00</td>\n",
       "      <td>Ana Hat Bölgesel</td>\n",
       "      <td>Söğütlüçeşme - Gebze</td>\n",
       "      <td>D</td>\n",
       "      <td>115.15</td>\n",
       "      <td>118</td>\n",
       "      <td>2007.234935</td>\n",
       "    </tr>\n",
       "    <tr>\n",
       "      <th>3</th>\n",
       "      <td>3</td>\n",
       "      <td>2021-01-14 19:00:00</td>\n",
       "      <td>Ana Hat Bölgesel</td>\n",
       "      <td>Polatlı - Eskişehir</td>\n",
       "      <td>Y</td>\n",
       "      <td>73.19</td>\n",
       "      <td>220</td>\n",
       "      <td>3694.010055</td>\n",
       "    </tr>\n",
       "    <tr>\n",
       "      <th>4</th>\n",
       "      <td>4</td>\n",
       "      <td>2021-09-14 05:00:00</td>\n",
       "      <td>Ana Hat Bölgesel</td>\n",
       "      <td>Bilecik - İzmit</td>\n",
       "      <td>X</td>\n",
       "      <td>58.28</td>\n",
       "      <td>359</td>\n",
       "      <td>5704.179836</td>\n",
       "    </tr>\n",
       "  </tbody>\n",
       "</table>\n",
       "</div>"
      ],
      "text/plain": [
       "   Id               Tarih        ServisTipi                   Hat Sınıf  \\\n",
       "0   0 2021-08-25 05:00:00  Ana Hat Bölgesel      İzmit - Bostancı     Y   \n",
       "1   1 2021-05-31 08:00:00  Ana Hat Bölgesel    Bakırköy - Bozöyük     X   \n",
       "2   2 2021-12-07 00:00:00  Ana Hat Bölgesel  Söğütlüçeşme - Gebze     D   \n",
       "3   3 2021-01-14 19:00:00  Ana Hat Bölgesel   Polatlı - Eskişehir     Y   \n",
       "4   4 2021-09-14 05:00:00  Ana Hat Bölgesel       Bilecik - İzmit     X   \n",
       "\n",
       "    Fiyat  Satış          THY  \n",
       "0  106.28    187  2135.029088  \n",
       "1   87.38    221  4604.351144  \n",
       "2  115.15    118  2007.234935  \n",
       "3   73.19    220  3694.010055  \n",
       "4   58.28    359  5704.179836  "
      ]
     },
     "execution_count": 131,
     "metadata": {},
     "output_type": "execute_result"
    }
   ],
   "source": [
    "sample = tvae.sample(5000)\n",
    "sample.head()"
   ]
  },
  {
   "cell_type": "code",
   "execution_count": 46,
   "id": "e6f2f0c4-b528-4853-881c-055426b8ce4a",
   "metadata": {},
   "outputs": [],
   "source": [
    "def train_sdv_model(df, algorithm, parameters = {}):\n",
    "    \"\"\"\n",
    "    Build a Synthetic Data Vault model to generate tabular data\n",
    "\n",
    "    Parameters\n",
    "    ----------\n",
    "    df : pandas dataframe, default = None\n",
    "        Dataframe should not include a Primary Key or Anonymizing Personally Identifiable Information (PII)\n",
    "\n",
    "    algorithm : {\"CC\", \"CTGAN\", \"CGAN\", \"TVAE\"}\n",
    "        algorithm abbreviation\n",
    "\n",
    "        CC: GaussianCopula\n",
    "        CTGAN: CTGAN\n",
    "        CGAN: CopulaGAN\n",
    "        TVAE: TVAE\n",
    "\n",
    "    parameters: dictionary\n",
    "        Various parameters that could be defined in different choice of algorithms\n",
    "    \"\"\"\n",
    "\n",
    "    if algorithm == 'CC': model = GaussianCopula(field_distributions = parameters['field_distributions'])\n",
    "\n",
    "    if algorithm == 'CTGAN': model = CTGAN(epochs = parameters['epochs'], batch_size = parameters['batch_size'])\n",
    "\n",
    "    if algorithm == 'CGAN': model = CopulaGAN(epochs = parameters['epochs'], batch_size = parameters['batch_size'], field_distributions = parameters['field_distributions'])\n",
    "\n",
    "    if algorithm == 'TVAE': model = TVAE(epochs = parameters['epochs'], batch_size = parameters['batch_size'],  l2scale = parameters['l2scale'])\n",
    "\n",
    "    model.fit(df)\n",
    "\n",
    "    return model\n",
    "\n",
    "\n"
   ]
  },
  {
   "cell_type": "markdown",
   "id": "c0d5b70a-d01b-4807-a481-91707ebe7930",
   "metadata": {},
   "source": [
    "# Generate Sample"
   ]
  },
  {
   "cell_type": "code",
   "execution_count": 20,
   "id": "dfd8c519-6f97-41db-aeb4-6ec7032aa6a3",
   "metadata": {},
   "outputs": [
    {
     "data": {
      "text/html": [
       "<div>\n",
       "<style scoped>\n",
       "    .dataframe tbody tr th:only-of-type {\n",
       "        vertical-align: middle;\n",
       "    }\n",
       "\n",
       "    .dataframe tbody tr th {\n",
       "        vertical-align: top;\n",
       "    }\n",
       "\n",
       "    .dataframe thead th {\n",
       "        text-align: right;\n",
       "    }\n",
       "</style>\n",
       "<table border=\"1\" class=\"dataframe\">\n",
       "  <thead>\n",
       "    <tr style=\"text-align: right;\">\n",
       "      <th></th>\n",
       "      <th>Id</th>\n",
       "      <th>Tarih</th>\n",
       "      <th>ServisTipi</th>\n",
       "      <th>Hat</th>\n",
       "      <th>Sınıf</th>\n",
       "      <th>Fiyat</th>\n",
       "      <th>Satış</th>\n",
       "      <th>THY</th>\n",
       "      <th>Saat</th>\n",
       "    </tr>\n",
       "  </thead>\n",
       "  <tbody>\n",
       "    <tr>\n",
       "      <th>0</th>\n",
       "      <td>1000</td>\n",
       "      <td>2021-02-12 03:00:00</td>\n",
       "      <td>Ana Hat Bölgesel</td>\n",
       "      <td>A</td>\n",
       "      <td>C</td>\n",
       "      <td>128.52</td>\n",
       "      <td>97</td>\n",
       "      <td>1310.40</td>\n",
       "      <td>A</td>\n",
       "    </tr>\n",
       "    <tr>\n",
       "      <th>1</th>\n",
       "      <td>1001</td>\n",
       "      <td>2021-08-22 19:00:00</td>\n",
       "      <td>Ana Hat Bölgesel</td>\n",
       "      <td>G</td>\n",
       "      <td>C</td>\n",
       "      <td>70.31</td>\n",
       "      <td>286</td>\n",
       "      <td>3979.80</td>\n",
       "      <td>E</td>\n",
       "    </tr>\n",
       "    <tr>\n",
       "      <th>14</th>\n",
       "      <td>1002</td>\n",
       "      <td>2021-01-13 09:00:00</td>\n",
       "      <td>Ana Hat Bölgesel</td>\n",
       "      <td>E</td>\n",
       "      <td>C</td>\n",
       "      <td>103.95</td>\n",
       "      <td>121</td>\n",
       "      <td>2341.35</td>\n",
       "      <td>C</td>\n",
       "    </tr>\n",
       "    <tr>\n",
       "      <th>3</th>\n",
       "      <td>1003</td>\n",
       "      <td>2021-10-24 05:00:00</td>\n",
       "      <td>Ana Hat Bölgesel</td>\n",
       "      <td>B</td>\n",
       "      <td>C</td>\n",
       "      <td>147.61</td>\n",
       "      <td>89</td>\n",
       "      <td>1190.40</td>\n",
       "      <td>A</td>\n",
       "    </tr>\n",
       "    <tr>\n",
       "      <th>22</th>\n",
       "      <td>1004</td>\n",
       "      <td>2021-07-11 07:00:00</td>\n",
       "      <td>YHT</td>\n",
       "      <td>A</td>\n",
       "      <td>C</td>\n",
       "      <td>265.91</td>\n",
       "      <td>35</td>\n",
       "      <td>673.92</td>\n",
       "      <td>B</td>\n",
       "    </tr>\n",
       "  </tbody>\n",
       "</table>\n",
       "</div>"
      ],
      "text/plain": [
       "      Id               Tarih        ServisTipi Hat Sınıf   Fiyat  Satış  \\\n",
       "0   1000 2021-02-12 03:00:00  Ana Hat Bölgesel   A     C  128.52     97   \n",
       "1   1001 2021-08-22 19:00:00  Ana Hat Bölgesel   G     C   70.31    286   \n",
       "14  1002 2021-01-13 09:00:00  Ana Hat Bölgesel   E     C  103.95    121   \n",
       "3   1003 2021-10-24 05:00:00  Ana Hat Bölgesel   B     C  147.61     89   \n",
       "22  1004 2021-07-11 07:00:00               YHT   A     C  265.91     35   \n",
       "\n",
       "        THY Saat  \n",
       "0   1310.40    A  \n",
       "1   3979.80    E  \n",
       "14  2341.35    C  \n",
       "3   1190.40    A  \n",
       "22   673.92    B  "
      ]
     },
     "execution_count": 20,
     "metadata": {},
     "output_type": "execute_result"
    }
   ],
   "source": [
    "df = pd.read_parquet('./data/df_final.parquet')\n",
    "df.head()"
   ]
  },
  {
   "cell_type": "code",
   "execution_count": null,
   "id": "ad6a390f-5916-48b1-a884-898af89a046c",
   "metadata": {},
   "outputs": [],
   "source": [
    "cols = ['ServisTipi', 'Hat', 'Sınıf', 'Fiyat', 'Satış', 'THY', 'Saat']"
   ]
  },
  {
   "cell_type": "code",
   "execution_count": 98,
   "id": "ba54748a-cb1f-47e4-9c6b-7fd7f656f746",
   "metadata": {},
   "outputs": [],
   "source": [
    "df_selected = df[cols]"
   ]
  },
  {
   "cell_type": "code",
   "execution_count": 162,
   "id": "c926b75f-0aed-4701-b6dc-ff5db50f9533",
   "metadata": {},
   "outputs": [
    {
     "data": {
      "text/plain": [
       "12000"
      ]
     },
     "execution_count": 162,
     "metadata": {},
     "output_type": "execute_result"
    }
   ],
   "source": [
    "len(df_selected)"
   ]
  },
  {
   "cell_type": "markdown",
   "id": "cbd03d6a-d4a1-4b17-a251-7234e25107b3",
   "metadata": {},
   "source": [
    "# Build With Data Generation"
   ]
  },
  {
   "cell_type": "code",
   "execution_count": 6,
   "id": "4b964a17-9ceb-47ec-96b6-68dc3705e312",
   "metadata": {},
   "outputs": [],
   "source": [
    "outlier_threshold = 400"
   ]
  },
  {
   "cell_type": "code",
   "execution_count": 99,
   "id": "717ae566-d133-43cc-b840-a170280c6130",
   "metadata": {},
   "outputs": [],
   "source": [
    "outliers_df = df_selected[df_selected['Satış'] > outlier_threshold]"
   ]
  },
  {
   "cell_type": "code",
   "execution_count": 100,
   "id": "00cd9a48-4982-4ff9-8b97-2c124b66ea98",
   "metadata": {},
   "outputs": [
    {
     "data": {
      "text/html": [
       "<div>\n",
       "<style scoped>\n",
       "    .dataframe tbody tr th:only-of-type {\n",
       "        vertical-align: middle;\n",
       "    }\n",
       "\n",
       "    .dataframe tbody tr th {\n",
       "        vertical-align: top;\n",
       "    }\n",
       "\n",
       "    .dataframe thead th {\n",
       "        text-align: right;\n",
       "    }\n",
       "</style>\n",
       "<table border=\"1\" class=\"dataframe\">\n",
       "  <thead>\n",
       "    <tr style=\"text-align: right;\">\n",
       "      <th></th>\n",
       "      <th>ServisTipi</th>\n",
       "      <th>Hat</th>\n",
       "      <th>Sınıf</th>\n",
       "      <th>Fiyat</th>\n",
       "      <th>Satış</th>\n",
       "      <th>THY</th>\n",
       "      <th>Saat</th>\n",
       "    </tr>\n",
       "  </thead>\n",
       "  <tbody>\n",
       "    <tr>\n",
       "      <th>688</th>\n",
       "      <td>Ana Hat Bölgesel</td>\n",
       "      <td>J</td>\n",
       "      <td>C</td>\n",
       "      <td>47.66</td>\n",
       "      <td>445</td>\n",
       "      <td>5865.60</td>\n",
       "      <td>A</td>\n",
       "    </tr>\n",
       "    <tr>\n",
       "      <th>5335</th>\n",
       "      <td>Ana Hat Bölgesel</td>\n",
       "      <td>J</td>\n",
       "      <td>C</td>\n",
       "      <td>51.03</td>\n",
       "      <td>421</td>\n",
       "      <td>7800.00</td>\n",
       "      <td>E</td>\n",
       "    </tr>\n",
       "    <tr>\n",
       "      <th>9779</th>\n",
       "      <td>Ana Hat Bölgesel</td>\n",
       "      <td>J</td>\n",
       "      <td>C</td>\n",
       "      <td>44.98</td>\n",
       "      <td>422</td>\n",
       "      <td>4617.60</td>\n",
       "      <td>A</td>\n",
       "    </tr>\n",
       "    <tr>\n",
       "      <th>3444</th>\n",
       "      <td>Ana Hat Bölgesel</td>\n",
       "      <td>J</td>\n",
       "      <td>D</td>\n",
       "      <td>43.57</td>\n",
       "      <td>487</td>\n",
       "      <td>4758.75</td>\n",
       "      <td>A</td>\n",
       "    </tr>\n",
       "    <tr>\n",
       "      <th>4762</th>\n",
       "      <td>Ana Hat Bölgesel</td>\n",
       "      <td>J</td>\n",
       "      <td>D</td>\n",
       "      <td>49.94</td>\n",
       "      <td>415</td>\n",
       "      <td>7213.95</td>\n",
       "      <td>A</td>\n",
       "    </tr>\n",
       "  </tbody>\n",
       "</table>\n",
       "</div>"
      ],
      "text/plain": [
       "            ServisTipi Hat Sınıf  Fiyat  Satış      THY Saat\n",
       "688   Ana Hat Bölgesel   J     C  47.66    445  5865.60    A\n",
       "5335  Ana Hat Bölgesel   J     C  51.03    421  7800.00    E\n",
       "9779  Ana Hat Bölgesel   J     C  44.98    422  4617.60    A\n",
       "3444  Ana Hat Bölgesel   J     D  43.57    487  4758.75    A\n",
       "4762  Ana Hat Bölgesel   J     D  49.94    415  7213.95    A"
      ]
     },
     "execution_count": 100,
     "metadata": {},
     "output_type": "execute_result"
    }
   ],
   "source": [
    "outliers_df.head()"
   ]
  },
  {
   "cell_type": "code",
   "execution_count": 101,
   "id": "805450bb-7ece-4fc7-8c9d-6a694e01fa80",
   "metadata": {},
   "outputs": [
    {
     "data": {
      "text/plain": [
       "Index(['ServisTipi', 'Hat', 'Sınıf', 'Fiyat', 'Satış', 'THY', 'Saat'], dtype='object')"
      ]
     },
     "execution_count": 101,
     "metadata": {},
     "output_type": "execute_result"
    }
   ],
   "source": [
    "outliers_df.columns"
   ]
  },
  {
   "cell_type": "code",
   "execution_count": 26,
   "id": "5ff178cd-6ac3-4606-bde8-46c49237553b",
   "metadata": {},
   "outputs": [
    {
     "data": {
      "text/plain": [
       "Text(0.5, 1.0, 'Whole Data')"
      ]
     },
     "execution_count": 26,
     "metadata": {},
     "output_type": "execute_result"
    },
    {
     "data": {
      "image/png": "[encoded data removed]",
      "text/plain": [
       "<Figure size 1800x432 with 2 Axes>"
      ]
     },
     "metadata": {
      "needs_background": "light"
     },
     "output_type": "display_data"
    }
   ],
   "source": [
    "plt.figure(figsize = (25,6))\n",
    "\n",
    "plt.subplot(1,2,1)\n",
    "sns.distplot(outliers_df['Satış'])\n",
    "plt.title('Outliers')\n",
    "\n",
    "plt.subplot(1,2,2)\n",
    "sns.distplot(df['Satış'])\n",
    "plt.title('Whole Data')"
   ]
  },
  {
   "cell_type": "code",
   "execution_count": 42,
   "id": "6fa4bd4a-420f-40d2-b745-1f29810a77a9",
   "metadata": {},
   "outputs": [],
   "source": [
    "sdv_model_list = [\n",
    "                  ['CC', {'field_distributions': None}],\n",
    "                  ['CTGAN', {'epochs': 30, 'batch_size':250}],\n",
    "                  ['CGAN', {'epochs': 30, 'batch_size':250, 'field_distributions': None}],\n",
    "                  ['TVAE', {'epochs': 30, 'batch_size':250}],\n",
    "                  ]"
   ]
  },
  {
   "cell_type": "code",
   "execution_count": 41,
   "id": "ccefb706-3a5c-41f6-89d1-16315c64a575",
   "metadata": {},
   "outputs": [],
   "source": [
    "parameters = {'field_distributions': None}\n",
    "cc = train_sdv_model(outliers_df, 'CC', parameters)"
   ]
  },
  {
   "cell_type": "code",
   "execution_count": 40,
   "id": "8b4d8981-af76-402f-81b9-07834830a93e",
   "metadata": {},
   "outputs": [],
   "source": [
    "parameters = {'epochs': 30, 'batch_size':250}\n",
    "ctgan = train_sdv_model(outliers_df, 'CTGAN', parameters)"
   ]
  },
  {
   "cell_type": "code",
   "execution_count": 44,
   "id": "a435f992-8b36-41d1-b1ee-024c1699ed73",
   "metadata": {},
   "outputs": [],
   "source": [
    "parameters = {'epochs': 30, 'batch_size':250, 'field_distributions': None}\n",
    "cgan = train_sdv_model(outliers_df, 'CGAN', parameters)"
   ]
  },
  {
   "cell_type": "code",
   "execution_count": 47,
   "id": "489110f6-60bd-43bd-b121-3d757767483b",
   "metadata": {},
   "outputs": [],
   "source": [
    "parameters = {'epochs': 30, 'batch_size':250, 'l2scale':  0.0001}\n",
    "tvae = train_sdv_model(outliers_df, 'TVAE', parameters)"
   ]
  },
  {
   "cell_type": "code",
   "execution_count": null,
   "id": "cceda775-1d78-4d6d-a7ba-be2ab6a97521",
   "metadata": {},
   "outputs": [],
   "source": [
    "# Draw Samples"
   ]
  },
  {
   "cell_type": "code",
   "execution_count": 86,
   "id": "5ef03def-a0c3-408a-a18f-61213e31e6bd",
   "metadata": {},
   "outputs": [],
   "source": [
    "sample_size = 1500\n",
    "\n",
    "sample_cc = cc.sample(sample_size)\n",
    "sample_ctgan = ctgan.sample(sample_size)\n",
    "sample_cgan = cgan.sample(sample_size)\n",
    "sample_tvae = tvae.sample(sample_size)"
   ]
  },
  {
   "cell_type": "code",
   "execution_count": 87,
   "id": "3ca5db93-be17-4043-bff7-654f6b9aa5ed",
   "metadata": {},
   "outputs": [],
   "source": [
    "# Evaluations"
   ]
  },
  {
   "cell_type": "code",
   "execution_count": 88,
   "id": "0ad1f69e-8925-4374-be08-4a534abeec0d",
   "metadata": {},
   "outputs": [
    {
     "data": {
      "text/html": [
       "<div>\n",
       "<style scoped>\n",
       "    .dataframe tbody tr th:only-of-type {\n",
       "        vertical-align: middle;\n",
       "    }\n",
       "\n",
       "    .dataframe tbody tr th {\n",
       "        vertical-align: top;\n",
       "    }\n",
       "\n",
       "    .dataframe thead th {\n",
       "        text-align: right;\n",
       "    }\n",
       "</style>\n",
       "<table border=\"1\" class=\"dataframe\">\n",
       "  <thead>\n",
       "    <tr style=\"text-align: right;\">\n",
       "      <th></th>\n",
       "      <th>metric</th>\n",
       "      <th>name</th>\n",
       "      <th>raw_score</th>\n",
       "      <th>normalized_score</th>\n",
       "      <th>min_value</th>\n",
       "      <th>max_value</th>\n",
       "      <th>goal</th>\n",
       "      <th>error</th>\n",
       "    </tr>\n",
       "  </thead>\n",
       "  <tbody>\n",
       "    <tr>\n",
       "      <th>0</th>\n",
       "      <td>CSTest</td>\n",
       "      <td>Chi-Squared</td>\n",
       "      <td>0.952367</td>\n",
       "      <td>0.952367</td>\n",
       "      <td>0.0</td>\n",
       "      <td>1.0</td>\n",
       "      <td>MAXIMIZE</td>\n",
       "      <td>None</td>\n",
       "    </tr>\n",
       "    <tr>\n",
       "      <th>1</th>\n",
       "      <td>KSTest</td>\n",
       "      <td>Inverted Kolmogorov-Smirnov D statistic</td>\n",
       "      <td>0.921053</td>\n",
       "      <td>0.921053</td>\n",
       "      <td>0.0</td>\n",
       "      <td>1.0</td>\n",
       "      <td>MAXIMIZE</td>\n",
       "      <td>None</td>\n",
       "    </tr>\n",
       "  </tbody>\n",
       "</table>\n",
       "</div>"
      ],
      "text/plain": [
       "   metric                                     name  raw_score  \\\n",
       "0  CSTest                              Chi-Squared   0.952367   \n",
       "1  KSTest  Inverted Kolmogorov-Smirnov D statistic   0.921053   \n",
       "\n",
       "   normalized_score  min_value  max_value      goal error  \n",
       "0          0.952367        0.0        1.0  MAXIMIZE  None  \n",
       "1          0.921053        0.0        1.0  MAXIMIZE  None  "
      ]
     },
     "execution_count": 88,
     "metadata": {},
     "output_type": "execute_result"
    }
   ],
   "source": [
    "evaluate(sample_cc, outliers_df, metrics=['CSTest', 'KSTest'], aggregate=False)"
   ]
  },
  {
   "cell_type": "code",
   "execution_count": 89,
   "id": "2760b49f-70f5-4296-b865-91374203275c",
   "metadata": {},
   "outputs": [
    {
     "data": {
      "text/html": [
       "<div>\n",
       "<style scoped>\n",
       "    .dataframe tbody tr th:only-of-type {\n",
       "        vertical-align: middle;\n",
       "    }\n",
       "\n",
       "    .dataframe tbody tr th {\n",
       "        vertical-align: top;\n",
       "    }\n",
       "\n",
       "    .dataframe thead th {\n",
       "        text-align: right;\n",
       "    }\n",
       "</style>\n",
       "<table border=\"1\" class=\"dataframe\">\n",
       "  <thead>\n",
       "    <tr style=\"text-align: right;\">\n",
       "      <th></th>\n",
       "      <th>metric</th>\n",
       "      <th>name</th>\n",
       "      <th>raw_score</th>\n",
       "      <th>normalized_score</th>\n",
       "      <th>min_value</th>\n",
       "      <th>max_value</th>\n",
       "      <th>goal</th>\n",
       "      <th>error</th>\n",
       "    </tr>\n",
       "  </thead>\n",
       "  <tbody>\n",
       "    <tr>\n",
       "      <th>0</th>\n",
       "      <td>CSTest</td>\n",
       "      <td>Chi-Squared</td>\n",
       "      <td>0.995271</td>\n",
       "      <td>0.995271</td>\n",
       "      <td>0.0</td>\n",
       "      <td>1.0</td>\n",
       "      <td>MAXIMIZE</td>\n",
       "      <td>None</td>\n",
       "    </tr>\n",
       "    <tr>\n",
       "      <th>1</th>\n",
       "      <td>KSTest</td>\n",
       "      <td>Inverted Kolmogorov-Smirnov D statistic</td>\n",
       "      <td>0.681272</td>\n",
       "      <td>0.681272</td>\n",
       "      <td>0.0</td>\n",
       "      <td>1.0</td>\n",
       "      <td>MAXIMIZE</td>\n",
       "      <td>None</td>\n",
       "    </tr>\n",
       "  </tbody>\n",
       "</table>\n",
       "</div>"
      ],
      "text/plain": [
       "   metric                                     name  raw_score  \\\n",
       "0  CSTest                              Chi-Squared   0.995271   \n",
       "1  KSTest  Inverted Kolmogorov-Smirnov D statistic   0.681272   \n",
       "\n",
       "   normalized_score  min_value  max_value      goal error  \n",
       "0          0.995271        0.0        1.0  MAXIMIZE  None  \n",
       "1          0.681272        0.0        1.0  MAXIMIZE  None  "
      ]
     },
     "execution_count": 89,
     "metadata": {},
     "output_type": "execute_result"
    }
   ],
   "source": [
    "evaluate(sample_ctgan, outliers_df, metrics=['CSTest', 'KSTest'], aggregate=False)"
   ]
  },
  {
   "cell_type": "code",
   "execution_count": 90,
   "id": "c14edba7-77ff-4f2a-94f7-1e64f88d9667",
   "metadata": {},
   "outputs": [
    {
     "data": {
      "text/html": [
       "<div>\n",
       "<style scoped>\n",
       "    .dataframe tbody tr th:only-of-type {\n",
       "        vertical-align: middle;\n",
       "    }\n",
       "\n",
       "    .dataframe tbody tr th {\n",
       "        vertical-align: top;\n",
       "    }\n",
       "\n",
       "    .dataframe thead th {\n",
       "        text-align: right;\n",
       "    }\n",
       "</style>\n",
       "<table border=\"1\" class=\"dataframe\">\n",
       "  <thead>\n",
       "    <tr style=\"text-align: right;\">\n",
       "      <th></th>\n",
       "      <th>metric</th>\n",
       "      <th>name</th>\n",
       "      <th>raw_score</th>\n",
       "      <th>normalized_score</th>\n",
       "      <th>min_value</th>\n",
       "      <th>max_value</th>\n",
       "      <th>goal</th>\n",
       "      <th>error</th>\n",
       "    </tr>\n",
       "  </thead>\n",
       "  <tbody>\n",
       "    <tr>\n",
       "      <th>0</th>\n",
       "      <td>CSTest</td>\n",
       "      <td>Chi-Squared</td>\n",
       "      <td>0.986761</td>\n",
       "      <td>0.986761</td>\n",
       "      <td>0.0</td>\n",
       "      <td>1.0</td>\n",
       "      <td>MAXIMIZE</td>\n",
       "      <td>None</td>\n",
       "    </tr>\n",
       "    <tr>\n",
       "      <th>1</th>\n",
       "      <td>KSTest</td>\n",
       "      <td>Inverted Kolmogorov-Smirnov D statistic</td>\n",
       "      <td>0.629810</td>\n",
       "      <td>0.629810</td>\n",
       "      <td>0.0</td>\n",
       "      <td>1.0</td>\n",
       "      <td>MAXIMIZE</td>\n",
       "      <td>None</td>\n",
       "    </tr>\n",
       "  </tbody>\n",
       "</table>\n",
       "</div>"
      ],
      "text/plain": [
       "   metric                                     name  raw_score  \\\n",
       "0  CSTest                              Chi-Squared   0.986761   \n",
       "1  KSTest  Inverted Kolmogorov-Smirnov D statistic   0.629810   \n",
       "\n",
       "   normalized_score  min_value  max_value      goal error  \n",
       "0          0.986761        0.0        1.0  MAXIMIZE  None  \n",
       "1          0.629810        0.0        1.0  MAXIMIZE  None  "
      ]
     },
     "execution_count": 90,
     "metadata": {},
     "output_type": "execute_result"
    }
   ],
   "source": [
    "evaluate(sample_cgan, outliers_df, metrics=['CSTest', 'KSTest'], aggregate=False)"
   ]
  },
  {
   "cell_type": "code",
   "execution_count": 91,
   "id": "b4219f2f-f0aa-4a7c-81f3-400cfb78e4c3",
   "metadata": {},
   "outputs": [
    {
     "data": {
      "text/html": [
       "<div>\n",
       "<style scoped>\n",
       "    .dataframe tbody tr th:only-of-type {\n",
       "        vertical-align: middle;\n",
       "    }\n",
       "\n",
       "    .dataframe tbody tr th {\n",
       "        vertical-align: top;\n",
       "    }\n",
       "\n",
       "    .dataframe thead th {\n",
       "        text-align: right;\n",
       "    }\n",
       "</style>\n",
       "<table border=\"1\" class=\"dataframe\">\n",
       "  <thead>\n",
       "    <tr style=\"text-align: right;\">\n",
       "      <th></th>\n",
       "      <th>metric</th>\n",
       "      <th>name</th>\n",
       "      <th>raw_score</th>\n",
       "      <th>normalized_score</th>\n",
       "      <th>min_value</th>\n",
       "      <th>max_value</th>\n",
       "      <th>goal</th>\n",
       "      <th>error</th>\n",
       "    </tr>\n",
       "  </thead>\n",
       "  <tbody>\n",
       "    <tr>\n",
       "      <th>0</th>\n",
       "      <td>CSTest</td>\n",
       "      <td>Chi-Squared</td>\n",
       "      <td>0.863147</td>\n",
       "      <td>0.863147</td>\n",
       "      <td>0.0</td>\n",
       "      <td>1.0</td>\n",
       "      <td>MAXIMIZE</td>\n",
       "      <td>None</td>\n",
       "    </tr>\n",
       "    <tr>\n",
       "      <th>1</th>\n",
       "      <td>KSTest</td>\n",
       "      <td>Inverted Kolmogorov-Smirnov D statistic</td>\n",
       "      <td>0.672519</td>\n",
       "      <td>0.672519</td>\n",
       "      <td>0.0</td>\n",
       "      <td>1.0</td>\n",
       "      <td>MAXIMIZE</td>\n",
       "      <td>None</td>\n",
       "    </tr>\n",
       "  </tbody>\n",
       "</table>\n",
       "</div>"
      ],
      "text/plain": [
       "   metric                                     name  raw_score  \\\n",
       "0  CSTest                              Chi-Squared   0.863147   \n",
       "1  KSTest  Inverted Kolmogorov-Smirnov D statistic   0.672519   \n",
       "\n",
       "   normalized_score  min_value  max_value      goal error  \n",
       "0          0.863147        0.0        1.0  MAXIMIZE  None  \n",
       "1          0.672519        0.0        1.0  MAXIMIZE  None  "
      ]
     },
     "execution_count": 91,
     "metadata": {},
     "output_type": "execute_result"
    }
   ],
   "source": [
    "evaluate(sample_tvae, outliers_df, metrics=['CSTest', 'KSTest'], aggregate=False)"
   ]
  },
  {
   "cell_type": "code",
   "execution_count": null,
   "id": "ac412e0f-9f81-4cb1-860f-692bb438d80b",
   "metadata": {},
   "outputs": [],
   "source": [
    "# Generated Data"
   ]
  },
  {
   "cell_type": "code",
   "execution_count": 93,
   "id": "b194cb66-ebb3-4b85-84b5-220399d1d75d",
   "metadata": {},
   "outputs": [
    {
     "data": {
      "text/html": [
       "<div>\n",
       "<style scoped>\n",
       "    .dataframe tbody tr th:only-of-type {\n",
       "        vertical-align: middle;\n",
       "    }\n",
       "\n",
       "    .dataframe tbody tr th {\n",
       "        vertical-align: top;\n",
       "    }\n",
       "\n",
       "    .dataframe thead th {\n",
       "        text-align: right;\n",
       "    }\n",
       "</style>\n",
       "<table border=\"1\" class=\"dataframe\">\n",
       "  <thead>\n",
       "    <tr style=\"text-align: right;\">\n",
       "      <th></th>\n",
       "      <th>ServisTipi</th>\n",
       "      <th>Hat</th>\n",
       "      <th>Sınıf</th>\n",
       "      <th>Fiyat</th>\n",
       "      <th>Satış</th>\n",
       "      <th>THY</th>\n",
       "      <th>Saat</th>\n",
       "    </tr>\n",
       "  </thead>\n",
       "  <tbody>\n",
       "    <tr>\n",
       "      <th>0</th>\n",
       "      <td>Ana Hat Bölgesel</td>\n",
       "      <td>G</td>\n",
       "      <td>X</td>\n",
       "      <td>52.73</td>\n",
       "      <td>565</td>\n",
       "      <td>8833.966020</td>\n",
       "      <td>D</td>\n",
       "    </tr>\n",
       "    <tr>\n",
       "      <th>1</th>\n",
       "      <td>Ana Hat Bölgesel</td>\n",
       "      <td>E</td>\n",
       "      <td>X</td>\n",
       "      <td>27.71</td>\n",
       "      <td>532</td>\n",
       "      <td>10570.228490</td>\n",
       "      <td>E</td>\n",
       "    </tr>\n",
       "    <tr>\n",
       "      <th>2</th>\n",
       "      <td>Ana Hat Bölgesel</td>\n",
       "      <td>D</td>\n",
       "      <td>X</td>\n",
       "      <td>49.00</td>\n",
       "      <td>505</td>\n",
       "      <td>8027.771826</td>\n",
       "      <td>E</td>\n",
       "    </tr>\n",
       "    <tr>\n",
       "      <th>3</th>\n",
       "      <td>Ana Hat Bölgesel</td>\n",
       "      <td>H</td>\n",
       "      <td>X</td>\n",
       "      <td>30.08</td>\n",
       "      <td>489</td>\n",
       "      <td>7344.142766</td>\n",
       "      <td>E</td>\n",
       "    </tr>\n",
       "    <tr>\n",
       "      <th>4</th>\n",
       "      <td>Ana Hat Bölgesel</td>\n",
       "      <td>G</td>\n",
       "      <td>Y</td>\n",
       "      <td>54.80</td>\n",
       "      <td>456</td>\n",
       "      <td>4712.212496</td>\n",
       "      <td>E</td>\n",
       "    </tr>\n",
       "  </tbody>\n",
       "</table>\n",
       "</div>"
      ],
      "text/plain": [
       "         ServisTipi Hat Sınıf  Fiyat  Satış           THY Saat\n",
       "0  Ana Hat Bölgesel   G     X  52.73    565   8833.966020    D\n",
       "1  Ana Hat Bölgesel   E     X  27.71    532  10570.228490    E\n",
       "2  Ana Hat Bölgesel   D     X  49.00    505   8027.771826    E\n",
       "3  Ana Hat Bölgesel   H     X  30.08    489   7344.142766    E\n",
       "4  Ana Hat Bölgesel   G     Y  54.80    456   4712.212496    E"
      ]
     },
     "execution_count": 93,
     "metadata": {},
     "output_type": "execute_result"
    }
   ],
   "source": [
    "sample_cc.head()"
   ]
  },
  {
   "cell_type": "code",
   "execution_count": 102,
   "id": "315c9c48-58c6-4865-a028-c0e9a7f58d41",
   "metadata": {},
   "outputs": [
    {
     "data": {
      "text/html": [
       "<div>\n",
       "<style scoped>\n",
       "    .dataframe tbody tr th:only-of-type {\n",
       "        vertical-align: middle;\n",
       "    }\n",
       "\n",
       "    .dataframe tbody tr th {\n",
       "        vertical-align: top;\n",
       "    }\n",
       "\n",
       "    .dataframe thead th {\n",
       "        text-align: right;\n",
       "    }\n",
       "</style>\n",
       "<table border=\"1\" class=\"dataframe\">\n",
       "  <thead>\n",
       "    <tr style=\"text-align: right;\">\n",
       "      <th></th>\n",
       "      <th>ServisTipi</th>\n",
       "      <th>Hat</th>\n",
       "      <th>Sınıf</th>\n",
       "      <th>Fiyat</th>\n",
       "      <th>Satış</th>\n",
       "      <th>THY</th>\n",
       "      <th>Saat</th>\n",
       "    </tr>\n",
       "  </thead>\n",
       "  <tbody>\n",
       "    <tr>\n",
       "      <th>0</th>\n",
       "      <td>Ana Hat Bölgesel</td>\n",
       "      <td>A</td>\n",
       "      <td>C</td>\n",
       "      <td>128.52</td>\n",
       "      <td>97</td>\n",
       "      <td>1310.40</td>\n",
       "      <td>A</td>\n",
       "    </tr>\n",
       "    <tr>\n",
       "      <th>1</th>\n",
       "      <td>Ana Hat Bölgesel</td>\n",
       "      <td>G</td>\n",
       "      <td>C</td>\n",
       "      <td>70.31</td>\n",
       "      <td>286</td>\n",
       "      <td>3979.80</td>\n",
       "      <td>E</td>\n",
       "    </tr>\n",
       "    <tr>\n",
       "      <th>14</th>\n",
       "      <td>Ana Hat Bölgesel</td>\n",
       "      <td>E</td>\n",
       "      <td>C</td>\n",
       "      <td>103.95</td>\n",
       "      <td>121</td>\n",
       "      <td>2341.35</td>\n",
       "      <td>C</td>\n",
       "    </tr>\n",
       "    <tr>\n",
       "      <th>3</th>\n",
       "      <td>Ana Hat Bölgesel</td>\n",
       "      <td>B</td>\n",
       "      <td>C</td>\n",
       "      <td>147.61</td>\n",
       "      <td>89</td>\n",
       "      <td>1190.40</td>\n",
       "      <td>A</td>\n",
       "    </tr>\n",
       "    <tr>\n",
       "      <th>22</th>\n",
       "      <td>YHT</td>\n",
       "      <td>A</td>\n",
       "      <td>C</td>\n",
       "      <td>265.91</td>\n",
       "      <td>35</td>\n",
       "      <td>673.92</td>\n",
       "      <td>B</td>\n",
       "    </tr>\n",
       "  </tbody>\n",
       "</table>\n",
       "</div>"
      ],
      "text/plain": [
       "          ServisTipi Hat Sınıf   Fiyat  Satış      THY Saat\n",
       "0   Ana Hat Bölgesel   A     C  128.52     97  1310.40    A\n",
       "1   Ana Hat Bölgesel   G     C   70.31    286  3979.80    E\n",
       "14  Ana Hat Bölgesel   E     C  103.95    121  2341.35    C\n",
       "3   Ana Hat Bölgesel   B     C  147.61     89  1190.40    A\n",
       "22               YHT   A     C  265.91     35   673.92    B"
      ]
     },
     "execution_count": 102,
     "metadata": {},
     "output_type": "execute_result"
    }
   ],
   "source": [
    "df_selected.head()"
   ]
  },
  {
   "cell_type": "code",
   "execution_count": 108,
   "id": "3d95ed36-6fe1-492a-817b-b7afad079433",
   "metadata": {},
   "outputs": [],
   "source": [
    "df_generated = pd.concat([df_selected, sample_cc])"
   ]
  },
  {
   "cell_type": "code",
   "execution_count": 109,
   "id": "555315b3-ec1a-4182-8ab5-347e71c392ac",
   "metadata": {},
   "outputs": [
    {
     "data": {
      "text/html": [
       "<div>\n",
       "<style scoped>\n",
       "    .dataframe tbody tr th:only-of-type {\n",
       "        vertical-align: middle;\n",
       "    }\n",
       "\n",
       "    .dataframe tbody tr th {\n",
       "        vertical-align: top;\n",
       "    }\n",
       "\n",
       "    .dataframe thead th {\n",
       "        text-align: right;\n",
       "    }\n",
       "</style>\n",
       "<table border=\"1\" class=\"dataframe\">\n",
       "  <thead>\n",
       "    <tr style=\"text-align: right;\">\n",
       "      <th></th>\n",
       "      <th>ServisTipi</th>\n",
       "      <th>Hat</th>\n",
       "      <th>Sınıf</th>\n",
       "      <th>Fiyat</th>\n",
       "      <th>Satış</th>\n",
       "      <th>THY</th>\n",
       "      <th>Saat</th>\n",
       "    </tr>\n",
       "  </thead>\n",
       "  <tbody>\n",
       "    <tr>\n",
       "      <th>0</th>\n",
       "      <td>Ana Hat Bölgesel</td>\n",
       "      <td>A</td>\n",
       "      <td>C</td>\n",
       "      <td>128.52</td>\n",
       "      <td>97</td>\n",
       "      <td>1310.40</td>\n",
       "      <td>A</td>\n",
       "    </tr>\n",
       "    <tr>\n",
       "      <th>1</th>\n",
       "      <td>Ana Hat Bölgesel</td>\n",
       "      <td>G</td>\n",
       "      <td>C</td>\n",
       "      <td>70.31</td>\n",
       "      <td>286</td>\n",
       "      <td>3979.80</td>\n",
       "      <td>E</td>\n",
       "    </tr>\n",
       "    <tr>\n",
       "      <th>14</th>\n",
       "      <td>Ana Hat Bölgesel</td>\n",
       "      <td>E</td>\n",
       "      <td>C</td>\n",
       "      <td>103.95</td>\n",
       "      <td>121</td>\n",
       "      <td>2341.35</td>\n",
       "      <td>C</td>\n",
       "    </tr>\n",
       "    <tr>\n",
       "      <th>3</th>\n",
       "      <td>Ana Hat Bölgesel</td>\n",
       "      <td>B</td>\n",
       "      <td>C</td>\n",
       "      <td>147.61</td>\n",
       "      <td>89</td>\n",
       "      <td>1190.40</td>\n",
       "      <td>A</td>\n",
       "    </tr>\n",
       "    <tr>\n",
       "      <th>22</th>\n",
       "      <td>YHT</td>\n",
       "      <td>A</td>\n",
       "      <td>C</td>\n",
       "      <td>265.91</td>\n",
       "      <td>35</td>\n",
       "      <td>673.92</td>\n",
       "      <td>B</td>\n",
       "    </tr>\n",
       "  </tbody>\n",
       "</table>\n",
       "</div>"
      ],
      "text/plain": [
       "          ServisTipi Hat Sınıf   Fiyat  Satış      THY Saat\n",
       "0   Ana Hat Bölgesel   A     C  128.52     97  1310.40    A\n",
       "1   Ana Hat Bölgesel   G     C   70.31    286  3979.80    E\n",
       "14  Ana Hat Bölgesel   E     C  103.95    121  2341.35    C\n",
       "3   Ana Hat Bölgesel   B     C  147.61     89  1190.40    A\n",
       "22               YHT   A     C  265.91     35   673.92    B"
      ]
     },
     "execution_count": 109,
     "metadata": {},
     "output_type": "execute_result"
    }
   ],
   "source": [
    "df_generated.head()"
   ]
  },
  {
   "cell_type": "markdown",
   "id": "58773243-02d3-4590-8a8c-296b54a6d39b",
   "metadata": {},
   "source": [
    "# Build Regression Model"
   ]
  },
  {
   "cell_type": "markdown",
   "id": "3cced6ef-d09c-4429-a175-cff48b5970e2",
   "metadata": {},
   "source": [
    "# Data"
   ]
  },
  {
   "cell_type": "markdown",
   "id": "dfd51f15-e253-4d8d-a710-4b1849d6ad4f",
   "metadata": {},
   "source": [
    "OD: Original Data \n",
    "GD: Generated Data"
   ]
  },
  {
   "cell_type": "code",
   "execution_count": 143,
   "id": "28faf8f9-458b-40cc-9f8b-e4f003e1e8dc",
   "metadata": {},
   "outputs": [],
   "source": [
    "regression_test_dict_original = {}\n",
    "regression_test_dict_original['data'] = {'OD': df_selected}\n",
    "\n",
    "regression_test_dict_generated = {}\n",
    "regression_test_dict_generated['data'] = {'GD': df_generated}"
   ]
  },
  {
   "cell_type": "code",
   "execution_count": 144,
   "id": "bf02a367-61c8-4a21-8530-56a76b78dbf3",
   "metadata": {},
   "outputs": [],
   "source": [
    "# Parameters\n",
    "\n",
    "models_list = [['LR1', {}],\n",
    "              ['RFR1', {'n_estimators': 100, 'criterion':'mse'}],\n",
    "              ['RFR2', {'n_estimators': 100, 'criterion':'poisson'}]\n",
    "              ]"
   ]
  },
  {
   "cell_type": "code",
   "execution_count": 145,
   "id": "d83b8feb-f600-49c9-9863-791108c79647",
   "metadata": {},
   "outputs": [
    {
     "name": "stdout",
     "output_type": "stream",
     "text": [
      "Training regression model LR1 for OD\n",
      "Training done!\n",
      "\n",
      "Training regression model RFR1 for OD\n",
      "Training done!\n",
      "\n",
      "Training regression model RFR2 for OD\n",
      "Training done!\n",
      "\n"
     ]
    }
   ],
   "source": [
    "build = Build(regression_test_dict_original)\n",
    "build.build_regression_models(models_list, 'Satış')"
   ]
  },
  {
   "cell_type": "code",
   "execution_count": 146,
   "id": "958613d2-91fa-4d20-9a09-70e9632fbcbf",
   "metadata": {},
   "outputs": [
    {
     "name": "stdout",
     "output_type": "stream",
     "text": [
      "Training regression model LR1 for GD\n",
      "Training done!\n",
      "\n",
      "Training regression model RFR1 for GD\n",
      "Training done!\n",
      "\n",
      "Training regression model RFR2 for GD\n",
      "Training done!\n",
      "\n"
     ]
    }
   ],
   "source": [
    "build = Build(regression_test_dict_generated)\n",
    "build.build_regression_models(models_list, 'Satış')"
   ]
  },
  {
   "cell_type": "markdown",
   "id": "7390a3b2-c125-46ca-89f2-1621e41d7fe9",
   "metadata": {},
   "source": [
    "# Test"
   ]
  },
  {
   "cell_type": "code",
   "execution_count": 147,
   "id": "f87a7752-e9d4-49e9-bced-1b8a8dff3357",
   "metadata": {},
   "outputs": [],
   "source": [
    "assemble = Assemble()"
   ]
  },
  {
   "cell_type": "code",
   "execution_count": 154,
   "id": "81638b71-8732-4f68-8f95-41f9ca3a5091",
   "metadata": {},
   "outputs": [],
   "source": [
    "regression_test_dict_generated['test_tables'] = assemble.assemble_test_tables(regression_test_dict_generated)"
   ]
  },
  {
   "cell_type": "code",
   "execution_count": 157,
   "id": "390201ae-7abf-415d-82b8-b2bd68a0b893",
   "metadata": {},
   "outputs": [
    {
     "data": {
      "text/html": [
       "<div>\n",
       "<style scoped>\n",
       "    .dataframe tbody tr th:only-of-type {\n",
       "        vertical-align: middle;\n",
       "    }\n",
       "\n",
       "    .dataframe tbody tr th {\n",
       "        vertical-align: top;\n",
       "    }\n",
       "\n",
       "    .dataframe thead th {\n",
       "        text-align: right;\n",
       "    }\n",
       "</style>\n",
       "<table border=\"1\" class=\"dataframe\">\n",
       "  <thead>\n",
       "    <tr style=\"text-align: right;\">\n",
       "      <th></th>\n",
       "      <th>GDLR1</th>\n",
       "      <th>GDRFR1</th>\n",
       "      <th>GDRFR2</th>\n",
       "    </tr>\n",
       "  </thead>\n",
       "  <tbody>\n",
       "    <tr>\n",
       "      <th>MEPE</th>\n",
       "      <td>11.748</td>\n",
       "      <td>8.493</td>\n",
       "      <td>9.856</td>\n",
       "    </tr>\n",
       "    <tr>\n",
       "      <th>MPE</th>\n",
       "      <td>18.200</td>\n",
       "      <td>10.038</td>\n",
       "      <td>11.844</td>\n",
       "    </tr>\n",
       "    <tr>\n",
       "      <th>MEAE</th>\n",
       "      <td>20.002</td>\n",
       "      <td>13.210</td>\n",
       "      <td>15.960</td>\n",
       "    </tr>\n",
       "    <tr>\n",
       "      <th>MAE</th>\n",
       "      <td>28.022</td>\n",
       "      <td>21.416</td>\n",
       "      <td>23.899</td>\n",
       "    </tr>\n",
       "    <tr>\n",
       "      <th>MSE</th>\n",
       "      <td>1615.854</td>\n",
       "      <td>1036.201</td>\n",
       "      <td>1192.988</td>\n",
       "    </tr>\n",
       "    <tr>\n",
       "      <th>RMSE</th>\n",
       "      <td>40.198</td>\n",
       "      <td>32.190</td>\n",
       "      <td>34.540</td>\n",
       "    </tr>\n",
       "    <tr>\n",
       "      <th>STD</th>\n",
       "      <td>147.209</td>\n",
       "      <td>147.209</td>\n",
       "      <td>147.209</td>\n",
       "    </tr>\n",
       "  </tbody>\n",
       "</table>\n",
       "</div>"
      ],
      "text/plain": [
       "         GDLR1    GDRFR1    GDRFR2\n",
       "MEPE    11.748     8.493     9.856\n",
       "MPE     18.200    10.038    11.844\n",
       "MEAE    20.002    13.210    15.960\n",
       "MAE     28.022    21.416    23.899\n",
       "MSE   1615.854  1036.201  1192.988\n",
       "RMSE    40.198    32.190    34.540\n",
       "STD    147.209   147.209   147.209"
      ]
     },
     "execution_count": 157,
     "metadata": {},
     "output_type": "execute_result"
    }
   ],
   "source": [
    "error_values_df_generated = assemble.assemble_error_values(regression_test_dict_generated)\n",
    "error_values_df_generated"
   ]
  },
  {
   "cell_type": "code",
   "execution_count": 158,
   "id": "87bb65c4-a118-45f9-abc4-540477bca580",
   "metadata": {},
   "outputs": [
    {
     "data": {
      "text/html": [
       "<div>\n",
       "<style scoped>\n",
       "    .dataframe tbody tr th:only-of-type {\n",
       "        vertical-align: middle;\n",
       "    }\n",
       "\n",
       "    .dataframe tbody tr th {\n",
       "        vertical-align: top;\n",
       "    }\n",
       "\n",
       "    .dataframe thead th {\n",
       "        text-align: right;\n",
       "    }\n",
       "</style>\n",
       "<table border=\"1\" class=\"dataframe\">\n",
       "  <thead>\n",
       "    <tr style=\"text-align: right;\">\n",
       "      <th></th>\n",
       "      <th>GDLR1</th>\n",
       "      <th>GDRFR1</th>\n",
       "      <th>GDRFR2</th>\n",
       "    </tr>\n",
       "  </thead>\n",
       "  <tbody>\n",
       "    <tr>\n",
       "      <th>R2</th>\n",
       "      <td>0.925408</td>\n",
       "      <td>0.952166</td>\n",
       "      <td>0.944928</td>\n",
       "    </tr>\n",
       "    <tr>\n",
       "      <th>R2^</th>\n",
       "      <td>0.924823</td>\n",
       "      <td>0.951791</td>\n",
       "      <td>0.944497</td>\n",
       "    </tr>\n",
       "    <tr>\n",
       "      <th>EVS</th>\n",
       "      <td>0.925417</td>\n",
       "      <td>0.952220</td>\n",
       "      <td>0.945517</td>\n",
       "    </tr>\n",
       "  </tbody>\n",
       "</table>\n",
       "</div>"
      ],
      "text/plain": [
       "        GDLR1    GDRFR1    GDRFR2\n",
       "R2   0.925408  0.952166  0.944928\n",
       "R2^  0.924823  0.951791  0.944497\n",
       "EVS  0.925417  0.952220  0.945517"
      ]
     },
     "execution_count": 158,
     "metadata": {},
     "output_type": "execute_result"
    }
   ],
   "source": [
    "variability_values_df_generated = assemble.assemble_variability_values(regression_test_dict_generated)\n",
    "variability_values_df_generated"
   ]
  },
  {
   "cell_type": "code",
   "execution_count": 159,
   "id": "d49fe548-ef7c-4746-9209-22c8ecba1f04",
   "metadata": {},
   "outputs": [],
   "source": [
    "regression_test_dict_original['test_tables'] = assemble.assemble_test_tables(regression_test_dict_original)"
   ]
  },
  {
   "cell_type": "code",
   "execution_count": 160,
   "id": "1766f88f-270d-452f-ab98-81aa69329d31",
   "metadata": {},
   "outputs": [
    {
     "data": {
      "text/html": [
       "<div>\n",
       "<style scoped>\n",
       "    .dataframe tbody tr th:only-of-type {\n",
       "        vertical-align: middle;\n",
       "    }\n",
       "\n",
       "    .dataframe tbody tr th {\n",
       "        vertical-align: top;\n",
       "    }\n",
       "\n",
       "    .dataframe thead th {\n",
       "        text-align: right;\n",
       "    }\n",
       "</style>\n",
       "<table border=\"1\" class=\"dataframe\">\n",
       "  <thead>\n",
       "    <tr style=\"text-align: right;\">\n",
       "      <th></th>\n",
       "      <th>ODLR1</th>\n",
       "      <th>ODRFR1</th>\n",
       "      <th>ODRFR2</th>\n",
       "    </tr>\n",
       "  </thead>\n",
       "  <tbody>\n",
       "    <tr>\n",
       "      <th>MEPE</th>\n",
       "      <td>10.413</td>\n",
       "      <td>8.368</td>\n",
       "      <td>9.954</td>\n",
       "    </tr>\n",
       "    <tr>\n",
       "      <th>MPE</th>\n",
       "      <td>14.923</td>\n",
       "      <td>9.817</td>\n",
       "      <td>11.872</td>\n",
       "    </tr>\n",
       "    <tr>\n",
       "      <th>MEAE</th>\n",
       "      <td>15.944</td>\n",
       "      <td>11.830</td>\n",
       "      <td>14.525</td>\n",
       "    </tr>\n",
       "    <tr>\n",
       "      <th>MAE</th>\n",
       "      <td>20.356</td>\n",
       "      <td>17.162</td>\n",
       "      <td>20.292</td>\n",
       "    </tr>\n",
       "    <tr>\n",
       "      <th>MSE</th>\n",
       "      <td>750.137</td>\n",
       "      <td>593.244</td>\n",
       "      <td>824.037</td>\n",
       "    </tr>\n",
       "    <tr>\n",
       "      <th>RMSE</th>\n",
       "      <td>27.389</td>\n",
       "      <td>24.357</td>\n",
       "      <td>28.706</td>\n",
       "    </tr>\n",
       "    <tr>\n",
       "      <th>STD</th>\n",
       "      <td>109.719</td>\n",
       "      <td>109.719</td>\n",
       "      <td>109.719</td>\n",
       "    </tr>\n",
       "  </tbody>\n",
       "</table>\n",
       "</div>"
      ],
      "text/plain": [
       "        ODLR1   ODRFR1   ODRFR2\n",
       "MEPE   10.413    8.368    9.954\n",
       "MPE    14.923    9.817   11.872\n",
       "MEAE   15.944   11.830   14.525\n",
       "MAE    20.356   17.162   20.292\n",
       "MSE   750.137  593.244  824.037\n",
       "RMSE   27.389   24.357   28.706\n",
       "STD   109.719  109.719  109.719"
      ]
     },
     "execution_count": 160,
     "metadata": {},
     "output_type": "execute_result"
    }
   ],
   "source": [
    "error_values_df_original = assemble.assemble_error_values(regression_test_dict_original)\n",
    "error_values_df_original"
   ]
  },
  {
   "cell_type": "code",
   "execution_count": 161,
   "id": "09f249da-cd2d-45fd-9cca-90b35cfe7acd",
   "metadata": {},
   "outputs": [
    {
     "data": {
      "text/html": [
       "<div>\n",
       "<style scoped>\n",
       "    .dataframe tbody tr th:only-of-type {\n",
       "        vertical-align: middle;\n",
       "    }\n",
       "\n",
       "    .dataframe tbody tr th {\n",
       "        vertical-align: top;\n",
       "    }\n",
       "\n",
       "    .dataframe thead th {\n",
       "        text-align: right;\n",
       "    }\n",
       "</style>\n",
       "<table border=\"1\" class=\"dataframe\">\n",
       "  <thead>\n",
       "    <tr style=\"text-align: right;\">\n",
       "      <th></th>\n",
       "      <th>ODLR1</th>\n",
       "      <th>ODRFR1</th>\n",
       "      <th>ODRFR2</th>\n",
       "    </tr>\n",
       "  </thead>\n",
       "  <tbody>\n",
       "    <tr>\n",
       "      <th>R2</th>\n",
       "      <td>0.937661</td>\n",
       "      <td>0.950699</td>\n",
       "      <td>0.931520</td>\n",
       "    </tr>\n",
       "    <tr>\n",
       "      <th>R2^</th>\n",
       "      <td>0.937110</td>\n",
       "      <td>0.950264</td>\n",
       "      <td>0.930915</td>\n",
       "    </tr>\n",
       "    <tr>\n",
       "      <th>EVS</th>\n",
       "      <td>0.937696</td>\n",
       "      <td>0.950700</td>\n",
       "      <td>0.932887</td>\n",
       "    </tr>\n",
       "  </tbody>\n",
       "</table>\n",
       "</div>"
      ],
      "text/plain": [
       "        ODLR1    ODRFR1    ODRFR2\n",
       "R2   0.937661  0.950699  0.931520\n",
       "R2^  0.937110  0.950264  0.930915\n",
       "EVS  0.937696  0.950700  0.932887"
      ]
     },
     "execution_count": 161,
     "metadata": {},
     "output_type": "execute_result"
    }
   ],
   "source": [
    "error_values_df_original = assemble.assemble_variability_values(regression_test_dict_original)\n",
    "error_values_df_original"
   ]
  },
  {
   "cell_type": "code",
   "execution_count": null,
   "id": "cca30ae6-989b-4a54-a4ea-c15c8894541e",
   "metadata": {},
   "outputs": [],
   "source": []
  }
 ],
 "metadata": {
  "kernelspec": {
   "display_name": "Python 3",
   "language": "python",
   "name": "python3"
  },
  "language_info": {
   "codemirror_mode": {
    "name": "ipython",
    "version": 3
   },
   "file_extension": ".py",
   "mimetype": "text/x-python",
   "name": "python",
   "nbconvert_exporter": "python",
   "pygments_lexer": "ipython3",
   "version": "3.8.8"
  }
 },
 "nbformat": 4,
 "nbformat_minor": 5
}
