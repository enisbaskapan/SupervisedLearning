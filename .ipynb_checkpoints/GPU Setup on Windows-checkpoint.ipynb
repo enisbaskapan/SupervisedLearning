{
 "cells": [
  {
   "cell_type": "markdown",
   "id": "098ee3d4-f70c-4ef0-9cef-82c1f5a030d3",
   "metadata": {},
   "source": [
    "# GPU Setup for TensorFlow on Windows"
   ]
  },
  {
   "cell_type": "markdown",
   "id": "857ad4d3-2bf9-4a92-ad0b-11f19a1e2c8e",
   "metadata": {},
   "source": [
    "Considering its performance, we can say that using GPU in machine learning is more advantageous than CPU."
   ]
  },
  {
   "cell_type": "markdown",
   "id": "26377b83-bf11-4763-b5b1-e44004282947",
   "metadata": {},
   "source": [
    "We can use GPU on both Cloud systems and our local machine (PC)."
   ]
  },
  {
   "cell_type": "markdown",
   "id": "b7317847-ecc1-4cc9-831c-a4d57d75b9c6",
   "metadata": {},
   "source": [
    "Setting up GPU on PC requires some steps so we are going to see what those steps are."
   ]
  },
  {
   "cell_type": "markdown",
   "id": "b8e92751-7b68-4a22-847b-2f8b9bc0b14d",
   "metadata": {
    "jp-MarkdownHeadingCollapsed": true,
    "tags": []
   },
   "source": [
    "**Reference:** This tutorial is based on Jeff Heaton's [video](https://www.youtube.com/watch?v=OEFKlRSd8Ic) and [notebook](https://github.com/jeffheaton/t81_558_deep_learning/blob/master/install/manual_setup2.ipynb)."
   ]
  },
  {
   "cell_type": "markdown",
   "id": "9bfb1732-6ccf-4380-aec4-f75fadeb6005",
   "metadata": {},
   "source": [
    "## Step 1: NVIDIA GPU Driver"
   ]
  },
  {
   "cell_type": "markdown",
   "id": "52a8514a-932c-4dea-b199-1b76c0e26e9f",
   "metadata": {},
   "source": [
    "Install the latest driver for your GPU."
   ]
  },
  {
   "cell_type": "markdown",
   "id": "8310d0d5-0c30-4f37-9c91-84cb65b643b3",
   "metadata": {},
   "source": [
    "* [NVIDIA GPU Drivers](https://www.nvidia.com/Download/index.aspx)"
   ]
  },
  {
   "cell_type": "markdown",
   "id": "56f32dc5-b991-486b-8a38-c99a5bc5e1b5",
   "metadata": {},
   "source": [
    "## Step 2: Visual Studio, C++"
   ]
  },
  {
   "cell_type": "markdown",
   "id": "794907fd-38fa-4d83-93d9-082bfe4c1eab",
   "metadata": {},
   "source": [
    "We install Visual Studio for C++. So you need to select all options related to C++ during this setup process."
   ]
  },
  {
   "cell_type": "markdown",
   "id": "4e469be1-5a71-4c07-bdbe-9313acb634c1",
   "metadata": {},
   "source": [
    "* [Visual Studio](https://visualstudio.microsoft.com/downloads/) "
   ]
  },
  {
   "cell_type": "markdown",
   "id": "9ead634f-77e2-478f-89c3-6f1af79af6df",
   "metadata": {},
   "source": [
    "## Step 3: CUDA"
   ]
  },
  {
   "cell_type": "markdown",
   "id": "96f41af2-8c21-4c60-b636-e4701954a666",
   "metadata": {},
   "source": [
    "You can check GPU compatability and compute capability."
   ]
  },
  {
   "cell_type": "markdown",
   "id": "1264bc5b-a080-4ad1-9fff-7494735f7f05",
   "metadata": {},
   "source": [
    "* [CUDA GPUs](https://developer.nvidia.com/cuda-gpus)"
   ]
  },
  {
   "cell_type": "markdown",
   "id": "44905774-900e-455c-8682-d6d6919dbc71",
   "metadata": {},
   "source": [
    "Install proper CUDA version."
   ]
  },
  {
   "cell_type": "markdown",
   "id": "d04a102e-d0e4-46af-9bb8-dc29cd03444a",
   "metadata": {},
   "source": [
    "* [CUDA Toolkit](https://developer.nvidia.com/cuda-downloads)"
   ]
  },
  {
   "cell_type": "markdown",
   "id": "1073378d-d317-4a54-854c-ef4faa832783",
   "metadata": {},
   "source": [
    "## Step 4: cuDNN"
   ]
  },
  {
   "cell_type": "markdown",
   "id": "e6bdcc13-6965-43cd-9e19-860e07d896f3",
   "metadata": {},
   "source": [
    "You first need to create NVIDIA account to download cuDNN"
   ]
  },
  {
   "cell_type": "markdown",
   "id": "0fe902a4-c94b-408f-8a3d-c0acf16fc88b",
   "metadata": {},
   "source": [
    "* [cuDNN](https://developer.nvidia.com/cudnn)"
   ]
  },
  {
   "cell_type": "markdown",
   "id": "808e9f2e-780b-4b27-a730-43e2798d928e",
   "metadata": {},
   "source": [
    "## Step 5: Enviromental Variables"
   ]
  },
  {
   "cell_type": "markdown",
   "id": "71e8e57a-852e-4c09-9e68-5f48b1110fe7",
   "metadata": {},
   "source": [
    "You need to add necessary paths to enviromental variables on Windows. To make sure you add the correct paths, you should watch the video for this step."
   ]
  },
  {
   "cell_type": "markdown",
   "id": "af52b606-cbe1-4b68-91f9-fa7be4200f3b",
   "metadata": {},
   "source": [
    "## Step 6: Testing"
   ]
  },
  {
   "cell_type": "markdown",
   "id": "18dfbb74-5d1f-4b86-bd66-85f396a248ce",
   "metadata": {},
   "source": [
    "Make sure the setup was successful"
   ]
  },
  {
   "cell_type": "code",
   "execution_count": 1,
   "id": "8056cf87-8650-44de-abf2-912472012a89",
   "metadata": {},
   "outputs": [],
   "source": [
    "import tensorflow as tf"
   ]
  },
  {
   "cell_type": "code",
   "execution_count": 2,
   "id": "968adae7-ee55-4c91-aa27-2ca165714836",
   "metadata": {},
   "outputs": [
    {
     "data": {
      "text/plain": [
       "[name: \"/device:CPU:0\"\n",
       " device_type: \"CPU\"\n",
       " memory_limit: 268435456\n",
       " locality {\n",
       " }\n",
       " incarnation: 3962813910038165757\n",
       " xla_global_id: -1]"
      ]
     },
     "execution_count": 2,
     "metadata": {},
     "output_type": "execute_result"
    }
   ],
   "source": [
    "from tensorflow.python.client import device_lib\n",
    "device_lib.list_local_devices()"
   ]
  },
  {
   "cell_type": "markdown",
   "id": "a1c10b91-da26-43fa-92d7-bddf42df2484",
   "metadata": {},
   "source": [
    "If the stup was successful, you should see another device named /device:GPU:0"
   ]
  },
  {
   "cell_type": "markdown",
   "id": "8cfa3b03-ccce-4ed1-be0b-0a6303eaebda",
   "metadata": {},
   "source": [
    "From now on, your notebook will run on GPU"
   ]
  },
  {
   "cell_type": "markdown",
   "id": "f2711ba7-92bb-4edc-b60f-42691625f1ae",
   "metadata": {},
   "source": [
    "If you want to use CPU on the same notebook, specify your device before creating your model:"
   ]
  },
  {
   "cell_type": "code",
   "execution_count": 3,
   "id": "60de38b3-1901-41a4-8993-84d81971937f",
   "metadata": {},
   "outputs": [],
   "source": [
    "with tf.device(\"/CPU:0\"):\n",
    "    pass"
   ]
  }
 ],
 "metadata": {
  "kernelspec": {
   "display_name": "Python 3 (ipykernel)",
   "language": "python",
   "name": "python3"
  },
  "language_info": {
   "codemirror_mode": {
    "name": "ipython",
    "version": 3
   },
   "file_extension": ".py",
   "mimetype": "text/x-python",
   "name": "python",
   "nbconvert_exporter": "python",
   "pygments_lexer": "ipython3",
   "version": "3.9.12"
  }
 },
 "nbformat": 4,
 "nbformat_minor": 5
}
