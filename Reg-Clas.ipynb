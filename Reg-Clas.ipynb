{
 "cells": [
  {
   "cell_type": "code",
   "execution_count": 4,
   "id": "0c239ba9-6926-486b-b789-c1ba8ca8aeaf",
   "metadata": {},
   "outputs": [],
   "source": [
    "from utils.train import Create\n",
    "from utils.process import Format, Preprocess, Categorize, Assemble\n",
    "from utils.generate import Generate\n",
    "import pandas as pd\n",
    "from sklearn.model_selection import train_test_split"
   ]
  },
  {
   "cell_type": "code",
   "execution_count": 2,
   "id": "91547c56-8d85-4350-927b-78c08d065a6a",
   "metadata": {},
   "outputs": [],
   "source": [
    "generate = Generate()\n",
    "categorize = Categorize()\n",
    "assemble = Assemble()"
   ]
  },
  {
   "cell_type": "code",
   "execution_count": 3,
   "id": "f8b79fb4-25c6-43d3-90b0-7e32a7defbb6",
   "metadata": {},
   "outputs": [],
   "source": [
    "class Include(Create, Format, Preprocess):\n",
    "    \n",
    "    def include_feature_selection(self, model, key, model_object, X_train, X_test, y_train):\n",
    "        selector_model = model[1] \n",
    "        selector_name = selector_model['feature_selection'][0]\n",
    "        selector_algorithm = self.format_algorithm_string(selector_name)\n",
    "        selector_parameters = selector_model['feature_selection'][1]\n",
    "\n",
    "        print(f'Selecting features with {selector_name} for {key}')\n",
    "        feature_selector = self.create_feature_selection_model(model_object, selector_algorithm, selector_parameters)\n",
    "\n",
    "        X_train_selected = feature_selector.fit_transform(X_train, y_train)\n",
    "        X_test_selected = feature_selector.transform(X_test)\n",
    "        \n",
    "        return X_train_selected, X_test_selected\n",
    "    \n",
    "    def include_dimensionality_reduction(self, model, key, X_train, X_test, y_train):\n",
    "        dimentionality_reduction_model = model[1] \n",
    "        dimentionality_reduction_name = selector_model['dimentionality_reduction'][0]\n",
    "        dimentionality_reduction_algorithm = self.format_algorithm_string(selector_name)\n",
    "        dimentionality_reduction_parameters = selector_model['dimentionality_reduction'][1]\n",
    "        \n",
    "\n",
    "        print(f'Reducing dimensions with {dimentionality_reduction_name} for {key}')\n",
    "        dimensionality_reducer = self.create_feature_selection_model(dimentionality_reduction_algorithm, dimentionality_reduction_parameters)\n",
    "        \n",
    "        X_train_reduced = dimensionality_reducer.fit_transform(X_train)\n",
    "        X_test_reduced = dimensionality_reducer.transform(X_test)\n",
    "        \n",
    "        return X_train_reduced, X_test_reduced"
   ]
  },
  {
   "cell_type": "code",
   "execution_count": 53,
   "id": "2c384ceb-8966-4ad7-88a8-6bdb957329d9",
   "metadata": {},
   "outputs": [],
   "source": [
    "class Build(Include):\n",
    "    \n",
    "    def __init__(self, test_dict, feature_selection=False, dimentionality_reduction=False):\n",
    "        \n",
    "        self.test_dict = test_dict\n",
    "        self.test_dict['predictions'] = {}\n",
    "        self.test_dict['models'] = {}\n",
    "        self.test_dict['X_test'] = {}\n",
    "        self.feature_selection = feature_selection\n",
    "        self.dimensionality_reduction = dimentionality_reduction\n",
    "        \n",
    "    def build_regression_models(self, models_list, dependent_variable):\n",
    "              \n",
    "        for key, data in self.test_dict['data'].items():\n",
    "            for model in models_list:\n",
    "                \n",
    "                X_train, X_test, y_train, y_test = self.preprocess_test_data(data, dependent_variable)\n",
    "                \n",
    "                regression_model = model[0]\n",
    "                model_name = regression_model['model']\n",
    "                algorithm = self.format_algorithm_string(model_name)\n",
    "                parameters = regression_model['parameters']\n",
    "                \n",
    "                regressor = self.create_regression_model(algorithm , parameters)\n",
    "                \n",
    "                if self.feature_selection: \n",
    "                    X_train_selected, X_test_selected = self.include_feature_selection(model, key, regressor, X_train, X_test, y_train)\n",
    "                    X_train = X_train_selected\n",
    "                    X_test = X_test_selected\n",
    "                    \n",
    "                if self.dimensionality_reduction:\n",
    "                    X_train_reduced, X_test_reduce = self.include_dimensionality_reduction(model, key, X_train, X_test, y_train)\n",
    "                    X_train = X_train_reduced\n",
    "                    X_test = X_test_reduced\n",
    "\n",
    "                print(f'Training regression model {model_name} for {key}')\n",
    "                regressor.fit(X_train, y_train)\n",
    "                print(f'Training done!')\n",
    "                predictions = regressor.predict(X_test)\n",
    "                print()\n",
    "                \n",
    "                self.test_dict['models'][key+model_name] = regressor\n",
    "                self.test_dict['predictions'][key+model_name] = predictions\n",
    "                self.test_dict['X_test'][key] = X_test\n",
    "                \n",
    "        \n",
    "        self.test_dict['y_test'] = y_test\n",
    "\n",
    "    def build_classification_models(self, models_list, dependent_variable):\n",
    "              \n",
    "        for key, data in self.test_dict['data'].items():\n",
    "            for model in models_list:\n",
    "\n",
    "                X_train, X_test, y_train, y_test = self.preprocess_test_data(data, dependent_variable)\n",
    "\n",
    "                model_name = model[0]\n",
    "                algorithm = self.format_algorithm_string(model_name)\n",
    "                parameters = model[1]\n",
    "                \n",
    "                classifier = self.create_classification_model(algorithm , parameters)\n",
    "                \n",
    "                if self.feature_selection: \n",
    "                    X_train_selected, X_test_selected = self.include_feature_selection(model, key, classifier, X_train, X_test, y_train)\n",
    "                    X_train = X_train_selected\n",
    "                    X_test = X_test_selected\n",
    "                    \n",
    "                if self.dimensionality_reduction:\n",
    "                    X_train_reduced, X_test_reduce = self.include_dimensionality_reduction(model, key, X_train, X_test, y_train)\n",
    "                    X_train = X_train_reduced\n",
    "                    X_test = X_test_reduced\n",
    "\n",
    "                print(f'Training classification model {model_name} for {key}')\n",
    "                classifier.fit(X_train, y_train)\n",
    "                print(f'Training done!')\n",
    "                predictions = classifier.predict(X_test)\n",
    "                print()\n",
    "\n",
    "                self.test_dict['models'][key+model_name] = classifier\n",
    "                self.test_dict['predictions'][key+model_name] = predictions\n",
    "                self.test_dict['X_test'][key] = X_test\n",
    "\n",
    "                \n",
    "        self.test_dict['y_test'] = y_test"
   ]
  },
  {
   "cell_type": "code",
   "execution_count": 46,
   "id": "fd0d63fa-245b-49d1-80bb-e525e99d0acc",
   "metadata": {},
   "outputs": [],
   "source": [
    "models = [[{'model': 'LR1', 'parameters': {}}, {'feature_selection': ['SFM1', {}], 'dimentionality_reduction': ['PCA1', {}]}],\n",
    "          [{'model': 'RFR1', 'parameters': {'n_estimators': 20, 'criterion':'squared_error'}}, \n",
    "           {'feature_selection': ['RFE1', {'n_features_to_select': 3, 'step':1}]}]\n",
    "         ]   "
   ]
  },
  {
   "cell_type": "code",
   "execution_count": null,
   "id": "93194c51-b835-4595-9c2b-8743d5048126",
   "metadata": {},
   "outputs": [],
   "source": [
    "if len(models[0]) == 2:\n",
    "    if 'feature_selection' in models[0][1]:\n",
    "        \n",
    "    if 'dimentionality_reduction' in models[0][1]:"
   ]
  },
  {
   "cell_type": "raw",
   "id": "3ade6d0f-1670-43a9-937b-5b96023e89b6",
   "metadata": {},
   "source": [
    "model_list_length = len(models[0])\n",
    "if model_list_length == 2:\n",
    "    dimentionality_reduction = True if 'dimentionality_reduction' in models[0][1].keys() else False\n",
    "    feature_selection = True if 'feature_selections' in models[0][1].keys() else False\n",
    "\n",
    "\n",
    "if model_list_length == 2 and feature_selection: X_train, X_test, y_train, y_test = self.include_feature_selection(model, key, data, dependent_variable, regressor)"
   ]
  },
  {
   "cell_type": "raw",
   "id": "ca0dd2e9-7ec7-46b8-9f83-737dcc0a3fb2",
   "metadata": {},
   "source": [
    "regression_model = model[0]\n",
    "algorithm = regression_model['model']\n",
    "parameters = regression_model['parameters']\n",
    "\n",
    "# include\n",
    "selector_model = model[1] \n",
    "selector_name = selector_model['feature_selection'][0]\n",
    "selector_algorithm = self.format_algorithm_string(selector_name)\n",
    "selector_parameters = selector_model['feature_selection'][1]\n",
    "\n",
    "dimentionality_reduction_model = model[1] \n",
    "dimentionality_reduction_name = selector_model['dimentionality_reduction'][0]\n",
    "dimentionality_reduction_algorithm = self.format_algorithm_string(selector_name)\n",
    "dimentionality_reduction_parameters = selector_model['dimentionality_reduction'][1]\n"
   ]
  },
  {
   "cell_type": "code",
   "execution_count": 6,
   "id": "3c65cfe7-a149-40c6-b262-f5743d2a48a2",
   "metadata": {},
   "outputs": [],
   "source": [
    "df = pd.read_csv('./data/Clean_Dataset.csv')\n",
    "\n",
    "df['path'] = df['source_city'] + ' ' + df['destination_city']\n",
    "df['time'] = df['departure_time'] + ' ' + df['arrival_time']\n",
    "df.replace({'Economy':0,'Business':1}, inplace=True)\n",
    "df = df.drop(['Unnamed: 0','flight','source_city','destination_city','departure_time','arrival_time'], axis=1)\n",
    "\n",
    "days_left_ranges = generate.generate_numerical_ranges(df.days_left, [2,5,10,18])\n",
    "days_left_dict = categorize.categorize_numerical_variable(df.days_left, days_left_ranges)\n",
    "df['days_left_category'] = df['days_left'].map(days_left_dict)\n",
    "\n",
    "start = df.groupby('path').mean()['price'].min()\n",
    "finish = df.groupby('path').mean()['price'].max()\n",
    "path_ranges = generate.generate_categorical_ranges(3, start, finish)\n",
    "\n",
    "\n",
    "path_group = df.groupby('path').mean()['price']\n",
    "path_dict = categorize.categorize_categorical_variable(path_group, path_ranges)\n",
    "df['path_category'] = df['path'].map(path_dict)\n",
    "\n",
    "duration_ranges = generate.generate_numerical_ranges(df.duration, [5,18,28])\n",
    "duration_dict = categorize.categorize_numerical_variable(df.duration, duration_ranges)\n",
    "df['duration_category']=df['duration'].map(duration_dict)\n",
    "\n",
    "start = df.groupby('time').mean()['price'].min()\n",
    "finish = df.groupby('time').mean()['price'].max()\n",
    "time_ranges = generate.generate_categorical_ranges(3, start, finish)\n",
    "\n",
    "\n",
    "time_group = df.groupby('time').mean()['price']\n",
    "time_dict = categorize.categorize_categorical_variable(time_group, time_ranges)\n",
    "df['time_category'] = df['time'].map(time_dict)"
   ]
  },
  {
   "cell_type": "code",
   "execution_count": 7,
   "id": "0f95c6ec-8639-44e5-9dd3-0e2f027032b1",
   "metadata": {},
   "outputs": [],
   "source": [
    "df.drop(['days_left','path','duration','time'], axis=1, inplace=True)"
   ]
  },
  {
   "cell_type": "code",
   "execution_count": 47,
   "id": "e2ea803e-e44e-4988-af2b-a6edf1a7925e",
   "metadata": {},
   "outputs": [],
   "source": [
    "all_regression_test_dict = {}"
   ]
  },
  {
   "cell_type": "code",
   "execution_count": 48,
   "id": "5b8fc66c-21be-4de1-b52d-4474cd2ab659",
   "metadata": {},
   "outputs": [],
   "source": [
    "all_regression_test_dict['data'] = {'A1':df}"
   ]
  },
  {
   "cell_type": "code",
   "execution_count": 49,
   "id": "790b2618-0a06-467a-9eeb-3da681168ab7",
   "metadata": {},
   "outputs": [],
   "source": [
    "build = Build(all_regression_test_dict, feature_selection=True)"
   ]
  },
  {
   "cell_type": "code",
   "execution_count": 50,
   "id": "d1733941-6954-44fb-b9dc-f85e271bee99",
   "metadata": {},
   "outputs": [
    {
     "name": "stdout",
     "output_type": "stream",
     "text": [
      "Selecting features with SFM1 for A1\n",
      "Training regression model LR1 for A1\n",
      "Training done!\n",
      "\n",
      "Selecting features with RFE1 for A1\n",
      "Training regression model RFR1 for A1\n",
      "Training done!\n",
      "\n"
     ]
    }
   ],
   "source": [
    "build.build_regression_models(models, 'price')"
   ]
  },
  {
   "cell_type": "code",
   "execution_count": 38,
   "id": "51320a0f-1018-4f72-9a00-bf13fcbbf03e",
   "metadata": {},
   "outputs": [],
   "source": [
    "all_test_tables_dict = assemble.assemble_test_tables( all_regression_test_dict)"
   ]
  },
  {
   "cell_type": "code",
   "execution_count": 40,
   "id": "63e34c8d-c6ed-42b0-a58a-838cb0733e87",
   "metadata": {},
   "outputs": [
    {
     "data": {
      "text/html": [
       "<div>\n",
       "<style scoped>\n",
       "    .dataframe tbody tr th:only-of-type {\n",
       "        vertical-align: middle;\n",
       "    }\n",
       "\n",
       "    .dataframe tbody tr th {\n",
       "        vertical-align: top;\n",
       "    }\n",
       "\n",
       "    .dataframe thead th {\n",
       "        text-align: right;\n",
       "    }\n",
       "</style>\n",
       "<table border=\"1\" class=\"dataframe\">\n",
       "  <thead>\n",
       "    <tr style=\"text-align: right;\">\n",
       "      <th></th>\n",
       "      <th>MEPE</th>\n",
       "      <th>MPE</th>\n",
       "      <th>MEAE</th>\n",
       "      <th>MAE</th>\n",
       "      <th>MSE</th>\n",
       "      <th>RMSE</th>\n",
       "      <th>NRMSE</th>\n",
       "      <th>STD</th>\n",
       "    </tr>\n",
       "  </thead>\n",
       "  <tbody>\n",
       "    <tr>\n",
       "      <th>A1LR1</th>\n",
       "      <td>20.776</td>\n",
       "      <td>35.326</td>\n",
       "      <td>2158.929</td>\n",
       "      <td>4437.361</td>\n",
       "      <td>5.671149e+07</td>\n",
       "      <td>7530.703</td>\n",
       "      <td>0.066291</td>\n",
       "      <td>22612.54</td>\n",
       "    </tr>\n",
       "    <tr>\n",
       "      <th>A1RFR1</th>\n",
       "      <td>25.525</td>\n",
       "      <td>37.096</td>\n",
       "      <td>2501.620</td>\n",
       "      <td>4038.184</td>\n",
       "      <td>3.730481e+07</td>\n",
       "      <td>6107.766</td>\n",
       "      <td>0.053766</td>\n",
       "      <td>22612.54</td>\n",
       "    </tr>\n",
       "  </tbody>\n",
       "</table>\n",
       "</div>"
      ],
      "text/plain": [
       "          MEPE     MPE      MEAE       MAE           MSE      RMSE     NRMSE  \\\n",
       "A1LR1   20.776  35.326  2158.929  4437.361  5.671149e+07  7530.703  0.066291   \n",
       "A1RFR1  25.525  37.096  2501.620  4038.184  3.730481e+07  6107.766  0.053766   \n",
       "\n",
       "             STD  \n",
       "A1LR1   22612.54  \n",
       "A1RFR1  22612.54  "
      ]
     },
     "execution_count": 40,
     "metadata": {},
     "output_type": "execute_result"
    }
   ],
   "source": [
    "all_regression_test_dict['test_tables'] = all_test_tables_dict\n",
    "assemble.assemble_error_values(all_regression_test_dict)"
   ]
  },
  {
   "cell_type": "code",
   "execution_count": 169,
   "id": "f24c1bba-5105-4826-bd62-1f91f9deaab3",
   "metadata": {},
   "outputs": [],
   "source": [
    "build = Build(all_regression_test_dict)"
   ]
  },
  {
   "cell_type": "code",
   "execution_count": 170,
   "id": "4671e555-427a-4113-8bea-59480c430f7d",
   "metadata": {},
   "outputs": [
    {
     "name": "stdout",
     "output_type": "stream",
     "text": [
      "Training regression model LR1 for A1\n",
      "Training done!\n",
      "\n",
      "Training regression model RFR1 for A1\n",
      "Training done!\n",
      "\n"
     ]
    }
   ],
   "source": [
    "build.build_regression_models(models, 'price')"
   ]
  },
  {
   "cell_type": "code",
   "execution_count": 171,
   "id": "e96945cd-7424-4c96-ba31-3e47916642a3",
   "metadata": {},
   "outputs": [
    {
     "data": {
      "text/html": [
       "<div>\n",
       "<style scoped>\n",
       "    .dataframe tbody tr th:only-of-type {\n",
       "        vertical-align: middle;\n",
       "    }\n",
       "\n",
       "    .dataframe tbody tr th {\n",
       "        vertical-align: top;\n",
       "    }\n",
       "\n",
       "    .dataframe thead th {\n",
       "        text-align: right;\n",
       "    }\n",
       "</style>\n",
       "<table border=\"1\" class=\"dataframe\">\n",
       "  <thead>\n",
       "    <tr style=\"text-align: right;\">\n",
       "      <th></th>\n",
       "      <th>MEPE</th>\n",
       "      <th>MPE</th>\n",
       "      <th>MEAE</th>\n",
       "      <th>MAE</th>\n",
       "      <th>MSE</th>\n",
       "      <th>RMSE</th>\n",
       "      <th>NRMSE</th>\n",
       "      <th>STD</th>\n",
       "    </tr>\n",
       "  </thead>\n",
       "  <tbody>\n",
       "    <tr>\n",
       "      <th>A1LR1</th>\n",
       "      <td>25.709</td>\n",
       "      <td>45.028</td>\n",
       "      <td>2964.628</td>\n",
       "      <td>4425.619</td>\n",
       "      <td>4.376366e+07</td>\n",
       "      <td>6615.411</td>\n",
       "      <td>0.058234</td>\n",
       "      <td>22612.54</td>\n",
       "    </tr>\n",
       "    <tr>\n",
       "      <th>A1RFR1</th>\n",
       "      <td>14.546</td>\n",
       "      <td>21.544</td>\n",
       "      <td>1419.328</td>\n",
       "      <td>2942.615</td>\n",
       "      <td>2.533177e+07</td>\n",
       "      <td>5033.067</td>\n",
       "      <td>0.044305</td>\n",
       "      <td>22612.54</td>\n",
       "    </tr>\n",
       "  </tbody>\n",
       "</table>\n",
       "</div>"
      ],
      "text/plain": [
       "          MEPE     MPE      MEAE       MAE           MSE      RMSE     NRMSE       STD\n",
       "A1LR1   25.709  45.028  2964.628  4425.619  4.376366e+07  6615.411  0.058234  22612.54\n",
       "A1RFR1  14.546  21.544  1419.328  2942.615  2.533177e+07  5033.067  0.044305  22612.54"
      ]
     },
     "execution_count": 171,
     "metadata": {},
     "output_type": "execute_result"
    }
   ],
   "source": [
    "all_test_tables_dict = assemble.assemble_test_tables( all_regression_test_dict)\n",
    "all_regression_test_dict['test_tables'] = all_test_tables_dict\n",
    "assemble.assemble_error_values(all_regression_test_dict)"
   ]
  },
  {
   "cell_type": "code",
   "execution_count": 51,
   "id": "105c3e76-cbd9-458f-bb51-492b3e369988",
   "metadata": {},
   "outputs": [],
   "source": [
    "def build_feature_selected_regression_models(self, models_list, dependent_variable):\n",
    "\n",
    "    for key, data in self.test_dict['data'].items():\n",
    "\n",
    "        for model in models_list:\n",
    "\n",
    "            model_name = model[0]\n",
    "            parameters = model[1]\n",
    "            algorithm = self.format_algorithm_string(model_name)\n",
    "            selector_name = model[2]\n",
    "            selector_algorithm = self.format_algorithm_string(selector_name)\n",
    "            selector_parameters = model[3]\n",
    "\n",
    "            X, y, _ = self.preprocess_data(data, dependent_variable)\n",
    "\n",
    "            regressor = self.create_regression_model(algorithm , parameters)\n",
    "\n",
    "            print(f'Selecting features with {selector_name} for {key}')\n",
    "            feature_selector = self.create_feature_selection_model(regressor, selector_algorithm, selector_parameters)\n",
    "\n",
    "            X_selected = feature_selector.fit_transform(X, y)\n",
    "\n",
    "            X_train, X_test, y_train, y_test = train_test_split(X_selected, y, test_size=0.2, random_state=0)\n",
    "\n",
    "            print(f'Training regression model {model_name} for {key}')\n",
    "            regressor.fit(X_train, y_train)\n",
    "            print(f'Training done!')\n",
    "            predictions = regressor.predict(X_test)\n",
    "            print()\n",
    "\n",
    "            self.test_dict['models'][key+model_name+selector_name] = regressor\n",
    "            self.test_dict['predictions'][key+model_name] = predictions\n",
    "            self.test_dict['X_test'][key] = X_test\n",
    "\n",
    "    self.test_dict['y_test'] = y_test"
   ]
  },
  {
   "cell_type": "markdown",
   "id": "313ab01d-1335-405b-a792-afec8b117528",
   "metadata": {},
   "source": [
    "# Before - After Split"
   ]
  },
  {
   "cell_type": "code",
   "execution_count": 200,
   "id": "f3023713-b167-41df-91fa-d6ee473d7e72",
   "metadata": {},
   "outputs": [],
   "source": [
    "from sklearn.feature_selection import SelectFromModel\n",
    "from sklearn.preprocessing import MinMaxScaler\n",
    "from sklearn.model_selection import train_test_split\n",
    "from sklearn.metrics import mean_squared_error\n",
    "from sklearn.ensemble import RandomForestRegressor\n",
    "import numpy as np"
   ]
  },
  {
   "cell_type": "code",
   "execution_count": 255,
   "id": "03db5443-07a7-4ac2-9dc3-f3c98377ed9a",
   "metadata": {},
   "outputs": [],
   "source": [
    "X = df.drop('price', axis=1)\n",
    "y = df.price\n",
    "\n",
    "X = pd.get_dummies(X, drop_first=True)\n",
    "\n",
    "X1, X2, y1, y2 = train_test_split(X, y, test_size=0.2)\n",
    "rfr = RandomForestRegressor()"
   ]
  },
  {
   "cell_type": "code",
   "execution_count": 248,
   "id": "4aade99c-f598-4e9f-b73e-c2822369e450",
   "metadata": {},
   "outputs": [
    {
     "data": {
      "text/plain": [
       "240122.40000000002"
      ]
     },
     "execution_count": 248,
     "metadata": {},
     "output_type": "execute_result"
    }
   ],
   "source": [
    "len(df) *.8"
   ]
  },
  {
   "cell_type": "markdown",
   "id": "db84cb5a-80a4-4014-a137-d9541d6707a2",
   "metadata": {},
   "source": [
    "## Before"
   ]
  },
  {
   "cell_type": "code",
   "execution_count": 249,
   "id": "13ae5559-197d-4e06-bfca-b3503e7cbed9",
   "metadata": {},
   "outputs": [],
   "source": [
    "feature_selector = SelectFromModel(rfr)\n",
    "X1_selected = feature_selector.fit_transform(X1, y1)"
   ]
  },
  {
   "cell_type": "code",
   "execution_count": 250,
   "id": "65497e8a-7e87-45e7-86af-349b29636724",
   "metadata": {},
   "outputs": [],
   "source": [
    "X1_train, X1_test, y1_train, y1_test = train_test_split(X1_selected, y1, test_size=0.2, random_state=0)"
   ]
  },
  {
   "cell_type": "code",
   "execution_count": 251,
   "id": "9483e60f-4b86-4012-9e6c-b2d4d76b62f5",
   "metadata": {},
   "outputs": [
    {
     "data": {
      "text/html": [
       "<style>#sk-container-id-8 {color: black;background-color: white;}#sk-container-id-8 pre{padding: 0;}#sk-container-id-8 div.sk-toggleable {background-color: white;}#sk-container-id-8 label.sk-toggleable__label {cursor: pointer;display: block;width: 100%;margin-bottom: 0;padding: 0.3em;box-sizing: border-box;text-align: center;}#sk-container-id-8 label.sk-toggleable__label-arrow:before {content: \"▸\";float: left;margin-right: 0.25em;color: #696969;}#sk-container-id-8 label.sk-toggleable__label-arrow:hover:before {color: black;}#sk-container-id-8 div.sk-estimator:hover label.sk-toggleable__label-arrow:before {color: black;}#sk-container-id-8 div.sk-toggleable__content {max-height: 0;max-width: 0;overflow: hidden;text-align: left;background-color: #f0f8ff;}#sk-container-id-8 div.sk-toggleable__content pre {margin: 0.2em;color: black;border-radius: 0.25em;background-color: #f0f8ff;}#sk-container-id-8 input.sk-toggleable__control:checked~div.sk-toggleable__content {max-height: 200px;max-width: 100%;overflow: auto;}#sk-container-id-8 input.sk-toggleable__control:checked~label.sk-toggleable__label-arrow:before {content: \"▾\";}#sk-container-id-8 div.sk-estimator input.sk-toggleable__control:checked~label.sk-toggleable__label {background-color: #d4ebff;}#sk-container-id-8 div.sk-label input.sk-toggleable__control:checked~label.sk-toggleable__label {background-color: #d4ebff;}#sk-container-id-8 input.sk-hidden--visually {border: 0;clip: rect(1px 1px 1px 1px);clip: rect(1px, 1px, 1px, 1px);height: 1px;margin: -1px;overflow: hidden;padding: 0;position: absolute;width: 1px;}#sk-container-id-8 div.sk-estimator {font-family: monospace;background-color: #f0f8ff;border: 1px dotted black;border-radius: 0.25em;box-sizing: border-box;margin-bottom: 0.5em;}#sk-container-id-8 div.sk-estimator:hover {background-color: #d4ebff;}#sk-container-id-8 div.sk-parallel-item::after {content: \"\";width: 100%;border-bottom: 1px solid gray;flex-grow: 1;}#sk-container-id-8 div.sk-label:hover label.sk-toggleable__label {background-color: #d4ebff;}#sk-container-id-8 div.sk-serial::before {content: \"\";position: absolute;border-left: 1px solid gray;box-sizing: border-box;top: 0;bottom: 0;left: 50%;z-index: 0;}#sk-container-id-8 div.sk-serial {display: flex;flex-direction: column;align-items: center;background-color: white;padding-right: 0.2em;padding-left: 0.2em;position: relative;}#sk-container-id-8 div.sk-item {position: relative;z-index: 1;}#sk-container-id-8 div.sk-parallel {display: flex;align-items: stretch;justify-content: center;background-color: white;position: relative;}#sk-container-id-8 div.sk-item::before, #sk-container-id-8 div.sk-parallel-item::before {content: \"\";position: absolute;border-left: 1px solid gray;box-sizing: border-box;top: 0;bottom: 0;left: 50%;z-index: -1;}#sk-container-id-8 div.sk-parallel-item {display: flex;flex-direction: column;z-index: 1;position: relative;background-color: white;}#sk-container-id-8 div.sk-parallel-item:first-child::after {align-self: flex-end;width: 50%;}#sk-container-id-8 div.sk-parallel-item:last-child::after {align-self: flex-start;width: 50%;}#sk-container-id-8 div.sk-parallel-item:only-child::after {width: 0;}#sk-container-id-8 div.sk-dashed-wrapped {border: 1px dashed gray;margin: 0 0.4em 0.5em 0.4em;box-sizing: border-box;padding-bottom: 0.4em;background-color: white;}#sk-container-id-8 div.sk-label label {font-family: monospace;font-weight: bold;display: inline-block;line-height: 1.2em;}#sk-container-id-8 div.sk-label-container {text-align: center;}#sk-container-id-8 div.sk-container {/* jupyter's `normalize.less` sets `[hidden] { display: none; }` but bootstrap.min.css set `[hidden] { display: none !important; }` so we also need the `!important` here to be able to override the default hidden behavior on the sphinx rendered scikit-learn.org. See: https://github.com/scikit-learn/scikit-learn/issues/21755 */display: inline-block !important;position: relative;}#sk-container-id-8 div.sk-text-repr-fallback {display: none;}</style><div id=\"sk-container-id-8\" class=\"sk-top-container\"><div class=\"sk-text-repr-fallback\"><pre>RandomForestRegressor(n_estimators=50, random_state=0)</pre><b>In a Jupyter environment, please rerun this cell to show the HTML representation or trust the notebook. <br />On GitHub, the HTML representation is unable to render, please try loading this page with nbviewer.org.</b></div><div class=\"sk-container\" hidden><div class=\"sk-item\"><div class=\"sk-estimator sk-toggleable\"><input class=\"sk-toggleable__control sk-hidden--visually\" id=\"sk-estimator-id-8\" type=\"checkbox\" checked><label for=\"sk-estimator-id-8\" class=\"sk-toggleable__label sk-toggleable__label-arrow\">RandomForestRegressor</label><div class=\"sk-toggleable__content\"><pre>RandomForestRegressor(n_estimators=50, random_state=0)</pre></div></div></div></div></div>"
      ],
      "text/plain": [
       "RandomForestRegressor(n_estimators=50, random_state=0)"
      ]
     },
     "execution_count": 251,
     "metadata": {},
     "output_type": "execute_result"
    }
   ],
   "source": [
    "rfr = RandomForestRegressor(n_estimators=50, random_state=0)\n",
    "rfr.fit(X1_train, y1_train)"
   ]
  },
  {
   "cell_type": "code",
   "execution_count": 252,
   "id": "c82d1962-20b8-410e-88a9-035c75ecf776",
   "metadata": {},
   "outputs": [],
   "source": [
    "X2_selected = feature_selector.transform(X2)"
   ]
  },
  {
   "cell_type": "code",
   "execution_count": 253,
   "id": "c975f5ab-57d6-421f-9df4-fa8c2cd977b1",
   "metadata": {},
   "outputs": [],
   "source": [
    "preds = rfr.predict(X2_selected)"
   ]
  },
  {
   "cell_type": "code",
   "execution_count": 254,
   "id": "f7d2cdeb-6a22-4178-aa23-111e1e49bcd2",
   "metadata": {},
   "outputs": [
    {
     "name": "stdout",
     "output_type": "stream",
     "text": [
      "RMSE:  7892.805\n"
     ]
    }
   ],
   "source": [
    "mse = round(mean_squared_error(y2, preds), 3)\n",
    "rmse = round(np.sqrt(mse), 3)\n",
    "print('RMSE: ',rmse)"
   ]
  },
  {
   "cell_type": "markdown",
   "id": "4347a0de-6225-4665-a006-35159be51032",
   "metadata": {},
   "source": [
    "## After"
   ]
  },
  {
   "cell_type": "code",
   "execution_count": 256,
   "id": "b319dc61-b18a-4ae6-aa9f-e0f87ac71ddf",
   "metadata": {},
   "outputs": [],
   "source": [
    "X1_train, X1_test, y1_train, y1_test = train_test_split(X1, y1, test_size=0.2, random_state=0)"
   ]
  },
  {
   "cell_type": "code",
   "execution_count": 257,
   "id": "a1879160-68b2-413b-8c72-c4706994058c",
   "metadata": {},
   "outputs": [],
   "source": [
    "feature_selector = SelectFromModel(rfr)\n",
    "X1_train_selected = feature_selector.fit_transform(X1_train, y1_train)"
   ]
  },
  {
   "cell_type": "code",
   "execution_count": 258,
   "id": "9f8ff427-597e-4466-947d-ad6f7f84d3d3",
   "metadata": {},
   "outputs": [
    {
     "data": {
      "text/html": [
       "<style>#sk-container-id-9 {color: black;background-color: white;}#sk-container-id-9 pre{padding: 0;}#sk-container-id-9 div.sk-toggleable {background-color: white;}#sk-container-id-9 label.sk-toggleable__label {cursor: pointer;display: block;width: 100%;margin-bottom: 0;padding: 0.3em;box-sizing: border-box;text-align: center;}#sk-container-id-9 label.sk-toggleable__label-arrow:before {content: \"▸\";float: left;margin-right: 0.25em;color: #696969;}#sk-container-id-9 label.sk-toggleable__label-arrow:hover:before {color: black;}#sk-container-id-9 div.sk-estimator:hover label.sk-toggleable__label-arrow:before {color: black;}#sk-container-id-9 div.sk-toggleable__content {max-height: 0;max-width: 0;overflow: hidden;text-align: left;background-color: #f0f8ff;}#sk-container-id-9 div.sk-toggleable__content pre {margin: 0.2em;color: black;border-radius: 0.25em;background-color: #f0f8ff;}#sk-container-id-9 input.sk-toggleable__control:checked~div.sk-toggleable__content {max-height: 200px;max-width: 100%;overflow: auto;}#sk-container-id-9 input.sk-toggleable__control:checked~label.sk-toggleable__label-arrow:before {content: \"▾\";}#sk-container-id-9 div.sk-estimator input.sk-toggleable__control:checked~label.sk-toggleable__label {background-color: #d4ebff;}#sk-container-id-9 div.sk-label input.sk-toggleable__control:checked~label.sk-toggleable__label {background-color: #d4ebff;}#sk-container-id-9 input.sk-hidden--visually {border: 0;clip: rect(1px 1px 1px 1px);clip: rect(1px, 1px, 1px, 1px);height: 1px;margin: -1px;overflow: hidden;padding: 0;position: absolute;width: 1px;}#sk-container-id-9 div.sk-estimator {font-family: monospace;background-color: #f0f8ff;border: 1px dotted black;border-radius: 0.25em;box-sizing: border-box;margin-bottom: 0.5em;}#sk-container-id-9 div.sk-estimator:hover {background-color: #d4ebff;}#sk-container-id-9 div.sk-parallel-item::after {content: \"\";width: 100%;border-bottom: 1px solid gray;flex-grow: 1;}#sk-container-id-9 div.sk-label:hover label.sk-toggleable__label {background-color: #d4ebff;}#sk-container-id-9 div.sk-serial::before {content: \"\";position: absolute;border-left: 1px solid gray;box-sizing: border-box;top: 0;bottom: 0;left: 50%;z-index: 0;}#sk-container-id-9 div.sk-serial {display: flex;flex-direction: column;align-items: center;background-color: white;padding-right: 0.2em;padding-left: 0.2em;position: relative;}#sk-container-id-9 div.sk-item {position: relative;z-index: 1;}#sk-container-id-9 div.sk-parallel {display: flex;align-items: stretch;justify-content: center;background-color: white;position: relative;}#sk-container-id-9 div.sk-item::before, #sk-container-id-9 div.sk-parallel-item::before {content: \"\";position: absolute;border-left: 1px solid gray;box-sizing: border-box;top: 0;bottom: 0;left: 50%;z-index: -1;}#sk-container-id-9 div.sk-parallel-item {display: flex;flex-direction: column;z-index: 1;position: relative;background-color: white;}#sk-container-id-9 div.sk-parallel-item:first-child::after {align-self: flex-end;width: 50%;}#sk-container-id-9 div.sk-parallel-item:last-child::after {align-self: flex-start;width: 50%;}#sk-container-id-9 div.sk-parallel-item:only-child::after {width: 0;}#sk-container-id-9 div.sk-dashed-wrapped {border: 1px dashed gray;margin: 0 0.4em 0.5em 0.4em;box-sizing: border-box;padding-bottom: 0.4em;background-color: white;}#sk-container-id-9 div.sk-label label {font-family: monospace;font-weight: bold;display: inline-block;line-height: 1.2em;}#sk-container-id-9 div.sk-label-container {text-align: center;}#sk-container-id-9 div.sk-container {/* jupyter's `normalize.less` sets `[hidden] { display: none; }` but bootstrap.min.css set `[hidden] { display: none !important; }` so we also need the `!important` here to be able to override the default hidden behavior on the sphinx rendered scikit-learn.org. See: https://github.com/scikit-learn/scikit-learn/issues/21755 */display: inline-block !important;position: relative;}#sk-container-id-9 div.sk-text-repr-fallback {display: none;}</style><div id=\"sk-container-id-9\" class=\"sk-top-container\"><div class=\"sk-text-repr-fallback\"><pre>RandomForestRegressor(n_estimators=50, random_state=0)</pre><b>In a Jupyter environment, please rerun this cell to show the HTML representation or trust the notebook. <br />On GitHub, the HTML representation is unable to render, please try loading this page with nbviewer.org.</b></div><div class=\"sk-container\" hidden><div class=\"sk-item\"><div class=\"sk-estimator sk-toggleable\"><input class=\"sk-toggleable__control sk-hidden--visually\" id=\"sk-estimator-id-9\" type=\"checkbox\" checked><label for=\"sk-estimator-id-9\" class=\"sk-toggleable__label sk-toggleable__label-arrow\">RandomForestRegressor</label><div class=\"sk-toggleable__content\"><pre>RandomForestRegressor(n_estimators=50, random_state=0)</pre></div></div></div></div></div>"
      ],
      "text/plain": [
       "RandomForestRegressor(n_estimators=50, random_state=0)"
      ]
     },
     "execution_count": 258,
     "metadata": {},
     "output_type": "execute_result"
    }
   ],
   "source": [
    "rfr = RandomForestRegressor(n_estimators=50, random_state=0)\n",
    "rfr.fit(X1_train_selected, y1_train)"
   ]
  },
  {
   "cell_type": "code",
   "execution_count": 259,
   "id": "715264e1-a41b-49b6-99a7-6387ed1cfca1",
   "metadata": {},
   "outputs": [],
   "source": [
    "X2_selected = feature_selector.transform(X2)"
   ]
  },
  {
   "cell_type": "code",
   "execution_count": 260,
   "id": "bee8eb00-415d-4a7d-a3b6-07475958c52a",
   "metadata": {},
   "outputs": [],
   "source": [
    "preds = rfr.predict(X2_selected)"
   ]
  },
  {
   "cell_type": "code",
   "execution_count": 261,
   "id": "63b3e96c-3e06-4e73-a1dc-8e73439cc7bd",
   "metadata": {},
   "outputs": [
    {
     "name": "stdout",
     "output_type": "stream",
     "text": [
      "RMSE:  7879.047\n"
     ]
    }
   ],
   "source": [
    "mse = round(mean_squared_error(y2, preds), 3)\n",
    "rmse = round(np.sqrt(mse), 3)\n",
    "print('RMSE: ',rmse)"
   ]
  }
 ],
 "metadata": {
  "kernelspec": {
   "display_name": "ml",
   "language": "python",
   "name": "ml"
  },
  "language_info": {
   "codemirror_mode": {
    "name": "ipython",
    "version": 3
   },
   "file_extension": ".py",
   "mimetype": "text/x-python",
   "name": "python",
   "nbconvert_exporter": "python",
   "pygments_lexer": "ipython3",
   "version": "3.10.4"
  }
 },
 "nbformat": 4,
 "nbformat_minor": 5
}
