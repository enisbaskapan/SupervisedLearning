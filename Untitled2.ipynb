{
 "cells": [
  {
   "cell_type": "code",
   "execution_count": 1,
   "id": "5e614b2a-3ce8-46d2-b2be-804611f5202b",
   "metadata": {},
   "outputs": [],
   "source": [
    "from utils.train import Create, Build\n",
    "from utils.process import Format, Preprocess, Categorize, Assemble\n",
    "from utils.generate import Generate\n",
    "from utils.test import Test\n",
    "import pandas as pd\n",
    "from sklearn.model_selection import train_test_split"
   ]
  },
  {
   "cell_type": "code",
   "execution_count": 2,
   "id": "9eb38436-46d6-4f56-af8e-5fd122bba311",
   "metadata": {},
   "outputs": [],
   "source": [
    "generate = Generate()\n",
    "categorize = Categorize()\n",
    "assemble = Assemble()\n",
    "test = Test()"
   ]
  },
  {
   "cell_type": "markdown",
   "id": "39252958-ca93-4ace-a4f5-646041be1a15",
   "metadata": {},
   "source": [
    "# Regression"
   ]
  },
  {
   "cell_type": "code",
   "execution_count": 8,
   "id": "1ccbbcb8-da7c-4023-a77a-4f863036a88a",
   "metadata": {},
   "outputs": [],
   "source": [
    "models = [[{'model': 'LR1', 'parameters': {}}, {'feature_selection': ['SFM1', {}], 'dimensionality_reduction': ['PCA1', {}]}],\n",
    "          [{'model': 'RFR1', 'parameters': {'n_estimators': 20, 'criterion':'squared_error'}}, \n",
    "           {'feature_selection': ['RFE1', {'n_features_to_select': 3, 'step':1}], 'dimensionality_reduction': ['PCA1', {}]}]\n",
    "         ]   "
   ]
  },
  {
   "cell_type": "code",
   "execution_count": 9,
   "id": "a215f05b-a0b4-4071-9a49-713e622d9056",
   "metadata": {},
   "outputs": [],
   "source": [
    "df = pd.read_csv('./data/Clean_Dataset.csv')\n",
    "\n",
    "df['path'] = df['source_city'] + ' ' + df['destination_city']\n",
    "df['time'] = df['departure_time'] + ' ' + df['arrival_time']\n",
    "df.replace({'Economy':0,'Business':1}, inplace=True)\n",
    "df = df.drop(['Unnamed: 0','flight','source_city','destination_city','departure_time','arrival_time'], axis=1)\n",
    "\n",
    "days_left_ranges = generate.generate_numerical_ranges(df.days_left, [2,5,10,18])\n",
    "days_left_dict = categorize.categorize_numerical_variable(df.days_left, days_left_ranges)\n",
    "df['days_left_category'] = df['days_left'].map(days_left_dict)\n",
    "\n",
    "start = df.groupby('path').mean()['price'].min()\n",
    "finish = df.groupby('path').mean()['price'].max()\n",
    "path_ranges = generate.generate_categorical_ranges(3, start, finish)\n",
    "\n",
    "\n",
    "path_group = df.groupby('path').mean()['price']\n",
    "path_dict = categorize.categorize_categorical_variable(path_group, path_ranges)\n",
    "df['path_category'] = df['path'].map(path_dict)\n",
    "\n",
    "duration_ranges = generate.generate_numerical_ranges(df.duration, [5,18,28])\n",
    "duration_dict = categorize.categorize_numerical_variable(df.duration, duration_ranges)\n",
    "df['duration_category']=df['duration'].map(duration_dict)\n",
    "\n",
    "start = df.groupby('time').mean()['price'].min()\n",
    "finish = df.groupby('time').mean()['price'].max()\n",
    "time_ranges = generate.generate_categorical_ranges(3, start, finish)\n",
    "\n",
    "\n",
    "time_group = df.groupby('time').mean()['price']\n",
    "time_dict = categorize.categorize_categorical_variable(time_group, time_ranges)\n",
    "df['time_category'] = df['time'].map(time_dict)\n",
    "\n",
    "df.drop(['days_left','path','duration','time'], axis=1, inplace=True)"
   ]
  },
  {
   "cell_type": "code",
   "execution_count": 9,
   "id": "6013e8d1-d178-4ae6-bff9-d482e4d5fe60",
   "metadata": {},
   "outputs": [],
   "source": [
    "all_regression_test_dict = {}\n",
    "all_regression_test_dict['data'] = {'A1':df}"
   ]
  },
  {
   "cell_type": "code",
   "execution_count": 10,
   "id": "8ebcaa86-689f-40c4-b3f4-de38e4998457",
   "metadata": {},
   "outputs": [
    {
     "name": "stdout",
     "output_type": "stream",
     "text": [
      "Selecting features with SFM1 for A1\n",
      "Reducing dimensions with PCA1 for A1\n",
      "Training regression model LR1 for A1\n",
      "Training done!\n",
      "\n",
      "Selecting features with RFE1 for A1\n",
      "Reducing dimensions with PCA1 for A1\n",
      "Training regression model RFR1 for A1\n",
      "Training done!\n",
      "\n"
     ]
    }
   ],
   "source": [
    "build = Build(all_regression_test_dict, feature_selection=True, dimensionality_reduction=True)\n",
    "build.build_regression_models(models, 'price')"
   ]
  },
  {
   "cell_type": "code",
   "execution_count": 11,
   "id": "05df6481-b63a-484d-96df-23a948ecc013",
   "metadata": {},
   "outputs": [
    {
     "data": {
      "text/html": [
       "<div>\n",
       "<style scoped>\n",
       "    .dataframe tbody tr th:only-of-type {\n",
       "        vertical-align: middle;\n",
       "    }\n",
       "\n",
       "    .dataframe tbody tr th {\n",
       "        vertical-align: top;\n",
       "    }\n",
       "\n",
       "    .dataframe thead th {\n",
       "        text-align: right;\n",
       "    }\n",
       "</style>\n",
       "<table border=\"1\" class=\"dataframe\">\n",
       "  <thead>\n",
       "    <tr style=\"text-align: right;\">\n",
       "      <th></th>\n",
       "      <th>MEPE</th>\n",
       "      <th>MPE</th>\n",
       "      <th>MEAE</th>\n",
       "      <th>MAE</th>\n",
       "      <th>MSE</th>\n",
       "      <th>RMSE</th>\n",
       "      <th>NRMSE</th>\n",
       "      <th>STD</th>\n",
       "    </tr>\n",
       "  </thead>\n",
       "  <tbody>\n",
       "    <tr>\n",
       "      <th>A1LR1SFM1PCA1</th>\n",
       "      <td>20.776</td>\n",
       "      <td>35.326</td>\n",
       "      <td>2158.929</td>\n",
       "      <td>4437.361</td>\n",
       "      <td>5.671149e+07</td>\n",
       "      <td>7530.703</td>\n",
       "      <td>0.066291</td>\n",
       "      <td>22612.54</td>\n",
       "    </tr>\n",
       "    <tr>\n",
       "      <th>A1RFR1RFE1PCA1</th>\n",
       "      <td>25.540</td>\n",
       "      <td>37.092</td>\n",
       "      <td>2499.899</td>\n",
       "      <td>4037.789</td>\n",
       "      <td>3.730425e+07</td>\n",
       "      <td>6107.721</td>\n",
       "      <td>0.053765</td>\n",
       "      <td>22612.54</td>\n",
       "    </tr>\n",
       "  </tbody>\n",
       "</table>\n",
       "</div>"
      ],
      "text/plain": [
       "                  MEPE     MPE      MEAE       MAE           MSE      RMSE  \\\n",
       "A1LR1SFM1PCA1   20.776  35.326  2158.929  4437.361  5.671149e+07  7530.703   \n",
       "A1RFR1RFE1PCA1  25.540  37.092  2499.899  4037.789  3.730425e+07  6107.721   \n",
       "\n",
       "                   NRMSE       STD  \n",
       "A1LR1SFM1PCA1   0.066291  22612.54  \n",
       "A1RFR1RFE1PCA1  0.053765  22612.54  "
      ]
     },
     "execution_count": 11,
     "metadata": {},
     "output_type": "execute_result"
    }
   ],
   "source": [
    "all_test_tables_dict = assemble.assemble_test_tables( all_regression_test_dict)\n",
    "all_regression_test_dict['test_tables'] = all_test_tables_dict\n",
    "assemble.assemble_error_values(all_regression_test_dict)"
   ]
  },
  {
   "cell_type": "code",
   "execution_count": 16,
   "id": "6f77fcdd-f59d-4305-aa7c-35dc8122c76d",
   "metadata": {},
   "outputs": [
    {
     "data": {
      "text/plain": [
       "{'A1LR1SFM1': array([ 8020.6083135 , 51247.63261611,  8020.6083135 , ...,\n",
       "         5331.07079845,  8020.6083135 ,  5331.07079845]),\n",
       " 'A1RFR1RFE1': array([ 6781.19851301, 57826.12632473,  4079.55203241, ...,\n",
       "         7551.78385336,  6781.19851301,  4011.61191443])}"
      ]
     },
     "execution_count": 16,
     "metadata": {},
     "output_type": "execute_result"
    }
   ],
   "source": [
    "all_regression_test_dict['predictions']"
   ]
  },
  {
   "cell_type": "markdown",
   "id": "a6f0a0d7-1a0a-447b-88b6-b9e2f0c93a86",
   "metadata": {},
   "source": [
    "# Classification"
   ]
  },
  {
   "cell_type": "code",
   "execution_count": 3,
   "id": "efb047a9-abbe-43ff-847e-df3fb888c3d5",
   "metadata": {},
   "outputs": [],
   "source": [
    "import numpy as np\n",
    "import pandas as pd\n",
    "from sklearn.datasets import load_iris"
   ]
  },
  {
   "cell_type": "code",
   "execution_count": 4,
   "id": "7e430084-180e-4c9c-a70f-447177c131d2",
   "metadata": {},
   "outputs": [],
   "source": [
    "iris = load_iris()"
   ]
  },
  {
   "cell_type": "code",
   "execution_count": 5,
   "id": "cd43f536-645c-4363-9f2d-ecfe309530dd",
   "metadata": {},
   "outputs": [],
   "source": [
    "dfc = pd.DataFrame(data= np.c_[iris['data'], iris['target']], columns= iris['feature_names'] + ['target'])"
   ]
  },
  {
   "cell_type": "code",
   "execution_count": 6,
   "id": "c4fca7e1-381d-4cfd-ac60-e63552e2dd73",
   "metadata": {},
   "outputs": [],
   "source": [
    "models = [[{'model': 'LR1', 'parameters': {}}, {'feature_selection': ['SFM1', {}], 'dimensionality_reduction': ['PCA1', {}]}],\n",
    "          [{'model': 'RFC1', 'parameters': {'n_estimators': 20, 'criterion':'gini'}}, \n",
    "           {'feature_selection': ['RFE1', {'n_features_to_select': 3, 'step':1}], 'dimensionality_reduction': ['PCA1', {}]}]\n",
    "         ]   "
   ]
  },
  {
   "cell_type": "code",
   "execution_count": 7,
   "id": "2f5b0f36-1f7c-4969-8bd2-68c34631f1f5",
   "metadata": {},
   "outputs": [],
   "source": [
    "all_classification_test_dict = {}\n",
    "all_classification_test_dict['data'] = {'A1':dfc}"
   ]
  },
  {
   "cell_type": "code",
   "execution_count": 8,
   "id": "e7d2e8b5-6546-4f7a-88bc-3059b51e44bc",
   "metadata": {},
   "outputs": [
    {
     "name": "stdout",
     "output_type": "stream",
     "text": [
      "Selecting features with SFM1 for A1\n",
      "Reducing dimensions with PCA1 for A1\n",
      "Training classification model LR1 for A1\n",
      "Training done!\n",
      "\n",
      "Selecting features with RFE1 for A1\n",
      "Reducing dimensions with PCA1 for A1\n",
      "Training classification model RFC1 for A1\n",
      "Training done!\n",
      "\n"
     ]
    }
   ],
   "source": [
    "build = Build(all_classification_test_dict, feature_selection=True, dimensionality_reduction=True)\n",
    "build.build_classification_models(models, 'target')"
   ]
  },
  {
   "cell_type": "code",
   "execution_count": 9,
   "id": "4e07f11a-273a-4a9c-873c-c04ba3b8b912",
   "metadata": {},
   "outputs": [
    {
     "data": {
      "text/plain": [
       "{'A1LR1SFM1PCA1': array([2., 1., 0., 2., 0., 2., 0., 1., 1., 1., 2., 1., 1., 1., 1., 0., 1.,\n",
       "        1., 0., 0., 2., 1., 0., 0., 2., 0., 0., 1., 1., 0.]),\n",
       " 'A1RFC1RFE1PCA1': array([2., 1., 0., 2., 0., 2., 0., 1., 1., 1., 2., 1., 1., 1., 1., 0., 1.,\n",
       "        1., 0., 0., 2., 1., 0., 0., 2., 0., 0., 1., 1., 0.])}"
      ]
     },
     "execution_count": 9,
     "metadata": {},
     "output_type": "execute_result"
    }
   ],
   "source": [
    "all_classification_test_dict['predictions']"
   ]
  },
  {
   "cell_type": "code",
   "execution_count": 10,
   "id": "6697130f-32f9-4e17-bd11-3810f358edc6",
   "metadata": {},
   "outputs": [
    {
     "data": {
      "text/html": [
       "<div>\n",
       "<style scoped>\n",
       "    .dataframe tbody tr th:only-of-type {\n",
       "        vertical-align: middle;\n",
       "    }\n",
       "\n",
       "    .dataframe tbody tr th {\n",
       "        vertical-align: top;\n",
       "    }\n",
       "\n",
       "    .dataframe thead th {\n",
       "        text-align: right;\n",
       "    }\n",
       "</style>\n",
       "<table border=\"1\" class=\"dataframe\">\n",
       "  <thead>\n",
       "    <tr style=\"text-align: right;\">\n",
       "      <th></th>\n",
       "      <th>CLASS</th>\n",
       "      <th>PRECISION</th>\n",
       "      <th>RECALL</th>\n",
       "      <th>F1-SCORE</th>\n",
       "      <th>SUPPORT</th>\n",
       "      <th>ACCURACY</th>\n",
       "    </tr>\n",
       "  </thead>\n",
       "  <tbody>\n",
       "    <tr>\n",
       "      <th>A1LR1SFM1PCA1</th>\n",
       "      <td>0.0</td>\n",
       "      <td>1.0</td>\n",
       "      <td>1.0</td>\n",
       "      <td>1.0</td>\n",
       "      <td>11</td>\n",
       "      <td>1.0</td>\n",
       "    </tr>\n",
       "    <tr>\n",
       "      <th>A1LR1SFM1PCA1</th>\n",
       "      <td>1.0</td>\n",
       "      <td>1.0</td>\n",
       "      <td>1.0</td>\n",
       "      <td>1.0</td>\n",
       "      <td>13</td>\n",
       "      <td>1.0</td>\n",
       "    </tr>\n",
       "    <tr>\n",
       "      <th>A1LR1SFM1PCA1</th>\n",
       "      <td>2.0</td>\n",
       "      <td>1.0</td>\n",
       "      <td>1.0</td>\n",
       "      <td>1.0</td>\n",
       "      <td>6</td>\n",
       "      <td>1.0</td>\n",
       "    </tr>\n",
       "    <tr>\n",
       "      <th>A1RFC1RFE1PCA1</th>\n",
       "      <td>0.0</td>\n",
       "      <td>1.0</td>\n",
       "      <td>1.0</td>\n",
       "      <td>1.0</td>\n",
       "      <td>11</td>\n",
       "      <td>1.0</td>\n",
       "    </tr>\n",
       "    <tr>\n",
       "      <th>A1RFC1RFE1PCA1</th>\n",
       "      <td>1.0</td>\n",
       "      <td>1.0</td>\n",
       "      <td>1.0</td>\n",
       "      <td>1.0</td>\n",
       "      <td>13</td>\n",
       "      <td>1.0</td>\n",
       "    </tr>\n",
       "    <tr>\n",
       "      <th>A1RFC1RFE1PCA1</th>\n",
       "      <td>2.0</td>\n",
       "      <td>1.0</td>\n",
       "      <td>1.0</td>\n",
       "      <td>1.0</td>\n",
       "      <td>6</td>\n",
       "      <td>1.0</td>\n",
       "    </tr>\n",
       "  </tbody>\n",
       "</table>\n",
       "</div>"
      ],
      "text/plain": [
       "               CLASS  PRECISION  RECALL  F1-SCORE  SUPPORT  ACCURACY\n",
       "A1LR1SFM1PCA1    0.0        1.0     1.0       1.0       11       1.0\n",
       "A1LR1SFM1PCA1    1.0        1.0     1.0       1.0       13       1.0\n",
       "A1LR1SFM1PCA1    2.0        1.0     1.0       1.0        6       1.0\n",
       "A1RFC1RFE1PCA1   0.0        1.0     1.0       1.0       11       1.0\n",
       "A1RFC1RFE1PCA1   1.0        1.0     1.0       1.0       13       1.0\n",
       "A1RFC1RFE1PCA1   2.0        1.0     1.0       1.0        6       1.0"
      ]
     },
     "execution_count": 10,
     "metadata": {},
     "output_type": "execute_result"
    }
   ],
   "source": [
    "assemble.assemble_classification_report(all_classification_test_dict)"
   ]
  }
 ],
 "metadata": {
  "kernelspec": {
   "display_name": "ml",
   "language": "python",
   "name": "ml"
  },
  "language_info": {
   "codemirror_mode": {
    "name": "ipython",
    "version": 3
   },
   "file_extension": ".py",
   "mimetype": "text/x-python",
   "name": "python",
   "nbconvert_exporter": "python",
   "pygments_lexer": "ipython3",
   "version": "3.10.4"
  }
 },
 "nbformat": 4,
 "nbformat_minor": 5
}
