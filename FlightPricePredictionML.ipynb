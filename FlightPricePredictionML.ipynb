{
  "cells": [
    {
      "cell_type": "code",
      "execution_count": null,
      "id": "7bd299eb-18d4-4e70-b1ec-badb9d192593",
      "metadata": {
        "id": "7bd299eb-18d4-4e70-b1ec-badb9d192593"
      },
      "outputs": [],
      "source": [
        "import pandas as pd\n",
        "import numpy as np\n",
        "from sklearn.model_selection import train_test_split\n",
        "from sklearn.preprocessing import MinMaxScaler\n",
        "import pickle"
      ]
    },
    {
      "cell_type": "code",
      "execution_count": null,
      "id": "89cda0ca-d171-4ba5-8b9e-ec33ed32d420",
      "metadata": {
        "id": "89cda0ca-d171-4ba5-8b9e-ec33ed32d420"
      },
      "outputs": [],
      "source": [
        "from utils.process import Assemble\n",
        "assemble = Assemble()\n",
        "from utils.process import Categorize\n",
        "categorize = Categorize()\n",
        "from utils.generate import Generate\n",
        "generate = Generate()\n",
        "from utils.train import Create, Build\n",
        "create = Create()\n",
        "from utils.process import Preprocess\n",
        "precprocess = Preprocess()\n",
        "from utils.process import Test\n",
        "test = Test()"
      ]
    },
    {
      "cell_type": "code",
      "execution_count": null,
      "id": "da8cf728-169b-4710-9c46-44fdeb8234e1",
      "metadata": {
        "id": "da8cf728-169b-4710-9c46-44fdeb8234e1"
      },
      "outputs": [],
      "source": [
        "df = pd.read_csv('Clean_Dataset.csv')"
      ]
    },
    {
      "cell_type": "code",
      "execution_count": null,
      "id": "1fb80d63-85e6-449f-9b1f-8d7d27ed8dd2",
      "metadata": {
        "id": "1fb80d63-85e6-449f-9b1f-8d7d27ed8dd2"
      },
      "outputs": [],
      "source": [
        "1. B & E\n",
        "\n",
        "1. Economy (days_left categorical)\n",
        "2. Economy (days_left numerical)\n",
        "3. Economy aktarmalı\n",
        "4. Economy aktarmasız duration yok\n",
        "\n",
        "1. Business (stops= aktarmalı - aktarmasız) no duration B1RFR1, B1RFR2, B1LR1\n",
        "2. Business ()\n",
        "2. Business (days_left)\n",
        "3. Business"
      ]
    },
    {
      "cell_type": "markdown",
      "id": "bb1dd180-7631-4066-97ba-9540e0297668",
      "metadata": {
        "id": "bb1dd180-7631-4066-97ba-9540e0297668"
      },
      "source": [
        "# Data Prep"
      ]
    },
    {
      "cell_type": "code",
      "execution_count": null,
      "id": "8badcd73-d62d-44d7-bdf1-d3f6f6ad64b7",
      "metadata": {
        "id": "8badcd73-d62d-44d7-bdf1-d3f6f6ad64b7"
      },
      "outputs": [],
      "source": [
        "df['path'] = df['source_city'] + ' ' + df['destination_city']"
      ]
    },
    {
      "cell_type": "code",
      "execution_count": null,
      "id": "53727f88-bfb5-4219-99f6-663d85097ce4",
      "metadata": {
        "id": "53727f88-bfb5-4219-99f6-663d85097ce4"
      },
      "outputs": [],
      "source": [
        "df['time'] = df['departure_time'] + ' ' + df['arrival_time']"
      ]
    },
    {
      "cell_type": "code",
      "execution_count": null,
      "id": "016089b7-a683-487d-8ac3-c03f6c4c8738",
      "metadata": {
        "id": "016089b7-a683-487d-8ac3-c03f6c4c8738"
      },
      "outputs": [],
      "source": [
        "df.replace({'Economy':0,'Business':1}, inplace=True)"
      ]
    },
    {
      "cell_type": "code",
      "execution_count": null,
      "id": "193610c1-d3ac-420b-818d-12649dbb3271",
      "metadata": {
        "id": "193610c1-d3ac-420b-818d-12649dbb3271"
      },
      "outputs": [],
      "source": [
        "df = df.drop(['Unnamed: 0','flight','source_city','destination_city','departure_time','arrival_time'], axis=1)"
      ]
    },
    {
      "cell_type": "code",
      "source": [
        "df.dropna(inplace=True)"
      ],
      "metadata": {
        "id": "IEaSsz5iVtKB"
      },
      "id": "IEaSsz5iVtKB",
      "execution_count": null,
      "outputs": []
    },
    {
      "cell_type": "markdown",
      "id": "b80a335c-ae9c-41e4-b592-2ecdbcde7cb9",
      "metadata": {
        "id": "b80a335c-ae9c-41e4-b592-2ecdbcde7cb9"
      },
      "source": [
        "### days_left Categorization"
      ]
    },
    {
      "cell_type": "code",
      "execution_count": null,
      "id": "d1ccbe1d-0f2f-4c9a-8b3e-e5dad5740bcf",
      "metadata": {
        "id": "d1ccbe1d-0f2f-4c9a-8b3e-e5dad5740bcf"
      },
      "outputs": [],
      "source": [
        "days_left_ranges = generate.generate_numerical_ranges(df.days_left, [2,5,10,18])\n",
        "days_left_dict = categorize.categorize_numerical_variable(df.days_left, days_left_ranges)\n",
        "df['days_left_category'] = df['days_left'].map(days_left_dict)"
      ]
    },
    {
      "cell_type": "markdown",
      "id": "9d77c4e8-6380-4f4e-9f79-bef32be6ee8a",
      "metadata": {
        "id": "9d77c4e8-6380-4f4e-9f79-bef32be6ee8a"
      },
      "source": [
        "### path Categorization"
      ]
    },
    {
      "cell_type": "code",
      "execution_count": null,
      "id": "33a6bbed-bb55-43b9-ab8f-b9cffaa85fb2",
      "metadata": {
        "id": "33a6bbed-bb55-43b9-ab8f-b9cffaa85fb2"
      },
      "outputs": [],
      "source": [
        "start = df.groupby('path').mean()['price'].min()\n",
        "finish = df.groupby('path').mean()['price'].max()"
      ]
    },
    {
      "cell_type": "code",
      "execution_count": null,
      "id": "890ac937-dfa8-4f2b-9abe-54eb0af0b3c3",
      "metadata": {
        "colab": {
          "base_uri": "https://localhost:8080/"
        },
        "id": "890ac937-dfa8-4f2b-9abe-54eb0af0b3c3",
        "outputId": "7b1989f2-7b45-437c-b66f-865ee85bfab8"
      },
      "outputs": [
        {
          "output_type": "execute_result",
          "data": {
            "text/plain": [
              "[range(17243, 19855), range(19855, 22467), range(22467, 37619)]"
            ]
          },
          "metadata": {},
          "execution_count": 11
        }
      ],
      "source": [
        "path_ranges = generate.generate_categorical_ranges(3, start, finish)\n",
        "path_ranges"
      ]
    },
    {
      "cell_type": "code",
      "execution_count": null,
      "id": "9ee546d6-cfc5-4cb5-a8f0-c35a1a2cd49d",
      "metadata": {
        "id": "9ee546d6-cfc5-4cb5-a8f0-c35a1a2cd49d"
      },
      "outputs": [],
      "source": [
        "path_group = df.groupby('path').mean()['price']\n",
        "path_dict = categorize.categorize_categorical_variable(path_group, path_ranges)\n",
        "df['path_category'] = df['path'].map(path_dict)"
      ]
    },
    {
      "cell_type": "markdown",
      "id": "bfeff381-f2d3-4716-b5d9-df532b04d072",
      "metadata": {
        "id": "bfeff381-f2d3-4716-b5d9-df532b04d072"
      },
      "source": [
        "### duration Categorization"
      ]
    },
    {
      "cell_type": "code",
      "execution_count": null,
      "id": "302135b7-26bf-4d72-b6d4-44a32e3a3b67",
      "metadata": {
        "id": "302135b7-26bf-4d72-b6d4-44a32e3a3b67"
      },
      "outputs": [],
      "source": [
        "duration_ranges = generate.generate_numerical_ranges(df.duration, [5,18,28])\n",
        "duration_dict = categorize.categorize_numerical_variable(df.duration, duration_ranges)\n",
        "df['duration_category']=df['duration'].map(duration_dict)"
      ]
    },
    {
      "cell_type": "markdown",
      "id": "ea455ce0-5052-46b4-92aa-672b6b42477f",
      "metadata": {
        "id": "ea455ce0-5052-46b4-92aa-672b6b42477f"
      },
      "source": [
        "### time Categorization"
      ]
    },
    {
      "cell_type": "code",
      "execution_count": null,
      "id": "3df3ba95-6daf-4a19-a71f-22092a0f7ff0",
      "metadata": {
        "id": "3df3ba95-6daf-4a19-a71f-22092a0f7ff0"
      },
      "outputs": [],
      "source": [
        "start = df.groupby('time').mean()['price'].min()\n",
        "finish = df.groupby('time').mean()['price'].max()"
      ]
    },
    {
      "cell_type": "code",
      "execution_count": null,
      "id": "a0ceebfa-4fc0-4527-9c6e-631a92ec217f",
      "metadata": {
        "colab": {
          "base_uri": "https://localhost:8080/"
        },
        "id": "a0ceebfa-4fc0-4527-9c6e-631a92ec217f",
        "outputId": "4a80cdb4-5ac1-4d86-c906-69aa5936754f"
      },
      "outputs": [
        {
          "output_type": "execute_result",
          "data": {
            "text/plain": [
              "[range(4288, 13333), range(13333, 22378), range(22378, 47135)]"
            ]
          },
          "metadata": {},
          "execution_count": 15
        }
      ],
      "source": [
        "time_ranges = generate.generate_categorical_ranges(3, start, finish)\n",
        "time_ranges"
      ]
    },
    {
      "cell_type": "code",
      "execution_count": null,
      "id": "e5606354-65c3-422e-829a-94f62cbad9bd",
      "metadata": {
        "id": "e5606354-65c3-422e-829a-94f62cbad9bd"
      },
      "outputs": [],
      "source": [
        "time_group = df.groupby('time').mean()['price']\n",
        "time_dict = categorize.categorize_categorical_variable(time_group, time_ranges)\n",
        "df['time_category'] = df['time'].map(time_dict)"
      ]
    },
    {
      "cell_type": "markdown",
      "id": "b04b723d-8833-4a38-a4b8-b7beb45fe2ad",
      "metadata": {
        "id": "b04b723d-8833-4a38-a4b8-b7beb45fe2ad"
      },
      "source": [
        "# All Data"
      ]
    },
    {
      "cell_type": "markdown",
      "id": "42d14f0f-f55c-44f6-8bce-ea715763a857",
      "metadata": {
        "id": "42d14f0f-f55c-44f6-8bce-ea715763a857"
      },
      "source": [
        "## All Data 1"
      ]
    },
    {
      "cell_type": "code",
      "execution_count": null,
      "id": "9aca9058-be9a-4cb6-b35a-74dae5ab2561",
      "metadata": {
        "id": "9aca9058-be9a-4cb6-b35a-74dae5ab2561"
      },
      "outputs": [],
      "source": [
        "df_all1 = df.drop(['days_left','duration','path','time'], axis=1)"
      ]
    },
    {
      "cell_type": "markdown",
      "id": "d7715adc-36d2-4795-8728-b931a33aca80",
      "metadata": {
        "id": "d7715adc-36d2-4795-8728-b931a33aca80"
      },
      "source": [
        "## All Data 2"
      ]
    },
    {
      "cell_type": "code",
      "execution_count": null,
      "id": "dc5a6ad3-99b4-4045-b3fc-e078312bb8dd",
      "metadata": {
        "id": "dc5a6ad3-99b4-4045-b3fc-e078312bb8dd"
      },
      "outputs": [],
      "source": [
        "df_all2 = df.drop(['days_left_category','duration_category','path_category','time_category'], axis=1)"
      ]
    },
    {
      "cell_type": "markdown",
      "id": "5ca536b4-e497-43be-9f81-00bfb665e68b",
      "metadata": {
        "id": "5ca536b4-e497-43be-9f81-00bfb665e68b"
      },
      "source": [
        "# Economy Business Split"
      ]
    },
    {
      "cell_type": "code",
      "execution_count": null,
      "id": "2c50f106-071d-414d-9bde-b8255b2c3162",
      "metadata": {
        "id": "2c50f106-071d-414d-9bde-b8255b2c3162"
      },
      "outputs": [],
      "source": [
        "df_economy = df[df['class']==0]\n",
        "df_economy = df_economy.drop('class',axis=1)\n",
        "df_business = df[df['class']==1]\n",
        "df_business = df_business.drop('class',axis=1)"
      ]
    },
    {
      "cell_type": "markdown",
      "id": "e3154c92-aca8-4831-b92c-d1f7f192604e",
      "metadata": {
        "id": "e3154c92-aca8-4831-b92c-d1f7f192604e"
      },
      "source": [
        "## Economy 1"
      ]
    },
    {
      "cell_type": "code",
      "execution_count": null,
      "id": "9728e394-1c96-4736-901c-bd32c3fc547d",
      "metadata": {
        "id": "9728e394-1c96-4736-901c-bd32c3fc547d"
      },
      "outputs": [],
      "source": [
        "df_economy1 = df_economy.drop(['days_left','duration','path','time'], axis=1)"
      ]
    },
    {
      "cell_type": "markdown",
      "id": "ee27c1dc-81bd-4e7a-9f6b-b19e42f9c0b1",
      "metadata": {
        "id": "ee27c1dc-81bd-4e7a-9f6b-b19e42f9c0b1"
      },
      "source": [
        "## Economy 2"
      ]
    },
    {
      "cell_type": "code",
      "execution_count": null,
      "id": "95feaa4b-945d-4f42-9358-edb54f0c2b92",
      "metadata": {
        "id": "95feaa4b-945d-4f42-9358-edb54f0c2b92"
      },
      "outputs": [],
      "source": [
        "df_economy2 = df_economy.drop(['days_left_category','path_category','duration_category','time_category'], axis=1)"
      ]
    },
    {
      "cell_type": "markdown",
      "id": "baaa5ded-4e30-40f2-8e37-2ed34aed0dbe",
      "metadata": {
        "id": "baaa5ded-4e30-40f2-8e37-2ed34aed0dbe"
      },
      "source": [
        "## Economy 3"
      ]
    },
    {
      "cell_type": "code",
      "execution_count": null,
      "id": "3a6fbea1-13ed-4d8e-92ab-dab2c5aad270",
      "metadata": {
        "id": "3a6fbea1-13ed-4d8e-92ab-dab2c5aad270"
      },
      "outputs": [],
      "source": [
        "df_economy3 = df_economy.drop(['stops','path','duration_category','days_left_category','time_category'], axis=1)"
      ]
    },
    {
      "cell_type": "markdown",
      "id": "b7112889-a595-45f2-8d81-91c248b267be",
      "metadata": {
        "id": "b7112889-a595-45f2-8d81-91c248b267be"
      },
      "source": [
        "## Business 1"
      ]
    },
    {
      "cell_type": "code",
      "execution_count": null,
      "id": "65d9c88d-bf68-4ae6-8e2e-6d605ae297aa",
      "metadata": {
        "id": "65d9c88d-bf68-4ae6-8e2e-6d605ae297aa"
      },
      "outputs": [],
      "source": [
        "df_business1 = df_business.drop(['days_left','duration','path','time','days_left_category'], axis=1)\n",
        "df_business1.replace({'zero':0,'one':1,'two_or_more':2}, inplace=True)"
      ]
    },
    {
      "cell_type": "markdown",
      "id": "1a643a1a-79fe-4369-b42a-b361a6b2548e",
      "metadata": {
        "id": "1a643a1a-79fe-4369-b42a-b361a6b2548e"
      },
      "source": [
        "## Business 2"
      ]
    },
    {
      "cell_type": "code",
      "execution_count": null,
      "id": "eb06ab74-4647-4512-b774-34f26734289e",
      "metadata": {
        "id": "eb06ab74-4647-4512-b774-34f26734289e"
      },
      "outputs": [],
      "source": [
        "df_business2 = df_business.drop(['days_left_category','path_category','duration_category','time_category'], axis=1)\n",
        "df_business2.replace({'zero':0,'one':1,'two_or_more':2}, inplace=True)"
      ]
    },
    {
      "cell_type": "markdown",
      "id": "3b8e5570-50fa-45f6-8745-58d0d1cd2301",
      "metadata": {
        "id": "3b8e5570-50fa-45f6-8745-58d0d1cd2301"
      },
      "source": [
        "## Business 3"
      ]
    },
    {
      "cell_type": "code",
      "execution_count": null,
      "id": "54391ebd-fe52-4d97-b1f7-6c5d9cd154a7",
      "metadata": {
        "id": "54391ebd-fe52-4d97-b1f7-6c5d9cd154a7"
      },
      "outputs": [],
      "source": [
        "df_business3 = df_business.drop(['days_left','days_left_category','path','time','duration'], axis=1)"
      ]
    },
    {
      "cell_type": "markdown",
      "id": "c70439b3-f21a-497b-9552-88a8eec916cf",
      "metadata": {
        "id": "c70439b3-f21a-497b-9552-88a8eec916cf"
      },
      "source": [
        "# Regression Models Dictionary"
      ]
    },
    {
      "cell_type": "code",
      "execution_count": null,
      "id": "dadba1e2-f212-4423-9eec-81fe88d1f85d",
      "metadata": {
        "id": "dadba1e2-f212-4423-9eec-81fe88d1f85d"
      },
      "outputs": [],
      "source": [
        "# df , split data , models , predictions"
      ]
    },
    {
      "cell_type": "code",
      "execution_count": null,
      "id": "df0fd323-590c-4857-b383-ff6554c46bde",
      "metadata": {
        "id": "df0fd323-590c-4857-b383-ff6554c46bde"
      },
      "outputs": [],
      "source": [
        "economy_regression_test_dict = {}\n",
        "business_regression_test_dict = {}\n",
        "all_regression_test_dict = {}"
      ]
    },
    {
      "cell_type": "code",
      "execution_count": null,
      "id": "af1bc019-7812-4cbf-a724-60585405a322",
      "metadata": {
        "id": "af1bc019-7812-4cbf-a724-60585405a322"
      },
      "outputs": [],
      "source": [
        "economy_regression_test_dict['data'] = {'E1':df_economy1, 'E2':df_economy2} #economy_regression_test_dict['data'] = {'E1':df_economy1, 'E2':df_economy2, 'E3':df_economy3}\n",
        "\n",
        "#business_regression_test_dict['data'] = {'B1':df_business1, 'B2':df_business2, 'B3':df_business3}\n",
        "#all_regression_test_dict['data'] = {'A1':df_all1, 'A2':df_all2}"
      ]
    },
    {
      "cell_type": "markdown",
      "id": "ad1963ce-0d48-4857-b817-61be6c139ba7",
      "metadata": {
        "id": "ad1963ce-0d48-4857-b817-61be6c139ba7"
      },
      "source": [
        "# Model Training"
      ]
    },
    {
      "cell_type": "code",
      "execution_count": null,
      "id": "f3bd84c2-c01f-4b9e-a1a1-e16446c7f9d6",
      "metadata": {
        "id": "f3bd84c2-c01f-4b9e-a1a1-e16446c7f9d6"
      },
      "outputs": [],
      "source": [
        "models = [['LR1', {}],\n",
        "          ['RFR1', {'n_estimators': 20, 'criterion':'squared_error'}],\n",
        "          ['RFR2', {'n_estimators': 20, 'criterion':'poisson'}],\n",
        "          ['RFR3', {'n_estimators': 100, 'criterion':'squared_error'}],\n",
        "          ['RFR4', {'n_estimators': 100, 'criterion':'poisson'}],\n",
        "          ['GBR1', {'learning_rate':0.1, 'criterion':'friedman_mse', 'n_estimators':20, 'loss':'squared_error'}]\n",
        "          ]"
      ]
    },
    {
      "cell_type": "code",
      "source": [
        "def rfr para()"
      ],
      "metadata": {
        "id": "Y8iKLtq7hXmY"
      },
      "id": "Y8iKLtq7hXmY",
      "execution_count": null,
      "outputs": []
    },
    {
      "cell_type": "code",
      "execution_count": null,
      "id": "59d9117d-6b19-40cc-8b0f-f327e3209d10",
      "metadata": {
        "id": "59d9117d-6b19-40cc-8b0f-f327e3209d10"
      },
      "outputs": [],
      "source": [
        "build_economy = Build(economy_regression_test_dict)"
      ]
    },
    {
      "cell_type": "code",
      "source": [
        "build_business = Build(business_regression_test_dict)"
      ],
      "metadata": {
        "id": "EcrbUAwvmqrw"
      },
      "id": "EcrbUAwvmqrw",
      "execution_count": null,
      "outputs": []
    },
    {
      "cell_type": "code",
      "source": [
        "build_all = Build(all_regression_test_dict)"
      ],
      "metadata": {
        "id": "onAHvlKQvKPT"
      },
      "id": "onAHvlKQvKPT",
      "execution_count": null,
      "outputs": []
    },
    {
      "cell_type": "code",
      "source": [
        "build_all.build_regression_models(models, 'price')"
      ],
      "metadata": {
        "id": "RiRnzqvAvSFH"
      },
      "id": "RiRnzqvAvSFH",
      "execution_count": null,
      "outputs": []
    },
    {
      "cell_type": "code",
      "source": [
        "build_business.build_regression_models(models, 'price')"
      ],
      "metadata": {
        "id": "gm0hyPe_mx_A"
      },
      "id": "gm0hyPe_mx_A",
      "execution_count": null,
      "outputs": []
    },
    {
      "cell_type": "code",
      "execution_count": null,
      "id": "137c073b-6550-4f0a-bd56-6198d045c5aa",
      "metadata": {
        "id": "137c073b-6550-4f0a-bd56-6198d045c5aa",
        "colab": {
          "base_uri": "https://localhost:8080/"
        },
        "outputId": "7008f09d-6ca0-48e1-cbed-cd98f9dcccc8"
      },
      "outputs": [
        {
          "output_type": "stream",
          "name": "stdout",
          "text": [
            "Training regression model LR1 for E1\n",
            "Training done!\n",
            "\n",
            "Training regression model RFR1 for E1\n",
            "Training done!\n",
            "\n",
            "Training regression model RFR2 for E1\n",
            "Training done!\n",
            "\n",
            "Training regression model RFR3 for E1\n",
            "Training done!\n",
            "\n",
            "Training regression model RFR4 for E1\n",
            "Training done!\n",
            "\n",
            "Training regression model GBR1 for E1\n",
            "Training done!\n",
            "\n",
            "Training regression model LR1 for E2\n",
            "Training done!\n",
            "\n",
            "Training regression model RFR1 for E2\n",
            "Training done!\n",
            "\n",
            "Training regression model RFR2 for E2\n",
            "Training done!\n",
            "\n",
            "Training regression model RFR3 for E2\n",
            "Training done!\n",
            "\n",
            "Training regression model RFR4 for E2\n",
            "Training done!\n",
            "\n",
            "Training regression model GBR1 for E2\n",
            "Training done!\n",
            "\n"
          ]
        }
      ],
      "source": [
        "build_economy.build_regression_models(models, 'price')"
      ]
    },
    {
      "cell_type": "markdown",
      "id": "ba40c30b-4bc4-4087-b977-1b4323213450",
      "metadata": {
        "id": "ba40c30b-4bc4-4087-b977-1b4323213450"
      },
      "source": [
        "# Error Metrics"
      ]
    },
    {
      "cell_type": "markdown",
      "id": "a87a7c7b-8b48-4a20-afb9-4b2eacae45af",
      "metadata": {
        "id": "a87a7c7b-8b48-4a20-afb9-4b2eacae45af"
      },
      "source": [
        "## Economy"
      ]
    },
    {
      "cell_type": "code",
      "execution_count": null,
      "id": "7270878e-323a-463a-9833-48ebdfe7f95a",
      "metadata": {
        "id": "7270878e-323a-463a-9833-48ebdfe7f95a"
      },
      "outputs": [],
      "source": [
        "economy_test_tables_dict = assemble.assemble_test_tables( economy_regression_test_dict)"
      ]
    },
    {
      "cell_type": "code",
      "execution_count": null,
      "id": "18cfafbc-9dbd-46c6-9563-47e88e3374c8",
      "metadata": {
        "id": "18cfafbc-9dbd-46c6-9563-47e88e3374c8"
      },
      "outputs": [],
      "source": [
        "economy_regression_test_dict['test_tables'] = economy_test_tables_dict"
      ]
    },
    {
      "cell_type": "code",
      "execution_count": null,
      "id": "cb79dd0f-7e56-4847-bbea-b0bcbb33d97c",
      "metadata": {
        "id": "cb79dd0f-7e56-4847-bbea-b0bcbb33d97c"
      },
      "outputs": [],
      "source": [
        "economy_error_values = assemble.assemble_error_values(economy_regression_test_dict)"
      ]
    },
    {
      "cell_type": "code",
      "source": [
        "economy_error_values.sort_values(by='NRMSE').head(10)"
      ],
      "metadata": {
        "colab": {
          "base_uri": "https://localhost:8080/",
          "height": 363
        },
        "id": "RadsFh8bgJYD",
        "outputId": "22eff04b-595d-477e-d90d-97b0280f3679"
      },
      "id": "RadsFh8bgJYD",
      "execution_count": null,
      "outputs": [
        {
          "output_type": "execute_result",
          "data": {
            "text/plain": [
              "          MEPE     MPE      MEAE       MAE          MSE      RMSE     NRMSE  \\\n",
              "E2RFR3   2.960   8.685   173.687   631.561  2012567.527  1418.650  0.038824   \n",
              "E2RFR1   3.039   8.852   178.500   643.564  2080718.257  1442.469  0.039475   \n",
              "E2RFR4   6.227  14.263   352.155   929.053  3276937.895  1810.231  0.049540   \n",
              "E2RFR2   6.233  14.386   355.300   938.417  3367354.258  1835.035  0.050219   \n",
              "E1RFR3  18.739  25.266  1013.020  1478.029  4936325.752  2221.784  0.060802   \n",
              "E1RFR4  18.753  25.275  1013.246  1478.371  4938075.769  2222.178  0.060813   \n",
              "E1RFR1  18.737  25.273  1010.805  1478.427  4940468.374  2222.716  0.060828   \n",
              "E1RFR2  18.760  25.283  1010.887  1478.875  4942653.320  2223.208  0.060841   \n",
              "E2GBR1  20.146  29.653  1157.428  1588.736  5443526.274  2333.137  0.063850   \n",
              "E1LR1   21.094  28.773  1196.006  1649.051  5766668.522  2401.389  0.065718   \n",
              "\n",
              "             STD  \n",
              "E2RFR3  3740.274  \n",
              "E2RFR1  3740.274  \n",
              "E2RFR4  3740.274  \n",
              "E2RFR2  3740.274  \n",
              "E1RFR3  3740.274  \n",
              "E1RFR4  3740.274  \n",
              "E1RFR1  3740.274  \n",
              "E1RFR2  3740.274  \n",
              "E2GBR1  3740.274  \n",
              "E1LR1   3740.274  "
            ],
            "text/html": [
              "\n",
              "  <div id=\"df-075fc34b-a99b-4d3c-ae7e-af823fc0eef2\">\n",
              "    <div class=\"colab-df-container\">\n",
              "      <div>\n",
              "<style scoped>\n",
              "    .dataframe tbody tr th:only-of-type {\n",
              "        vertical-align: middle;\n",
              "    }\n",
              "\n",
              "    .dataframe tbody tr th {\n",
              "        vertical-align: top;\n",
              "    }\n",
              "\n",
              "    .dataframe thead th {\n",
              "        text-align: right;\n",
              "    }\n",
              "</style>\n",
              "<table border=\"1\" class=\"dataframe\">\n",
              "  <thead>\n",
              "    <tr style=\"text-align: right;\">\n",
              "      <th></th>\n",
              "      <th>MEPE</th>\n",
              "      <th>MPE</th>\n",
              "      <th>MEAE</th>\n",
              "      <th>MAE</th>\n",
              "      <th>MSE</th>\n",
              "      <th>RMSE</th>\n",
              "      <th>NRMSE</th>\n",
              "      <th>STD</th>\n",
              "    </tr>\n",
              "  </thead>\n",
              "  <tbody>\n",
              "    <tr>\n",
              "      <th>E2RFR3</th>\n",
              "      <td>2.960</td>\n",
              "      <td>8.685</td>\n",
              "      <td>173.687</td>\n",
              "      <td>631.561</td>\n",
              "      <td>2012567.527</td>\n",
              "      <td>1418.650</td>\n",
              "      <td>0.038824</td>\n",
              "      <td>3740.274</td>\n",
              "    </tr>\n",
              "    <tr>\n",
              "      <th>E2RFR1</th>\n",
              "      <td>3.039</td>\n",
              "      <td>8.852</td>\n",
              "      <td>178.500</td>\n",
              "      <td>643.564</td>\n",
              "      <td>2080718.257</td>\n",
              "      <td>1442.469</td>\n",
              "      <td>0.039475</td>\n",
              "      <td>3740.274</td>\n",
              "    </tr>\n",
              "    <tr>\n",
              "      <th>E2RFR4</th>\n",
              "      <td>6.227</td>\n",
              "      <td>14.263</td>\n",
              "      <td>352.155</td>\n",
              "      <td>929.053</td>\n",
              "      <td>3276937.895</td>\n",
              "      <td>1810.231</td>\n",
              "      <td>0.049540</td>\n",
              "      <td>3740.274</td>\n",
              "    </tr>\n",
              "    <tr>\n",
              "      <th>E2RFR2</th>\n",
              "      <td>6.233</td>\n",
              "      <td>14.386</td>\n",
              "      <td>355.300</td>\n",
              "      <td>938.417</td>\n",
              "      <td>3367354.258</td>\n",
              "      <td>1835.035</td>\n",
              "      <td>0.050219</td>\n",
              "      <td>3740.274</td>\n",
              "    </tr>\n",
              "    <tr>\n",
              "      <th>E1RFR3</th>\n",
              "      <td>18.739</td>\n",
              "      <td>25.266</td>\n",
              "      <td>1013.020</td>\n",
              "      <td>1478.029</td>\n",
              "      <td>4936325.752</td>\n",
              "      <td>2221.784</td>\n",
              "      <td>0.060802</td>\n",
              "      <td>3740.274</td>\n",
              "    </tr>\n",
              "    <tr>\n",
              "      <th>E1RFR4</th>\n",
              "      <td>18.753</td>\n",
              "      <td>25.275</td>\n",
              "      <td>1013.246</td>\n",
              "      <td>1478.371</td>\n",
              "      <td>4938075.769</td>\n",
              "      <td>2222.178</td>\n",
              "      <td>0.060813</td>\n",
              "      <td>3740.274</td>\n",
              "    </tr>\n",
              "    <tr>\n",
              "      <th>E1RFR1</th>\n",
              "      <td>18.737</td>\n",
              "      <td>25.273</td>\n",
              "      <td>1010.805</td>\n",
              "      <td>1478.427</td>\n",
              "      <td>4940468.374</td>\n",
              "      <td>2222.716</td>\n",
              "      <td>0.060828</td>\n",
              "      <td>3740.274</td>\n",
              "    </tr>\n",
              "    <tr>\n",
              "      <th>E1RFR2</th>\n",
              "      <td>18.760</td>\n",
              "      <td>25.283</td>\n",
              "      <td>1010.887</td>\n",
              "      <td>1478.875</td>\n",
              "      <td>4942653.320</td>\n",
              "      <td>2223.208</td>\n",
              "      <td>0.060841</td>\n",
              "      <td>3740.274</td>\n",
              "    </tr>\n",
              "    <tr>\n",
              "      <th>E2GBR1</th>\n",
              "      <td>20.146</td>\n",
              "      <td>29.653</td>\n",
              "      <td>1157.428</td>\n",
              "      <td>1588.736</td>\n",
              "      <td>5443526.274</td>\n",
              "      <td>2333.137</td>\n",
              "      <td>0.063850</td>\n",
              "      <td>3740.274</td>\n",
              "    </tr>\n",
              "    <tr>\n",
              "      <th>E1LR1</th>\n",
              "      <td>21.094</td>\n",
              "      <td>28.773</td>\n",
              "      <td>1196.006</td>\n",
              "      <td>1649.051</td>\n",
              "      <td>5766668.522</td>\n",
              "      <td>2401.389</td>\n",
              "      <td>0.065718</td>\n",
              "      <td>3740.274</td>\n",
              "    </tr>\n",
              "  </tbody>\n",
              "</table>\n",
              "</div>\n",
              "      <button class=\"colab-df-convert\" onclick=\"convertToInteractive('df-075fc34b-a99b-4d3c-ae7e-af823fc0eef2')\"\n",
              "              title=\"Convert this dataframe to an interactive table.\"\n",
              "              style=\"display:none;\">\n",
              "        \n",
              "  <svg xmlns=\"http://www.w3.org/2000/svg\" height=\"24px\"viewBox=\"0 0 24 24\"\n",
              "       width=\"24px\">\n",
              "    <path d=\"M0 0h24v24H0V0z\" fill=\"none\"/>\n",
              "    <path d=\"M18.56 5.44l.94 2.06.94-2.06 2.06-.94-2.06-.94-.94-2.06-.94 2.06-2.06.94zm-11 1L8.5 8.5l.94-2.06 2.06-.94-2.06-.94L8.5 2.5l-.94 2.06-2.06.94zm10 10l.94 2.06.94-2.06 2.06-.94-2.06-.94-.94-2.06-.94 2.06-2.06.94z\"/><path d=\"M17.41 7.96l-1.37-1.37c-.4-.4-.92-.59-1.43-.59-.52 0-1.04.2-1.43.59L10.3 9.45l-7.72 7.72c-.78.78-.78 2.05 0 2.83L4 21.41c.39.39.9.59 1.41.59.51 0 1.02-.2 1.41-.59l7.78-7.78 2.81-2.81c.8-.78.8-2.07 0-2.86zM5.41 20L4 18.59l7.72-7.72 1.47 1.35L5.41 20z\"/>\n",
              "  </svg>\n",
              "      </button>\n",
              "      \n",
              "  <style>\n",
              "    .colab-df-container {\n",
              "      display:flex;\n",
              "      flex-wrap:wrap;\n",
              "      gap: 12px;\n",
              "    }\n",
              "\n",
              "    .colab-df-convert {\n",
              "      background-color: #E8F0FE;\n",
              "      border: none;\n",
              "      border-radius: 50%;\n",
              "      cursor: pointer;\n",
              "      display: none;\n",
              "      fill: #1967D2;\n",
              "      height: 32px;\n",
              "      padding: 0 0 0 0;\n",
              "      width: 32px;\n",
              "    }\n",
              "\n",
              "    .colab-df-convert:hover {\n",
              "      background-color: #E2EBFA;\n",
              "      box-shadow: 0px 1px 2px rgba(60, 64, 67, 0.3), 0px 1px 3px 1px rgba(60, 64, 67, 0.15);\n",
              "      fill: #174EA6;\n",
              "    }\n",
              "\n",
              "    [theme=dark] .colab-df-convert {\n",
              "      background-color: #3B4455;\n",
              "      fill: #D2E3FC;\n",
              "    }\n",
              "\n",
              "    [theme=dark] .colab-df-convert:hover {\n",
              "      background-color: #434B5C;\n",
              "      box-shadow: 0px 1px 3px 1px rgba(0, 0, 0, 0.15);\n",
              "      filter: drop-shadow(0px 1px 2px rgba(0, 0, 0, 0.3));\n",
              "      fill: #FFFFFF;\n",
              "    }\n",
              "  </style>\n",
              "\n",
              "      <script>\n",
              "        const buttonEl =\n",
              "          document.querySelector('#df-075fc34b-a99b-4d3c-ae7e-af823fc0eef2 button.colab-df-convert');\n",
              "        buttonEl.style.display =\n",
              "          google.colab.kernel.accessAllowed ? 'block' : 'none';\n",
              "\n",
              "        async function convertToInteractive(key) {\n",
              "          const element = document.querySelector('#df-075fc34b-a99b-4d3c-ae7e-af823fc0eef2');\n",
              "          const dataTable =\n",
              "            await google.colab.kernel.invokeFunction('convertToInteractive',\n",
              "                                                     [key], {});\n",
              "          if (!dataTable) return;\n",
              "\n",
              "          const docLinkHtml = 'Like what you see? Visit the ' +\n",
              "            '<a target=\"_blank\" href=https://colab.research.google.com/notebooks/data_table.ipynb>data table notebook</a>'\n",
              "            + ' to learn more about interactive tables.';\n",
              "          element.innerHTML = '';\n",
              "          dataTable['output_type'] = 'display_data';\n",
              "          await google.colab.output.renderOutput(dataTable, element);\n",
              "          const docLink = document.createElement('div');\n",
              "          docLink.innerHTML = docLinkHtml;\n",
              "          element.appendChild(docLink);\n",
              "        }\n",
              "      </script>\n",
              "    </div>\n",
              "  </div>\n",
              "  "
            ]
          },
          "metadata": {},
          "execution_count": 40
        }
      ]
    },
    {
      "cell_type": "code",
      "source": [
        "economy_error_values.sort_values(by='RMSE')."
      ],
      "metadata": {
        "colab": {
          "base_uri": "https://localhost:8080/",
          "height": 363
        },
        "id": "TlqnUJ67gmIl",
        "outputId": "71e076fc-d45c-4034-81c8-b5dd3ab5c4ba"
      },
      "id": "TlqnUJ67gmIl",
      "execution_count": null,
      "outputs": [
        {
          "output_type": "execute_result",
          "data": {
            "text/plain": [
              "          MEPE     MPE     MEAE       MAE          MSE      RMSE       STD\n",
              "E2RFR3   2.960   8.685  173.687   631.561  2012567.527  1418.650  3740.274\n",
              "E2RFR1   3.039   8.852  178.500   643.564  2080718.257  1442.469  3740.274\n",
              "E2RFR4   6.227  14.263  352.155   929.053  3276937.895  1810.231  3740.274\n",
              "E2RFR2   6.233  14.386  355.300   938.417  3367354.258  1835.035  3740.274\n",
              "E3RFR3   7.461  14.869  432.130  1000.627  3440018.936  1854.729  3740.274\n",
              "E3RFR1   7.581  15.052  436.287  1014.081  3523984.914  1877.228  3740.274\n",
              "E2GBR8  14.864  20.302  832.121  1259.993  4120699.510  2029.951  3740.274\n",
              "E2GBR5  16.631  23.155  931.035  1347.169  4205966.523  2050.845  3740.274\n",
              "E2GBR6  15.651  21.651  880.041  1313.374  4321174.732  2078.744  3740.274\n",
              "E2GBR7  17.213  24.155  968.517  1386.818  4392201.749  2095.758  3740.274"
            ],
            "text/html": [
              "\n",
              "  <div id=\"df-d4090e97-5f08-4763-99ab-3426ff0c67fb\">\n",
              "    <div class=\"colab-df-container\">\n",
              "      <div>\n",
              "<style scoped>\n",
              "    .dataframe tbody tr th:only-of-type {\n",
              "        vertical-align: middle;\n",
              "    }\n",
              "\n",
              "    .dataframe tbody tr th {\n",
              "        vertical-align: top;\n",
              "    }\n",
              "\n",
              "    .dataframe thead th {\n",
              "        text-align: right;\n",
              "    }\n",
              "</style>\n",
              "<table border=\"1\" class=\"dataframe\">\n",
              "  <thead>\n",
              "    <tr style=\"text-align: right;\">\n",
              "      <th></th>\n",
              "      <th>MEPE</th>\n",
              "      <th>MPE</th>\n",
              "      <th>MEAE</th>\n",
              "      <th>MAE</th>\n",
              "      <th>MSE</th>\n",
              "      <th>RMSE</th>\n",
              "      <th>STD</th>\n",
              "    </tr>\n",
              "  </thead>\n",
              "  <tbody>\n",
              "    <tr>\n",
              "      <th>E2RFR3</th>\n",
              "      <td>2.960</td>\n",
              "      <td>8.685</td>\n",
              "      <td>173.687</td>\n",
              "      <td>631.561</td>\n",
              "      <td>2012567.527</td>\n",
              "      <td>1418.650</td>\n",
              "      <td>3740.274</td>\n",
              "    </tr>\n",
              "    <tr>\n",
              "      <th>E2RFR1</th>\n",
              "      <td>3.039</td>\n",
              "      <td>8.852</td>\n",
              "      <td>178.500</td>\n",
              "      <td>643.564</td>\n",
              "      <td>2080718.257</td>\n",
              "      <td>1442.469</td>\n",
              "      <td>3740.274</td>\n",
              "    </tr>\n",
              "    <tr>\n",
              "      <th>E2RFR4</th>\n",
              "      <td>6.227</td>\n",
              "      <td>14.263</td>\n",
              "      <td>352.155</td>\n",
              "      <td>929.053</td>\n",
              "      <td>3276937.895</td>\n",
              "      <td>1810.231</td>\n",
              "      <td>3740.274</td>\n",
              "    </tr>\n",
              "    <tr>\n",
              "      <th>E2RFR2</th>\n",
              "      <td>6.233</td>\n",
              "      <td>14.386</td>\n",
              "      <td>355.300</td>\n",
              "      <td>938.417</td>\n",
              "      <td>3367354.258</td>\n",
              "      <td>1835.035</td>\n",
              "      <td>3740.274</td>\n",
              "    </tr>\n",
              "    <tr>\n",
              "      <th>E3RFR3</th>\n",
              "      <td>7.461</td>\n",
              "      <td>14.869</td>\n",
              "      <td>432.130</td>\n",
              "      <td>1000.627</td>\n",
              "      <td>3440018.936</td>\n",
              "      <td>1854.729</td>\n",
              "      <td>3740.274</td>\n",
              "    </tr>\n",
              "    <tr>\n",
              "      <th>E3RFR1</th>\n",
              "      <td>7.581</td>\n",
              "      <td>15.052</td>\n",
              "      <td>436.287</td>\n",
              "      <td>1014.081</td>\n",
              "      <td>3523984.914</td>\n",
              "      <td>1877.228</td>\n",
              "      <td>3740.274</td>\n",
              "    </tr>\n",
              "    <tr>\n",
              "      <th>E2GBR8</th>\n",
              "      <td>14.864</td>\n",
              "      <td>20.302</td>\n",
              "      <td>832.121</td>\n",
              "      <td>1259.993</td>\n",
              "      <td>4120699.510</td>\n",
              "      <td>2029.951</td>\n",
              "      <td>3740.274</td>\n",
              "    </tr>\n",
              "    <tr>\n",
              "      <th>E2GBR5</th>\n",
              "      <td>16.631</td>\n",
              "      <td>23.155</td>\n",
              "      <td>931.035</td>\n",
              "      <td>1347.169</td>\n",
              "      <td>4205966.523</td>\n",
              "      <td>2050.845</td>\n",
              "      <td>3740.274</td>\n",
              "    </tr>\n",
              "    <tr>\n",
              "      <th>E2GBR6</th>\n",
              "      <td>15.651</td>\n",
              "      <td>21.651</td>\n",
              "      <td>880.041</td>\n",
              "      <td>1313.374</td>\n",
              "      <td>4321174.732</td>\n",
              "      <td>2078.744</td>\n",
              "      <td>3740.274</td>\n",
              "    </tr>\n",
              "    <tr>\n",
              "      <th>E2GBR7</th>\n",
              "      <td>17.213</td>\n",
              "      <td>24.155</td>\n",
              "      <td>968.517</td>\n",
              "      <td>1386.818</td>\n",
              "      <td>4392201.749</td>\n",
              "      <td>2095.758</td>\n",
              "      <td>3740.274</td>\n",
              "    </tr>\n",
              "  </tbody>\n",
              "</table>\n",
              "</div>\n",
              "      <button class=\"colab-df-convert\" onclick=\"convertToInteractive('df-d4090e97-5f08-4763-99ab-3426ff0c67fb')\"\n",
              "              title=\"Convert this dataframe to an interactive table.\"\n",
              "              style=\"display:none;\">\n",
              "        \n",
              "  <svg xmlns=\"http://www.w3.org/2000/svg\" height=\"24px\"viewBox=\"0 0 24 24\"\n",
              "       width=\"24px\">\n",
              "    <path d=\"M0 0h24v24H0V0z\" fill=\"none\"/>\n",
              "    <path d=\"M18.56 5.44l.94 2.06.94-2.06 2.06-.94-2.06-.94-.94-2.06-.94 2.06-2.06.94zm-11 1L8.5 8.5l.94-2.06 2.06-.94-2.06-.94L8.5 2.5l-.94 2.06-2.06.94zm10 10l.94 2.06.94-2.06 2.06-.94-2.06-.94-.94-2.06-.94 2.06-2.06.94z\"/><path d=\"M17.41 7.96l-1.37-1.37c-.4-.4-.92-.59-1.43-.59-.52 0-1.04.2-1.43.59L10.3 9.45l-7.72 7.72c-.78.78-.78 2.05 0 2.83L4 21.41c.39.39.9.59 1.41.59.51 0 1.02-.2 1.41-.59l7.78-7.78 2.81-2.81c.8-.78.8-2.07 0-2.86zM5.41 20L4 18.59l7.72-7.72 1.47 1.35L5.41 20z\"/>\n",
              "  </svg>\n",
              "      </button>\n",
              "      \n",
              "  <style>\n",
              "    .colab-df-container {\n",
              "      display:flex;\n",
              "      flex-wrap:wrap;\n",
              "      gap: 12px;\n",
              "    }\n",
              "\n",
              "    .colab-df-convert {\n",
              "      background-color: #E8F0FE;\n",
              "      border: none;\n",
              "      border-radius: 50%;\n",
              "      cursor: pointer;\n",
              "      display: none;\n",
              "      fill: #1967D2;\n",
              "      height: 32px;\n",
              "      padding: 0 0 0 0;\n",
              "      width: 32px;\n",
              "    }\n",
              "\n",
              "    .colab-df-convert:hover {\n",
              "      background-color: #E2EBFA;\n",
              "      box-shadow: 0px 1px 2px rgba(60, 64, 67, 0.3), 0px 1px 3px 1px rgba(60, 64, 67, 0.15);\n",
              "      fill: #174EA6;\n",
              "    }\n",
              "\n",
              "    [theme=dark] .colab-df-convert {\n",
              "      background-color: #3B4455;\n",
              "      fill: #D2E3FC;\n",
              "    }\n",
              "\n",
              "    [theme=dark] .colab-df-convert:hover {\n",
              "      background-color: #434B5C;\n",
              "      box-shadow: 0px 1px 3px 1px rgba(0, 0, 0, 0.15);\n",
              "      filter: drop-shadow(0px 1px 2px rgba(0, 0, 0, 0.3));\n",
              "      fill: #FFFFFF;\n",
              "    }\n",
              "  </style>\n",
              "\n",
              "      <script>\n",
              "        const buttonEl =\n",
              "          document.querySelector('#df-d4090e97-5f08-4763-99ab-3426ff0c67fb button.colab-df-convert');\n",
              "        buttonEl.style.display =\n",
              "          google.colab.kernel.accessAllowed ? 'block' : 'none';\n",
              "\n",
              "        async function convertToInteractive(key) {\n",
              "          const element = document.querySelector('#df-d4090e97-5f08-4763-99ab-3426ff0c67fb');\n",
              "          const dataTable =\n",
              "            await google.colab.kernel.invokeFunction('convertToInteractive',\n",
              "                                                     [key], {});\n",
              "          if (!dataTable) return;\n",
              "\n",
              "          const docLinkHtml = 'Like what you see? Visit the ' +\n",
              "            '<a target=\"_blank\" href=https://colab.research.google.com/notebooks/data_table.ipynb>data table notebook</a>'\n",
              "            + ' to learn more about interactive tables.';\n",
              "          element.innerHTML = '';\n",
              "          dataTable['output_type'] = 'display_data';\n",
              "          await google.colab.output.renderOutput(dataTable, element);\n",
              "          const docLink = document.createElement('div');\n",
              "          docLink.innerHTML = docLinkHtml;\n",
              "          element.appendChild(docLink);\n",
              "        }\n",
              "      </script>\n",
              "    </div>\n",
              "  </div>\n",
              "  "
            ]
          },
          "metadata": {},
          "execution_count": 49
        }
      ]
    },
    {
      "cell_type": "code",
      "source": [
        "economy_error_values.sort_values(by='MSE').head(10)"
      ],
      "metadata": {
        "colab": {
          "base_uri": "https://localhost:8080/",
          "height": 363
        },
        "id": "ekr0uvD_gx76",
        "outputId": "0a313728-15cf-4876-a852-932d997e283e"
      },
      "id": "ekr0uvD_gx76",
      "execution_count": null,
      "outputs": [
        {
          "output_type": "execute_result",
          "data": {
            "text/plain": [
              "          MEPE     MPE     MEAE       MAE          MSE      RMSE       STD\n",
              "E2RFR3   2.960   8.685  173.687   631.561  2012567.527  1418.650  3740.274\n",
              "E2RFR1   3.039   8.852  178.500   643.564  2080718.257  1442.469  3740.274\n",
              "E2RFR4   6.227  14.263  352.155   929.053  3276937.895  1810.231  3740.274\n",
              "E2RFR2   6.233  14.386  355.300   938.417  3367354.258  1835.035  3740.274\n",
              "E3RFR3   7.461  14.869  432.130  1000.627  3440018.936  1854.729  3740.274\n",
              "E3RFR1   7.581  15.052  436.287  1014.081  3523984.914  1877.228  3740.274\n",
              "E2GBR8  14.864  20.302  832.121  1259.993  4120699.510  2029.951  3740.274\n",
              "E2GBR5  16.631  23.155  931.035  1347.169  4205966.523  2050.845  3740.274\n",
              "E2GBR6  15.651  21.651  880.041  1313.374  4321174.732  2078.744  3740.274\n",
              "E2GBR7  17.213  24.155  968.517  1386.818  4392201.749  2095.758  3740.274"
            ],
            "text/html": [
              "\n",
              "  <div id=\"df-32a9c377-a36a-48cb-b2e3-b6815eb5ea49\">\n",
              "    <div class=\"colab-df-container\">\n",
              "      <div>\n",
              "<style scoped>\n",
              "    .dataframe tbody tr th:only-of-type {\n",
              "        vertical-align: middle;\n",
              "    }\n",
              "\n",
              "    .dataframe tbody tr th {\n",
              "        vertical-align: top;\n",
              "    }\n",
              "\n",
              "    .dataframe thead th {\n",
              "        text-align: right;\n",
              "    }\n",
              "</style>\n",
              "<table border=\"1\" class=\"dataframe\">\n",
              "  <thead>\n",
              "    <tr style=\"text-align: right;\">\n",
              "      <th></th>\n",
              "      <th>MEPE</th>\n",
              "      <th>MPE</th>\n",
              "      <th>MEAE</th>\n",
              "      <th>MAE</th>\n",
              "      <th>MSE</th>\n",
              "      <th>RMSE</th>\n",
              "      <th>STD</th>\n",
              "    </tr>\n",
              "  </thead>\n",
              "  <tbody>\n",
              "    <tr>\n",
              "      <th>E2RFR3</th>\n",
              "      <td>2.960</td>\n",
              "      <td>8.685</td>\n",
              "      <td>173.687</td>\n",
              "      <td>631.561</td>\n",
              "      <td>2012567.527</td>\n",
              "      <td>1418.650</td>\n",
              "      <td>3740.274</td>\n",
              "    </tr>\n",
              "    <tr>\n",
              "      <th>E2RFR1</th>\n",
              "      <td>3.039</td>\n",
              "      <td>8.852</td>\n",
              "      <td>178.500</td>\n",
              "      <td>643.564</td>\n",
              "      <td>2080718.257</td>\n",
              "      <td>1442.469</td>\n",
              "      <td>3740.274</td>\n",
              "    </tr>\n",
              "    <tr>\n",
              "      <th>E2RFR4</th>\n",
              "      <td>6.227</td>\n",
              "      <td>14.263</td>\n",
              "      <td>352.155</td>\n",
              "      <td>929.053</td>\n",
              "      <td>3276937.895</td>\n",
              "      <td>1810.231</td>\n",
              "      <td>3740.274</td>\n",
              "    </tr>\n",
              "    <tr>\n",
              "      <th>E2RFR2</th>\n",
              "      <td>6.233</td>\n",
              "      <td>14.386</td>\n",
              "      <td>355.300</td>\n",
              "      <td>938.417</td>\n",
              "      <td>3367354.258</td>\n",
              "      <td>1835.035</td>\n",
              "      <td>3740.274</td>\n",
              "    </tr>\n",
              "    <tr>\n",
              "      <th>E3RFR3</th>\n",
              "      <td>7.461</td>\n",
              "      <td>14.869</td>\n",
              "      <td>432.130</td>\n",
              "      <td>1000.627</td>\n",
              "      <td>3440018.936</td>\n",
              "      <td>1854.729</td>\n",
              "      <td>3740.274</td>\n",
              "    </tr>\n",
              "    <tr>\n",
              "      <th>E3RFR1</th>\n",
              "      <td>7.581</td>\n",
              "      <td>15.052</td>\n",
              "      <td>436.287</td>\n",
              "      <td>1014.081</td>\n",
              "      <td>3523984.914</td>\n",
              "      <td>1877.228</td>\n",
              "      <td>3740.274</td>\n",
              "    </tr>\n",
              "    <tr>\n",
              "      <th>E2GBR8</th>\n",
              "      <td>14.864</td>\n",
              "      <td>20.302</td>\n",
              "      <td>832.121</td>\n",
              "      <td>1259.993</td>\n",
              "      <td>4120699.510</td>\n",
              "      <td>2029.951</td>\n",
              "      <td>3740.274</td>\n",
              "    </tr>\n",
              "    <tr>\n",
              "      <th>E2GBR5</th>\n",
              "      <td>16.631</td>\n",
              "      <td>23.155</td>\n",
              "      <td>931.035</td>\n",
              "      <td>1347.169</td>\n",
              "      <td>4205966.523</td>\n",
              "      <td>2050.845</td>\n",
              "      <td>3740.274</td>\n",
              "    </tr>\n",
              "    <tr>\n",
              "      <th>E2GBR6</th>\n",
              "      <td>15.651</td>\n",
              "      <td>21.651</td>\n",
              "      <td>880.041</td>\n",
              "      <td>1313.374</td>\n",
              "      <td>4321174.732</td>\n",
              "      <td>2078.744</td>\n",
              "      <td>3740.274</td>\n",
              "    </tr>\n",
              "    <tr>\n",
              "      <th>E2GBR7</th>\n",
              "      <td>17.213</td>\n",
              "      <td>24.155</td>\n",
              "      <td>968.517</td>\n",
              "      <td>1386.818</td>\n",
              "      <td>4392201.749</td>\n",
              "      <td>2095.758</td>\n",
              "      <td>3740.274</td>\n",
              "    </tr>\n",
              "  </tbody>\n",
              "</table>\n",
              "</div>\n",
              "      <button class=\"colab-df-convert\" onclick=\"convertToInteractive('df-32a9c377-a36a-48cb-b2e3-b6815eb5ea49')\"\n",
              "              title=\"Convert this dataframe to an interactive table.\"\n",
              "              style=\"display:none;\">\n",
              "        \n",
              "  <svg xmlns=\"http://www.w3.org/2000/svg\" height=\"24px\"viewBox=\"0 0 24 24\"\n",
              "       width=\"24px\">\n",
              "    <path d=\"M0 0h24v24H0V0z\" fill=\"none\"/>\n",
              "    <path d=\"M18.56 5.44l.94 2.06.94-2.06 2.06-.94-2.06-.94-.94-2.06-.94 2.06-2.06.94zm-11 1L8.5 8.5l.94-2.06 2.06-.94-2.06-.94L8.5 2.5l-.94 2.06-2.06.94zm10 10l.94 2.06.94-2.06 2.06-.94-2.06-.94-.94-2.06-.94 2.06-2.06.94z\"/><path d=\"M17.41 7.96l-1.37-1.37c-.4-.4-.92-.59-1.43-.59-.52 0-1.04.2-1.43.59L10.3 9.45l-7.72 7.72c-.78.78-.78 2.05 0 2.83L4 21.41c.39.39.9.59 1.41.59.51 0 1.02-.2 1.41-.59l7.78-7.78 2.81-2.81c.8-.78.8-2.07 0-2.86zM5.41 20L4 18.59l7.72-7.72 1.47 1.35L5.41 20z\"/>\n",
              "  </svg>\n",
              "      </button>\n",
              "      \n",
              "  <style>\n",
              "    .colab-df-container {\n",
              "      display:flex;\n",
              "      flex-wrap:wrap;\n",
              "      gap: 12px;\n",
              "    }\n",
              "\n",
              "    .colab-df-convert {\n",
              "      background-color: #E8F0FE;\n",
              "      border: none;\n",
              "      border-radius: 50%;\n",
              "      cursor: pointer;\n",
              "      display: none;\n",
              "      fill: #1967D2;\n",
              "      height: 32px;\n",
              "      padding: 0 0 0 0;\n",
              "      width: 32px;\n",
              "    }\n",
              "\n",
              "    .colab-df-convert:hover {\n",
              "      background-color: #E2EBFA;\n",
              "      box-shadow: 0px 1px 2px rgba(60, 64, 67, 0.3), 0px 1px 3px 1px rgba(60, 64, 67, 0.15);\n",
              "      fill: #174EA6;\n",
              "    }\n",
              "\n",
              "    [theme=dark] .colab-df-convert {\n",
              "      background-color: #3B4455;\n",
              "      fill: #D2E3FC;\n",
              "    }\n",
              "\n",
              "    [theme=dark] .colab-df-convert:hover {\n",
              "      background-color: #434B5C;\n",
              "      box-shadow: 0px 1px 3px 1px rgba(0, 0, 0, 0.15);\n",
              "      filter: drop-shadow(0px 1px 2px rgba(0, 0, 0, 0.3));\n",
              "      fill: #FFFFFF;\n",
              "    }\n",
              "  </style>\n",
              "\n",
              "      <script>\n",
              "        const buttonEl =\n",
              "          document.querySelector('#df-32a9c377-a36a-48cb-b2e3-b6815eb5ea49 button.colab-df-convert');\n",
              "        buttonEl.style.display =\n",
              "          google.colab.kernel.accessAllowed ? 'block' : 'none';\n",
              "\n",
              "        async function convertToInteractive(key) {\n",
              "          const element = document.querySelector('#df-32a9c377-a36a-48cb-b2e3-b6815eb5ea49');\n",
              "          const dataTable =\n",
              "            await google.colab.kernel.invokeFunction('convertToInteractive',\n",
              "                                                     [key], {});\n",
              "          if (!dataTable) return;\n",
              "\n",
              "          const docLinkHtml = 'Like what you see? Visit the ' +\n",
              "            '<a target=\"_blank\" href=https://colab.research.google.com/notebooks/data_table.ipynb>data table notebook</a>'\n",
              "            + ' to learn more about interactive tables.';\n",
              "          element.innerHTML = '';\n",
              "          dataTable['output_type'] = 'display_data';\n",
              "          await google.colab.output.renderOutput(dataTable, element);\n",
              "          const docLink = document.createElement('div');\n",
              "          docLink.innerHTML = docLinkHtml;\n",
              "          element.appendChild(docLink);\n",
              "        }\n",
              "      </script>\n",
              "    </div>\n",
              "  </div>\n",
              "  "
            ]
          },
          "metadata": {},
          "execution_count": 50
        }
      ]
    },
    {
      "cell_type": "code",
      "source": [
        "economy_test_tables_dict['E2RFR3'].describe()"
      ],
      "metadata": {
        "colab": {
          "base_uri": "https://localhost:8080/",
          "height": 300
        },
        "id": "d2ocMimuhn_G",
        "outputId": "840b3592-4f7f-4971-9739-0f637df25182"
      },
      "id": "d2ocMimuhn_G",
      "execution_count": null,
      "outputs": [
        {
          "output_type": "execute_result",
          "data": {
            "text/plain": [
              "        true_values   predictions      error(%)\n",
              "count  41334.000000  41334.000000  41334.000000\n",
              "mean    6559.483137   6563.316528      8.684769\n",
              "std     3740.274081   3496.757010     15.061094\n",
              "min     1105.000000   1105.000000      0.000000\n",
              "25%     4173.000000   4285.095000      0.368387\n",
              "50%     5762.000000   5796.290000      2.960216\n",
              "75%     7677.000000   7754.850000     10.522874\n",
              "max    37646.000000  32545.955000    313.142243"
            ],
            "text/html": [
              "\n",
              "  <div id=\"df-2a3fc6a3-ea2c-4248-a945-250f3bb0ee90\">\n",
              "    <div class=\"colab-df-container\">\n",
              "      <div>\n",
              "<style scoped>\n",
              "    .dataframe tbody tr th:only-of-type {\n",
              "        vertical-align: middle;\n",
              "    }\n",
              "\n",
              "    .dataframe tbody tr th {\n",
              "        vertical-align: top;\n",
              "    }\n",
              "\n",
              "    .dataframe thead th {\n",
              "        text-align: right;\n",
              "    }\n",
              "</style>\n",
              "<table border=\"1\" class=\"dataframe\">\n",
              "  <thead>\n",
              "    <tr style=\"text-align: right;\">\n",
              "      <th></th>\n",
              "      <th>true_values</th>\n",
              "      <th>predictions</th>\n",
              "      <th>error(%)</th>\n",
              "    </tr>\n",
              "  </thead>\n",
              "  <tbody>\n",
              "    <tr>\n",
              "      <th>count</th>\n",
              "      <td>41334.000000</td>\n",
              "      <td>41334.000000</td>\n",
              "      <td>41334.000000</td>\n",
              "    </tr>\n",
              "    <tr>\n",
              "      <th>mean</th>\n",
              "      <td>6559.483137</td>\n",
              "      <td>6563.316528</td>\n",
              "      <td>8.684769</td>\n",
              "    </tr>\n",
              "    <tr>\n",
              "      <th>std</th>\n",
              "      <td>3740.274081</td>\n",
              "      <td>3496.757010</td>\n",
              "      <td>15.061094</td>\n",
              "    </tr>\n",
              "    <tr>\n",
              "      <th>min</th>\n",
              "      <td>1105.000000</td>\n",
              "      <td>1105.000000</td>\n",
              "      <td>0.000000</td>\n",
              "    </tr>\n",
              "    <tr>\n",
              "      <th>25%</th>\n",
              "      <td>4173.000000</td>\n",
              "      <td>4285.095000</td>\n",
              "      <td>0.368387</td>\n",
              "    </tr>\n",
              "    <tr>\n",
              "      <th>50%</th>\n",
              "      <td>5762.000000</td>\n",
              "      <td>5796.290000</td>\n",
              "      <td>2.960216</td>\n",
              "    </tr>\n",
              "    <tr>\n",
              "      <th>75%</th>\n",
              "      <td>7677.000000</td>\n",
              "      <td>7754.850000</td>\n",
              "      <td>10.522874</td>\n",
              "    </tr>\n",
              "    <tr>\n",
              "      <th>max</th>\n",
              "      <td>37646.000000</td>\n",
              "      <td>32545.955000</td>\n",
              "      <td>313.142243</td>\n",
              "    </tr>\n",
              "  </tbody>\n",
              "</table>\n",
              "</div>\n",
              "      <button class=\"colab-df-convert\" onclick=\"convertToInteractive('df-2a3fc6a3-ea2c-4248-a945-250f3bb0ee90')\"\n",
              "              title=\"Convert this dataframe to an interactive table.\"\n",
              "              style=\"display:none;\">\n",
              "        \n",
              "  <svg xmlns=\"http://www.w3.org/2000/svg\" height=\"24px\"viewBox=\"0 0 24 24\"\n",
              "       width=\"24px\">\n",
              "    <path d=\"M0 0h24v24H0V0z\" fill=\"none\"/>\n",
              "    <path d=\"M18.56 5.44l.94 2.06.94-2.06 2.06-.94-2.06-.94-.94-2.06-.94 2.06-2.06.94zm-11 1L8.5 8.5l.94-2.06 2.06-.94-2.06-.94L8.5 2.5l-.94 2.06-2.06.94zm10 10l.94 2.06.94-2.06 2.06-.94-2.06-.94-.94-2.06-.94 2.06-2.06.94z\"/><path d=\"M17.41 7.96l-1.37-1.37c-.4-.4-.92-.59-1.43-.59-.52 0-1.04.2-1.43.59L10.3 9.45l-7.72 7.72c-.78.78-.78 2.05 0 2.83L4 21.41c.39.39.9.59 1.41.59.51 0 1.02-.2 1.41-.59l7.78-7.78 2.81-2.81c.8-.78.8-2.07 0-2.86zM5.41 20L4 18.59l7.72-7.72 1.47 1.35L5.41 20z\"/>\n",
              "  </svg>\n",
              "      </button>\n",
              "      \n",
              "  <style>\n",
              "    .colab-df-container {\n",
              "      display:flex;\n",
              "      flex-wrap:wrap;\n",
              "      gap: 12px;\n",
              "    }\n",
              "\n",
              "    .colab-df-convert {\n",
              "      background-color: #E8F0FE;\n",
              "      border: none;\n",
              "      border-radius: 50%;\n",
              "      cursor: pointer;\n",
              "      display: none;\n",
              "      fill: #1967D2;\n",
              "      height: 32px;\n",
              "      padding: 0 0 0 0;\n",
              "      width: 32px;\n",
              "    }\n",
              "\n",
              "    .colab-df-convert:hover {\n",
              "      background-color: #E2EBFA;\n",
              "      box-shadow: 0px 1px 2px rgba(60, 64, 67, 0.3), 0px 1px 3px 1px rgba(60, 64, 67, 0.15);\n",
              "      fill: #174EA6;\n",
              "    }\n",
              "\n",
              "    [theme=dark] .colab-df-convert {\n",
              "      background-color: #3B4455;\n",
              "      fill: #D2E3FC;\n",
              "    }\n",
              "\n",
              "    [theme=dark] .colab-df-convert:hover {\n",
              "      background-color: #434B5C;\n",
              "      box-shadow: 0px 1px 3px 1px rgba(0, 0, 0, 0.15);\n",
              "      filter: drop-shadow(0px 1px 2px rgba(0, 0, 0, 0.3));\n",
              "      fill: #FFFFFF;\n",
              "    }\n",
              "  </style>\n",
              "\n",
              "      <script>\n",
              "        const buttonEl =\n",
              "          document.querySelector('#df-2a3fc6a3-ea2c-4248-a945-250f3bb0ee90 button.colab-df-convert');\n",
              "        buttonEl.style.display =\n",
              "          google.colab.kernel.accessAllowed ? 'block' : 'none';\n",
              "\n",
              "        async function convertToInteractive(key) {\n",
              "          const element = document.querySelector('#df-2a3fc6a3-ea2c-4248-a945-250f3bb0ee90');\n",
              "          const dataTable =\n",
              "            await google.colab.kernel.invokeFunction('convertToInteractive',\n",
              "                                                     [key], {});\n",
              "          if (!dataTable) return;\n",
              "\n",
              "          const docLinkHtml = 'Like what you see? Visit the ' +\n",
              "            '<a target=\"_blank\" href=https://colab.research.google.com/notebooks/data_table.ipynb>data table notebook</a>'\n",
              "            + ' to learn more about interactive tables.';\n",
              "          element.innerHTML = '';\n",
              "          dataTable['output_type'] = 'display_data';\n",
              "          await google.colab.output.renderOutput(dataTable, element);\n",
              "          const docLink = document.createElement('div');\n",
              "          docLink.innerHTML = docLinkHtml;\n",
              "          element.appendChild(docLink);\n",
              "        }\n",
              "      </script>\n",
              "    </div>\n",
              "  </div>\n",
              "  "
            ]
          },
          "metadata": {},
          "execution_count": 102
        }
      ]
    },
    {
      "cell_type": "code",
      "source": [
        "test_table[test_table['error(%)']>30].index"
      ],
      "metadata": {
        "colab": {
          "base_uri": "https://localhost:8080/"
        },
        "id": "_xmvFAChlaVn",
        "outputId": "d23f3eda-ffe6-4bbe-b5f6-b1c90455ba3f"
      },
      "id": "_xmvFAChlaVn",
      "execution_count": null,
      "outputs": [
        {
          "output_type": "execute_result",
          "data": {
            "text/plain": [
              "Int64Index([ 30604, 177351,  54876,  34055, 195241,  98491, 102922,  85492,\n",
              "             21508, 185077,\n",
              "            ...\n",
              "             65462,  45492,  61292,  37057,  60853,  10130,  12078, 198841,\n",
              "             22534, 147604],\n",
              "           dtype='int64', length=2963)"
            ]
          },
          "metadata": {},
          "execution_count": 70
        }
      ]
    },
    {
      "cell_type": "code",
      "source": [
        "import matplotlib.pyplot as plt\n",
        "test_table = economy_test_tables_dict['E2RFR3']\n",
        "plt.figure(figsize=(20,6))\n",
        "plt.subplot(1,3,1)\n",
        "sns.scatterplot(x='true_values',y='predictions',data=economy_test_tables_dict['E2RFR3'])\n",
        "plt.plot(economy_test_tables_dict['E2RFR3']['true_values'], economy_test_tables_dict['E2RFR3']['true_values'], color = 'r')\n",
        "plt.subplot(1,3,2)\n",
        "sns.histplot(x='error(%)', data=test_table[test_table['error(%)']<100])\n",
        "plt.subplot(1,3,3)\n",
        "sns.histplot(x='error(%)', data=test_table[test_table['error(%)']>100])"
      ],
      "metadata": {
        "colab": {
          "base_uri": "https://localhost:8080/",
          "height": 385
        },
        "id": "FgsdNAv5h9hf",
        "outputId": "48410003-bb89-4410-be30-a9d252e3fd4d"
      },
      "id": "FgsdNAv5h9hf",
      "execution_count": null,
      "outputs": [
        {
          "output_type": "execute_result",
          "data": {
            "text/plain": [
              "<matplotlib.axes._subplots.AxesSubplot at 0x7fe30ec6ff50>"
            ]
          },
          "metadata": {},
          "execution_count": 60
        },
        {
          "output_type": "display_data",
          "data": {
            "text/plain": [
              "<Figure size 1440x432 with 3 Axes>"
            ],
            "image/png": "[encoded data removed]"
          },
          "metadata": {
            "needs_background": "light"
          }
        }
      ]
    },
    {
      "cell_type": "code",
      "source": [
        "plt.figure(figsize=(18,7))\n",
        "sns.histplot(df_economy2['price']);\n",
        "sns.histplot(test_table[test_table['error(%)']>30]['true_values'], color ='r')"
      ],
      "metadata": {
        "colab": {
          "base_uri": "https://localhost:8080/",
          "height": 459
        },
        "id": "dOdJeZrZjzwv",
        "outputId": "2ae0f0ee-b0b9-4f11-aab6-94db86417141"
      },
      "id": "dOdJeZrZjzwv",
      "execution_count": null,
      "outputs": [
        {
          "output_type": "execute_result",
          "data": {
            "text/plain": [
              "<matplotlib.axes._subplots.AxesSubplot at 0x7fe30e3cb690>"
            ]
          },
          "metadata": {},
          "execution_count": 68
        },
        {
          "output_type": "display_data",
          "data": {
            "text/plain": [
              "<Figure size 1296x504 with 1 Axes>"
            ],
            "image/png": "[encoded data removed]"
          },
          "metadata": {
            "needs_background": "light"
          }
        }
      ]
    },
    {
      "cell_type": "code",
      "source": [
        "import seaborn as sns\n",
        "sns.distplot(df_economy.price)"
      ],
      "metadata": {
        "colab": {
          "base_uri": "https://localhost:8080/",
          "height": 351
        },
        "id": "X8nTlQ_xhIRV",
        "outputId": "b1c59a0a-70fb-46bb-d6e8-7358dc6fe737"
      },
      "id": "X8nTlQ_xhIRV",
      "execution_count": null,
      "outputs": [
        {
          "output_type": "stream",
          "name": "stderr",
          "text": [
            "/usr/local/lib/python3.7/dist-packages/seaborn/distributions.py:2619: FutureWarning: `distplot` is a deprecated function and will be removed in a future version. Please adapt your code to use either `displot` (a figure-level function with similar flexibility) or `histplot` (an axes-level function for histograms).\n",
            "  warnings.warn(msg, FutureWarning)\n"
          ]
        },
        {
          "output_type": "execute_result",
          "data": {
            "text/plain": [
              "<matplotlib.axes._subplots.AxesSubplot at 0x7fe319b65fd0>"
            ]
          },
          "metadata": {},
          "execution_count": 51
        },
        {
          "output_type": "display_data",
          "data": {
            "text/plain": [
              "<Figure size 432x288 with 1 Axes>"
            ],
            "image/png": "[encoded data removed]"
          },
          "metadata": {
            "needs_background": "light"
          }
        }
      ]
    },
    {
      "cell_type": "code",
      "execution_count": null,
      "id": "29090e65-add4-42f4-83eb-72270dd91454",
      "metadata": {
        "id": "29090e65-add4-42f4-83eb-72270dd91454"
      },
      "outputs": [],
      "source": [
        "economy_variability_values = assemble.assemble_variability_values(economy_regression_test_dict)"
      ]
    },
    {
      "cell_type": "code",
      "execution_count": null,
      "id": "222d4332-fe47-4074-bc02-f8641ccf2993",
      "metadata": {
        "id": "222d4332-fe47-4074-bc02-f8641ccf2993"
      },
      "outputs": [],
      "source": [
        "import seaborn as sns"
      ]
    },
    {
      "cell_type": "code",
      "execution_count": null,
      "id": "d8f8e911-fb39-4c05-a7b4-758e7fcc7ac0",
      "metadata": {
        "colab": {
          "base_uri": "https://localhost:8080/",
          "height": 480
        },
        "id": "d8f8e911-fb39-4c05-a7b4-758e7fcc7ac0",
        "outputId": "cf9560f8-22b3-4422-9852-5be2636b09ed"
      },
      "outputs": [
        {
          "output_type": "execute_result",
          "data": {
            "text/plain": [
              "<matplotlib.axes._subplots.AxesSubplot at 0x7fe30dba9e90>"
            ]
          },
          "metadata": {},
          "execution_count": 86
        },
        {
          "output_type": "display_data",
          "data": {
            "text/plain": [
              "<Figure size 2160x720 with 2 Axes>"
            ],
            "image/png": "[encoded data removed]"
          },
          "metadata": {
            "needs_background": "light"
          }
        }
      ],
      "source": [
        "plt.figure(figsize=(30,10))\n",
        "sns.heatmap(data = economy_variability_values, annot = True, cmap = 'Blues')"
      ]
    },
    {
      "cell_type": "code",
      "execution_count": null,
      "id": "757d2919-e8c6-4aa9-a5d6-16afe85d60af",
      "metadata": {
        "id": "757d2919-e8c6-4aa9-a5d6-16afe85d60af"
      },
      "outputs": [],
      "source": []
    },
    {
      "cell_type": "markdown",
      "id": "278b7633-cacf-404c-b43e-df5649661baf",
      "metadata": {
        "id": "278b7633-cacf-404c-b43e-df5649661baf"
      },
      "source": [
        "## Business"
      ]
    },
    {
      "cell_type": "code",
      "execution_count": null,
      "id": "42c3a3cf-e3b7-4050-b192-e500d84b4832",
      "metadata": {
        "id": "42c3a3cf-e3b7-4050-b192-e500d84b4832"
      },
      "outputs": [],
      "source": [
        "business_test_tables_dict = assemble.assemble_test_tables(business_regression_test_dict)"
      ]
    },
    {
      "cell_type": "code",
      "execution_count": null,
      "id": "067b32df-8f61-417c-82e6-268e276e656b",
      "metadata": {
        "id": "067b32df-8f61-417c-82e6-268e276e656b"
      },
      "outputs": [],
      "source": [
        "business_regression_test_dict['test_tables'] = business_test_tables_dict"
      ]
    },
    {
      "cell_type": "code",
      "execution_count": null,
      "id": "f3e24739-fc11-4947-90ce-40affc8fe98f",
      "metadata": {
        "id": "f3e24739-fc11-4947-90ce-40affc8fe98f"
      },
      "outputs": [],
      "source": [
        "business_error_values = assemble.assemble_error_values(business_regression_test_dict)\n",
        "business_error_values = business_error_values.transpose()"
      ]
    },
    {
      "cell_type": "code",
      "source": [
        "business_error_values.sort_values(by='MEPE').head()"
      ],
      "metadata": {
        "colab": {
          "base_uri": "https://localhost:8080/",
          "height": 206
        },
        "id": "5KbdTxk8pwEm",
        "outputId": "ada3951f-e496-4516-a0eb-0368cf8f77a0"
      },
      "id": "5KbdTxk8pwEm",
      "execution_count": null,
      "outputs": [
        {
          "output_type": "execute_result",
          "data": {
            "text/plain": [
              "         MEPE     MPE      MEAE       MAE           MSE      RMSE        STD\n",
              "B2RFR1  0.045   3.776    24.050  2148.293  2.143953e+07  4630.284  12951.701\n",
              "B2RFR3  0.345   3.749   171.360  2132.751  2.091745e+07  4573.560  12951.701\n",
              "B2RFR2  2.997   7.887  1558.950  3841.413  4.435588e+07  6660.021  12951.701\n",
              "B2RFR4  3.005   7.838  1556.645  3806.031  4.310515e+07  6565.451  12951.701\n",
              "B2GBR8  7.476  10.723  3776.847  5363.836  5.425031e+07  7365.481  12951.701"
            ],
            "text/html": [
              "\n",
              "  <div id=\"df-fe786cd1-8041-4590-b017-a532559ce808\">\n",
              "    <div class=\"colab-df-container\">\n",
              "      <div>\n",
              "<style scoped>\n",
              "    .dataframe tbody tr th:only-of-type {\n",
              "        vertical-align: middle;\n",
              "    }\n",
              "\n",
              "    .dataframe tbody tr th {\n",
              "        vertical-align: top;\n",
              "    }\n",
              "\n",
              "    .dataframe thead th {\n",
              "        text-align: right;\n",
              "    }\n",
              "</style>\n",
              "<table border=\"1\" class=\"dataframe\">\n",
              "  <thead>\n",
              "    <tr style=\"text-align: right;\">\n",
              "      <th></th>\n",
              "      <th>MEPE</th>\n",
              "      <th>MPE</th>\n",
              "      <th>MEAE</th>\n",
              "      <th>MAE</th>\n",
              "      <th>MSE</th>\n",
              "      <th>RMSE</th>\n",
              "      <th>STD</th>\n",
              "    </tr>\n",
              "  </thead>\n",
              "  <tbody>\n",
              "    <tr>\n",
              "      <th>B2RFR1</th>\n",
              "      <td>0.045</td>\n",
              "      <td>3.776</td>\n",
              "      <td>24.050</td>\n",
              "      <td>2148.293</td>\n",
              "      <td>2.143953e+07</td>\n",
              "      <td>4630.284</td>\n",
              "      <td>12951.701</td>\n",
              "    </tr>\n",
              "    <tr>\n",
              "      <th>B2RFR3</th>\n",
              "      <td>0.345</td>\n",
              "      <td>3.749</td>\n",
              "      <td>171.360</td>\n",
              "      <td>2132.751</td>\n",
              "      <td>2.091745e+07</td>\n",
              "      <td>4573.560</td>\n",
              "      <td>12951.701</td>\n",
              "    </tr>\n",
              "    <tr>\n",
              "      <th>B2RFR2</th>\n",
              "      <td>2.997</td>\n",
              "      <td>7.887</td>\n",
              "      <td>1558.950</td>\n",
              "      <td>3841.413</td>\n",
              "      <td>4.435588e+07</td>\n",
              "      <td>6660.021</td>\n",
              "      <td>12951.701</td>\n",
              "    </tr>\n",
              "    <tr>\n",
              "      <th>B2RFR4</th>\n",
              "      <td>3.005</td>\n",
              "      <td>7.838</td>\n",
              "      <td>1556.645</td>\n",
              "      <td>3806.031</td>\n",
              "      <td>4.310515e+07</td>\n",
              "      <td>6565.451</td>\n",
              "      <td>12951.701</td>\n",
              "    </tr>\n",
              "    <tr>\n",
              "      <th>B2GBR8</th>\n",
              "      <td>7.476</td>\n",
              "      <td>10.723</td>\n",
              "      <td>3776.847</td>\n",
              "      <td>5363.836</td>\n",
              "      <td>5.425031e+07</td>\n",
              "      <td>7365.481</td>\n",
              "      <td>12951.701</td>\n",
              "    </tr>\n",
              "  </tbody>\n",
              "</table>\n",
              "</div>\n",
              "      <button class=\"colab-df-convert\" onclick=\"convertToInteractive('df-fe786cd1-8041-4590-b017-a532559ce808')\"\n",
              "              title=\"Convert this dataframe to an interactive table.\"\n",
              "              style=\"display:none;\">\n",
              "        \n",
              "  <svg xmlns=\"http://www.w3.org/2000/svg\" height=\"24px\"viewBox=\"0 0 24 24\"\n",
              "       width=\"24px\">\n",
              "    <path d=\"M0 0h24v24H0V0z\" fill=\"none\"/>\n",
              "    <path d=\"M18.56 5.44l.94 2.06.94-2.06 2.06-.94-2.06-.94-.94-2.06-.94 2.06-2.06.94zm-11 1L8.5 8.5l.94-2.06 2.06-.94-2.06-.94L8.5 2.5l-.94 2.06-2.06.94zm10 10l.94 2.06.94-2.06 2.06-.94-2.06-.94-.94-2.06-.94 2.06-2.06.94z\"/><path d=\"M17.41 7.96l-1.37-1.37c-.4-.4-.92-.59-1.43-.59-.52 0-1.04.2-1.43.59L10.3 9.45l-7.72 7.72c-.78.78-.78 2.05 0 2.83L4 21.41c.39.39.9.59 1.41.59.51 0 1.02-.2 1.41-.59l7.78-7.78 2.81-2.81c.8-.78.8-2.07 0-2.86zM5.41 20L4 18.59l7.72-7.72 1.47 1.35L5.41 20z\"/>\n",
              "  </svg>\n",
              "      </button>\n",
              "      \n",
              "  <style>\n",
              "    .colab-df-container {\n",
              "      display:flex;\n",
              "      flex-wrap:wrap;\n",
              "      gap: 12px;\n",
              "    }\n",
              "\n",
              "    .colab-df-convert {\n",
              "      background-color: #E8F0FE;\n",
              "      border: none;\n",
              "      border-radius: 50%;\n",
              "      cursor: pointer;\n",
              "      display: none;\n",
              "      fill: #1967D2;\n",
              "      height: 32px;\n",
              "      padding: 0 0 0 0;\n",
              "      width: 32px;\n",
              "    }\n",
              "\n",
              "    .colab-df-convert:hover {\n",
              "      background-color: #E2EBFA;\n",
              "      box-shadow: 0px 1px 2px rgba(60, 64, 67, 0.3), 0px 1px 3px 1px rgba(60, 64, 67, 0.15);\n",
              "      fill: #174EA6;\n",
              "    }\n",
              "\n",
              "    [theme=dark] .colab-df-convert {\n",
              "      background-color: #3B4455;\n",
              "      fill: #D2E3FC;\n",
              "    }\n",
              "\n",
              "    [theme=dark] .colab-df-convert:hover {\n",
              "      background-color: #434B5C;\n",
              "      box-shadow: 0px 1px 3px 1px rgba(0, 0, 0, 0.15);\n",
              "      filter: drop-shadow(0px 1px 2px rgba(0, 0, 0, 0.3));\n",
              "      fill: #FFFFFF;\n",
              "    }\n",
              "  </style>\n",
              "\n",
              "      <script>\n",
              "        const buttonEl =\n",
              "          document.querySelector('#df-fe786cd1-8041-4590-b017-a532559ce808 button.colab-df-convert');\n",
              "        buttonEl.style.display =\n",
              "          google.colab.kernel.accessAllowed ? 'block' : 'none';\n",
              "\n",
              "        async function convertToInteractive(key) {\n",
              "          const element = document.querySelector('#df-fe786cd1-8041-4590-b017-a532559ce808');\n",
              "          const dataTable =\n",
              "            await google.colab.kernel.invokeFunction('convertToInteractive',\n",
              "                                                     [key], {});\n",
              "          if (!dataTable) return;\n",
              "\n",
              "          const docLinkHtml = 'Like what you see? Visit the ' +\n",
              "            '<a target=\"_blank\" href=https://colab.research.google.com/notebooks/data_table.ipynb>data table notebook</a>'\n",
              "            + ' to learn more about interactive tables.';\n",
              "          element.innerHTML = '';\n",
              "          dataTable['output_type'] = 'display_data';\n",
              "          await google.colab.output.renderOutput(dataTable, element);\n",
              "          const docLink = document.createElement('div');\n",
              "          docLink.innerHTML = docLinkHtml;\n",
              "          element.appendChild(docLink);\n",
              "        }\n",
              "      </script>\n",
              "    </div>\n",
              "  </div>\n",
              "  "
            ]
          },
          "metadata": {},
          "execution_count": 98
        }
      ]
    },
    {
      "cell_type": "code",
      "execution_count": null,
      "id": "6e5641bc-10f8-4b07-9e5b-8c504f681025",
      "metadata": {
        "id": "6e5641bc-10f8-4b07-9e5b-8c504f681025"
      },
      "outputs": [],
      "source": [
        "business_variability_values = assemble.assemble_variability_values(business_regression_test_dict)"
      ]
    },
    {
      "cell_type": "code",
      "source": [
        "plt.figure(figsize=(30,10))\n",
        "sns.heatmap(data = business_variability_values, annot = True, cmap = 'Blues')"
      ],
      "metadata": {
        "colab": {
          "base_uri": "https://localhost:8080/",
          "height": 660
        },
        "id": "so6qKfDerDHt",
        "outputId": "f7effafc-3796-40a5-97c9-ad5162adbcc8"
      },
      "id": "so6qKfDerDHt",
      "execution_count": null,
      "outputs": [
        {
          "output_type": "execute_result",
          "data": {
            "text/plain": [
              "<matplotlib.axes._subplots.AxesSubplot at 0x7fe30d9ae150>"
            ]
          },
          "metadata": {},
          "execution_count": 88
        },
        {
          "output_type": "display_data",
          "data": {
            "text/plain": [
              "<Figure size 2160x720 with 2 Axes>"
            ],
            "image/png": "[encoded data removed]"
          },
          "metadata": {
            "needs_background": "light"
          }
        }
      ]
    },
    {
      "cell_type": "code",
      "execution_count": null,
      "id": "539f25fc-4be6-4864-bc0f-4215a43d6593",
      "metadata": {
        "id": "539f25fc-4be6-4864-bc0f-4215a43d6593"
      },
      "outputs": [],
      "source": [
        "with open('economy_regression_test_dict.pkl', 'wb') as f:\n",
        "    pickle.dump(economy_regression_test_dict, f)"
      ]
    },
    {
      "cell_type": "code",
      "execution_count": null,
      "id": "bceea3cd-2a21-4ddb-a8bc-da6cb3088011",
      "metadata": {
        "id": "bceea3cd-2a21-4ddb-a8bc-da6cb3088011"
      },
      "outputs": [],
      "source": [
        "with open('economy_regression_test_dict.pkl', 'rb') as f:\n",
        "    loaded_dict = pickle.load(f)"
      ]
    },
    {
      "cell_type": "code",
      "execution_count": null,
      "id": "1f84bb29-9d76-4e80-abea-77c4f719e480",
      "metadata": {
        "id": "1f84bb29-9d76-4e80-abea-77c4f719e480"
      },
      "outputs": [],
      "source": [
        "loaded_dict.keys()"
      ]
    },
    {
      "cell_type": "markdown",
      "source": [
        "## All"
      ],
      "metadata": {
        "id": "wp98TIy21_Ct"
      },
      "id": "wp98TIy21_Ct"
    },
    {
      "cell_type": "code",
      "source": [
        "all_test_tables_dict = assemble.assemble_test_tables(all_regression_test_dict)"
      ],
      "metadata": {
        "id": "FnsQdmWT2HaN"
      },
      "id": "FnsQdmWT2HaN",
      "execution_count": null,
      "outputs": []
    },
    {
      "cell_type": "code",
      "source": [
        "all_regression_test_dict['test_tables'] = all_test_tables_dict"
      ],
      "metadata": {
        "id": "wBuVuw-y2QY-"
      },
      "id": "wBuVuw-y2QY-",
      "execution_count": null,
      "outputs": []
    },
    {
      "cell_type": "code",
      "source": [
        "all_error_values = assemble.assemble_error_values(all_regression_test_dict)\n",
        "all_error_values = all_error_values.transpose()"
      ],
      "metadata": {
        "id": "lQ3oNGOy2S1-"
      },
      "id": "lQ3oNGOy2S1-",
      "execution_count": null,
      "outputs": []
    },
    {
      "cell_type": "code",
      "source": [
        "all_error_values.sort_values(by='MEPE').head()"
      ],
      "metadata": {
        "colab": {
          "base_uri": "https://localhost:8080/",
          "height": 206
        },
        "id": "Nve1rxGD2oM9",
        "outputId": "cb9e1772-89a4-4801-e7ac-353713e4aca8"
      },
      "id": "Nve1rxGD2oM9",
      "execution_count": null,
      "outputs": [
        {
          "output_type": "execute_result",
          "data": {
            "text/plain": [
              "          MEPE     MPE     MEAE       MAE           MSE      RMSE       STD\n",
              "A2RFR1   1.937   7.295   163.25  1113.752  7.979444e+06  2824.791  22612.54\n",
              "A2RFR3   1.979   7.223   173.21  1101.980  7.761890e+06  2786.017  22612.54\n",
              "A2RFR4   5.184  12.279   489.63  1812.360  1.535036e+07  3917.954  22612.54\n",
              "A2RFR2   5.257  12.436   495.35  1840.780  1.602908e+07  4003.633  22612.54\n",
              "A2GBR8  13.799  20.013  1379.20  2754.691  2.279586e+07  4774.502  22612.54"
            ],
            "text/html": [
              "\n",
              "  <div id=\"df-1ebd9213-4cfa-43b7-9c02-d7c710f05b91\">\n",
              "    <div class=\"colab-df-container\">\n",
              "      <div>\n",
              "<style scoped>\n",
              "    .dataframe tbody tr th:only-of-type {\n",
              "        vertical-align: middle;\n",
              "    }\n",
              "\n",
              "    .dataframe tbody tr th {\n",
              "        vertical-align: top;\n",
              "    }\n",
              "\n",
              "    .dataframe thead th {\n",
              "        text-align: right;\n",
              "    }\n",
              "</style>\n",
              "<table border=\"1\" class=\"dataframe\">\n",
              "  <thead>\n",
              "    <tr style=\"text-align: right;\">\n",
              "      <th></th>\n",
              "      <th>MEPE</th>\n",
              "      <th>MPE</th>\n",
              "      <th>MEAE</th>\n",
              "      <th>MAE</th>\n",
              "      <th>MSE</th>\n",
              "      <th>RMSE</th>\n",
              "      <th>STD</th>\n",
              "    </tr>\n",
              "  </thead>\n",
              "  <tbody>\n",
              "    <tr>\n",
              "      <th>A2RFR1</th>\n",
              "      <td>1.937</td>\n",
              "      <td>7.295</td>\n",
              "      <td>163.25</td>\n",
              "      <td>1113.752</td>\n",
              "      <td>7.979444e+06</td>\n",
              "      <td>2824.791</td>\n",
              "      <td>22612.54</td>\n",
              "    </tr>\n",
              "    <tr>\n",
              "      <th>A2RFR3</th>\n",
              "      <td>1.979</td>\n",
              "      <td>7.223</td>\n",
              "      <td>173.21</td>\n",
              "      <td>1101.980</td>\n",
              "      <td>7.761890e+06</td>\n",
              "      <td>2786.017</td>\n",
              "      <td>22612.54</td>\n",
              "    </tr>\n",
              "    <tr>\n",
              "      <th>A2RFR4</th>\n",
              "      <td>5.184</td>\n",
              "      <td>12.279</td>\n",
              "      <td>489.63</td>\n",
              "      <td>1812.360</td>\n",
              "      <td>1.535036e+07</td>\n",
              "      <td>3917.954</td>\n",
              "      <td>22612.54</td>\n",
              "    </tr>\n",
              "    <tr>\n",
              "      <th>A2RFR2</th>\n",
              "      <td>5.257</td>\n",
              "      <td>12.436</td>\n",
              "      <td>495.35</td>\n",
              "      <td>1840.780</td>\n",
              "      <td>1.602908e+07</td>\n",
              "      <td>4003.633</td>\n",
              "      <td>22612.54</td>\n",
              "    </tr>\n",
              "    <tr>\n",
              "      <th>A2GBR8</th>\n",
              "      <td>13.799</td>\n",
              "      <td>20.013</td>\n",
              "      <td>1379.20</td>\n",
              "      <td>2754.691</td>\n",
              "      <td>2.279586e+07</td>\n",
              "      <td>4774.502</td>\n",
              "      <td>22612.54</td>\n",
              "    </tr>\n",
              "  </tbody>\n",
              "</table>\n",
              "</div>\n",
              "      <button class=\"colab-df-convert\" onclick=\"convertToInteractive('df-1ebd9213-4cfa-43b7-9c02-d7c710f05b91')\"\n",
              "              title=\"Convert this dataframe to an interactive table.\"\n",
              "              style=\"display:none;\">\n",
              "        \n",
              "  <svg xmlns=\"http://www.w3.org/2000/svg\" height=\"24px\"viewBox=\"0 0 24 24\"\n",
              "       width=\"24px\">\n",
              "    <path d=\"M0 0h24v24H0V0z\" fill=\"none\"/>\n",
              "    <path d=\"M18.56 5.44l.94 2.06.94-2.06 2.06-.94-2.06-.94-.94-2.06-.94 2.06-2.06.94zm-11 1L8.5 8.5l.94-2.06 2.06-.94-2.06-.94L8.5 2.5l-.94 2.06-2.06.94zm10 10l.94 2.06.94-2.06 2.06-.94-2.06-.94-.94-2.06-.94 2.06-2.06.94z\"/><path d=\"M17.41 7.96l-1.37-1.37c-.4-.4-.92-.59-1.43-.59-.52 0-1.04.2-1.43.59L10.3 9.45l-7.72 7.72c-.78.78-.78 2.05 0 2.83L4 21.41c.39.39.9.59 1.41.59.51 0 1.02-.2 1.41-.59l7.78-7.78 2.81-2.81c.8-.78.8-2.07 0-2.86zM5.41 20L4 18.59l7.72-7.72 1.47 1.35L5.41 20z\"/>\n",
              "  </svg>\n",
              "      </button>\n",
              "      \n",
              "  <style>\n",
              "    .colab-df-container {\n",
              "      display:flex;\n",
              "      flex-wrap:wrap;\n",
              "      gap: 12px;\n",
              "    }\n",
              "\n",
              "    .colab-df-convert {\n",
              "      background-color: #E8F0FE;\n",
              "      border: none;\n",
              "      border-radius: 50%;\n",
              "      cursor: pointer;\n",
              "      display: none;\n",
              "      fill: #1967D2;\n",
              "      height: 32px;\n",
              "      padding: 0 0 0 0;\n",
              "      width: 32px;\n",
              "    }\n",
              "\n",
              "    .colab-df-convert:hover {\n",
              "      background-color: #E2EBFA;\n",
              "      box-shadow: 0px 1px 2px rgba(60, 64, 67, 0.3), 0px 1px 3px 1px rgba(60, 64, 67, 0.15);\n",
              "      fill: #174EA6;\n",
              "    }\n",
              "\n",
              "    [theme=dark] .colab-df-convert {\n",
              "      background-color: #3B4455;\n",
              "      fill: #D2E3FC;\n",
              "    }\n",
              "\n",
              "    [theme=dark] .colab-df-convert:hover {\n",
              "      background-color: #434B5C;\n",
              "      box-shadow: 0px 1px 3px 1px rgba(0, 0, 0, 0.15);\n",
              "      filter: drop-shadow(0px 1px 2px rgba(0, 0, 0, 0.3));\n",
              "      fill: #FFFFFF;\n",
              "    }\n",
              "  </style>\n",
              "\n",
              "      <script>\n",
              "        const buttonEl =\n",
              "          document.querySelector('#df-1ebd9213-4cfa-43b7-9c02-d7c710f05b91 button.colab-df-convert');\n",
              "        buttonEl.style.display =\n",
              "          google.colab.kernel.accessAllowed ? 'block' : 'none';\n",
              "\n",
              "        async function convertToInteractive(key) {\n",
              "          const element = document.querySelector('#df-1ebd9213-4cfa-43b7-9c02-d7c710f05b91');\n",
              "          const dataTable =\n",
              "            await google.colab.kernel.invokeFunction('convertToInteractive',\n",
              "                                                     [key], {});\n",
              "          if (!dataTable) return;\n",
              "\n",
              "          const docLinkHtml = 'Like what you see? Visit the ' +\n",
              "            '<a target=\"_blank\" href=https://colab.research.google.com/notebooks/data_table.ipynb>data table notebook</a>'\n",
              "            + ' to learn more about interactive tables.';\n",
              "          element.innerHTML = '';\n",
              "          dataTable['output_type'] = 'display_data';\n",
              "          await google.colab.output.renderOutput(dataTable, element);\n",
              "          const docLink = document.createElement('div');\n",
              "          docLink.innerHTML = docLinkHtml;\n",
              "          element.appendChild(docLink);\n",
              "        }\n",
              "      </script>\n",
              "    </div>\n",
              "  </div>\n",
              "  "
            ]
          },
          "metadata": {},
          "execution_count": 96
        }
      ]
    },
    {
      "cell_type": "code",
      "source": [
        "all_variability_values = assemble.assemble_variability_values(all_regression_test_dict)"
      ],
      "metadata": {
        "id": "Yd-j1OTm75bd"
      },
      "id": "Yd-j1OTm75bd",
      "execution_count": null,
      "outputs": []
    },
    {
      "cell_type": "code",
      "source": [
        "plt.figure(figsize=(30,10))\n",
        "sns.heatmap(data = all_variability_values, annot = True, cmap = 'Blues')"
      ],
      "metadata": {
        "colab": {
          "base_uri": "https://localhost:8080/",
          "height": 458
        },
        "id": "FB5uq7kG8AwX",
        "outputId": "2dd99ea5-6348-419a-c34e-6d348677c08e"
      },
      "id": "FB5uq7kG8AwX",
      "execution_count": null,
      "outputs": [
        {
          "output_type": "execute_result",
          "data": {
            "text/plain": [
              "<matplotlib.axes._subplots.AxesSubplot at 0x7fe30d713a90>"
            ]
          },
          "metadata": {},
          "execution_count": 100
        },
        {
          "output_type": "display_data",
          "data": {
            "text/plain": [
              "<Figure size 2160x720 with 2 Axes>"
            ],
            "image/png": "[encoded data removed]"
          },
          "metadata": {
            "needs_background": "light"
          }
        }
      ]
    },
    {
      "cell_type": "markdown",
      "source": [
        "# Comparison"
      ],
      "metadata": {
        "id": "z6s8WHuD8LtM"
      },
      "id": "z6s8WHuD8LtM"
    },
    {
      "cell_type": "code",
      "source": [
        "economy_regression_test_dict.keys()"
      ],
      "metadata": {
        "colab": {
          "base_uri": "https://localhost:8080/"
        },
        "id": "NbjzT-LiYpxL",
        "outputId": "1edf6fa8-8a04-4d9d-8127-58c39e61cf48"
      },
      "id": "NbjzT-LiYpxL",
      "execution_count": null,
      "outputs": [
        {
          "output_type": "execute_result",
          "data": {
            "text/plain": [
              "dict_keys(['data', 'predictions', 'models', 'y_test', 'X_test', 'test_tables'])"
            ]
          },
          "metadata": {},
          "execution_count": 181
        }
      ]
    },
    {
      "cell_type": "code",
      "source": [
        "economy_index = economy_regression_test_dict['test_tables']['E2RFR3'].index"
      ],
      "metadata": {
        "id": "YwFKknQ48PG_"
      },
      "id": "YwFKknQ48PG_",
      "execution_count": null,
      "outputs": []
    },
    {
      "cell_type": "code",
      "source": [
        "economy_test_table = economy_regression_test_dict['test_tables']['E2RFR3']"
      ],
      "metadata": {
        "id": "cxLNm866YB61"
      },
      "id": "cxLNm866YB61",
      "execution_count": null,
      "outputs": []
    },
    {
      "cell_type": "code",
      "source": [
        "all_index = all_regression_test_dict['test_tables']['A2RFR1'].index"
      ],
      "metadata": {
        "id": "4q6Xkai7SVoy"
      },
      "id": "4q6Xkai7SVoy",
      "execution_count": null,
      "outputs": []
    },
    {
      "cell_type": "code",
      "source": [
        "all_test_table = all_regression_test_dict['test_tables']['A2RFR1']"
      ],
      "metadata": {
        "id": "4ZwRc0uMWUl8"
      },
      "id": "4ZwRc0uMWUl8",
      "execution_count": null,
      "outputs": []
    },
    {
      "cell_type": "code",
      "source": [
        "len(economy_index), len(all_test_table)"
      ],
      "metadata": {
        "colab": {
          "base_uri": "https://localhost:8080/"
        },
        "id": "9ZDc9jsnWueO",
        "outputId": "92a49c47-1e13-492b-d3da-bbed21b8a63d"
      },
      "id": "9ZDc9jsnWueO",
      "execution_count": null,
      "outputs": [
        {
          "output_type": "execute_result",
          "data": {
            "text/plain": [
              "(41334, 60031)"
            ]
          },
          "metadata": {},
          "execution_count": 160
        }
      ]
    },
    {
      "cell_type": "code",
      "source": [
        "common_economy_indexes = all_test_table[all_test_table.index.isin(economy_index)].index\n",
        "common_economy_indexes"
      ],
      "metadata": {
        "colab": {
          "base_uri": "https://localhost:8080/"
        },
        "id": "ov4xhBWmWcvj",
        "outputId": "e7cbb0d8-2333-4864-ae38-1ad26b79472c"
      },
      "id": "ov4xhBWmWcvj",
      "execution_count": null,
      "outputs": [
        {
          "output_type": "execute_result",
          "data": {
            "text/plain": [
              "Int64Index([185846,  17827,  25215,  89024,  40245,   8575, 114748, 177601,\n",
              "             89685,  43226,\n",
              "            ...\n",
              "            201781,   6513, 161331,  64367,  33926,  90619,  30848,  62520,\n",
              "              5107,  85265],\n",
              "           dtype='int64', length=13267)"
            ]
          },
          "metadata": {},
          "execution_count": 170
        }
      ]
    },
    {
      "cell_type": "code",
      "source": [
        "df_all2[df_all2.index.isin(common_economy_indexes)]['class'].unique()"
      ],
      "metadata": {
        "colab": {
          "base_uri": "https://localhost:8080/"
        },
        "id": "AqraHyJtXlla",
        "outputId": "ccb94ce2-a7bc-4e00-a544-92bef0d2c2ce"
      },
      "id": "AqraHyJtXlla",
      "execution_count": null,
      "outputs": [
        {
          "output_type": "execute_result",
          "data": {
            "text/plain": [
              "array([0])"
            ]
          },
          "metadata": {},
          "execution_count": 172
        }
      ]
    },
    {
      "cell_type": "code",
      "source": [
        "all_test_table[all_test_table.index.isin(common_economy_indexes)].sort_index()"
      ],
      "metadata": {
        "colab": {
          "base_uri": "https://localhost:8080/",
          "height": 424
        },
        "id": "icBrMIdNXlrQ",
        "outputId": "39ef3bbd-58db-4565-e99a-37937edeef6e"
      },
      "id": "icBrMIdNXlrQ",
      "execution_count": null,
      "outputs": [
        {
          "output_type": "execute_result",
          "data": {
            "text/plain": [
              "        true_values  predictions   error(%)\n",
              "14             5955      6198.95   4.096558\n",
              "29            10470      9510.90   9.160458\n",
              "32            12150     16787.15  38.165844\n",
              "36            12150     12507.60   2.943210\n",
              "44            12215     14238.60  16.566517\n",
              "...             ...          ...        ...\n",
              "206531         1551      1550.60   0.025790\n",
              "206543         3810      3823.80   0.362205\n",
              "206561         3979      4057.75   1.979140\n",
              "206626         4086      4424.60   8.286833\n",
              "206647         5732      7287.50  27.137125\n",
              "\n",
              "[13267 rows x 3 columns]"
            ],
            "text/html": [
              "\n",
              "  <div id=\"df-0bdeaf31-3470-45b8-ba5f-9aae1fd1e47e\">\n",
              "    <div class=\"colab-df-container\">\n",
              "      <div>\n",
              "<style scoped>\n",
              "    .dataframe tbody tr th:only-of-type {\n",
              "        vertical-align: middle;\n",
              "    }\n",
              "\n",
              "    .dataframe tbody tr th {\n",
              "        vertical-align: top;\n",
              "    }\n",
              "\n",
              "    .dataframe thead th {\n",
              "        text-align: right;\n",
              "    }\n",
              "</style>\n",
              "<table border=\"1\" class=\"dataframe\">\n",
              "  <thead>\n",
              "    <tr style=\"text-align: right;\">\n",
              "      <th></th>\n",
              "      <th>true_values</th>\n",
              "      <th>predictions</th>\n",
              "      <th>error(%)</th>\n",
              "    </tr>\n",
              "  </thead>\n",
              "  <tbody>\n",
              "    <tr>\n",
              "      <th>14</th>\n",
              "      <td>5955</td>\n",
              "      <td>6198.95</td>\n",
              "      <td>4.096558</td>\n",
              "    </tr>\n",
              "    <tr>\n",
              "      <th>29</th>\n",
              "      <td>10470</td>\n",
              "      <td>9510.90</td>\n",
              "      <td>9.160458</td>\n",
              "    </tr>\n",
              "    <tr>\n",
              "      <th>32</th>\n",
              "      <td>12150</td>\n",
              "      <td>16787.15</td>\n",
              "      <td>38.165844</td>\n",
              "    </tr>\n",
              "    <tr>\n",
              "      <th>36</th>\n",
              "      <td>12150</td>\n",
              "      <td>12507.60</td>\n",
              "      <td>2.943210</td>\n",
              "    </tr>\n",
              "    <tr>\n",
              "      <th>44</th>\n",
              "      <td>12215</td>\n",
              "      <td>14238.60</td>\n",
              "      <td>16.566517</td>\n",
              "    </tr>\n",
              "    <tr>\n",
              "      <th>...</th>\n",
              "      <td>...</td>\n",
              "      <td>...</td>\n",
              "      <td>...</td>\n",
              "    </tr>\n",
              "    <tr>\n",
              "      <th>206531</th>\n",
              "      <td>1551</td>\n",
              "      <td>1550.60</td>\n",
              "      <td>0.025790</td>\n",
              "    </tr>\n",
              "    <tr>\n",
              "      <th>206543</th>\n",
              "      <td>3810</td>\n",
              "      <td>3823.80</td>\n",
              "      <td>0.362205</td>\n",
              "    </tr>\n",
              "    <tr>\n",
              "      <th>206561</th>\n",
              "      <td>3979</td>\n",
              "      <td>4057.75</td>\n",
              "      <td>1.979140</td>\n",
              "    </tr>\n",
              "    <tr>\n",
              "      <th>206626</th>\n",
              "      <td>4086</td>\n",
              "      <td>4424.60</td>\n",
              "      <td>8.286833</td>\n",
              "    </tr>\n",
              "    <tr>\n",
              "      <th>206647</th>\n",
              "      <td>5732</td>\n",
              "      <td>7287.50</td>\n",
              "      <td>27.137125</td>\n",
              "    </tr>\n",
              "  </tbody>\n",
              "</table>\n",
              "<p>13267 rows × 3 columns</p>\n",
              "</div>\n",
              "      <button class=\"colab-df-convert\" onclick=\"convertToInteractive('df-0bdeaf31-3470-45b8-ba5f-9aae1fd1e47e')\"\n",
              "              title=\"Convert this dataframe to an interactive table.\"\n",
              "              style=\"display:none;\">\n",
              "        \n",
              "  <svg xmlns=\"http://www.w3.org/2000/svg\" height=\"24px\"viewBox=\"0 0 24 24\"\n",
              "       width=\"24px\">\n",
              "    <path d=\"M0 0h24v24H0V0z\" fill=\"none\"/>\n",
              "    <path d=\"M18.56 5.44l.94 2.06.94-2.06 2.06-.94-2.06-.94-.94-2.06-.94 2.06-2.06.94zm-11 1L8.5 8.5l.94-2.06 2.06-.94-2.06-.94L8.5 2.5l-.94 2.06-2.06.94zm10 10l.94 2.06.94-2.06 2.06-.94-2.06-.94-.94-2.06-.94 2.06-2.06.94z\"/><path d=\"M17.41 7.96l-1.37-1.37c-.4-.4-.92-.59-1.43-.59-.52 0-1.04.2-1.43.59L10.3 9.45l-7.72 7.72c-.78.78-.78 2.05 0 2.83L4 21.41c.39.39.9.59 1.41.59.51 0 1.02-.2 1.41-.59l7.78-7.78 2.81-2.81c.8-.78.8-2.07 0-2.86zM5.41 20L4 18.59l7.72-7.72 1.47 1.35L5.41 20z\"/>\n",
              "  </svg>\n",
              "      </button>\n",
              "      \n",
              "  <style>\n",
              "    .colab-df-container {\n",
              "      display:flex;\n",
              "      flex-wrap:wrap;\n",
              "      gap: 12px;\n",
              "    }\n",
              "\n",
              "    .colab-df-convert {\n",
              "      background-color: #E8F0FE;\n",
              "      border: none;\n",
              "      border-radius: 50%;\n",
              "      cursor: pointer;\n",
              "      display: none;\n",
              "      fill: #1967D2;\n",
              "      height: 32px;\n",
              "      padding: 0 0 0 0;\n",
              "      width: 32px;\n",
              "    }\n",
              "\n",
              "    .colab-df-convert:hover {\n",
              "      background-color: #E2EBFA;\n",
              "      box-shadow: 0px 1px 2px rgba(60, 64, 67, 0.3), 0px 1px 3px 1px rgba(60, 64, 67, 0.15);\n",
              "      fill: #174EA6;\n",
              "    }\n",
              "\n",
              "    [theme=dark] .colab-df-convert {\n",
              "      background-color: #3B4455;\n",
              "      fill: #D2E3FC;\n",
              "    }\n",
              "\n",
              "    [theme=dark] .colab-df-convert:hover {\n",
              "      background-color: #434B5C;\n",
              "      box-shadow: 0px 1px 3px 1px rgba(0, 0, 0, 0.15);\n",
              "      filter: drop-shadow(0px 1px 2px rgba(0, 0, 0, 0.3));\n",
              "      fill: #FFFFFF;\n",
              "    }\n",
              "  </style>\n",
              "\n",
              "      <script>\n",
              "        const buttonEl =\n",
              "          document.querySelector('#df-0bdeaf31-3470-45b8-ba5f-9aae1fd1e47e button.colab-df-convert');\n",
              "        buttonEl.style.display =\n",
              "          google.colab.kernel.accessAllowed ? 'block' : 'none';\n",
              "\n",
              "        async function convertToInteractive(key) {\n",
              "          const element = document.querySelector('#df-0bdeaf31-3470-45b8-ba5f-9aae1fd1e47e');\n",
              "          const dataTable =\n",
              "            await google.colab.kernel.invokeFunction('convertToInteractive',\n",
              "                                                     [key], {});\n",
              "          if (!dataTable) return;\n",
              "\n",
              "          const docLinkHtml = 'Like what you see? Visit the ' +\n",
              "            '<a target=\"_blank\" href=https://colab.research.google.com/notebooks/data_table.ipynb>data table notebook</a>'\n",
              "            + ' to learn more about interactive tables.';\n",
              "          element.innerHTML = '';\n",
              "          dataTable['output_type'] = 'display_data';\n",
              "          await google.colab.output.renderOutput(dataTable, element);\n",
              "          const docLink = document.createElement('div');\n",
              "          docLink.innerHTML = docLinkHtml;\n",
              "          element.appendChild(docLink);\n",
              "        }\n",
              "      </script>\n",
              "    </div>\n",
              "  </div>\n",
              "  "
            ]
          },
          "metadata": {},
          "execution_count": 179
        }
      ]
    },
    {
      "cell_type": "code",
      "source": [
        "economy_test_table[economy_test_table.index.isin(common_economy_indexes)].sort_index()"
      ],
      "metadata": {
        "colab": {
          "base_uri": "https://localhost:8080/",
          "height": 424
        },
        "id": "mUQ_70k-X6vK",
        "outputId": "67fb63c8-b32b-4250-fdfd-535162175f5f"
      },
      "id": "mUQ_70k-X6vK",
      "execution_count": null,
      "outputs": [
        {
          "output_type": "execute_result",
          "data": {
            "text/plain": [
              "        true_values   predictions   error(%)\n",
              "14             5955   7317.585000  22.881360\n",
              "29            10470   8802.765000  15.923926\n",
              "32            12150  17156.570000  41.206337\n",
              "36            12150  13245.730000   9.018354\n",
              "44            12215  15045.520000  23.172493\n",
              "...             ...           ...        ...\n",
              "206531         1551   1551.000000   0.000000\n",
              "206543         3810   4056.370000   6.466404\n",
              "206561         3979   3991.600000   0.316662\n",
              "206626         4086   4316.770000   5.647822\n",
              "206647         5732   7722.846667  34.732147\n",
              "\n",
              "[13267 rows x 3 columns]"
            ],
            "text/html": [
              "\n",
              "  <div id=\"df-2fb4793f-1845-40ea-8950-efffd7b914be\">\n",
              "    <div class=\"colab-df-container\">\n",
              "      <div>\n",
              "<style scoped>\n",
              "    .dataframe tbody tr th:only-of-type {\n",
              "        vertical-align: middle;\n",
              "    }\n",
              "\n",
              "    .dataframe tbody tr th {\n",
              "        vertical-align: top;\n",
              "    }\n",
              "\n",
              "    .dataframe thead th {\n",
              "        text-align: right;\n",
              "    }\n",
              "</style>\n",
              "<table border=\"1\" class=\"dataframe\">\n",
              "  <thead>\n",
              "    <tr style=\"text-align: right;\">\n",
              "      <th></th>\n",
              "      <th>true_values</th>\n",
              "      <th>predictions</th>\n",
              "      <th>error(%)</th>\n",
              "    </tr>\n",
              "  </thead>\n",
              "  <tbody>\n",
              "    <tr>\n",
              "      <th>14</th>\n",
              "      <td>5955</td>\n",
              "      <td>7317.585000</td>\n",
              "      <td>22.881360</td>\n",
              "    </tr>\n",
              "    <tr>\n",
              "      <th>29</th>\n",
              "      <td>10470</td>\n",
              "      <td>8802.765000</td>\n",
              "      <td>15.923926</td>\n",
              "    </tr>\n",
              "    <tr>\n",
              "      <th>32</th>\n",
              "      <td>12150</td>\n",
              "      <td>17156.570000</td>\n",
              "      <td>41.206337</td>\n",
              "    </tr>\n",
              "    <tr>\n",
              "      <th>36</th>\n",
              "      <td>12150</td>\n",
              "      <td>13245.730000</td>\n",
              "      <td>9.018354</td>\n",
              "    </tr>\n",
              "    <tr>\n",
              "      <th>44</th>\n",
              "      <td>12215</td>\n",
              "      <td>15045.520000</td>\n",
              "      <td>23.172493</td>\n",
              "    </tr>\n",
              "    <tr>\n",
              "      <th>...</th>\n",
              "      <td>...</td>\n",
              "      <td>...</td>\n",
              "      <td>...</td>\n",
              "    </tr>\n",
              "    <tr>\n",
              "      <th>206531</th>\n",
              "      <td>1551</td>\n",
              "      <td>1551.000000</td>\n",
              "      <td>0.000000</td>\n",
              "    </tr>\n",
              "    <tr>\n",
              "      <th>206543</th>\n",
              "      <td>3810</td>\n",
              "      <td>4056.370000</td>\n",
              "      <td>6.466404</td>\n",
              "    </tr>\n",
              "    <tr>\n",
              "      <th>206561</th>\n",
              "      <td>3979</td>\n",
              "      <td>3991.600000</td>\n",
              "      <td>0.316662</td>\n",
              "    </tr>\n",
              "    <tr>\n",
              "      <th>206626</th>\n",
              "      <td>4086</td>\n",
              "      <td>4316.770000</td>\n",
              "      <td>5.647822</td>\n",
              "    </tr>\n",
              "    <tr>\n",
              "      <th>206647</th>\n",
              "      <td>5732</td>\n",
              "      <td>7722.846667</td>\n",
              "      <td>34.732147</td>\n",
              "    </tr>\n",
              "  </tbody>\n",
              "</table>\n",
              "<p>13267 rows × 3 columns</p>\n",
              "</div>\n",
              "      <button class=\"colab-df-convert\" onclick=\"convertToInteractive('df-2fb4793f-1845-40ea-8950-efffd7b914be')\"\n",
              "              title=\"Convert this dataframe to an interactive table.\"\n",
              "              style=\"display:none;\">\n",
              "        \n",
              "  <svg xmlns=\"http://www.w3.org/2000/svg\" height=\"24px\"viewBox=\"0 0 24 24\"\n",
              "       width=\"24px\">\n",
              "    <path d=\"M0 0h24v24H0V0z\" fill=\"none\"/>\n",
              "    <path d=\"M18.56 5.44l.94 2.06.94-2.06 2.06-.94-2.06-.94-.94-2.06-.94 2.06-2.06.94zm-11 1L8.5 8.5l.94-2.06 2.06-.94-2.06-.94L8.5 2.5l-.94 2.06-2.06.94zm10 10l.94 2.06.94-2.06 2.06-.94-2.06-.94-.94-2.06-.94 2.06-2.06.94z\"/><path d=\"M17.41 7.96l-1.37-1.37c-.4-.4-.92-.59-1.43-.59-.52 0-1.04.2-1.43.59L10.3 9.45l-7.72 7.72c-.78.78-.78 2.05 0 2.83L4 21.41c.39.39.9.59 1.41.59.51 0 1.02-.2 1.41-.59l7.78-7.78 2.81-2.81c.8-.78.8-2.07 0-2.86zM5.41 20L4 18.59l7.72-7.72 1.47 1.35L5.41 20z\"/>\n",
              "  </svg>\n",
              "      </button>\n",
              "      \n",
              "  <style>\n",
              "    .colab-df-container {\n",
              "      display:flex;\n",
              "      flex-wrap:wrap;\n",
              "      gap: 12px;\n",
              "    }\n",
              "\n",
              "    .colab-df-convert {\n",
              "      background-color: #E8F0FE;\n",
              "      border: none;\n",
              "      border-radius: 50%;\n",
              "      cursor: pointer;\n",
              "      display: none;\n",
              "      fill: #1967D2;\n",
              "      height: 32px;\n",
              "      padding: 0 0 0 0;\n",
              "      width: 32px;\n",
              "    }\n",
              "\n",
              "    .colab-df-convert:hover {\n",
              "      background-color: #E2EBFA;\n",
              "      box-shadow: 0px 1px 2px rgba(60, 64, 67, 0.3), 0px 1px 3px 1px rgba(60, 64, 67, 0.15);\n",
              "      fill: #174EA6;\n",
              "    }\n",
              "\n",
              "    [theme=dark] .colab-df-convert {\n",
              "      background-color: #3B4455;\n",
              "      fill: #D2E3FC;\n",
              "    }\n",
              "\n",
              "    [theme=dark] .colab-df-convert:hover {\n",
              "      background-color: #434B5C;\n",
              "      box-shadow: 0px 1px 3px 1px rgba(0, 0, 0, 0.15);\n",
              "      filter: drop-shadow(0px 1px 2px rgba(0, 0, 0, 0.3));\n",
              "      fill: #FFFFFF;\n",
              "    }\n",
              "  </style>\n",
              "\n",
              "      <script>\n",
              "        const buttonEl =\n",
              "          document.querySelector('#df-2fb4793f-1845-40ea-8950-efffd7b914be button.colab-df-convert');\n",
              "        buttonEl.style.display =\n",
              "          google.colab.kernel.accessAllowed ? 'block' : 'none';\n",
              "\n",
              "        async function convertToInteractive(key) {\n",
              "          const element = document.querySelector('#df-2fb4793f-1845-40ea-8950-efffd7b914be');\n",
              "          const dataTable =\n",
              "            await google.colab.kernel.invokeFunction('convertToInteractive',\n",
              "                                                     [key], {});\n",
              "          if (!dataTable) return;\n",
              "\n",
              "          const docLinkHtml = 'Like what you see? Visit the ' +\n",
              "            '<a target=\"_blank\" href=https://colab.research.google.com/notebooks/data_table.ipynb>data table notebook</a>'\n",
              "            + ' to learn more about interactive tables.';\n",
              "          element.innerHTML = '';\n",
              "          dataTable['output_type'] = 'display_data';\n",
              "          await google.colab.output.renderOutput(dataTable, element);\n",
              "          const docLink = document.createElement('div');\n",
              "          docLink.innerHTML = docLinkHtml;\n",
              "          element.appendChild(docLink);\n",
              "        }\n",
              "      </script>\n",
              "    </div>\n",
              "  </div>\n",
              "  "
            ]
          },
          "metadata": {},
          "execution_count": 180
        }
      ]
    },
    {
      "cell_type": "code",
      "source": [
        "all_test_error = test.test_error_values(all_test_table)\n",
        "all_test_error_df = pd.DataFrame(all_test_error, index=['MEPE','MPE','MEAE','MAE','MSE','RMSE', 'STD'], columns=['A2RFR1'])"
      ],
      "metadata": {
        "id": "IcMTqpXNZ5g8"
      },
      "id": "IcMTqpXNZ5g8",
      "execution_count": null,
      "outputs": []
    },
    {
      "cell_type": "code",
      "source": [
        "economy_test_error = test.test_error_values(economy_test_table)\n",
        "economy_test_error_df = pd.DataFrame(economy_test_error, index=['MEPE','MPE','MEAE','MAE','MSE','RMSE', 'STD'], columns=['E2RFR3'])"
      ],
      "metadata": {
        "id": "85V7GXTLawan"
      },
      "id": "85V7GXTLawan",
      "execution_count": null,
      "outputs": []
    },
    {
      "cell_type": "code",
      "source": [
        "pd.concat([all_test_error_df, economy_test_error_df], axis=1)"
      ],
      "metadata": {
        "colab": {
          "base_uri": "https://localhost:8080/",
          "height": 269
        },
        "id": "S9f3whSxblIR",
        "outputId": "7b0949c4-44e6-4d30-8ae2-4c0e4b6e08b3"
      },
      "id": "S9f3whSxblIR",
      "execution_count": null,
      "outputs": [
        {
          "output_type": "execute_result",
          "data": {
            "text/plain": [
              "           A2RFR1       E2RFR3\n",
              "MEPE        1.937        2.960\n",
              "MPE         7.295        8.685\n",
              "MEAE      163.250      173.687\n",
              "MAE      1113.752      631.561\n",
              "MSE   7979444.223  2012567.527\n",
              "RMSE     2824.791     1418.650\n",
              "STD     22612.540     3740.274"
            ],
            "text/html": [
              "\n",
              "  <div id=\"df-ebe39f5b-3b68-4e9b-818e-8d785d5e43f7\">\n",
              "    <div class=\"colab-df-container\">\n",
              "      <div>\n",
              "<style scoped>\n",
              "    .dataframe tbody tr th:only-of-type {\n",
              "        vertical-align: middle;\n",
              "    }\n",
              "\n",
              "    .dataframe tbody tr th {\n",
              "        vertical-align: top;\n",
              "    }\n",
              "\n",
              "    .dataframe thead th {\n",
              "        text-align: right;\n",
              "    }\n",
              "</style>\n",
              "<table border=\"1\" class=\"dataframe\">\n",
              "  <thead>\n",
              "    <tr style=\"text-align: right;\">\n",
              "      <th></th>\n",
              "      <th>A2RFR1</th>\n",
              "      <th>E2RFR3</th>\n",
              "    </tr>\n",
              "  </thead>\n",
              "  <tbody>\n",
              "    <tr>\n",
              "      <th>MEPE</th>\n",
              "      <td>1.937</td>\n",
              "      <td>2.960</td>\n",
              "    </tr>\n",
              "    <tr>\n",
              "      <th>MPE</th>\n",
              "      <td>7.295</td>\n",
              "      <td>8.685</td>\n",
              "    </tr>\n",
              "    <tr>\n",
              "      <th>MEAE</th>\n",
              "      <td>163.250</td>\n",
              "      <td>173.687</td>\n",
              "    </tr>\n",
              "    <tr>\n",
              "      <th>MAE</th>\n",
              "      <td>1113.752</td>\n",
              "      <td>631.561</td>\n",
              "    </tr>\n",
              "    <tr>\n",
              "      <th>MSE</th>\n",
              "      <td>7979444.223</td>\n",
              "      <td>2012567.527</td>\n",
              "    </tr>\n",
              "    <tr>\n",
              "      <th>RMSE</th>\n",
              "      <td>2824.791</td>\n",
              "      <td>1418.650</td>\n",
              "    </tr>\n",
              "    <tr>\n",
              "      <th>STD</th>\n",
              "      <td>22612.540</td>\n",
              "      <td>3740.274</td>\n",
              "    </tr>\n",
              "  </tbody>\n",
              "</table>\n",
              "</div>\n",
              "      <button class=\"colab-df-convert\" onclick=\"convertToInteractive('df-ebe39f5b-3b68-4e9b-818e-8d785d5e43f7')\"\n",
              "              title=\"Convert this dataframe to an interactive table.\"\n",
              "              style=\"display:none;\">\n",
              "        \n",
              "  <svg xmlns=\"http://www.w3.org/2000/svg\" height=\"24px\"viewBox=\"0 0 24 24\"\n",
              "       width=\"24px\">\n",
              "    <path d=\"M0 0h24v24H0V0z\" fill=\"none\"/>\n",
              "    <path d=\"M18.56 5.44l.94 2.06.94-2.06 2.06-.94-2.06-.94-.94-2.06-.94 2.06-2.06.94zm-11 1L8.5 8.5l.94-2.06 2.06-.94-2.06-.94L8.5 2.5l-.94 2.06-2.06.94zm10 10l.94 2.06.94-2.06 2.06-.94-2.06-.94-.94-2.06-.94 2.06-2.06.94z\"/><path d=\"M17.41 7.96l-1.37-1.37c-.4-.4-.92-.59-1.43-.59-.52 0-1.04.2-1.43.59L10.3 9.45l-7.72 7.72c-.78.78-.78 2.05 0 2.83L4 21.41c.39.39.9.59 1.41.59.51 0 1.02-.2 1.41-.59l7.78-7.78 2.81-2.81c.8-.78.8-2.07 0-2.86zM5.41 20L4 18.59l7.72-7.72 1.47 1.35L5.41 20z\"/>\n",
              "  </svg>\n",
              "      </button>\n",
              "      \n",
              "  <style>\n",
              "    .colab-df-container {\n",
              "      display:flex;\n",
              "      flex-wrap:wrap;\n",
              "      gap: 12px;\n",
              "    }\n",
              "\n",
              "    .colab-df-convert {\n",
              "      background-color: #E8F0FE;\n",
              "      border: none;\n",
              "      border-radius: 50%;\n",
              "      cursor: pointer;\n",
              "      display: none;\n",
              "      fill: #1967D2;\n",
              "      height: 32px;\n",
              "      padding: 0 0 0 0;\n",
              "      width: 32px;\n",
              "    }\n",
              "\n",
              "    .colab-df-convert:hover {\n",
              "      background-color: #E2EBFA;\n",
              "      box-shadow: 0px 1px 2px rgba(60, 64, 67, 0.3), 0px 1px 3px 1px rgba(60, 64, 67, 0.15);\n",
              "      fill: #174EA6;\n",
              "    }\n",
              "\n",
              "    [theme=dark] .colab-df-convert {\n",
              "      background-color: #3B4455;\n",
              "      fill: #D2E3FC;\n",
              "    }\n",
              "\n",
              "    [theme=dark] .colab-df-convert:hover {\n",
              "      background-color: #434B5C;\n",
              "      box-shadow: 0px 1px 3px 1px rgba(0, 0, 0, 0.15);\n",
              "      filter: drop-shadow(0px 1px 2px rgba(0, 0, 0, 0.3));\n",
              "      fill: #FFFFFF;\n",
              "    }\n",
              "  </style>\n",
              "\n",
              "      <script>\n",
              "        const buttonEl =\n",
              "          document.querySelector('#df-ebe39f5b-3b68-4e9b-818e-8d785d5e43f7 button.colab-df-convert');\n",
              "        buttonEl.style.display =\n",
              "          google.colab.kernel.accessAllowed ? 'block' : 'none';\n",
              "\n",
              "        async function convertToInteractive(key) {\n",
              "          const element = document.querySelector('#df-ebe39f5b-3b68-4e9b-818e-8d785d5e43f7');\n",
              "          const dataTable =\n",
              "            await google.colab.kernel.invokeFunction('convertToInteractive',\n",
              "                                                     [key], {});\n",
              "          if (!dataTable) return;\n",
              "\n",
              "          const docLinkHtml = 'Like what you see? Visit the ' +\n",
              "            '<a target=\"_blank\" href=https://colab.research.google.com/notebooks/data_table.ipynb>data table notebook</a>'\n",
              "            + ' to learn more about interactive tables.';\n",
              "          element.innerHTML = '';\n",
              "          dataTable['output_type'] = 'display_data';\n",
              "          await google.colab.output.renderOutput(dataTable, element);\n",
              "          const docLink = document.createElement('div');\n",
              "          docLink.innerHTML = docLinkHtml;\n",
              "          element.appendChild(docLink);\n",
              "        }\n",
              "      </script>\n",
              "    </div>\n",
              "  </div>\n",
              "  "
            ]
          },
          "metadata": {},
          "execution_count": 198
        }
      ]
    },
    {
      "cell_type": "markdown",
      "id": "3f500609-37b6-4558-bc5a-f3954e68a794",
      "metadata": {
        "id": "3f500609-37b6-4558-bc5a-f3954e68a794"
      },
      "source": [
        "# Deployment"
      ]
    },
    {
      "cell_type": "markdown",
      "id": "4ed194bc-8bf7-4c85-9ca5-1631e9b2308d",
      "metadata": {
        "id": "4ed194bc-8bf7-4c85-9ca5-1631e9b2308d"
      },
      "source": [
        "## Economy"
      ]
    },
    {
      "cell_type": "code",
      "execution_count": null,
      "id": "6db8508e-7e19-46a2-8d01-0d403e9134f7",
      "metadata": {
        "id": "6db8508e-7e19-46a2-8d01-0d403e9134f7",
        "outputId": "8c8a8365-5542-414d-fa63-aa270869fa5c"
      },
      "outputs": [
        {
          "data": {
            "text/html": [
              "<div>\n",
              "<style scoped>\n",
              "    .dataframe tbody tr th:only-of-type {\n",
              "        vertical-align: middle;\n",
              "    }\n",
              "\n",
              "    .dataframe tbody tr th {\n",
              "        vertical-align: top;\n",
              "    }\n",
              "\n",
              "    .dataframe thead th {\n",
              "        text-align: right;\n",
              "    }\n",
              "</style>\n",
              "<table border=\"1\" class=\"dataframe\">\n",
              "  <thead>\n",
              "    <tr style=\"text-align: right;\">\n",
              "      <th></th>\n",
              "      <th>0</th>\n",
              "      <th>1</th>\n",
              "    </tr>\n",
              "  </thead>\n",
              "  <tbody>\n",
              "    <tr>\n",
              "      <th>0</th>\n",
              "      <td>LR1</td>\n",
              "      <td>{}</td>\n",
              "    </tr>\n",
              "    <tr>\n",
              "      <th>1</th>\n",
              "      <td>RFR1</td>\n",
              "      <td>{'n_estimators': 20, 'criterion': 'squared_err...</td>\n",
              "    </tr>\n",
              "  </tbody>\n",
              "</table>\n",
              "</div>"
            ],
            "text/plain": [
              "      0                                                  1\n",
              "0   LR1                                                 {}\n",
              "1  RFR1  {'n_estimators': 20, 'criterion': 'squared_err..."
            ]
          },
          "execution_count": 34,
          "metadata": {},
          "output_type": "execute_result"
        }
      ],
      "source": [
        "pd.DataFrame(models)"
      ]
    },
    {
      "cell_type": "code",
      "execution_count": null,
      "id": "be3edf7a-4daf-4179-aafc-7bbec8ba7e29",
      "metadata": {
        "id": "be3edf7a-4daf-4179-aafc-7bbec8ba7e29"
      },
      "outputs": [],
      "source": [
        "X, y, scaler = precprocess.preprocess_deployment_data(df_economy, 'price')"
      ]
    },
    {
      "cell_type": "code",
      "execution_count": null,
      "id": "13788147-b1f3-455e-9467-892339c50791",
      "metadata": {
        "id": "13788147-b1f3-455e-9467-892339c50791"
      },
      "outputs": [],
      "source": [
        "regressor = train.train_regression_model((X, y), 'RFR', {'n_estimators': 20, 'criterion':'squared_error'})"
      ]
    },
    {
      "cell_type": "markdown",
      "id": "daaa0171-6c01-47a7-8ae9-391cd83530ca",
      "metadata": {
        "id": "daaa0171-6c01-47a7-8ae9-391cd83530ca"
      },
      "source": [
        "## Business"
      ]
    }
  ],
  "metadata": {
    "kernelspec": {
      "display_name": "ml",
      "language": "python",
      "name": "ml"
    },
    "language_info": {
      "codemirror_mode": {
        "name": "ipython",
        "version": 3
      },
      "file_extension": ".py",
      "mimetype": "text/x-python",
      "name": "python",
      "nbconvert_exporter": "python",
      "pygments_lexer": "ipython3",
      "version": "3.10.4"
    },
    "colab": {
      "provenance": [],
      "collapsed_sections": [
        "4ed194bc-8bf7-4c85-9ca5-1631e9b2308d",
        "daaa0171-6c01-47a7-8ae9-391cd83530ca"
      ]
    },
    "accelerator": "GPU"
  },
  "nbformat": 4,
  "nbformat_minor": 5
}