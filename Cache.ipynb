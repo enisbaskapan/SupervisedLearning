{
 "cells": [
  {
   "cell_type": "code",
   "execution_count": 170,
   "id": "5e6d26d8-af66-42a0-94c5-1ec85d7f75b4",
   "metadata": {},
   "outputs": [],
   "source": [
    "from methodtools import lru_cache\n",
    "\n",
    "from sklearn.feature_selection import SelectKBest\n",
    "from sklearn.feature_selection import SelectFromModel\n",
    "\n",
    "import pandas as pd\n",
    "import matplotlib.pyplot as plt\n",
    "import seaborn as sns\n",
    "import timeit\n",
    "\n",
    "import numpy as np\n",
    "from sklearn.datasets import load_wine\n",
    "from sklearn.model_selection import train_test_split\n",
    "from sklearn.ensemble import RandomForestClassifier"
   ]
  },
  {
   "cell_type": "code",
   "execution_count": 8,
   "id": "fae4f185-fbf2-49f8-b4fe-c4a7e6882c55",
   "metadata": {},
   "outputs": [],
   "source": [
    "wine = load_wine()"
   ]
  },
  {
   "cell_type": "code",
   "execution_count": 13,
   "id": "5b48bc4e-1e40-4ae3-ac04-693102c80cd8",
   "metadata": {},
   "outputs": [
    {
     "data": {
      "text/plain": [
       "dict_keys(['data', 'target', 'frame', 'target_names', 'DESCR', 'feature_names'])"
      ]
     },
     "execution_count": 13,
     "metadata": {},
     "output_type": "execute_result"
    }
   ],
   "source": [
    "wine.keys()"
   ]
  },
  {
   "cell_type": "code",
   "execution_count": 150,
   "id": "6059be8b-a643-4627-95fd-c330ceeea9b2",
   "metadata": {},
   "outputs": [],
   "source": [
    "df = pd.DataFrame(data= np.c_[wine['data'], wine['target']], columns= wine['feature_names'] + ['target'])"
   ]
  },
  {
   "cell_type": "code",
   "execution_count": 151,
   "id": "86e17e9a-7e54-473a-9e35-627d24a80e97",
   "metadata": {},
   "outputs": [],
   "source": [
    "X = df.drop('target', axis=1)\n",
    "y = df.target"
   ]
  },
  {
   "cell_type": "code",
   "execution_count": 179,
   "id": "8d50a6eb-754f-445b-83a5-b9b520e35d0c",
   "metadata": {},
   "outputs": [],
   "source": [
    "X_train, X_test, y_train, y_test = train_test_split(X, y, test_size=0.2)\n",
    "\n",
    "X_train = np.array(X_train)\n",
    "X_test = np.array(X_test)\n",
    "y_train = np.array(y_train)\n",
    "y_test = np.array(y_test)"
   ]
  },
  {
   "cell_type": "code",
   "execution_count": 180,
   "id": "86d9a7e6-64ab-49e9-b3b0-b09b72d72282",
   "metadata": {},
   "outputs": [],
   "source": [
    "def fs(X_train, X_test, y_train, y_test):\n",
    "    results = []\n",
    "    for i in range(2,6):\n",
    "        \n",
    "        selector = SelectKBest(k=i)\n",
    "        model = RandomForestClassifier(n_estimators=20)\n",
    "\n",
    "        X_train_selected =selector.fit_transform(X_train, y_train)\n",
    "        X_test_selected = selector.transform(X_test)\n",
    "        \n",
    "        model.fit(X_train_selected, y_train)\n",
    "        results.append(model.score(X_test_selected, y_test))\n",
    "    \n",
    "    return results"
   ]
  },
  {
   "cell_type": "code",
   "execution_count": 187,
   "id": "32669e0a-424e-4780-bfc0-b27ffc5475e1",
   "metadata": {},
   "outputs": [],
   "source": [
    "@lru_cache()\n",
    "def cache_fs(X_train, X_test, y_train, y_test):\n",
    "    results = []\n",
    "    for i in range(2,6):\n",
    "        \n",
    "        selector = SelectKBest(k=i)\n",
    "        model = RandomForestClassifier(n_estimators=20)\n",
    "\n",
    "        X_train_selected =selector.fit_transform(X_train, y_train)\n",
    "        X_test_selected = selector.transform(X_test)\n",
    "        \n",
    "        model.fit(X_train_selected, y_train)\n",
    "        results.append(model.score(X_test_selected, y_test))\n",
    "    \n",
    "    return results"
   ]
  },
  {
   "cell_type": "code",
   "execution_count": 185,
   "id": "7c649e78-47f1-43b1-b11e-f49513b2a658",
   "metadata": {},
   "outputs": [
    {
     "name": "stdout",
     "output_type": "stream",
     "text": [
      "Time:  0.11539159994572401\n"
     ]
    }
   ],
   "source": [
    "start = timeit.default_timer()\n",
    "results = fs(X_train, X_test, y_train, y_test)\n",
    "stop = timeit.default_timer()\n",
    "print('Time: ', stop - start) "
   ]
  },
  {
   "cell_type": "code",
   "execution_count": 186,
   "id": "5a26c802-93a0-4e25-9f2d-07ef6f6d8002",
   "metadata": {},
   "outputs": [
    {
     "ename": "TypeError",
     "evalue": "unhashable type: 'numpy.ndarray'",
     "output_type": "error",
     "traceback": [
      "\u001b[1;31m---------------------------------------------------------------------------\u001b[0m",
      "\u001b[1;31mTypeError\u001b[0m                                 Traceback (most recent call last)",
      "Input \u001b[1;32mIn [186]\u001b[0m, in \u001b[0;36m<cell line: 2>\u001b[1;34m()\u001b[0m\n\u001b[0;32m      1\u001b[0m start \u001b[38;5;241m=\u001b[39m timeit\u001b[38;5;241m.\u001b[39mdefault_timer()\n\u001b[1;32m----> 2\u001b[0m cache_results \u001b[38;5;241m=\u001b[39m \u001b[43mcache_fs\u001b[49m\u001b[43m(\u001b[49m\u001b[43mX_train\u001b[49m\u001b[43m,\u001b[49m\u001b[43m \u001b[49m\u001b[43mX_test\u001b[49m\u001b[43m,\u001b[49m\u001b[43m \u001b[49m\u001b[43my_train\u001b[49m\u001b[43m,\u001b[49m\u001b[43m \u001b[49m\u001b[43my_test\u001b[49m\u001b[43m)\u001b[49m\n\u001b[0;32m      3\u001b[0m stop \u001b[38;5;241m=\u001b[39m timeit\u001b[38;5;241m.\u001b[39mdefault_timer()\n\u001b[0;32m      4\u001b[0m \u001b[38;5;28mprint\u001b[39m(\u001b[38;5;124m'\u001b[39m\u001b[38;5;124mTime: \u001b[39m\u001b[38;5;124m'\u001b[39m, stop \u001b[38;5;241m-\u001b[39m start)\n",
      "File \u001b[1;32m~\\anaconda3\\envs\\ml\\lib\\site-packages\\wirerope\\rope.py:118\u001b[0m, in \u001b[0;36mCallableRopeMixin.__call__\u001b[1;34m(self, *args, **kwargs)\u001b[0m\n\u001b[0;32m    117\u001b[0m \u001b[38;5;28;01mdef\u001b[39;00m \u001b[38;5;21m__call__\u001b[39m(\u001b[38;5;28mself\u001b[39m, \u001b[38;5;241m*\u001b[39margs, \u001b[38;5;241m*\u001b[39m\u001b[38;5;241m*\u001b[39mkwargs):\n\u001b[1;32m--> 118\u001b[0m     \u001b[38;5;28;01mreturn\u001b[39;00m \u001b[38;5;28mself\u001b[39m\u001b[38;5;241m.\u001b[39m_wire(\u001b[38;5;241m*\u001b[39margs, \u001b[38;5;241m*\u001b[39m\u001b[38;5;241m*\u001b[39mkwargs)\n",
      "File \u001b[1;32m~\\anaconda3\\envs\\ml\\lib\\site-packages\\methodtools.py:72\u001b[0m, in \u001b[0;36m_LruCacheWire.__call__\u001b[1;34m(self, *args, **kwargs)\u001b[0m\n\u001b[0;32m     70\u001b[0m \u001b[38;5;28;01mdef\u001b[39;00m \u001b[38;5;21m__call__\u001b[39m(\u001b[38;5;28mself\u001b[39m, \u001b[38;5;241m*\u001b[39margs, \u001b[38;5;241m*\u001b[39m\u001b[38;5;241m*\u001b[39mkwargs):\n\u001b[0;32m     71\u001b[0m     \u001b[38;5;66;03m# descriptor detection support - never called\u001b[39;00m\n\u001b[1;32m---> 72\u001b[0m     \u001b[38;5;28;01mreturn\u001b[39;00m \u001b[38;5;28mself\u001b[39m\u001b[38;5;241m.\u001b[39m\u001b[38;5;21m__call__\u001b[39m(\u001b[38;5;241m*\u001b[39margs, \u001b[38;5;241m*\u001b[39m\u001b[38;5;241m*\u001b[39mkwargs)\n",
      "\u001b[1;31mTypeError\u001b[0m: unhashable type: 'numpy.ndarray'"
     ]
    }
   ],
   "source": [
    "start = timeit.default_timer()\n",
    "cache_results = cache_fs(X_train, X_test, y_train, y_test)\n",
    "stop = timeit.default_timer()\n",
    "print('Time: ', stop - start) "
   ]
  },
  {
   "cell_type": "code",
   "execution_count": 163,
   "id": "3e4f55d0-488f-4425-b042-3c08c66cead9",
   "metadata": {},
   "outputs": [
    {
     "data": {
      "text/plain": [
       "[0.8611111111111112,\n",
       " 0.9166666666666666,\n",
       " 0.9166666666666666,\n",
       " 0.9444444444444444]"
      ]
     },
     "execution_count": 163,
     "metadata": {},
     "output_type": "execute_result"
    }
   ],
   "source": [
    "results"
   ]
  },
  {
   "cell_type": "code",
   "execution_count": 99,
   "id": "f7feeec8-7650-4323-b687-48d447a146fd",
   "metadata": {},
   "outputs": [],
   "source": [
    "@lru_cache(maxsize = 5)\n",
    "def fib_with_cache(n):\n",
    "    if n < 2:\n",
    "        return n\n",
    "    return fib_with_cache(n-1) + fib_with_cache(n-2)"
   ]
  },
  {
   "cell_type": "code",
   "execution_count": 100,
   "id": "95f780fb-da43-45a4-ae7c-e54a2d453b5c",
   "metadata": {},
   "outputs": [
    {
     "name": "stdout",
     "output_type": "stream",
     "text": [
      "Time:  0.00017099990509450436\n"
     ]
    }
   ],
   "source": [
    "start = timeit.default_timer()\n",
    "fib_with_cache(30)\n",
    "stop = timeit.default_timer()\n",
    "print('Time: ', stop - start) "
   ]
  },
  {
   "cell_type": "code",
   "execution_count": 102,
   "id": "55f2b4cc-cadc-4243-a33f-e94383c17420",
   "metadata": {},
   "outputs": [],
   "source": [
    "def fib(n):\n",
    "    if n < 2:\n",
    "        return n\n",
    "    return fib_with_cache(n-1) + fib_with_cache(n-2)"
   ]
  },
  {
   "cell_type": "code",
   "execution_count": 103,
   "id": "42952099-b7eb-4667-ae23-3d282e7a95b4",
   "metadata": {},
   "outputs": [
    {
     "name": "stdout",
     "output_type": "stream",
     "text": [
      "Time:  0.40801559993997216\n"
     ]
    }
   ],
   "source": [
    "start = timeit.default_timer()\n",
    "fib(30)\n",
    "stop = timeit.default_timer()\n",
    "print('Time: ', stop - start) "
   ]
  }
 ],
 "metadata": {
  "kernelspec": {
   "display_name": "ml",
   "language": "python",
   "name": "ml"
  },
  "language_info": {
   "codemirror_mode": {
    "name": "ipython",
    "version": 3
   },
   "file_extension": ".py",
   "mimetype": "text/x-python",
   "name": "python",
   "nbconvert_exporter": "python",
   "pygments_lexer": "ipython3",
   "version": "3.10.4"
  }
 },
 "nbformat": 4,
 "nbformat_minor": 5
}
