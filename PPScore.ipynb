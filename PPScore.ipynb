{
 "cells": [
  {
   "cell_type": "code",
   "execution_count": 10,
   "id": "55030c36-71dd-46b7-9ef9-468833d26653",
   "metadata": {},
   "outputs": [],
   "source": [
    "import pandas as pd\n",
    "import seaborn as sns\n",
    "import matplotlib.pyplot as plt\n",
    "import ppscore as pps\n",
    "import warnings\n",
    "warnings.filterwarnings(\"ignore\")"
   ]
  },
  {
   "cell_type": "code",
   "execution_count": 70,
   "id": "8cceab8a-84cb-4fa3-a4b2-a657c4e67018",
   "metadata": {},
   "outputs": [],
   "source": [
    "df = pd.read_parquet('./data/df.parquet')"
   ]
  },
  {
   "cell_type": "code",
   "execution_count": 82,
   "id": "35f285e0-0ef6-4ed5-bba0-a4a663a4f61f",
   "metadata": {},
   "outputs": [
    {
     "data": {
      "text/html": [
       "<div>\n",
       "<style scoped>\n",
       "    .dataframe tbody tr th:only-of-type {\n",
       "        vertical-align: middle;\n",
       "    }\n",
       "\n",
       "    .dataframe tbody tr th {\n",
       "        vertical-align: top;\n",
       "    }\n",
       "\n",
       "    .dataframe thead th {\n",
       "        text-align: right;\n",
       "    }\n",
       "</style>\n",
       "<table border=\"1\" class=\"dataframe\">\n",
       "  <thead>\n",
       "    <tr style=\"text-align: right;\">\n",
       "      <th></th>\n",
       "      <th>Tarih</th>\n",
       "      <th>ServisTipi</th>\n",
       "      <th>Hat</th>\n",
       "      <th>Sınıf</th>\n",
       "      <th>Fiyat</th>\n",
       "      <th>Satış</th>\n",
       "      <th>THY</th>\n",
       "    </tr>\n",
       "  </thead>\n",
       "  <tbody>\n",
       "    <tr>\n",
       "      <th>0</th>\n",
       "      <td>2021-02-12 03:00:00</td>\n",
       "      <td>Ana Hat Bölgesel</td>\n",
       "      <td>İstanbul - Bakırköy</td>\n",
       "      <td>C</td>\n",
       "      <td>128.52</td>\n",
       "      <td>97</td>\n",
       "      <td>1310.40</td>\n",
       "    </tr>\n",
       "    <tr>\n",
       "      <th>1</th>\n",
       "      <td>2021-08-22 19:00:00</td>\n",
       "      <td>Ana Hat Bölgesel</td>\n",
       "      <td>Pendik - Bozöyük</td>\n",
       "      <td>C</td>\n",
       "      <td>70.31</td>\n",
       "      <td>286</td>\n",
       "      <td>3979.80</td>\n",
       "    </tr>\n",
       "    <tr>\n",
       "      <th>14</th>\n",
       "      <td>2021-01-13 09:00:00</td>\n",
       "      <td>Ana Hat Bölgesel</td>\n",
       "      <td>Pendik - Gebze</td>\n",
       "      <td>C</td>\n",
       "      <td>103.95</td>\n",
       "      <td>121</td>\n",
       "      <td>2341.35</td>\n",
       "    </tr>\n",
       "    <tr>\n",
       "      <th>3</th>\n",
       "      <td>2021-10-24 05:00:00</td>\n",
       "      <td>Ana Hat Bölgesel</td>\n",
       "      <td>Söğütlüçeşme - Eskişehir</td>\n",
       "      <td>C</td>\n",
       "      <td>147.61</td>\n",
       "      <td>89</td>\n",
       "      <td>1190.40</td>\n",
       "    </tr>\n",
       "    <tr>\n",
       "      <th>22</th>\n",
       "      <td>2021-07-11 07:00:00</td>\n",
       "      <td>YHT</td>\n",
       "      <td>Ankara - İstanbul</td>\n",
       "      <td>C</td>\n",
       "      <td>265.91</td>\n",
       "      <td>35</td>\n",
       "      <td>673.92</td>\n",
       "    </tr>\n",
       "  </tbody>\n",
       "</table>\n",
       "</div>"
      ],
      "text/plain": [
       "                 Tarih        ServisTipi                       Hat Sınıf  \\\n",
       "0  2021-02-12 03:00:00  Ana Hat Bölgesel       İstanbul - Bakırköy     C   \n",
       "1  2021-08-22 19:00:00  Ana Hat Bölgesel          Pendik - Bozöyük     C   \n",
       "14 2021-01-13 09:00:00  Ana Hat Bölgesel            Pendik - Gebze     C   \n",
       "3  2021-10-24 05:00:00  Ana Hat Bölgesel  Söğütlüçeşme - Eskişehir     C   \n",
       "22 2021-07-11 07:00:00               YHT         Ankara - İstanbul     C   \n",
       "\n",
       "     Fiyat  Satış      THY  \n",
       "0   128.52     97  1310.40  \n",
       "1    70.31    286  3979.80  \n",
       "14  103.95    121  2341.35  \n",
       "3   147.61     89  1190.40  \n",
       "22  265.91     35   673.92  "
      ]
     },
     "execution_count": 82,
     "metadata": {},
     "output_type": "execute_result"
    }
   ],
   "source": [
    "df.head()"
   ]
  },
  {
   "cell_type": "code",
   "execution_count": 72,
   "id": "5a68f792-8ac3-457a-9fe2-6b28835a771c",
   "metadata": {},
   "outputs": [],
   "source": [
    "df.drop('Id', axis=1, inplace=True)"
   ]
  },
  {
   "cell_type": "code",
   "execution_count": 83,
   "id": "e9262943-f5d4-4905-aab2-368f5f2c6ef2",
   "metadata": {},
   "outputs": [
    {
     "data": {
      "text/html": [
       "<div>\n",
       "<style scoped>\n",
       "    .dataframe tbody tr th:only-of-type {\n",
       "        vertical-align: middle;\n",
       "    }\n",
       "\n",
       "    .dataframe tbody tr th {\n",
       "        vertical-align: top;\n",
       "    }\n",
       "\n",
       "    .dataframe thead th {\n",
       "        text-align: right;\n",
       "    }\n",
       "</style>\n",
       "<table border=\"1\" class=\"dataframe\">\n",
       "  <thead>\n",
       "    <tr style=\"text-align: right;\">\n",
       "      <th></th>\n",
       "      <th>Fiyat</th>\n",
       "      <th>Satış</th>\n",
       "      <th>THY</th>\n",
       "    </tr>\n",
       "  </thead>\n",
       "  <tbody>\n",
       "    <tr>\n",
       "      <th>Fiyat</th>\n",
       "      <td>1.000000</td>\n",
       "      <td>-0.821192</td>\n",
       "      <td>-0.769885</td>\n",
       "    </tr>\n",
       "    <tr>\n",
       "      <th>Satış</th>\n",
       "      <td>-0.821192</td>\n",
       "      <td>1.000000</td>\n",
       "      <td>0.921920</td>\n",
       "    </tr>\n",
       "    <tr>\n",
       "      <th>THY</th>\n",
       "      <td>-0.769885</td>\n",
       "      <td>0.921920</td>\n",
       "      <td>1.000000</td>\n",
       "    </tr>\n",
       "  </tbody>\n",
       "</table>\n",
       "</div>"
      ],
      "text/plain": [
       "          Fiyat     Satış       THY\n",
       "Fiyat  1.000000 -0.821192 -0.769885\n",
       "Satış -0.821192  1.000000  0.921920\n",
       "THY   -0.769885  0.921920  1.000000"
      ]
     },
     "execution_count": 83,
     "metadata": {},
     "output_type": "execute_result"
    }
   ],
   "source": [
    "df.corr()"
   ]
  },
  {
   "cell_type": "code",
   "execution_count": 74,
   "id": "3e41de03-869d-467e-8135-eef21c175ec5",
   "metadata": {},
   "outputs": [
    {
     "data": {
      "text/plain": [
       "<AxesSubplot:>"
      ]
     },
     "execution_count": 74,
     "metadata": {},
     "output_type": "execute_result"
    },
    {
     "data": {
      "image/png": "[encoded data removed]",
      "text/plain": [
       "<Figure size 640x480 with 2 Axes>"
      ]
     },
     "metadata": {},
     "output_type": "display_data"
    }
   ],
   "source": [
    "sns.heatmap(df.corr(), annot=True, fmt=\".2f\")"
   ]
  },
  {
   "cell_type": "code",
   "execution_count": 84,
   "id": "13afd9b8-6634-40e9-a1d3-fd56b8ac14d4",
   "metadata": {},
   "outputs": [
    {
     "data": {
      "text/plain": [
       "{'x': 'Tarih',\n",
       " 'y': 'Satış',\n",
       " 'ppscore': 0,\n",
       " 'case': 'regression',\n",
       " 'is_valid_score': True,\n",
       " 'metric': 'mean absolute error',\n",
       " 'baseline_score': 79.1456,\n",
       " 'model_score': 80.61691531746031,\n",
       " 'model': DecisionTreeRegressor()}"
      ]
     },
     "execution_count": 84,
     "metadata": {},
     "output_type": "execute_result"
    }
   ],
   "source": [
    "pps.score(df, 'Tarih', 'Satış')"
   ]
  },
  {
   "cell_type": "code",
   "execution_count": 79,
   "id": "dd5c6021-b60a-4d2f-88f2-a4a5439039b1",
   "metadata": {},
   "outputs": [
    {
     "data": {
      "text/html": [
       "<div>\n",
       "<style scoped>\n",
       "    .dataframe tbody tr th:only-of-type {\n",
       "        vertical-align: middle;\n",
       "    }\n",
       "\n",
       "    .dataframe tbody tr th {\n",
       "        vertical-align: top;\n",
       "    }\n",
       "\n",
       "    .dataframe thead th {\n",
       "        text-align: right;\n",
       "    }\n",
       "</style>\n",
       "<table border=\"1\" class=\"dataframe\">\n",
       "  <thead>\n",
       "    <tr style=\"text-align: right;\">\n",
       "      <th></th>\n",
       "      <th>x</th>\n",
       "      <th>y</th>\n",
       "      <th>ppscore</th>\n",
       "      <th>case</th>\n",
       "      <th>is_valid_score</th>\n",
       "      <th>metric</th>\n",
       "      <th>baseline_score</th>\n",
       "      <th>model_score</th>\n",
       "      <th>model</th>\n",
       "    </tr>\n",
       "  </thead>\n",
       "  <tbody>\n",
       "    <tr>\n",
       "      <th>0</th>\n",
       "      <td>THY</td>\n",
       "      <td>Satış</td>\n",
       "      <td>0.627099</td>\n",
       "      <td>regression</td>\n",
       "      <td>True</td>\n",
       "      <td>mean absolute error</td>\n",
       "      <td>79.1456</td>\n",
       "      <td>29.513465</td>\n",
       "      <td>DecisionTreeRegressor()</td>\n",
       "    </tr>\n",
       "    <tr>\n",
       "      <th>1</th>\n",
       "      <td>Fiyat</td>\n",
       "      <td>Satış</td>\n",
       "      <td>0.607343</td>\n",
       "      <td>regression</td>\n",
       "      <td>True</td>\n",
       "      <td>mean absolute error</td>\n",
       "      <td>79.1456</td>\n",
       "      <td>31.077072</td>\n",
       "      <td>DecisionTreeRegressor()</td>\n",
       "    </tr>\n",
       "    <tr>\n",
       "      <th>2</th>\n",
       "      <td>Sınıf</td>\n",
       "      <td>Satış</td>\n",
       "      <td>0.180903</td>\n",
       "      <td>regression</td>\n",
       "      <td>True</td>\n",
       "      <td>mean absolute error</td>\n",
       "      <td>79.1456</td>\n",
       "      <td>64.827928</td>\n",
       "      <td>DecisionTreeRegressor()</td>\n",
       "    </tr>\n",
       "    <tr>\n",
       "      <th>3</th>\n",
       "      <td>Hat</td>\n",
       "      <td>Satış</td>\n",
       "      <td>0.166933</td>\n",
       "      <td>regression</td>\n",
       "      <td>True</td>\n",
       "      <td>mean absolute error</td>\n",
       "      <td>79.1456</td>\n",
       "      <td>65.933595</td>\n",
       "      <td>DecisionTreeRegressor()</td>\n",
       "    </tr>\n",
       "    <tr>\n",
       "      <th>4</th>\n",
       "      <td>ServisTipi</td>\n",
       "      <td>Satış</td>\n",
       "      <td>0.019470</td>\n",
       "      <td>regression</td>\n",
       "      <td>True</td>\n",
       "      <td>mean absolute error</td>\n",
       "      <td>79.1456</td>\n",
       "      <td>77.604628</td>\n",
       "      <td>DecisionTreeRegressor()</td>\n",
       "    </tr>\n",
       "    <tr>\n",
       "      <th>5</th>\n",
       "      <td>Tarih</td>\n",
       "      <td>Satış</td>\n",
       "      <td>0.000000</td>\n",
       "      <td>regression</td>\n",
       "      <td>True</td>\n",
       "      <td>mean absolute error</td>\n",
       "      <td>79.1456</td>\n",
       "      <td>80.616915</td>\n",
       "      <td>DecisionTreeRegressor()</td>\n",
       "    </tr>\n",
       "  </tbody>\n",
       "</table>\n",
       "</div>"
      ],
      "text/plain": [
       "            x      y   ppscore        case  is_valid_score  \\\n",
       "0         THY  Satış  0.627099  regression            True   \n",
       "1       Fiyat  Satış  0.607343  regression            True   \n",
       "2       Sınıf  Satış  0.180903  regression            True   \n",
       "3         Hat  Satış  0.166933  regression            True   \n",
       "4  ServisTipi  Satış  0.019470  regression            True   \n",
       "5       Tarih  Satış  0.000000  regression            True   \n",
       "\n",
       "                metric  baseline_score  model_score                    model  \n",
       "0  mean absolute error         79.1456    29.513465  DecisionTreeRegressor()  \n",
       "1  mean absolute error         79.1456    31.077072  DecisionTreeRegressor()  \n",
       "2  mean absolute error         79.1456    64.827928  DecisionTreeRegressor()  \n",
       "3  mean absolute error         79.1456    65.933595  DecisionTreeRegressor()  \n",
       "4  mean absolute error         79.1456    77.604628  DecisionTreeRegressor()  \n",
       "5  mean absolute error         79.1456    80.616915  DecisionTreeRegressor()  "
      ]
     },
     "execution_count": 79,
     "metadata": {},
     "output_type": "execute_result"
    }
   ],
   "source": [
    "pps.predictors(df, 'Satış')"
   ]
  },
  {
   "cell_type": "code",
   "execution_count": 77,
   "id": "517c56db-1df8-4376-ad82-226b73fa931b",
   "metadata": {},
   "outputs": [
    {
     "data": {
      "text/html": [
       "<div>\n",
       "<style scoped>\n",
       "    .dataframe tbody tr th:only-of-type {\n",
       "        vertical-align: middle;\n",
       "    }\n",
       "\n",
       "    .dataframe tbody tr th {\n",
       "        vertical-align: top;\n",
       "    }\n",
       "\n",
       "    .dataframe thead th {\n",
       "        text-align: right;\n",
       "    }\n",
       "</style>\n",
       "<table border=\"1\" class=\"dataframe\">\n",
       "  <thead>\n",
       "    <tr style=\"text-align: right;\">\n",
       "      <th></th>\n",
       "      <th>x</th>\n",
       "      <th>y</th>\n",
       "      <th>ppscore</th>\n",
       "      <th>case</th>\n",
       "      <th>is_valid_score</th>\n",
       "      <th>metric</th>\n",
       "      <th>baseline_score</th>\n",
       "      <th>model_score</th>\n",
       "      <th>model</th>\n",
       "    </tr>\n",
       "  </thead>\n",
       "  <tbody>\n",
       "    <tr>\n",
       "      <th>0</th>\n",
       "      <td>Tarih</td>\n",
       "      <td>Tarih</td>\n",
       "      <td>1.000000</td>\n",
       "      <td>predict_itself</td>\n",
       "      <td>True</td>\n",
       "      <td>None</td>\n",
       "      <td>0.00000</td>\n",
       "      <td>1.000000</td>\n",
       "      <td>None</td>\n",
       "    </tr>\n",
       "    <tr>\n",
       "      <th>1</th>\n",
       "      <td>Tarih</td>\n",
       "      <td>ServisTipi</td>\n",
       "      <td>0.775524</td>\n",
       "      <td>classification</td>\n",
       "      <td>True</td>\n",
       "      <td>weighted F1</td>\n",
       "      <td>0.50280</td>\n",
       "      <td>0.888391</td>\n",
       "      <td>DecisionTreeClassifier()</td>\n",
       "    </tr>\n",
       "    <tr>\n",
       "      <th>2</th>\n",
       "      <td>Tarih</td>\n",
       "      <td>Hat</td>\n",
       "      <td>0.764538</td>\n",
       "      <td>classification</td>\n",
       "      <td>True</td>\n",
       "      <td>weighted F1</td>\n",
       "      <td>0.00720</td>\n",
       "      <td>0.766234</td>\n",
       "      <td>DecisionTreeClassifier()</td>\n",
       "    </tr>\n",
       "    <tr>\n",
       "      <th>3</th>\n",
       "      <td>Tarih</td>\n",
       "      <td>Sınıf</td>\n",
       "      <td>0.000000</td>\n",
       "      <td>classification</td>\n",
       "      <td>True</td>\n",
       "      <td>weighted F1</td>\n",
       "      <td>0.16660</td>\n",
       "      <td>0.035537</td>\n",
       "      <td>DecisionTreeClassifier()</td>\n",
       "    </tr>\n",
       "    <tr>\n",
       "      <th>4</th>\n",
       "      <td>Tarih</td>\n",
       "      <td>Fiyat</td>\n",
       "      <td>0.022899</td>\n",
       "      <td>regression</td>\n",
       "      <td>True</td>\n",
       "      <td>mean absolute error</td>\n",
       "      <td>38.53744</td>\n",
       "      <td>37.654974</td>\n",
       "      <td>DecisionTreeRegressor()</td>\n",
       "    </tr>\n",
       "  </tbody>\n",
       "</table>\n",
       "</div>"
      ],
      "text/plain": [
       "       x           y   ppscore            case  is_valid_score  \\\n",
       "0  Tarih       Tarih  1.000000  predict_itself            True   \n",
       "1  Tarih  ServisTipi  0.775524  classification            True   \n",
       "2  Tarih         Hat  0.764538  classification            True   \n",
       "3  Tarih       Sınıf  0.000000  classification            True   \n",
       "4  Tarih       Fiyat  0.022899      regression            True   \n",
       "\n",
       "                metric  baseline_score  model_score                     model  \n",
       "0                 None         0.00000     1.000000                      None  \n",
       "1          weighted F1         0.50280     0.888391  DecisionTreeClassifier()  \n",
       "2          weighted F1         0.00720     0.766234  DecisionTreeClassifier()  \n",
       "3          weighted F1         0.16660     0.035537  DecisionTreeClassifier()  \n",
       "4  mean absolute error        38.53744    37.654974   DecisionTreeRegressor()  "
      ]
     },
     "execution_count": 77,
     "metadata": {},
     "output_type": "execute_result"
    }
   ],
   "source": [
    "pps.matrix(df).head()"
   ]
  },
  {
   "cell_type": "code",
   "execution_count": 81,
   "id": "6a989536-85af-45df-bb1f-62165b30a447",
   "metadata": {},
   "outputs": [
    {
     "data": {
      "text/plain": [
       "<AxesSubplot:xlabel='x', ylabel='y'>"
      ]
     },
     "execution_count": 81,
     "metadata": {},
     "output_type": "execute_result"
    },
    {
     "data": {
      "image/png": "[encoded data removed]",
      "text/plain": [
       "<Figure size 640x480 with 2 Axes>"
      ]
     },
     "metadata": {},
     "output_type": "display_data"
    }
   ],
   "source": [
    "matrix_df = pps.matrix(df)[['x', 'y', 'ppscore']].pivot(columns='x', index='y', values='ppscore')\n",
    "sns.heatmap(matrix_df, annot=True, fmt=\".2f\")"
   ]
  }
 ],
 "metadata": {
  "kernelspec": {
   "display_name": "ml",
   "language": "python",
   "name": "ml"
  },
  "language_info": {
   "codemirror_mode": {
    "name": "ipython",
    "version": 3
   },
   "file_extension": ".py",
   "mimetype": "text/x-python",
   "name": "python",
   "nbconvert_exporter": "python",
   "pygments_lexer": "ipython3",
   "version": "3.10.4"
  }
 },
 "nbformat": 4,
 "nbformat_minor": 5
}
