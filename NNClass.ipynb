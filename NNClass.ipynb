{
 "cells": [
  {
   "cell_type": "code",
   "execution_count": 1,
   "id": "904ea917-ee36-4583-923f-6f6cb9e5e63f",
   "metadata": {},
   "outputs": [
    {
     "name": "stderr",
     "output_type": "stream",
     "text": [
      "C:\\Users\\melis\\anaconda3\\envs\\ml\\lib\\site-packages\\tqdm\\auto.py:22: TqdmWarning: IProgress not found. Please update jupyter and ipywidgets. See https://ipywidgets.readthedocs.io/en/stable/user_install.html\n",
      "  from .autonotebook import tqdm as notebook_tqdm\n",
      "Importing plotly failed. Interactive plots will not work.\n"
     ]
    }
   ],
   "source": [
    "import tensorflow as tf\n",
    "from tensorflow import keras\n",
    "from tensorflow.keras import layers\n",
    "from tensorflow.keras.layers import Dense, Input\n",
    "from tensorflow.keras import Sequential\n",
    "from tensorflow.keras.optimizers import SGD, Adam, RMSprop\n",
    "import numpy as np\n",
    "import matplotlib.pyplot as plt\n",
    "import seaborn as sns\n",
    "import pandas as pd\n",
    "from utils.generate import Generate\n",
    "from utils.train import Build\n",
    "from utils.process import Format, Preprocess, Categorize, Assemble\n",
    "from sklearn.model_selection import train_test_split\n",
    "\n",
    "generate = Generate()\n",
    "categorize = Categorize()\n",
    "assemble = Assemble()"
   ]
  },
  {
   "cell_type": "code",
   "execution_count": 2,
   "id": "c98e185e-15de-457e-9d14-7eb2765a1de3",
   "metadata": {},
   "outputs": [],
   "source": [
    "df = pd.read_csv('./data/Clean_Dataset.csv')\n",
    "\n",
    "df['path'] = df['source_city'] + ' ' + df['destination_city']\n",
    "df['time'] = df['departure_time'] + ' ' + df['arrival_time']\n",
    "df.replace({'Economy':0,'Business':1}, inplace=True)\n",
    "df = df.drop(['Unnamed: 0','flight','source_city','destination_city','departure_time','arrival_time'], axis=1)\n",
    "\n",
    "days_left_ranges = generate.generate_numerical_ranges(df.days_left, [2,5,10,18])\n",
    "days_left_dict = categorize.categorize_numerical_variable(df.days_left, days_left_ranges)\n",
    "df['days_left_category'] = df['days_left'].map(days_left_dict)\n",
    "\n",
    "start = df.groupby('path').mean()['price'].min()\n",
    "finish = df.groupby('path').mean()['price'].max()\n",
    "path_ranges = generate.generate_categorical_ranges(3, start, finish)\n",
    "\n",
    "\n",
    "path_group = df.groupby('path').mean()['price']\n",
    "path_dict = categorize.categorize_categorical_variable(path_group, path_ranges)\n",
    "df['path_category'] = df['path'].map(path_dict)\n",
    "\n",
    "duration_ranges = generate.generate_numerical_ranges(df.duration, [5,18,28])\n",
    "duration_dict = categorize.categorize_numerical_variable(df.duration, duration_ranges)\n",
    "df['duration_category']=df['duration'].map(duration_dict)\n",
    "\n",
    "start = df.groupby('time').mean()['price'].min()\n",
    "finish = df.groupby('time').mean()['price'].max()\n",
    "time_ranges = generate.generate_categorical_ranges(3, start, finish)\n",
    "\n",
    "\n",
    "time_group = df.groupby('time').mean()['price']\n",
    "time_dict = categorize.categorize_categorical_variable(time_group, time_ranges)\n",
    "df['time_category'] = df['time'].map(time_dict)\n",
    "\n",
    "df.drop(['days_left','path','duration','time'], axis=1, inplace=True)"
   ]
  },
  {
   "cell_type": "code",
   "execution_count": 3,
   "id": "d8c2d6d1-a627-465f-9576-5faa837d9645",
   "metadata": {},
   "outputs": [],
   "source": [
    "layers1 = [\n",
    "        layers.Dense(17, activation=\"relu\", input_shape = (pd.)),\n",
    "        layers.Dense(5, activation=\"relu\"),\n",
    "        layers.Dense(1),\n",
    "    ]\n",
    "\n",
    "layers2 = [\n",
    "        layers.Dense(8, activation=\"relu\"),\n",
    "        layers.Dense(3, activation=\"relu\"),\n",
    "        layers.Dense(1),\n",
    "    \n",
    "]"
   ]
  },
  {
   "cell_type": "code",
   "execution_count": 4,
   "id": "72d48341-4a86-46cb-99c7-4b50ffbc379f",
   "metadata": {},
   "outputs": [],
   "source": [
    "encoder = [\n",
    "        layers.Dense(8, activation=\"relu\"),\n",
    "        layers.Dense(5, activation=\"relu\"),\n",
    "        layers.Dense(2, activation='relu')\n",
    "    ]\n",
    "\n",
    "decoder = [\n",
    "        layers.Dense(5, activation=\"relu\"),\n",
    "        layers.Dense(8, activation=\"relu\"),\n",
    "        layers.Dense(19, activation ='relu')\n",
    "]"
   ]
  },
  {
   "cell_type": "code",
   "execution_count": 4,
   "id": "1024c840-8257-4ba5-9c45-6dca27b844bc",
   "metadata": {},
   "outputs": [],
   "source": [
    "all_regression_test_dict = {}\n",
    "all_regression_test_dict['data'] = {'A1':df}"
   ]
  },
  {
   "cell_type": "code",
   "execution_count": 6,
   "id": "a9f3d247-5385-493d-b2a9-514f2ea320c2",
   "metadata": {},
   "outputs": [],
   "source": [
    "models = [[{'model': 'ANN1', 'layers':layers1 , 'compile_parameters':{'optimizer': RMSprop(), 'loss':'mse'}, 'fit_parameters':{'batch_size':1200}},\n",
    "          {'feature_selection': ['SFM1', {}], 'dimensionality_reduction': ['AE1', {'encoder_layers':encoder, 'decoder_layers':decoder, 'compile_parameters':{'optimizer': Adam(), 'loss':'mse'}}]}],\n",
    "]"
   ]
  },
  {
   "cell_type": "code",
   "execution_count": 7,
   "id": "b6852a2f-c429-4c1c-bc57-9026edcd8a83",
   "metadata": {},
   "outputs": [],
   "source": [
    "#[{'model':'ANN2', 'layers': layers2, 'compile_parameters':{'optimizer': Adam(), 'loss':'mse'}, 'fit_parameters':{'batch_size':1200}}]"
   ]
  },
  {
   "cell_type": "code",
   "execution_count": 8,
   "id": "09e71f26-2b4a-4f2a-b1d7-0ab21e9c9a33",
   "metadata": {},
   "outputs": [
    {
     "data": {
      "text/plain": [
       "[{'model': 'ANN1',\n",
       "  'layers': [<keras.layers.core.dense.Dense at 0x2400ed35640>,\n",
       "   <keras.layers.core.dense.Dense at 0x2400012b6d0>,\n",
       "   <keras.layers.core.dense.Dense at 0x2400012bcd0>],\n",
       "  'compile_parameters': {'optimizer': <keras.optimizer_v2.rmsprop.RMSprop at 0x2400f4c0a00>,\n",
       "   'loss': 'mse'},\n",
       "  'fit_parameters': {'batch_size': 1200}},\n",
       " {'feature_selection': ['SFM1', {}],\n",
       "  'dimensionality_reduction': ['AE1',\n",
       "   {'encoder_layers': [<keras.layers.core.dense.Dense at 0x2400f4be7c0>,\n",
       "     <keras.layers.core.dense.Dense at 0x2400f4be880>,\n",
       "     <keras.layers.core.dense.Dense at 0x2400f4be5b0>],\n",
       "    'decoder_layers': [<keras.layers.core.dense.Dense at 0x240000effa0>,\n",
       "     <keras.layers.core.dense.Dense at 0x2400ed352b0>,\n",
       "     <keras.layers.core.dense.Dense at 0x2400f4c0040>],\n",
       "    'compile_parameters': {'optimizer': <keras.optimizer_v2.adam.Adam at 0x2400f4c0d60>,\n",
       "     'loss': 'mse'}}]}]"
      ]
     },
     "execution_count": 8,
     "metadata": {},
     "output_type": "execute_result"
    }
   ],
   "source": [
    "models[0]"
   ]
  },
  {
   "cell_type": "code",
   "execution_count": 9,
   "id": "f68163c2-ff58-484b-b513-19bc2b0eb188",
   "metadata": {},
   "outputs": [
    {
     "name": "stdout",
     "output_type": "stream",
     "text": [
      "Training deeplearning model ANN1 for A1\n",
      "201/201 [==============================] - 1s 1ms/step - loss: 954176704.0000\n",
      "Training done!\n",
      "\n"
     ]
    }
   ],
   "source": [
    "build = Build(all_regression_test_dict, dimensionality_reduction=False)\n",
    "build.build_deep_learning_models(models, 'price')"
   ]
  },
  {
   "cell_type": "code",
   "execution_count": 60,
   "id": "31c8a4b4-377d-4ce1-b0d8-8359b54e32ca",
   "metadata": {},
   "outputs": [
    {
     "name": "stdout",
     "output_type": "stream",
     "text": [
      "<tf.Variable 'dense_37/kernel:0' shape=(2, 17) dtype=float32, numpy=\n",
      "array([[-0.2584811 , -0.4509383 ,  0.63770825,  0.50745505,  0.5929335 ,\n",
      "        -0.522137  ,  0.24229176,  0.43238106,  0.2868892 , -0.5571894 ,\n",
      "        -0.32216442, -0.29715925,  0.00515057, -0.42557704, -0.3572872 ,\n",
      "        -0.04676425,  0.5927974 ],\n",
      "       [ 0.0522849 ,  0.3470242 ,  0.4217326 ,  0.16884857,  0.33818895,\n",
      "         0.25962448,  0.12329763,  0.24065506, -0.1385031 , -0.24856591,\n",
      "         0.37057155,  0.2169671 , -0.22991472, -0.08869642,  0.03141743,\n",
      "         0.48560256, -0.54153496]], dtype=float32)>\n",
      "\n",
      "<tf.Variable 'dense_37/bias:0' shape=(17,) dtype=float32, numpy=\n",
      "array([ 0.        ,  0.        ,  0.1614278 ,  0.1804619 ,  0.20421855,\n",
      "        0.        ,  0.19767603,  0.07751837,  0.22634448,  0.        ,\n",
      "        0.        ,  0.        , -0.05157971,  0.        ,  0.        ,\n",
      "        0.        ,  0.14836928], dtype=float32)>\n",
      "\n",
      "<tf.Variable 'dense_38/kernel:0' shape=(17, 5) dtype=float32, numpy=\n",
      "array([[ 0.3293441 ,  0.47013086, -0.02158445,  0.00422162, -0.09926587],\n",
      "       [ 0.15932202, -0.21135056,  0.32606864, -0.46118492,  0.39760798],\n",
      "       [ 0.13596323, -0.03181843,  0.19676906, -0.45855826,  0.32049716],\n",
      "       [-0.2718293 , -0.08901753, -0.17844692, -0.07822791,  0.22846322],\n",
      "       [ 0.13008046,  0.72128284, -0.10850301, -0.38106996,  0.6086857 ],\n",
      "       [-0.32018977, -0.01932484, -0.10297528, -0.26824692, -0.301988  ],\n",
      "       [-0.5208184 , -0.17017232, -0.39033386, -0.0070376 ,  0.5030288 ],\n",
      "       [-0.53538865,  0.19864558, -0.1583465 ,  0.22086181,  0.04519851],\n",
      "       [-0.06286684,  0.41785744, -0.25385728,  0.33784842,  0.28378424],\n",
      "       [ 0.05450213, -0.36592355,  0.21824145,  0.06592107,  0.194175  ],\n",
      "       [-0.32211295,  0.2781828 , -0.19113746, -0.17930716,  0.21275145],\n",
      "       [-0.4769311 , -0.05896708,  0.34800005, -0.25839493, -0.06098625],\n",
      "       [ 0.40859902,  0.31765252,  0.49869567,  0.12921393, -0.28861013],\n",
      "       [-0.3492748 ,  0.25466812,  0.02327281,  0.46457636,  0.02750677],\n",
      "       [-0.1207867 ,  0.08658791,  0.16805494, -0.08428457, -0.03821337],\n",
      "       [ 0.3635469 , -0.02463606, -0.10747942, -0.16964579,  0.23911554],\n",
      "       [ 0.48138955, -0.2943668 ,  0.12557918, -0.2570602 ,  0.55536354]],\n",
      "      dtype=float32)>\n",
      "\n",
      "<tf.Variable 'dense_38/bias:0' shape=(5,) dtype=float32, numpy=\n",
      "array([-0.03617768,  0.19221288,  0.        , -0.01366007,  0.21567734],\n",
      "      dtype=float32)>\n",
      "\n",
      "<tf.Variable 'dense_39/kernel:0' shape=(5, 1) dtype=float32, numpy=\n",
      "array([[-0.69953483],\n",
      "       [ 0.40353125],\n",
      "       [ 0.08330631],\n",
      "       [-0.6841055 ],\n",
      "       [ 0.46964237]], dtype=float32)>\n",
      "\n",
      "<tf.Variable 'dense_39/bias:0' shape=(1,) dtype=float32, numpy=array([0.2101548], dtype=float32)>\n",
      "\n"
     ]
    }
   ],
   "source": [
    "for layer in all_regression_test_dict['models']['A1ANN1AE1'].weights:\n",
    "    print(layer)\n",
    "    print()"
   ]
  },
  {
   "cell_type": "code",
   "execution_count": 61,
   "id": "4e9d253d-12ae-45b9-8548-03bae4f5bdcd",
   "metadata": {},
   "outputs": [
    {
     "data": {
      "text/plain": [
       "[<keras.layers.core.dense.Dense at 0x18019678490>,\n",
       " <keras.layers.core.dense.Dense at 0x180196787f0>,\n",
       " <keras.layers.core.dense.Dense at 0x180196782e0>]"
      ]
     },
     "execution_count": 61,
     "metadata": {},
     "output_type": "execute_result"
    }
   ],
   "source": [
    "all_regression_test_dict['models']['A1ANN1AE1'].layers"
   ]
  },
  {
   "cell_type": "code",
   "execution_count": 10,
   "id": "a3a7ad66-d5b8-425d-bff8-4484edcbfd1c",
   "metadata": {},
   "outputs": [
    {
     "data": {
      "text/html": [
       "<div>\n",
       "<style scoped>\n",
       "    .dataframe tbody tr th:only-of-type {\n",
       "        vertical-align: middle;\n",
       "    }\n",
       "\n",
       "    .dataframe tbody tr th {\n",
       "        vertical-align: top;\n",
       "    }\n",
       "\n",
       "    .dataframe thead th {\n",
       "        text-align: right;\n",
       "    }\n",
       "</style>\n",
       "<table border=\"1\" class=\"dataframe\">\n",
       "  <thead>\n",
       "    <tr style=\"text-align: right;\">\n",
       "      <th></th>\n",
       "      <th>MEPE</th>\n",
       "      <th>MPE</th>\n",
       "      <th>MEAE</th>\n",
       "      <th>MAE</th>\n",
       "      <th>MSE</th>\n",
       "      <th>RMSE</th>\n",
       "      <th>NRMSE</th>\n",
       "      <th>STD</th>\n",
       "    </tr>\n",
       "    <tr>\n",
       "      <th>ALGORITHM</th>\n",
       "      <th></th>\n",
       "      <th></th>\n",
       "      <th></th>\n",
       "      <th></th>\n",
       "      <th></th>\n",
       "      <th></th>\n",
       "      <th></th>\n",
       "      <th></th>\n",
       "    </tr>\n",
       "  </thead>\n",
       "  <tbody>\n",
       "    <tr>\n",
       "      <th>A1ANN1</th>\n",
       "      <td>99.888</td>\n",
       "      <td>99.881</td>\n",
       "      <td>7402.455</td>\n",
       "      <td>20709.064</td>\n",
       "      <td>9.401313e+08</td>\n",
       "      <td>30661.561</td>\n",
       "      <td>0.269908</td>\n",
       "      <td>22612.54</td>\n",
       "    </tr>\n",
       "  </tbody>\n",
       "</table>\n",
       "</div>"
      ],
      "text/plain": [
       "             MEPE     MPE      MEAE        MAE           MSE       RMSE  \\\n",
       "ALGORITHM                                                                 \n",
       "A1ANN1     99.888  99.881  7402.455  20709.064  9.401313e+08  30661.561   \n",
       "\n",
       "              NRMSE       STD  \n",
       "ALGORITHM                      \n",
       "A1ANN1     0.269908  22612.54  "
      ]
     },
     "execution_count": 10,
     "metadata": {},
     "output_type": "execute_result"
    }
   ],
   "source": [
    "all_test_tables_dict = assemble.assemble_test_tables(all_regression_test_dict)\n",
    "all_regression_test_dict['test_tables'] = all_test_tables_dict\n",
    "assemble.assemble_error_values(all_regression_test_dict)"
   ]
  },
  {
   "cell_type": "code",
   "execution_count": 11,
   "id": "71bbb94a-9dfe-4cc7-a314-9f63eed4832e",
   "metadata": {},
   "outputs": [
    {
     "data": {
      "text/html": [
       "<div>\n",
       "<style scoped>\n",
       "    .dataframe tbody tr th:only-of-type {\n",
       "        vertical-align: middle;\n",
       "    }\n",
       "\n",
       "    .dataframe tbody tr th {\n",
       "        vertical-align: top;\n",
       "    }\n",
       "\n",
       "    .dataframe thead th {\n",
       "        text-align: right;\n",
       "    }\n",
       "</style>\n",
       "<table border=\"1\" class=\"dataframe\">\n",
       "  <thead>\n",
       "    <tr style=\"text-align: right;\">\n",
       "      <th></th>\n",
       "      <th>MEPE</th>\n",
       "      <th>MPE</th>\n",
       "      <th>MEAE</th>\n",
       "      <th>MAE</th>\n",
       "      <th>MSE</th>\n",
       "      <th>RMSE</th>\n",
       "      <th>NRMSE</th>\n",
       "      <th>STD</th>\n",
       "    </tr>\n",
       "    <tr>\n",
       "      <th>ALGORITHM</th>\n",
       "      <th></th>\n",
       "      <th></th>\n",
       "      <th></th>\n",
       "      <th></th>\n",
       "      <th></th>\n",
       "      <th></th>\n",
       "      <th></th>\n",
       "      <th></th>\n",
       "    </tr>\n",
       "  </thead>\n",
       "  <tbody>\n",
       "    <tr>\n",
       "      <th>A1ANN1</th>\n",
       "      <td>99.888</td>\n",
       "      <td>99.881</td>\n",
       "      <td>7402.455</td>\n",
       "      <td>20709.064</td>\n",
       "      <td>9.401313e+08</td>\n",
       "      <td>30661.561</td>\n",
       "      <td>0.269908</td>\n",
       "      <td>22612.54</td>\n",
       "    </tr>\n",
       "  </tbody>\n",
       "</table>\n",
       "</div>"
      ],
      "text/plain": [
       "             MEPE     MPE      MEAE        MAE           MSE       RMSE  \\\n",
       "ALGORITHM                                                                 \n",
       "A1ANN1     99.888  99.881  7402.455  20709.064  9.401313e+08  30661.561   \n",
       "\n",
       "              NRMSE       STD  \n",
       "ALGORITHM                      \n",
       "A1ANN1     0.269908  22612.54  "
      ]
     },
     "execution_count": 11,
     "metadata": {},
     "output_type": "execute_result"
    }
   ],
   "source": [
    "# NO INPUT\n",
    "all_test_tables_dict = assemble.assemble_test_tables(all_regression_test_dict)\n",
    "all_regression_test_dict['test_tables'] = all_test_tables_dict\n",
    "assemble.assemble_error_values(all_regression_test_dict)"
   ]
  },
  {
   "cell_type": "code",
   "execution_count": 63,
   "id": "623c7a83-edb4-476b-acf4-6b572d8c0563",
   "metadata": {},
   "outputs": [
    {
     "data": {
      "text/plain": [
       "(60031, 2)"
      ]
     },
     "execution_count": 63,
     "metadata": {},
     "output_type": "execute_result"
    }
   ],
   "source": [
    "all_regression_test_dict['X_test']['A1'].shape"
   ]
  }
 ],
 "metadata": {
  "kernelspec": {
   "display_name": "ml",
   "language": "python",
   "name": "ml"
  },
  "language_info": {
   "codemirror_mode": {
    "name": "ipython",
    "version": 3
   },
   "file_extension": ".py",
   "mimetype": "text/x-python",
   "name": "python",
   "nbconvert_exporter": "python",
   "pygments_lexer": "ipython3",
   "version": "3.10.4"
  }
 },
 "nbformat": 4,
 "nbformat_minor": 5
}
