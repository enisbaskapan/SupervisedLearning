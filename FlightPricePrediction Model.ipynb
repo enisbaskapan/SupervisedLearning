{
 "cells": [
  {
   "cell_type": "code",
   "execution_count": 1,
   "id": "7bd299eb-18d4-4e70-b1ec-badb9d192593",
   "metadata": {},
   "outputs": [],
   "source": [
    "import pandas as pd\n",
    "import numpy as np\n",
    "from sklearn.model_selection import train_test_split\n",
    "from sklearn.preprocessing import MinMaxScaler\n",
    "import pickle"
   ]
  },
  {
   "cell_type": "code",
   "execution_count": 2,
   "id": "89cda0ca-d171-4ba5-8b9e-ec33ed32d420",
   "metadata": {},
   "outputs": [],
   "source": [
    "from utils.process import Assemble\n",
    "assemble = Assemble()\n",
    "from utils.process import Categorize\n",
    "categorize = Categorize()\n",
    "from utils.generate import Generate\n",
    "generate = Generate()\n",
    "from utils.train import Create, Build\n",
    "create = Create()\n",
    "from utils.process import Preprocess\n",
    "precprocess = Preprocess()"
   ]
  },
  {
   "cell_type": "code",
   "execution_count": 3,
   "id": "da8cf728-169b-4710-9c46-44fdeb8234e1",
   "metadata": {},
   "outputs": [],
   "source": [
    "df = pd.read_csv('./data/Clean_Dataset.csv')"
   ]
  },
  {
   "cell_type": "code",
   "execution_count": 1,
   "id": "eaa16bf1-0681-4edc-b7e7-b1d7a61168a5",
   "metadata": {},
   "outputs": [],
   "source": [
    "#HEYHEY"
   ]
  },
  {
   "cell_type": "markdown",
   "id": "bb1dd180-7631-4066-97ba-9540e0297668",
   "metadata": {},
   "source": [
    "# Data Prep"
   ]
  },
  {
   "cell_type": "code",
   "execution_count": 129,
   "id": "8badcd73-d62d-44d7-bdf1-d3f6f6ad64b7",
   "metadata": {},
   "outputs": [],
   "source": [
    "df['path'] = df['source_city'] + ' ' + df['destination_city']"
   ]
  },
  {
   "cell_type": "code",
   "execution_count": 130,
   "id": "53727f88-bfb5-4219-99f6-663d85097ce4",
   "metadata": {},
   "outputs": [],
   "source": [
    "df['time'] = df['departure_time'] + ' ' + df['arrival_time']"
   ]
  },
  {
   "cell_type": "code",
   "execution_count": 131,
   "id": "016089b7-a683-487d-8ac3-c03f6c4c8738",
   "metadata": {},
   "outputs": [],
   "source": [
    "df.replace({'Economy':0,'Business':1}, inplace=True)"
   ]
  },
  {
   "cell_type": "code",
   "execution_count": 132,
   "id": "193610c1-d3ac-420b-818d-12649dbb3271",
   "metadata": {},
   "outputs": [],
   "source": [
    "df = df.drop(['Unnamed: 0','flight','source_city','destination_city','departure_time','arrival_time'], axis=1)"
   ]
  },
  {
   "cell_type": "markdown",
   "id": "b80a335c-ae9c-41e4-b592-2ecdbcde7cb9",
   "metadata": {},
   "source": [
    "### days_left Categorization"
   ]
  },
  {
   "cell_type": "code",
   "execution_count": 133,
   "id": "d1ccbe1d-0f2f-4c9a-8b3e-e5dad5740bcf",
   "metadata": {},
   "outputs": [],
   "source": [
    "days_left_ranges = generate.generate_numerical_ranges(df.days_left, [2,5,10,18])\n",
    "days_left_dict = categorize.categorize_numerical_variable(df.days_left, days_left_ranges)\n",
    "df['days_left_category'] = df['days_left'].map(days_left_dict)"
   ]
  },
  {
   "cell_type": "markdown",
   "id": "9d77c4e8-6380-4f4e-9f79-bef32be6ee8a",
   "metadata": {},
   "source": [
    "### path Categorization"
   ]
  },
  {
   "cell_type": "code",
   "execution_count": 134,
   "id": "33a6bbed-bb55-43b9-ab8f-b9cffaa85fb2",
   "metadata": {},
   "outputs": [],
   "source": [
    "start = df.groupby('path').mean()['price'].min()\n",
    "finish = df.groupby('path').mean()['price'].max()"
   ]
  },
  {
   "cell_type": "code",
   "execution_count": 135,
   "id": "890ac937-dfa8-4f2b-9abe-54eb0af0b3c3",
   "metadata": {},
   "outputs": [
    {
     "data": {
      "text/plain": [
       "[range(17243, 19855), range(19855, 22467), range(22467, 37619)]"
      ]
     },
     "execution_count": 135,
     "metadata": {},
     "output_type": "execute_result"
    }
   ],
   "source": [
    "path_ranges = generate.generate_categorical_ranges(3, start, finish)\n",
    "path_ranges"
   ]
  },
  {
   "cell_type": "code",
   "execution_count": 136,
   "id": "9ee546d6-cfc5-4cb5-a8f0-c35a1a2cd49d",
   "metadata": {},
   "outputs": [],
   "source": [
    "path_group = df.groupby('path').mean()['price']\n",
    "path_dict = categorize.categorize_categorical_variable(path_group, path_ranges)\n",
    "df['path_category'] = df['path'].map(path_dict)"
   ]
  },
  {
   "cell_type": "markdown",
   "id": "bfeff381-f2d3-4716-b5d9-df532b04d072",
   "metadata": {},
   "source": [
    "### duration Categorization"
   ]
  },
  {
   "cell_type": "code",
   "execution_count": 137,
   "id": "302135b7-26bf-4d72-b6d4-44a32e3a3b67",
   "metadata": {},
   "outputs": [],
   "source": [
    "duration_ranges = generate.generate_numerical_ranges(df.duration, [5,18,28])\n",
    "duration_dict = categorize.categorize_numerical_variable(df.duration, duration_ranges)\n",
    "df['duration_category']=df['duration'].map(duration_dict)"
   ]
  },
  {
   "cell_type": "markdown",
   "id": "ea455ce0-5052-46b4-92aa-672b6b42477f",
   "metadata": {},
   "source": [
    "### time Categorization"
   ]
  },
  {
   "cell_type": "code",
   "execution_count": 138,
   "id": "3df3ba95-6daf-4a19-a71f-22092a0f7ff0",
   "metadata": {},
   "outputs": [],
   "source": [
    "start = df.groupby('time').mean()['price'].min()\n",
    "finish = df.groupby('time').mean()['price'].max()"
   ]
  },
  {
   "cell_type": "code",
   "execution_count": 139,
   "id": "a0ceebfa-4fc0-4527-9c6e-631a92ec217f",
   "metadata": {},
   "outputs": [
    {
     "data": {
      "text/plain": [
       "[range(4288, 13333), range(13333, 22378), range(22378, 47135)]"
      ]
     },
     "execution_count": 139,
     "metadata": {},
     "output_type": "execute_result"
    }
   ],
   "source": [
    "time_ranges = generate.generate_categorical_ranges(3, start, finish)\n",
    "time_ranges"
   ]
  },
  {
   "cell_type": "code",
   "execution_count": 140,
   "id": "e5606354-65c3-422e-829a-94f62cbad9bd",
   "metadata": {},
   "outputs": [],
   "source": [
    "time_group = df.groupby('time').mean()['price']\n",
    "time_dict = categorize.categorize_categorical_variable(time_group, time_ranges)\n",
    "df['time_category'] = df['time'].map(time_dict)"
   ]
  },
  {
   "cell_type": "markdown",
   "id": "b04b723d-8833-4a38-a4b8-b7beb45fe2ad",
   "metadata": {},
   "source": [
    "# All Data"
   ]
  },
  {
   "cell_type": "markdown",
   "id": "42d14f0f-f55c-44f6-8bce-ea715763a857",
   "metadata": {},
   "source": [
    "## All Data 1"
   ]
  },
  {
   "cell_type": "code",
   "execution_count": 116,
   "id": "9aca9058-be9a-4cb6-b35a-74dae5ab2561",
   "metadata": {},
   "outputs": [],
   "source": [
    "df_all1 = df.drop(['days_left','duration','path','time'], axis=1)"
   ]
  },
  {
   "cell_type": "markdown",
   "id": "d7715adc-36d2-4795-8728-b931a33aca80",
   "metadata": {},
   "source": [
    "## All Data 2"
   ]
  },
  {
   "cell_type": "code",
   "execution_count": 117,
   "id": "dc5a6ad3-99b4-4045-b3fc-e078312bb8dd",
   "metadata": {},
   "outputs": [],
   "source": [
    "df_all2 = df.drop(['days_left_category','duration_category','path_category','time_category'], axis=1)"
   ]
  },
  {
   "cell_type": "markdown",
   "id": "5ca536b4-e497-43be-9f81-00bfb665e68b",
   "metadata": {},
   "source": [
    "# Economy Business Split"
   ]
  },
  {
   "cell_type": "code",
   "execution_count": 94,
   "id": "2c50f106-071d-414d-9bde-b8255b2c3162",
   "metadata": {},
   "outputs": [],
   "source": [
    "df_economy = df[df['class']==0]\n",
    "df_economy = df_economy.drop('class',axis=1)\n",
    "df_business = df[df['class']==1]\n",
    "df_business = df_business.drop('class',axis=1)"
   ]
  },
  {
   "cell_type": "markdown",
   "id": "e3154c92-aca8-4831-b92c-d1f7f192604e",
   "metadata": {},
   "source": [
    "## Economy 1"
   ]
  },
  {
   "cell_type": "code",
   "execution_count": 97,
   "id": "9728e394-1c96-4736-901c-bd32c3fc547d",
   "metadata": {},
   "outputs": [],
   "source": [
    "df_economy1 = df_economy.drop(['days_left','duration','path','time'], axis=1)"
   ]
  },
  {
   "cell_type": "markdown",
   "id": "ee27c1dc-81bd-4e7a-9f6b-b19e42f9c0b1",
   "metadata": {},
   "source": [
    "## Economy 2"
   ]
  },
  {
   "cell_type": "code",
   "execution_count": 98,
   "id": "95feaa4b-945d-4f42-9358-edb54f0c2b92",
   "metadata": {},
   "outputs": [],
   "source": [
    "df_economy2 = df_economy.drop(['days_left_category','path_category','duration_category','time_category'], axis=1)"
   ]
  },
  {
   "cell_type": "markdown",
   "id": "baaa5ded-4e30-40f2-8e37-2ed34aed0dbe",
   "metadata": {},
   "source": [
    "## Economy 3"
   ]
  },
  {
   "cell_type": "code",
   "execution_count": 100,
   "id": "3a6fbea1-13ed-4d8e-92ab-dab2c5aad270",
   "metadata": {},
   "outputs": [],
   "source": [
    "df_economy3 = df_economy.drop(['stops','path','duration_category','days_left_category','time_category'], axis=1)"
   ]
  },
  {
   "cell_type": "markdown",
   "id": "b7112889-a595-45f2-8d81-91c248b267be",
   "metadata": {},
   "source": [
    "## Business 1"
   ]
  },
  {
   "cell_type": "code",
   "execution_count": 101,
   "id": "65d9c88d-bf68-4ae6-8e2e-6d605ae297aa",
   "metadata": {},
   "outputs": [],
   "source": [
    "df_business1 = df_business.drop(['days_left','duration','path','time','days_left_category'], axis=1)\n",
    "df_business1.replace({'zero':0,'one':1,'two_or_more':2}, inplace=True)"
   ]
  },
  {
   "cell_type": "markdown",
   "id": "1a643a1a-79fe-4369-b42a-b361a6b2548e",
   "metadata": {},
   "source": [
    "## Business 2"
   ]
  },
  {
   "cell_type": "code",
   "execution_count": 109,
   "id": "eb06ab74-4647-4512-b774-34f26734289e",
   "metadata": {},
   "outputs": [],
   "source": [
    "df_business2 = df_business.drop(['days_left_category','path_category','duration_category','time_category'], axis=1)\n",
    "df_business2.replace({'zero':0,'one':1,'two_or_more':2}, inplace=True)"
   ]
  },
  {
   "cell_type": "markdown",
   "id": "3b8e5570-50fa-45f6-8745-58d0d1cd2301",
   "metadata": {},
   "source": [
    "## Business 3"
   ]
  },
  {
   "cell_type": "code",
   "execution_count": 110,
   "id": "54391ebd-fe52-4d97-b1f7-6c5d9cd154a7",
   "metadata": {},
   "outputs": [],
   "source": [
    "df_business3 = df_business.drop(['days_left','days_left_category','path','time','duration'], axis=1)"
   ]
  },
  {
   "cell_type": "markdown",
   "id": "c70439b3-f21a-497b-9552-88a8eec916cf",
   "metadata": {},
   "source": [
    "# Regression Models Dictionary"
   ]
  },
  {
   "cell_type": "code",
   "execution_count": 10,
   "id": "dadba1e2-f212-4423-9eec-81fe88d1f85d",
   "metadata": {},
   "outputs": [],
   "source": [
    "# df , split data , models , predictions"
   ]
  },
  {
   "cell_type": "code",
   "execution_count": 120,
   "id": "df0fd323-590c-4857-b383-ff6554c46bde",
   "metadata": {},
   "outputs": [],
   "source": [
    "economy_regression_test_dict = {}\n",
    "business_regression_test_dict = {}\n",
    "all_regression_test_dict = {}"
   ]
  },
  {
   "cell_type": "code",
   "execution_count": 121,
   "id": "af1bc019-7812-4cbf-a724-60585405a322",
   "metadata": {},
   "outputs": [],
   "source": [
    "economy_regression_test_dict['data'] = {'E1':df_economy1, 'E2':df_economy2, 'E3':df_economy3}\n",
    "business_regression_test_dict['data'] = {'B1':df_business1, 'B2':df_business2, 'B3':df_business3}\n",
    "all_regression_test_dict['data'] = {'A1':df_all1, 'A2':df_all2}"
   ]
  },
  {
   "cell_type": "markdown",
   "id": "ad1963ce-0d48-4857-b817-61be6c139ba7",
   "metadata": {},
   "source": [
    "# Model Training"
   ]
  },
  {
   "cell_type": "code",
   "execution_count": 2,
   "id": "514d65e4-4a52-4b15-895e-7c1b6ce8621f",
   "metadata": {},
   "outputs": [],
   "source": [
    "models = [['LR1', {}, 'SFM1', {}],\n",
    "          ['RFR1', {'n_estimators': 20, 'criterion':'squared_error'}, 'RFE1', {'n_features_to_select': 3, 'step':1}],\n",
    "          ['RFR2', {'n_estimators': 20, 'criterion':'poisson'}, 'RFE2', {'n_features_to_select':4, 'step':1}],\n",
    "          ['RFR3', {'n_estimators': 100, 'criterion':'squared_error'}, 'SKB1', {'k':3}],\n",
    "          ['RFR4', {'n_estimators': 100, 'criterion':'poisson'}, 'SFS', {'n_features_to_select':3}],\n",
    "          ['GBR1', {'learning_rate':0.1, 'criterion':'friedman_mse', 'n_estimators':20, 'loss':'squared_error'}, 'SKB1', {'k':3}]\n",
    "          ]"
   ]
  },
  {
   "cell_type": "code",
   "execution_count": 1,
   "id": "f10aa5a0-0818-4fbf-8f11-541be01a6fbe",
   "metadata": {},
   "outputs": [],
   "source": [
    "LogisticRegression = [['LR1', {'penalty':'l2','solver':'lbfgs','multi_class':'auto'}],\n",
    "                      ['LR2', {'penalty':'l2','solver':'liblinear','multi_class':'ovr'}],\n",
    "                      ['LR3', {'penalty':'elasticnet','solver':'saga','multi_class':'auto'}],\n",
    "                      ['LR4', {'penalty':'l1','solver':'liblinear','multi_class':'auto'}],\n",
    "                      ['LR5', {'penalty':'l2','solver':'sag','multi_class':'ovr'}],\n",
    "                     ]"
   ]
  },
  {
   "cell_type": "code",
   "execution_count": 2,
   "id": "8702bd0b-2571-4480-96de-8d9934d66f48",
   "metadata": {},
   "outputs": [],
   "source": [
    "DecisionTreeClassifier = [['DTC1', {'criterion':'gini','ccp_alpha':0.0}],\n",
    "                          ['DTC2', {'criterion':'entropy','ccp_alpha':0.0}],\n",
    "                          ['DTC3', {'criterion':'entropy','ccp_alpha':0.3}],\n",
    "                          ['DTC4', {'criterion':'log_loss','ccp_alpha':0.4}],\n",
    "                         ]"
   ]
  },
  {
   "cell_type": "code",
   "execution_count": 5,
   "id": "2d825248-a6cd-44d4-8f88-a8b6802bf91d",
   "metadata": {},
   "outputs": [],
   "source": [
    "RandomForestClassifier = [['RFC1', {'n_estimators': 20, 'criterion':'gini','max_depth':None,'min_samples_split':2,'min_samples_leaf':1,'ccp_alpha':0.0,'oob_score':False}],\n",
    "                          ['RFC2', {'n_estimators': 20, 'criterion':'entropy','max_depth':None,'min_samples_split':2,'min_samples_leaf':1,'ccp_alpha':0.0,'oob_score':False}],\n",
    "                          ['RFC3', {'n_estimators': 100, 'criterion':'gini','max_depth':10,'min_samples_split':5,'min_samples_leaf':1,'ccp_alpha':0.0,'oob_score':False}],\n",
    "                          ['RFC4', {'n_estimators': 100, 'criterion':'log_loss','max_depth':None,'min_samples_split':2,'min_samples_leaf':1,'ccp_alpha':0.0,'oob_score':True}]\n",
    "                         ]"
   ]
  },
  {
   "cell_type": "code",
   "execution_count": 6,
   "id": "3d9f15a7-51e5-47eb-b077-ef70ee28ef4b",
   "metadata": {},
   "outputs": [],
   "source": [
    "SupportVectorClassifier = [['SVC1', {'C':1.0,'kernel':'rbf','gamma':'scale','degree':3}],\n",
    "                           ['SVC2', {'C':2.0,'kernel':'rbf','gamma':'auto','degree':2}],\n",
    "                           ['SVC3', {'C':1.0,'kernel':'linear','gamma':'scale','degree':3}],\n",
    "                           ['SVC4', {'C':1.0,'kernel':'poly','gamma':'auto','degree':2}],\n",
    "                          ]"
   ]
  },
  {
   "cell_type": "code",
   "execution_count": 9,
   "id": "0ccfd635-26a1-4730-a44d-364f41afaf64",
   "metadata": {},
   "outputs": [],
   "source": [
    "KNeighborsClassifier = [['KNN1', {'n_neighbors':5,'weights':'uniform','algorithm':'auto','leaf_size':30}],\n",
    "                        ['KNN2', {'n_neighbors':5,'weights':'distance','algorithm':'ball_tree','leaf_size':30}],\n",
    "                        ['KNN3', {'n_neighbors':3,'weights':'uniform','algorithm':'kd_tree','leaf_size':50}],\n",
    "                        ['KNN4', {'n_neighbors':3,'weights':'distance','algorithm':'auto','leaf_size':30}]\n",
    "                       ]"
   ]
  },
  {
   "cell_type": "code",
   "execution_count": 11,
   "id": "70662e53-c84f-41ac-a836-cdf9213fc14f",
   "metadata": {},
   "outputs": [],
   "source": [
    "models = [['LR1', {'penalty':'l2','solver':'lbfgs','multi_class':'auto'}],\n",
    "          ['LR2', {'penalty':'l2','solver':'liblinear','multi_class':'ovr'}],\n",
    "          ['DTC1', {'criterion':'gini','ccp_alpha':0.0}],\n",
    "          ['DTC2', {'criterion':'entropy','ccp_alpha':0.0}],\n",
    "          ['RFC1', {'n_estimators': 20, 'criterion':'gini','max_depth':None,'min_samples_split':2,'min_samples_leaf':1,'ccp_alpha':0.0,'oob_score':False}],\n",
    "          ['RFC2', {'n_estimators': 20, 'criterion':'entropy','max_depth':None,'min_samples_split':2,'min_samples_leaf':1,'ccp_alpha':0.0,'oob_score':False}],\n",
    "          ['SVC1', {'C':1.0,'kernel':'rbf'}],\n",
    "          ['SVC2', {'C':2.0,'kernel':'rbf'}],\n",
    "          ['KNN1', {'n_neighbors':5,'weights':'uniform','algorithm':'auto','leaf_size':30}],\n",
    "          ['KNN2', {'n_neighbors':5,'weights':'distance','algorithm':'ball_tree','leaf_size':30}]\n",
    "         ]"
   ]
  },
  {
   "cell_type": "code",
   "execution_count": 14,
   "id": "59d9117d-6b19-40cc-8b0f-f327e3209d10",
   "metadata": {},
   "outputs": [],
   "source": [
    "build = Build(economy_regression_test_dict)"
   ]
  },
  {
   "cell_type": "code",
   "execution_count": 15,
   "id": "137c073b-6550-4f0a-bd56-6198d045c5aa",
   "metadata": {},
   "outputs": [
    {
     "name": "stdout",
     "output_type": "stream",
     "text": [
      "Training regression model LR1 for E1\n",
      "Training done!\n",
      "\n",
      "Training regression model RFR1 for E1\n",
      "Training done!\n",
      "\n"
     ]
    }
   ],
   "source": [
    "build.build_regression_models(models, 'price')"
   ]
  },
  {
   "cell_type": "code",
   "execution_count": 16,
   "id": "994ef7b0-9f84-4a31-acc4-cf82673e5dad",
   "metadata": {},
   "outputs": [
    {
     "data": {
      "text/plain": [
       "dict_keys(['data', 'predictions', 'models'])"
      ]
     },
     "execution_count": 16,
     "metadata": {},
     "output_type": "execute_result"
    }
   ],
   "source": [
    "economy_regression_test_dict.keys()"
   ]
  },
  {
   "cell_type": "code",
   "execution_count": 18,
   "id": "a5feed42-ad86-48a6-8970-5c1dac1c45f2",
   "metadata": {},
   "outputs": [
    {
     "data": {
      "text/plain": [
       "{'E1LR1': array([ 8551.73344509, 10251.86030579,  5015.50447876, ...,\n",
       "         6518.8800095 ,  3949.71980886,  6984.43687762]),\n",
       " 'E1RFR1': array([ 6568.  , 10257.25,  4886.4 , ...,  3740.5 ,  5748.75,  5142.85])}"
      ]
     },
     "execution_count": 18,
     "metadata": {},
     "output_type": "execute_result"
    }
   ],
   "source": [
    "economy_regression_test_dict['predictions']"
   ]
  },
  {
   "cell_type": "code",
   "execution_count": 15,
   "id": "f5927d03-3fa4-46a0-8258-0ec551df1d3a",
   "metadata": {},
   "outputs": [],
   "source": [
    "X_train, X_test, y_train, y_test = precprocess.preprocess_test_data(df_economy, 'price')"
   ]
  },
  {
   "cell_type": "code",
   "execution_count": 16,
   "id": "4a2f1eaf-5f0f-4694-9207-df34e0431911",
   "metadata": {},
   "outputs": [],
   "source": [
    "regressor = train.train_regression_model((X_train, y_train), 'LR')"
   ]
  },
  {
   "cell_type": "code",
   "execution_count": 18,
   "id": "3af74fa9-2cc1-4ef3-95da-6f6d5928c177",
   "metadata": {},
   "outputs": [],
   "source": [
    "predictions = regressor.predict(X_test)"
   ]
  },
  {
   "cell_type": "code",
   "execution_count": 27,
   "id": "5ebb4712-008d-4ef9-b4e1-8c03a3714fdb",
   "metadata": {},
   "outputs": [
    {
     "data": {
      "text/plain": [
       "dict_keys(['data', 'predictions', 'models', 'y_test', 'X_test', 'test_tables'])"
      ]
     },
     "execution_count": 27,
     "metadata": {},
     "output_type": "execute_result"
    }
   ],
   "source": [
    "assemble."
   ]
  },
  {
   "cell_type": "code",
   "execution_count": null,
   "id": "f787ab76-6964-4443-87cb-007d09679a43",
   "metadata": {},
   "outputs": [],
   "source": [
    "preprocess\n",
    "format\n",
    "train\n",
    "\n",
    "Build\n",
    "build_regression_models"
   ]
  },
  {
   "cell_type": "code",
   "execution_count": 166,
   "id": "f3dad0bd-4196-4fd7-84e8-ef96b70d158e",
   "metadata": {},
   "outputs": [],
   "source": [
    "X = df.drop('price',axis=1)\n",
    "y = df.price"
   ]
  },
  {
   "cell_type": "code",
   "execution_count": 167,
   "id": "23bf9835-ebb6-456c-9c6d-6b45446bc32d",
   "metadata": {},
   "outputs": [],
   "source": [
    "X = pd.get_dummies(X, drop_first=True)"
   ]
  },
  {
   "cell_type": "code",
   "execution_count": 168,
   "id": "1ec6dadd-c766-42f8-a5e5-ffaa7f26ea77",
   "metadata": {},
   "outputs": [],
   "source": [
    "X_train, X_test, y_train, y_test = train_test_split(X, y, test_size=0.2)"
   ]
  },
  {
   "cell_type": "markdown",
   "id": "ba40c30b-4bc4-4087-b977-1b4323213450",
   "metadata": {},
   "source": [
    "# Error Metrics"
   ]
  },
  {
   "cell_type": "markdown",
   "id": "a87a7c7b-8b48-4a20-afb9-4b2eacae45af",
   "metadata": {},
   "source": [
    "## Economy"
   ]
  },
  {
   "cell_type": "code",
   "execution_count": 16,
   "id": "7270878e-323a-463a-9833-48ebdfe7f95a",
   "metadata": {},
   "outputs": [],
   "source": [
    "economy_test_tables_dict = assemble.assemble_test_tables( economy_regression_test_dict)"
   ]
  },
  {
   "cell_type": "code",
   "execution_count": 17,
   "id": "18cfafbc-9dbd-46c6-9563-47e88e3374c8",
   "metadata": {},
   "outputs": [],
   "source": [
    "economy_regression_test_dict['test_tables'] = economy_test_tables_dict"
   ]
  },
  {
   "cell_type": "code",
   "execution_count": 19,
   "id": "cb79dd0f-7e56-4847-bbea-b0bcbb33d97c",
   "metadata": {},
   "outputs": [
    {
     "data": {
      "text/html": [
       "<div>\n",
       "<style scoped>\n",
       "    .dataframe tbody tr th:only-of-type {\n",
       "        vertical-align: middle;\n",
       "    }\n",
       "\n",
       "    .dataframe tbody tr th {\n",
       "        vertical-align: top;\n",
       "    }\n",
       "\n",
       "    .dataframe thead th {\n",
       "        text-align: right;\n",
       "    }\n",
       "</style>\n",
       "<table border=\"1\" class=\"dataframe\">\n",
       "  <thead>\n",
       "    <tr style=\"text-align: right;\">\n",
       "      <th></th>\n",
       "      <th>E1LR1</th>\n",
       "      <th>E1RFR1</th>\n",
       "    </tr>\n",
       "  </thead>\n",
       "  <tbody>\n",
       "    <tr>\n",
       "      <th>MEPE</th>\n",
       "      <td>25.520</td>\n",
       "      <td>3.051</td>\n",
       "    </tr>\n",
       "    <tr>\n",
       "      <th>MPE</th>\n",
       "      <td>33.576</td>\n",
       "      <td>8.848</td>\n",
       "    </tr>\n",
       "    <tr>\n",
       "      <th>MEAE</th>\n",
       "      <td>1499.699</td>\n",
       "      <td>178.175</td>\n",
       "    </tr>\n",
       "    <tr>\n",
       "      <th>MAE</th>\n",
       "      <td>1886.365</td>\n",
       "      <td>644.037</td>\n",
       "    </tr>\n",
       "    <tr>\n",
       "      <th>MSE</th>\n",
       "      <td>6837679.079</td>\n",
       "      <td>2088500.401</td>\n",
       "    </tr>\n",
       "    <tr>\n",
       "      <th>RMSE</th>\n",
       "      <td>2614.896</td>\n",
       "      <td>1445.164</td>\n",
       "    </tr>\n",
       "    <tr>\n",
       "      <th>STD</th>\n",
       "      <td>3740.274</td>\n",
       "      <td>3740.274</td>\n",
       "    </tr>\n",
       "  </tbody>\n",
       "</table>\n",
       "</div>"
      ],
      "text/plain": [
       "            E1LR1       E1RFR1\n",
       "MEPE       25.520        3.051\n",
       "MPE        33.576        8.848\n",
       "MEAE     1499.699      178.175\n",
       "MAE      1886.365      644.037\n",
       "MSE   6837679.079  2088500.401\n",
       "RMSE     2614.896     1445.164\n",
       "STD      3740.274     3740.274"
      ]
     },
     "execution_count": 19,
     "metadata": {},
     "output_type": "execute_result"
    }
   ],
   "source": [
    "assemble.assemble_error_values(economy_regression_test_dict)"
   ]
  },
  {
   "cell_type": "code",
   "execution_count": 20,
   "id": "29090e65-add4-42f4-83eb-72270dd91454",
   "metadata": {},
   "outputs": [],
   "source": [
    "variability_values = assemble.assemble_variability_values(economy_regression_test_dict)"
   ]
  },
  {
   "cell_type": "code",
   "execution_count": 21,
   "id": "222d4332-fe47-4074-bc02-f8641ccf2993",
   "metadata": {},
   "outputs": [],
   "source": [
    "import seaborn as sns"
   ]
  },
  {
   "cell_type": "code",
   "execution_count": 23,
   "id": "d8f8e911-fb39-4c05-a7b4-758e7fcc7ac0",
   "metadata": {},
   "outputs": [
    {
     "data": {
      "text/plain": [
       "<AxesSubplot:>"
      ]
     },
     "execution_count": 23,
     "metadata": {},
     "output_type": "execute_result"
    },
    {
     "data": {
      "image/png": "[encoded data removed]",
      "text/plain": [
       "<Figure size 640x480 with 2 Axes>"
      ]
     },
     "metadata": {},
     "output_type": "display_data"
    }
   ],
   "source": [
    "sns.heatmap(data = variability_values, annot = True, cmap = 'Blues')"
   ]
  },
  {
   "cell_type": "markdown",
   "id": "278b7633-cacf-404c-b43e-df5649661baf",
   "metadata": {},
   "source": [
    "## Business"
   ]
  },
  {
   "cell_type": "code",
   "execution_count": 41,
   "id": "42c3a3cf-e3b7-4050-b192-e500d84b4832",
   "metadata": {},
   "outputs": [],
   "source": [
    "business_test_tables_dict = assemble.assemble_test_tables(business_regression_test_dict['y_test'], business_regression_test_dict)"
   ]
  },
  {
   "cell_type": "code",
   "execution_count": 45,
   "id": "067b32df-8f61-417c-82e6-268e276e656b",
   "metadata": {},
   "outputs": [],
   "source": [
    "business_regression_test_dict['test_tables'] = business_test_tables_dict"
   ]
  },
  {
   "cell_type": "code",
   "execution_count": 46,
   "id": "f3e24739-fc11-4947-90ce-40affc8fe98f",
   "metadata": {},
   "outputs": [
    {
     "data": {
      "text/html": [
       "<div>\n",
       "<style scoped>\n",
       "    .dataframe tbody tr th:only-of-type {\n",
       "        vertical-align: middle;\n",
       "    }\n",
       "\n",
       "    .dataframe tbody tr th {\n",
       "        vertical-align: top;\n",
       "    }\n",
       "\n",
       "    .dataframe thead th {\n",
       "        text-align: right;\n",
       "    }\n",
       "</style>\n",
       "<table border=\"1\" class=\"dataframe\">\n",
       "  <thead>\n",
       "    <tr style=\"text-align: right;\">\n",
       "      <th></th>\n",
       "      <th>B1LR1</th>\n",
       "      <th>B1RFR1</th>\n",
       "    </tr>\n",
       "  </thead>\n",
       "  <tbody>\n",
       "    <tr>\n",
       "      <th>MEPE</th>\n",
       "      <td>9.841000e+00</td>\n",
       "      <td>4.600000e-02</td>\n",
       "    </tr>\n",
       "    <tr>\n",
       "      <th>MPE</th>\n",
       "      <td>1.369900e+01</td>\n",
       "      <td>3.771000e+00</td>\n",
       "    </tr>\n",
       "    <tr>\n",
       "      <th>MEAE</th>\n",
       "      <td>5.039336e+03</td>\n",
       "      <td>2.405000e+01</td>\n",
       "    </tr>\n",
       "    <tr>\n",
       "      <th>MAE</th>\n",
       "      <td>6.524411e+03</td>\n",
       "      <td>2.145770e+03</td>\n",
       "    </tr>\n",
       "    <tr>\n",
       "      <th>MSE</th>\n",
       "      <td>7.285754e+07</td>\n",
       "      <td>2.129534e+07</td>\n",
       "    </tr>\n",
       "    <tr>\n",
       "      <th>RMSE</th>\n",
       "      <td>8.535663e+03</td>\n",
       "      <td>4.614687e+03</td>\n",
       "    </tr>\n",
       "    <tr>\n",
       "      <th>STD</th>\n",
       "      <td>1.295170e+04</td>\n",
       "      <td>1.295170e+04</td>\n",
       "    </tr>\n",
       "  </tbody>\n",
       "</table>\n",
       "</div>"
      ],
      "text/plain": [
       "             B1LR1        B1RFR1\n",
       "MEPE  9.841000e+00  4.600000e-02\n",
       "MPE   1.369900e+01  3.771000e+00\n",
       "MEAE  5.039336e+03  2.405000e+01\n",
       "MAE   6.524411e+03  2.145770e+03\n",
       "MSE   7.285754e+07  2.129534e+07\n",
       "RMSE  8.535663e+03  4.614687e+03\n",
       "STD   1.295170e+04  1.295170e+04"
      ]
     },
     "execution_count": 46,
     "metadata": {},
     "output_type": "execute_result"
    }
   ],
   "source": [
    "assemble.assemble_error_values(business_regression_test_dict)"
   ]
  },
  {
   "cell_type": "code",
   "execution_count": 47,
   "id": "6e5641bc-10f8-4b07-9e5b-8c504f681025",
   "metadata": {},
   "outputs": [
    {
     "data": {
      "text/html": [
       "<div>\n",
       "<style scoped>\n",
       "    .dataframe tbody tr th:only-of-type {\n",
       "        vertical-align: middle;\n",
       "    }\n",
       "\n",
       "    .dataframe tbody tr th {\n",
       "        vertical-align: top;\n",
       "    }\n",
       "\n",
       "    .dataframe thead th {\n",
       "        text-align: right;\n",
       "    }\n",
       "</style>\n",
       "<table border=\"1\" class=\"dataframe\">\n",
       "  <thead>\n",
       "    <tr style=\"text-align: right;\">\n",
       "      <th></th>\n",
       "      <th>B1LR1</th>\n",
       "      <th>B1RFR1</th>\n",
       "    </tr>\n",
       "  </thead>\n",
       "  <tbody>\n",
       "    <tr>\n",
       "      <th>R2</th>\n",
       "      <td>0.565646</td>\n",
       "      <td>0.873044</td>\n",
       "    </tr>\n",
       "    <tr>\n",
       "      <th>R2^</th>\n",
       "      <td>0.564084</td>\n",
       "      <td>0.872587</td>\n",
       "    </tr>\n",
       "    <tr>\n",
       "      <th>EVS</th>\n",
       "      <td>0.565769</td>\n",
       "      <td>0.873082</td>\n",
       "    </tr>\n",
       "  </tbody>\n",
       "</table>\n",
       "</div>"
      ],
      "text/plain": [
       "        B1LR1    B1RFR1\n",
       "R2   0.565646  0.873044\n",
       "R2^  0.564084  0.872587\n",
       "EVS  0.565769  0.873082"
      ]
     },
     "execution_count": 47,
     "metadata": {},
     "output_type": "execute_result"
    }
   ],
   "source": [
    "assemble.assemble_variability_values(business_regression_test_dict)"
   ]
  },
  {
   "cell_type": "markdown",
   "id": "d565a25c-d443-4f3f-9112-67848b3f37eb",
   "metadata": {},
   "source": [
    "assemble.assemble_error_values(loaded_dict)"
   ]
  },
  {
   "cell_type": "markdown",
   "id": "3f500609-37b6-4558-bc5a-f3954e68a794",
   "metadata": {},
   "source": [
    "# Deployment"
   ]
  },
  {
   "cell_type": "markdown",
   "id": "4ed194bc-8bf7-4c85-9ca5-1631e9b2308d",
   "metadata": {},
   "source": [
    "## Economy"
   ]
  },
  {
   "cell_type": "code",
   "execution_count": 34,
   "id": "6db8508e-7e19-46a2-8d01-0d403e9134f7",
   "metadata": {},
   "outputs": [
    {
     "data": {
      "text/html": [
       "<div>\n",
       "<style scoped>\n",
       "    .dataframe tbody tr th:only-of-type {\n",
       "        vertical-align: middle;\n",
       "    }\n",
       "\n",
       "    .dataframe tbody tr th {\n",
       "        vertical-align: top;\n",
       "    }\n",
       "\n",
       "    .dataframe thead th {\n",
       "        text-align: right;\n",
       "    }\n",
       "</style>\n",
       "<table border=\"1\" class=\"dataframe\">\n",
       "  <thead>\n",
       "    <tr style=\"text-align: right;\">\n",
       "      <th></th>\n",
       "      <th>0</th>\n",
       "      <th>1</th>\n",
       "    </tr>\n",
       "  </thead>\n",
       "  <tbody>\n",
       "    <tr>\n",
       "      <th>0</th>\n",
       "      <td>LR1</td>\n",
       "      <td>{}</td>\n",
       "    </tr>\n",
       "    <tr>\n",
       "      <th>1</th>\n",
       "      <td>RFR1</td>\n",
       "      <td>{'n_estimators': 20, 'criterion': 'squared_err...</td>\n",
       "    </tr>\n",
       "  </tbody>\n",
       "</table>\n",
       "</div>"
      ],
      "text/plain": [
       "      0                                                  1\n",
       "0   LR1                                                 {}\n",
       "1  RFR1  {'n_estimators': 20, 'criterion': 'squared_err..."
      ]
     },
     "execution_count": 34,
     "metadata": {},
     "output_type": "execute_result"
    }
   ],
   "source": [
    "pd.DataFrame(models)"
   ]
  },
  {
   "cell_type": "code",
   "execution_count": 24,
   "id": "be3edf7a-4daf-4179-aafc-7bbec8ba7e29",
   "metadata": {},
   "outputs": [],
   "source": [
    "X, y, scaler = precprocess.preprocess_deployment_data(df_economy, 'price')"
   ]
  },
  {
   "cell_type": "code",
   "execution_count": 28,
   "id": "13788147-b1f3-455e-9467-892339c50791",
   "metadata": {},
   "outputs": [],
   "source": [
    "regressor = train.train_regression_model((X, y), 'RFR', {'n_estimators': 20, 'criterion':'squared_error'})"
   ]
  },
  {
   "cell_type": "markdown",
   "id": "daaa0171-6c01-47a7-8ae9-391cd83530ca",
   "metadata": {},
   "source": [
    "## Business"
   ]
  }
 ],
 "metadata": {
  "kernelspec": {
   "display_name": "ml",
   "language": "python",
   "name": "ml"
  },
  "language_info": {
   "codemirror_mode": {
    "name": "ipython",
    "version": 3
   },
   "file_extension": ".py",
   "mimetype": "text/x-python",
   "name": "python",
   "nbconvert_exporter": "python",
   "pygments_lexer": "ipython3",
   "version": "3.10.4"
  }
 },
 "nbformat": 4,
 "nbformat_minor": 5
}
